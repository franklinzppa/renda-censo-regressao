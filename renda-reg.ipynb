{
 "cells": [
  {
   "cell_type": "markdown",
   "id": "a5d2399c",
   "metadata": {},
   "source": [
    "# Renda-Classificação"
   ]
  },
  {
   "cell_type": "markdown",
   "id": "7957f86c",
   "metadata": {},
   "source": [
    "## Introdução"
   ]
  },
  {
   "cell_type": "markdown",
   "id": "e8eaf8d5",
   "metadata": {},
   "source": [
    "O objetivo desse projeto é prever a renda de um grupo familiar utilizando informações relacionadas a sua residência. Trata-se portanto de um projeto de **regressão supervisionado offline**. \n",
    "\n",
    "Uma aplicação possível desse projeto é como parte de um sistema de verificação de autodeclaração de renda. Esse sistema compararia a renda autodeclarada com a resposta do modelo de machine learning a fim de verificar a integridade desse dado.\n",
    "\n",
    "Utilizaremos a métrica **MAE** (mean absolute error) para avaliar o nosso modelo. A justificativa para a escolha dessa métrica é que não desejamos penalizar exarcebadamente erros grandes. Preferimos que o nosso modelo seja mais preciso com rendas mais baixas e intermediárias."
   ]
  },
  {
   "cell_type": "markdown",
   "id": "b3df7ad1",
   "metadata": {},
   "source": [
    "## Extração dos dados"
   ]
  },
  {
   "cell_type": "markdown",
   "id": "65491dd4",
   "metadata": {},
   "source": [
    "Os dados utilizados são do **Censo 2000** realizado pelo IBGE e mantido na [Base dos Dados](https://basedosdados.org/dataset/br-ibge-censo-demografico?bdm_table=microdados_domicilio_2000). Informações sobre a metodologia do Censo e sobre a base de dados estão na pasta `materiais`. A extração será realizada utilizando SQL utilizando a API do **BigQuery**."
   ]
  },
  {
   "cell_type": "code",
   "execution_count": 1,
   "id": "caac4bb1",
   "metadata": {
    "ExecuteTime": {
     "end_time": "2023-07-01T21:51:05.425309Z",
     "start_time": "2023-07-01T21:51:05.420695Z"
    }
   },
   "outputs": [],
   "source": [
    "# # Consulta\n",
    "\n",
    "# import os\n",
    "# import pandas as pd\n",
    "# from google.cloud import bigquery\n",
    "\n",
    "# os.environ['GOOGLE_APPLICATION_CREDENTIALS'] = 'renda-censo-regressao-0d5cd82b3cac.json'\n",
    "\n",
    "# client = bigquery.Client()\n",
    "\n",
    "# query = \"\"\"\n",
    "#         SELECT sigla_uf, situacao_domicilio, v0202 AS tipo_domicilio, v0205 AS condicao_domicilio, v0203 AS comodos, v0204 AS dormitorios,v0209 AS banheiros, v0207 AS agua, v0213 AS iluminacao, v0214 AS radio, v0215 AS geladeira, v0216 AS videocassete, v0217 AS maquina_lavar, v0218 AS microondas, v0219 as telefone, v0220 as computador, v0221 as televisores, v0222 as automoveis, v0223 as ar_condicionado, v0212 AS coleta_lixo, v7100 AS moradores, v0110 AS homens, v0111 AS mulheres, v7616 AS rendimento\n",
    "#         FROM `basedosdados.br_ibge_censo_demografico.microdados_domicilio_2000`\n",
    "#         WHERE (v7616 IS NOT NULL) AND (v7616 > 0) AND (v7616 < 100000) AND v0201 = 1\n",
    "#         ORDER BY RAND() \n",
    "#         LIMIT 100000;\n",
    "#         \"\"\"\n",
    "\n",
    "# df_raw = client.query(query).to_dataframe()\n",
    "# df_raw.to_csv('data/df_raw.csv', index=False)\n",
    "\n",
    "# df_raw.head()"
   ]
  },
  {
   "cell_type": "markdown",
   "id": "6a4bf40f",
   "metadata": {},
   "source": [
    "## Colunas"
   ]
  },
  {
   "cell_type": "markdown",
   "id": "bf0bb95d",
   "metadata": {},
   "source": [
    "Coluna       | Tipo  | Descrição\n",
    "-------------|-------|-------------------------------\n",
    "sigla_uf     |str    | Sigla da Unidade da Federação\n",
    "situacao_domicilio | int64 | 1: Urbano, 2: Rural\n",
    "tipo_domicilio | int64 | 1: Casa, 2: Apartamento, 3: Cômodo\n",
    "condicao_domicilio | int64 | 1: proprio pago, 2: proprio pagando, 3: alugado, 4: cedido por empregador, 5: cedido, 6: outro\n",
    "comodos | int64 | Número de cômodos\n",
    "dormitorios | int64 | Número de dormitórios\n",
    "banheiros | int64 | Número de banheiros\n",
    "agua | int64 | Abastecimento de água, (1: rede geral, 2: Poço, 3: outro)\n",
    "iluminacao | int64 | Existência de ilimunação elétrica (1: sim, 2: não)\n",
    "radio | int64 | Existência de rádios (1: Sim, 2: Não)\n",
    "geladeira | int64 | Existência de geladeira (1: Sim, 2: Não)\n",
    "videocassete | int64 | Existência de videocassete (1: Sim, 2: Não)\n",
    "maquina_lavar | int64 | Existência de máquinas de lavar (1: Sim, 2: Não)\n",
    "microondas | int64 | Existência de microondas (1: Sim, 2: Não)\n",
    "telefone | int64 | Existência de linhas telefônicas (1: Sim, 2: Não)\n",
    "computador | int64 | Existência de computadores (1: Sim, 2: Não)\n",
    "televisores | int64 | Número de televisores\n",
    "automoveis | int64 | Número de automoveis \n",
    "ar_condicionado | int64 | Número de ar-condicionado\n",
    "coleta_lixo | int64 | 1: serviço de limpeza, 2: caçamba, 3: queimado, 4: enterrado, 5: aterro, 6: rio, 7: outro\n",
    "moradores | int64 | Número de moradores\n",
    "homens | int64 | Número de homens residentes\n",
    "mulheres | int64 | Número de mulheres residentes\n",
    "rendimento | int64 | Total de rendimentos (Target)"
   ]
  },
  {
   "cell_type": "markdown",
   "id": "722fc127",
   "metadata": {},
   "source": [
    "## Explorando os dados"
   ]
  },
  {
   "cell_type": "code",
   "execution_count": 32,
   "id": "122b6693",
   "metadata": {
    "ExecuteTime": {
     "end_time": "2023-07-01T21:54:15.783696Z",
     "start_time": "2023-07-01T21:54:15.552723Z"
    }
   },
   "outputs": [],
   "source": [
    "# Importando bibliotecas\n",
    "\n",
    "import numpy as np\n",
    "import pandas as pd\n",
    "import geopandas as gpd\n",
    "import seaborn as sns\n",
    "import matplotlib.pyplot as plt\n",
    "from sklearn.model_selection import train_test_split\n",
    "from sklearn.preprocessing import OneHotEncoder\n",
    "from sklearn.preprocessing import StandardScaler, Normalizer, MinMaxScaler\n",
    "from sklearn.metrics import mean_squared_error, mean_absolute_error, r2_score, mean_absolute_percentage_error\n",
    "from sklearn.pipeline import Pipeline\n",
    "from sklearn.compose import ColumnTransformer\n",
    "from skopt import dummy_minimize, gp_minimize\n",
    "\n",
    "from sklearn.ensemble import RandomForestRegressor\n",
    "from lightgbm import LGBMRegressor\n",
    "from xgboost import XGBRegressor"
   ]
  },
  {
   "cell_type": "code",
   "execution_count": 3,
   "id": "350e5940",
   "metadata": {
    "ExecuteTime": {
     "end_time": "2023-07-01T21:51:08.625760Z",
     "start_time": "2023-07-01T21:51:08.443153Z"
    }
   },
   "outputs": [],
   "source": [
    "df_raw = pd.read_csv('data/df_raw.csv')"
   ]
  },
  {
   "cell_type": "code",
   "execution_count": 4,
   "id": "6b2361ce",
   "metadata": {
    "ExecuteTime": {
     "end_time": "2023-07-01T21:51:08.710769Z",
     "start_time": "2023-07-01T21:51:08.689562Z"
    },
    "scrolled": true
   },
   "outputs": [
    {
     "data": {
      "text/html": [
       "<div>\n",
       "<style scoped>\n",
       "    .dataframe tbody tr th:only-of-type {\n",
       "        vertical-align: middle;\n",
       "    }\n",
       "\n",
       "    .dataframe tbody tr th {\n",
       "        vertical-align: top;\n",
       "    }\n",
       "\n",
       "    .dataframe thead th {\n",
       "        text-align: right;\n",
       "    }\n",
       "</style>\n",
       "<table border=\"1\" class=\"dataframe\">\n",
       "  <thead>\n",
       "    <tr style=\"text-align: right;\">\n",
       "      <th></th>\n",
       "      <th>sigla_uf</th>\n",
       "      <th>situacao_domicilio</th>\n",
       "      <th>tipo_domicilio</th>\n",
       "      <th>condicao_domicilio</th>\n",
       "      <th>comodos</th>\n",
       "      <th>dormitorios</th>\n",
       "      <th>banheiros</th>\n",
       "      <th>agua</th>\n",
       "      <th>iluminacao</th>\n",
       "      <th>radio</th>\n",
       "      <th>...</th>\n",
       "      <th>telefone</th>\n",
       "      <th>computador</th>\n",
       "      <th>televisores</th>\n",
       "      <th>automoveis</th>\n",
       "      <th>ar_condicionado</th>\n",
       "      <th>coleta_lixo</th>\n",
       "      <th>moradores</th>\n",
       "      <th>homens</th>\n",
       "      <th>mulheres</th>\n",
       "      <th>rendimento</th>\n",
       "    </tr>\n",
       "  </thead>\n",
       "  <tbody>\n",
       "    <tr>\n",
       "      <th>0</th>\n",
       "      <td>CE</td>\n",
       "      <td>1</td>\n",
       "      <td>1</td>\n",
       "      <td>1</td>\n",
       "      <td>3</td>\n",
       "      <td>2</td>\n",
       "      <td>0</td>\n",
       "      <td>2</td>\n",
       "      <td>1</td>\n",
       "      <td>1</td>\n",
       "      <td>...</td>\n",
       "      <td>2</td>\n",
       "      <td>2</td>\n",
       "      <td>1</td>\n",
       "      <td>0</td>\n",
       "      <td>0</td>\n",
       "      <td>5</td>\n",
       "      <td>5</td>\n",
       "      <td>3</td>\n",
       "      <td>2</td>\n",
       "      <td>240</td>\n",
       "    </tr>\n",
       "    <tr>\n",
       "      <th>1</th>\n",
       "      <td>GO</td>\n",
       "      <td>1</td>\n",
       "      <td>1</td>\n",
       "      <td>1</td>\n",
       "      <td>6</td>\n",
       "      <td>3</td>\n",
       "      <td>1</td>\n",
       "      <td>1</td>\n",
       "      <td>1</td>\n",
       "      <td>1</td>\n",
       "      <td>...</td>\n",
       "      <td>1</td>\n",
       "      <td>2</td>\n",
       "      <td>1</td>\n",
       "      <td>0</td>\n",
       "      <td>0</td>\n",
       "      <td>1</td>\n",
       "      <td>3</td>\n",
       "      <td>1</td>\n",
       "      <td>2</td>\n",
       "      <td>660</td>\n",
       "    </tr>\n",
       "    <tr>\n",
       "      <th>2</th>\n",
       "      <td>SP</td>\n",
       "      <td>1</td>\n",
       "      <td>2</td>\n",
       "      <td>1</td>\n",
       "      <td>5</td>\n",
       "      <td>2</td>\n",
       "      <td>1</td>\n",
       "      <td>1</td>\n",
       "      <td>1</td>\n",
       "      <td>1</td>\n",
       "      <td>...</td>\n",
       "      <td>1</td>\n",
       "      <td>1</td>\n",
       "      <td>2</td>\n",
       "      <td>1</td>\n",
       "      <td>0</td>\n",
       "      <td>1</td>\n",
       "      <td>3</td>\n",
       "      <td>1</td>\n",
       "      <td>2</td>\n",
       "      <td>3100</td>\n",
       "    </tr>\n",
       "    <tr>\n",
       "      <th>3</th>\n",
       "      <td>SP</td>\n",
       "      <td>1</td>\n",
       "      <td>1</td>\n",
       "      <td>1</td>\n",
       "      <td>6</td>\n",
       "      <td>2</td>\n",
       "      <td>1</td>\n",
       "      <td>1</td>\n",
       "      <td>1</td>\n",
       "      <td>1</td>\n",
       "      <td>...</td>\n",
       "      <td>1</td>\n",
       "      <td>1</td>\n",
       "      <td>2</td>\n",
       "      <td>0</td>\n",
       "      <td>0</td>\n",
       "      <td>1</td>\n",
       "      <td>6</td>\n",
       "      <td>1</td>\n",
       "      <td>5</td>\n",
       "      <td>1980</td>\n",
       "    </tr>\n",
       "    <tr>\n",
       "      <th>4</th>\n",
       "      <td>PE</td>\n",
       "      <td>1</td>\n",
       "      <td>1</td>\n",
       "      <td>1</td>\n",
       "      <td>4</td>\n",
       "      <td>2</td>\n",
       "      <td>1</td>\n",
       "      <td>1</td>\n",
       "      <td>1</td>\n",
       "      <td>2</td>\n",
       "      <td>...</td>\n",
       "      <td>2</td>\n",
       "      <td>2</td>\n",
       "      <td>1</td>\n",
       "      <td>0</td>\n",
       "      <td>0</td>\n",
       "      <td>1</td>\n",
       "      <td>13</td>\n",
       "      <td>4</td>\n",
       "      <td>9</td>\n",
       "      <td>391</td>\n",
       "    </tr>\n",
       "  </tbody>\n",
       "</table>\n",
       "<p>5 rows × 24 columns</p>\n",
       "</div>"
      ],
      "text/plain": [
       "  sigla_uf  situacao_domicilio  tipo_domicilio  condicao_domicilio  comodos  \\\n",
       "0       CE                   1               1                   1        3   \n",
       "1       GO                   1               1                   1        6   \n",
       "2       SP                   1               2                   1        5   \n",
       "3       SP                   1               1                   1        6   \n",
       "4       PE                   1               1                   1        4   \n",
       "\n",
       "   dormitorios  banheiros  agua  iluminacao  radio  ...  telefone  computador  \\\n",
       "0            2          0     2           1      1  ...         2           2   \n",
       "1            3          1     1           1      1  ...         1           2   \n",
       "2            2          1     1           1      1  ...         1           1   \n",
       "3            2          1     1           1      1  ...         1           1   \n",
       "4            2          1     1           1      2  ...         2           2   \n",
       "\n",
       "   televisores  automoveis  ar_condicionado  coleta_lixo  moradores  homens  \\\n",
       "0            1           0                0            5          5       3   \n",
       "1            1           0                0            1          3       1   \n",
       "2            2           1                0            1          3       1   \n",
       "3            2           0                0            1          6       1   \n",
       "4            1           0                0            1         13       4   \n",
       "\n",
       "   mulheres  rendimento  \n",
       "0         2         240  \n",
       "1         2         660  \n",
       "2         2        3100  \n",
       "3         5        1980  \n",
       "4         9         391  \n",
       "\n",
       "[5 rows x 24 columns]"
      ]
     },
     "execution_count": 4,
     "metadata": {},
     "output_type": "execute_result"
    }
   ],
   "source": [
    "df_raw.head()"
   ]
  },
  {
   "cell_type": "code",
   "execution_count": 5,
   "id": "9ba56fc6",
   "metadata": {
    "ExecuteTime": {
     "end_time": "2023-07-01T21:51:08.773607Z",
     "start_time": "2023-07-01T21:51:08.769815Z"
    }
   },
   "outputs": [
    {
     "data": {
      "text/plain": [
       "(100000, 24)"
      ]
     },
     "execution_count": 5,
     "metadata": {},
     "output_type": "execute_result"
    }
   ],
   "source": [
    "df_raw.shape"
   ]
  },
  {
   "cell_type": "code",
   "execution_count": 6,
   "id": "e7719fee",
   "metadata": {
    "ExecuteTime": {
     "end_time": "2023-07-01T21:51:08.862440Z",
     "start_time": "2023-07-01T21:51:08.839295Z"
    },
    "scrolled": false
   },
   "outputs": [
    {
     "data": {
      "text/plain": [
       "sigla_uf              0\n",
       "situacao_domicilio    0\n",
       "tipo_domicilio        0\n",
       "condicao_domicilio    0\n",
       "comodos               0\n",
       "dormitorios           0\n",
       "banheiros             0\n",
       "agua                  0\n",
       "iluminacao            0\n",
       "radio                 0\n",
       "geladeira             0\n",
       "videocassete          0\n",
       "maquina_lavar         0\n",
       "microondas            0\n",
       "telefone              0\n",
       "computador            0\n",
       "televisores           0\n",
       "automoveis            0\n",
       "ar_condicionado       0\n",
       "coleta_lixo           0\n",
       "moradores             0\n",
       "homens                0\n",
       "mulheres              0\n",
       "rendimento            0\n",
       "dtype: int64"
      ]
     },
     "execution_count": 6,
     "metadata": {},
     "output_type": "execute_result"
    }
   ],
   "source": [
    "df_raw.isna().sum()"
   ]
  },
  {
   "cell_type": "code",
   "execution_count": 7,
   "id": "80250a7c",
   "metadata": {
    "ExecuteTime": {
     "end_time": "2023-07-01T21:51:08.984959Z",
     "start_time": "2023-07-01T21:51:08.923902Z"
    }
   },
   "outputs": [
    {
     "name": "stdout",
     "output_type": "stream",
     "text": [
      "<class 'pandas.core.frame.DataFrame'>\n",
      "RangeIndex: 100000 entries, 0 to 99999\n",
      "Data columns (total 24 columns):\n",
      " #   Column              Non-Null Count   Dtype \n",
      "---  ------              --------------   ----- \n",
      " 0   sigla_uf            100000 non-null  object\n",
      " 1   situacao_domicilio  100000 non-null  int64 \n",
      " 2   tipo_domicilio      100000 non-null  int64 \n",
      " 3   condicao_domicilio  100000 non-null  int64 \n",
      " 4   comodos             100000 non-null  int64 \n",
      " 5   dormitorios         100000 non-null  int64 \n",
      " 6   banheiros           100000 non-null  int64 \n",
      " 7   agua                100000 non-null  int64 \n",
      " 8   iluminacao          100000 non-null  int64 \n",
      " 9   radio               100000 non-null  int64 \n",
      " 10  geladeira           100000 non-null  int64 \n",
      " 11  videocassete        100000 non-null  int64 \n",
      " 12  maquina_lavar       100000 non-null  int64 \n",
      " 13  microondas          100000 non-null  int64 \n",
      " 14  telefone            100000 non-null  int64 \n",
      " 15  computador          100000 non-null  int64 \n",
      " 16  televisores         100000 non-null  int64 \n",
      " 17  automoveis          100000 non-null  int64 \n",
      " 18  ar_condicionado     100000 non-null  int64 \n",
      " 19  coleta_lixo         100000 non-null  int64 \n",
      " 20  moradores           100000 non-null  int64 \n",
      " 21  homens              100000 non-null  int64 \n",
      " 22  mulheres            100000 non-null  int64 \n",
      " 23  rendimento          100000 non-null  int64 \n",
      "dtypes: int64(23), object(1)\n",
      "memory usage: 18.3+ MB\n"
     ]
    }
   ],
   "source": [
    "df_raw.info()"
   ]
  },
  {
   "cell_type": "code",
   "execution_count": 8,
   "id": "7d452d80",
   "metadata": {
    "ExecuteTime": {
     "end_time": "2023-07-01T21:51:09.211376Z",
     "start_time": "2023-07-01T21:51:09.058434Z"
    },
    "scrolled": true
   },
   "outputs": [
    {
     "data": {
      "text/html": [
       "<div>\n",
       "<style scoped>\n",
       "    .dataframe tbody tr th:only-of-type {\n",
       "        vertical-align: middle;\n",
       "    }\n",
       "\n",
       "    .dataframe tbody tr th {\n",
       "        vertical-align: top;\n",
       "    }\n",
       "\n",
       "    .dataframe thead th {\n",
       "        text-align: right;\n",
       "    }\n",
       "</style>\n",
       "<table border=\"1\" class=\"dataframe\">\n",
       "  <thead>\n",
       "    <tr style=\"text-align: right;\">\n",
       "      <th></th>\n",
       "      <th>situacao_domicilio</th>\n",
       "      <th>tipo_domicilio</th>\n",
       "      <th>condicao_domicilio</th>\n",
       "      <th>comodos</th>\n",
       "      <th>dormitorios</th>\n",
       "      <th>banheiros</th>\n",
       "      <th>agua</th>\n",
       "      <th>iluminacao</th>\n",
       "      <th>radio</th>\n",
       "      <th>geladeira</th>\n",
       "      <th>...</th>\n",
       "      <th>telefone</th>\n",
       "      <th>computador</th>\n",
       "      <th>televisores</th>\n",
       "      <th>automoveis</th>\n",
       "      <th>ar_condicionado</th>\n",
       "      <th>coleta_lixo</th>\n",
       "      <th>moradores</th>\n",
       "      <th>homens</th>\n",
       "      <th>mulheres</th>\n",
       "      <th>rendimento</th>\n",
       "    </tr>\n",
       "  </thead>\n",
       "  <tbody>\n",
       "    <tr>\n",
       "      <th>count</th>\n",
       "      <td>100000.000000</td>\n",
       "      <td>100000.000000</td>\n",
       "      <td>100000.00000</td>\n",
       "      <td>100000.000000</td>\n",
       "      <td>100000.000000</td>\n",
       "      <td>100000.000000</td>\n",
       "      <td>100000.000000</td>\n",
       "      <td>100000.000000</td>\n",
       "      <td>100000.000000</td>\n",
       "      <td>100000.000000</td>\n",
       "      <td>...</td>\n",
       "      <td>100000.000000</td>\n",
       "      <td>100000.000000</td>\n",
       "      <td>100000.000000</td>\n",
       "      <td>100000.000000</td>\n",
       "      <td>100000.000000</td>\n",
       "      <td>100000.00000</td>\n",
       "      <td>100000.000000</td>\n",
       "      <td>100000.000000</td>\n",
       "      <td>100000.000000</td>\n",
       "      <td>100000.000000</td>\n",
       "    </tr>\n",
       "    <tr>\n",
       "      <th>mean</th>\n",
       "      <td>1.202240</td>\n",
       "      <td>1.105470</td>\n",
       "      <td>1.76498</td>\n",
       "      <td>5.726380</td>\n",
       "      <td>2.029350</td>\n",
       "      <td>1.100360</td>\n",
       "      <td>1.318370</td>\n",
       "      <td>1.060910</td>\n",
       "      <td>1.123140</td>\n",
       "      <td>1.174680</td>\n",
       "      <td>...</td>\n",
       "      <td>1.631690</td>\n",
       "      <td>1.902770</td>\n",
       "      <td>1.278220</td>\n",
       "      <td>0.400540</td>\n",
       "      <td>0.107030</td>\n",
       "      <td>1.77741</td>\n",
       "      <td>3.854170</td>\n",
       "      <td>1.905220</td>\n",
       "      <td>1.948950</td>\n",
       "      <td>1080.996760</td>\n",
       "    </tr>\n",
       "    <tr>\n",
       "      <th>std</th>\n",
       "      <td>0.401672</td>\n",
       "      <td>0.339186</td>\n",
       "      <td>1.29282</td>\n",
       "      <td>2.364358</td>\n",
       "      <td>0.872466</td>\n",
       "      <td>0.824169</td>\n",
       "      <td>0.595411</td>\n",
       "      <td>0.239166</td>\n",
       "      <td>0.328599</td>\n",
       "      <td>0.379695</td>\n",
       "      <td>...</td>\n",
       "      <td>0.482348</td>\n",
       "      <td>0.296272</td>\n",
       "      <td>0.898444</td>\n",
       "      <td>0.651945</td>\n",
       "      <td>0.472924</td>\n",
       "      <td>1.40638</td>\n",
       "      <td>1.952501</td>\n",
       "      <td>1.273127</td>\n",
       "      <td>1.215565</td>\n",
       "      <td>2119.736992</td>\n",
       "    </tr>\n",
       "    <tr>\n",
       "      <th>min</th>\n",
       "      <td>1.000000</td>\n",
       "      <td>1.000000</td>\n",
       "      <td>1.00000</td>\n",
       "      <td>1.000000</td>\n",
       "      <td>1.000000</td>\n",
       "      <td>0.000000</td>\n",
       "      <td>1.000000</td>\n",
       "      <td>1.000000</td>\n",
       "      <td>1.000000</td>\n",
       "      <td>1.000000</td>\n",
       "      <td>...</td>\n",
       "      <td>1.000000</td>\n",
       "      <td>1.000000</td>\n",
       "      <td>0.000000</td>\n",
       "      <td>0.000000</td>\n",
       "      <td>0.000000</td>\n",
       "      <td>1.00000</td>\n",
       "      <td>1.000000</td>\n",
       "      <td>0.000000</td>\n",
       "      <td>0.000000</td>\n",
       "      <td>3.000000</td>\n",
       "    </tr>\n",
       "    <tr>\n",
       "      <th>25%</th>\n",
       "      <td>1.000000</td>\n",
       "      <td>1.000000</td>\n",
       "      <td>1.00000</td>\n",
       "      <td>4.000000</td>\n",
       "      <td>1.000000</td>\n",
       "      <td>1.000000</td>\n",
       "      <td>1.000000</td>\n",
       "      <td>1.000000</td>\n",
       "      <td>1.000000</td>\n",
       "      <td>1.000000</td>\n",
       "      <td>...</td>\n",
       "      <td>1.000000</td>\n",
       "      <td>2.000000</td>\n",
       "      <td>1.000000</td>\n",
       "      <td>0.000000</td>\n",
       "      <td>0.000000</td>\n",
       "      <td>1.00000</td>\n",
       "      <td>3.000000</td>\n",
       "      <td>1.000000</td>\n",
       "      <td>1.000000</td>\n",
       "      <td>286.000000</td>\n",
       "    </tr>\n",
       "    <tr>\n",
       "      <th>50%</th>\n",
       "      <td>1.000000</td>\n",
       "      <td>1.000000</td>\n",
       "      <td>1.00000</td>\n",
       "      <td>5.000000</td>\n",
       "      <td>2.000000</td>\n",
       "      <td>1.000000</td>\n",
       "      <td>1.000000</td>\n",
       "      <td>1.000000</td>\n",
       "      <td>1.000000</td>\n",
       "      <td>1.000000</td>\n",
       "      <td>...</td>\n",
       "      <td>2.000000</td>\n",
       "      <td>2.000000</td>\n",
       "      <td>1.000000</td>\n",
       "      <td>0.000000</td>\n",
       "      <td>0.000000</td>\n",
       "      <td>1.00000</td>\n",
       "      <td>4.000000</td>\n",
       "      <td>2.000000</td>\n",
       "      <td>2.000000</td>\n",
       "      <td>512.000000</td>\n",
       "    </tr>\n",
       "    <tr>\n",
       "      <th>75%</th>\n",
       "      <td>1.000000</td>\n",
       "      <td>1.000000</td>\n",
       "      <td>2.00000</td>\n",
       "      <td>7.000000</td>\n",
       "      <td>3.000000</td>\n",
       "      <td>1.000000</td>\n",
       "      <td>1.000000</td>\n",
       "      <td>1.000000</td>\n",
       "      <td>1.000000</td>\n",
       "      <td>1.000000</td>\n",
       "      <td>...</td>\n",
       "      <td>2.000000</td>\n",
       "      <td>2.000000</td>\n",
       "      <td>2.000000</td>\n",
       "      <td>1.000000</td>\n",
       "      <td>0.000000</td>\n",
       "      <td>2.00000</td>\n",
       "      <td>5.000000</td>\n",
       "      <td>3.000000</td>\n",
       "      <td>3.000000</td>\n",
       "      <td>1091.250000</td>\n",
       "    </tr>\n",
       "    <tr>\n",
       "      <th>max</th>\n",
       "      <td>2.000000</td>\n",
       "      <td>3.000000</td>\n",
       "      <td>6.00000</td>\n",
       "      <td>30.000000</td>\n",
       "      <td>9.000000</td>\n",
       "      <td>9.000000</td>\n",
       "      <td>3.000000</td>\n",
       "      <td>2.000000</td>\n",
       "      <td>2.000000</td>\n",
       "      <td>2.000000</td>\n",
       "      <td>...</td>\n",
       "      <td>2.000000</td>\n",
       "      <td>2.000000</td>\n",
       "      <td>9.000000</td>\n",
       "      <td>9.000000</td>\n",
       "      <td>9.000000</td>\n",
       "      <td>7.00000</td>\n",
       "      <td>27.000000</td>\n",
       "      <td>14.000000</td>\n",
       "      <td>17.000000</td>\n",
       "      <td>99072.000000</td>\n",
       "    </tr>\n",
       "  </tbody>\n",
       "</table>\n",
       "<p>8 rows × 23 columns</p>\n",
       "</div>"
      ],
      "text/plain": [
       "       situacao_domicilio  tipo_domicilio  condicao_domicilio        comodos  \\\n",
       "count       100000.000000   100000.000000        100000.00000  100000.000000   \n",
       "mean             1.202240        1.105470             1.76498       5.726380   \n",
       "std              0.401672        0.339186             1.29282       2.364358   \n",
       "min              1.000000        1.000000             1.00000       1.000000   \n",
       "25%              1.000000        1.000000             1.00000       4.000000   \n",
       "50%              1.000000        1.000000             1.00000       5.000000   \n",
       "75%              1.000000        1.000000             2.00000       7.000000   \n",
       "max              2.000000        3.000000             6.00000      30.000000   \n",
       "\n",
       "         dormitorios      banheiros           agua     iluminacao  \\\n",
       "count  100000.000000  100000.000000  100000.000000  100000.000000   \n",
       "mean        2.029350       1.100360       1.318370       1.060910   \n",
       "std         0.872466       0.824169       0.595411       0.239166   \n",
       "min         1.000000       0.000000       1.000000       1.000000   \n",
       "25%         1.000000       1.000000       1.000000       1.000000   \n",
       "50%         2.000000       1.000000       1.000000       1.000000   \n",
       "75%         3.000000       1.000000       1.000000       1.000000   \n",
       "max         9.000000       9.000000       3.000000       2.000000   \n",
       "\n",
       "               radio      geladeira  ...       telefone     computador  \\\n",
       "count  100000.000000  100000.000000  ...  100000.000000  100000.000000   \n",
       "mean        1.123140       1.174680  ...       1.631690       1.902770   \n",
       "std         0.328599       0.379695  ...       0.482348       0.296272   \n",
       "min         1.000000       1.000000  ...       1.000000       1.000000   \n",
       "25%         1.000000       1.000000  ...       1.000000       2.000000   \n",
       "50%         1.000000       1.000000  ...       2.000000       2.000000   \n",
       "75%         1.000000       1.000000  ...       2.000000       2.000000   \n",
       "max         2.000000       2.000000  ...       2.000000       2.000000   \n",
       "\n",
       "         televisores     automoveis  ar_condicionado   coleta_lixo  \\\n",
       "count  100000.000000  100000.000000    100000.000000  100000.00000   \n",
       "mean        1.278220       0.400540         0.107030       1.77741   \n",
       "std         0.898444       0.651945         0.472924       1.40638   \n",
       "min         0.000000       0.000000         0.000000       1.00000   \n",
       "25%         1.000000       0.000000         0.000000       1.00000   \n",
       "50%         1.000000       0.000000         0.000000       1.00000   \n",
       "75%         2.000000       1.000000         0.000000       2.00000   \n",
       "max         9.000000       9.000000         9.000000       7.00000   \n",
       "\n",
       "           moradores         homens       mulheres     rendimento  \n",
       "count  100000.000000  100000.000000  100000.000000  100000.000000  \n",
       "mean        3.854170       1.905220       1.948950    1080.996760  \n",
       "std         1.952501       1.273127       1.215565    2119.736992  \n",
       "min         1.000000       0.000000       0.000000       3.000000  \n",
       "25%         3.000000       1.000000       1.000000     286.000000  \n",
       "50%         4.000000       2.000000       2.000000     512.000000  \n",
       "75%         5.000000       3.000000       3.000000    1091.250000  \n",
       "max        27.000000      14.000000      17.000000   99072.000000  \n",
       "\n",
       "[8 rows x 23 columns]"
      ]
     },
     "execution_count": 8,
     "metadata": {},
     "output_type": "execute_result"
    }
   ],
   "source": [
    "df_raw.describe()"
   ]
  },
  {
   "cell_type": "markdown",
   "id": "2a1dc96a",
   "metadata": {
    "ExecuteTime": {
     "end_time": "2023-03-10T22:14:27.710181Z",
     "start_time": "2023-03-10T22:14:27.707571Z"
    }
   },
   "source": [
    "## Pre-processamento"
   ]
  },
  {
   "cell_type": "code",
   "execution_count": 9,
   "id": "8ae558ba",
   "metadata": {
    "ExecuteTime": {
     "end_time": "2023-07-01T21:51:09.275203Z",
     "start_time": "2023-07-01T21:51:09.261213Z"
    }
   },
   "outputs": [],
   "source": [
    "def preprocessing(df_raw):\n",
    "    df = df_raw.copy()\n",
    "    df['situacao_domicilio'] = df_raw['situacao_domicilio'].map({1:'urbano', 2:'rural'})\n",
    "    df['tipo_domicilio'] = df_raw['tipo_domicilio'].map({1:'casa', 2:'apartamento', 3:'comodo'})\n",
    "    df['condicao_domicilio'] = df_raw['condicao_domicilio'].map({1:'proprio pago',\n",
    "                                                             2:'proprio pagando',\n",
    "                                                             3:'alugado',\n",
    "                                                             4:'cedido por empregador',\n",
    "                                                             5:'cedido',\n",
    "                                                             6:'outro'})\n",
    "    df['agua'] = df_raw['agua'].map({1:'rede geral',\n",
    "                                 2:'poço',\n",
    "                                 3:'outro'})\n",
    "    df['iluminacao'] = df_raw['iluminacao'].map({1:'sim',\n",
    "                                             2:'não'})\n",
    "    df['radio'] = df_raw['radio'].map({1:'sim',\n",
    "                                   2:'não'})\n",
    "    df['geladeira'] = df_raw['geladeira'].map({1:'sim',\n",
    "                                           2:'não'})\n",
    "    df['videocassete'] = df_raw['videocassete'].map({1:'sim',\n",
    "                                                 2:'não'})\n",
    "    df['maquina_lavar'] = df_raw['maquina_lavar'].map({1:'sim',\n",
    "                                                   2:'não'})\n",
    "    df['microondas'] = df_raw['microondas'].map({1:'sim',\n",
    "                                             2:'não'})\n",
    "    df['telefone'] = df_raw['telefone'].map({1:'sim',\n",
    "                                         2:'não'})\n",
    "    df['computador'] = df_raw['computador'].map({1:'sim',\n",
    "                                             2:'não'})\n",
    "    df['coleta_lixo'] = df_raw['coleta_lixo'].map({1:'serviço de limpeza',\n",
    "                                               2:'caçamba',\n",
    "                                               3:'queimado',\n",
    "                                               4:'enterrado',\n",
    "                                               5:'aterro',\n",
    "                                               6:'rio',\n",
    "                                               7:'outro'})\n",
    "    return df\n",
    "    "
   ]
  },
  {
   "cell_type": "code",
   "execution_count": 10,
   "id": "79702d89",
   "metadata": {
    "ExecuteTime": {
     "end_time": "2023-07-01T21:51:09.418182Z",
     "start_time": "2023-07-01T21:51:09.331994Z"
    }
   },
   "outputs": [],
   "source": [
    "df = preprocessing(df_raw)"
   ]
  },
  {
   "cell_type": "code",
   "execution_count": 11,
   "id": "1a2c7139",
   "metadata": {
    "ExecuteTime": {
     "end_time": "2023-07-01T21:51:09.651786Z",
     "start_time": "2023-07-01T21:51:09.627013Z"
    },
    "scrolled": false
   },
   "outputs": [
    {
     "data": {
      "text/html": [
       "<div>\n",
       "<style scoped>\n",
       "    .dataframe tbody tr th:only-of-type {\n",
       "        vertical-align: middle;\n",
       "    }\n",
       "\n",
       "    .dataframe tbody tr th {\n",
       "        vertical-align: top;\n",
       "    }\n",
       "\n",
       "    .dataframe thead th {\n",
       "        text-align: right;\n",
       "    }\n",
       "</style>\n",
       "<table border=\"1\" class=\"dataframe\">\n",
       "  <thead>\n",
       "    <tr style=\"text-align: right;\">\n",
       "      <th></th>\n",
       "      <th>sigla_uf</th>\n",
       "      <th>situacao_domicilio</th>\n",
       "      <th>tipo_domicilio</th>\n",
       "      <th>condicao_domicilio</th>\n",
       "      <th>comodos</th>\n",
       "      <th>dormitorios</th>\n",
       "      <th>banheiros</th>\n",
       "      <th>agua</th>\n",
       "      <th>iluminacao</th>\n",
       "      <th>radio</th>\n",
       "      <th>...</th>\n",
       "      <th>telefone</th>\n",
       "      <th>computador</th>\n",
       "      <th>televisores</th>\n",
       "      <th>automoveis</th>\n",
       "      <th>ar_condicionado</th>\n",
       "      <th>coleta_lixo</th>\n",
       "      <th>moradores</th>\n",
       "      <th>homens</th>\n",
       "      <th>mulheres</th>\n",
       "      <th>rendimento</th>\n",
       "    </tr>\n",
       "  </thead>\n",
       "  <tbody>\n",
       "    <tr>\n",
       "      <th>0</th>\n",
       "      <td>CE</td>\n",
       "      <td>urbano</td>\n",
       "      <td>casa</td>\n",
       "      <td>proprio pago</td>\n",
       "      <td>3</td>\n",
       "      <td>2</td>\n",
       "      <td>0</td>\n",
       "      <td>poço</td>\n",
       "      <td>sim</td>\n",
       "      <td>sim</td>\n",
       "      <td>...</td>\n",
       "      <td>não</td>\n",
       "      <td>não</td>\n",
       "      <td>1</td>\n",
       "      <td>0</td>\n",
       "      <td>0</td>\n",
       "      <td>aterro</td>\n",
       "      <td>5</td>\n",
       "      <td>3</td>\n",
       "      <td>2</td>\n",
       "      <td>240</td>\n",
       "    </tr>\n",
       "    <tr>\n",
       "      <th>1</th>\n",
       "      <td>GO</td>\n",
       "      <td>urbano</td>\n",
       "      <td>casa</td>\n",
       "      <td>proprio pago</td>\n",
       "      <td>6</td>\n",
       "      <td>3</td>\n",
       "      <td>1</td>\n",
       "      <td>rede geral</td>\n",
       "      <td>sim</td>\n",
       "      <td>sim</td>\n",
       "      <td>...</td>\n",
       "      <td>sim</td>\n",
       "      <td>não</td>\n",
       "      <td>1</td>\n",
       "      <td>0</td>\n",
       "      <td>0</td>\n",
       "      <td>serviço de limpeza</td>\n",
       "      <td>3</td>\n",
       "      <td>1</td>\n",
       "      <td>2</td>\n",
       "      <td>660</td>\n",
       "    </tr>\n",
       "    <tr>\n",
       "      <th>2</th>\n",
       "      <td>SP</td>\n",
       "      <td>urbano</td>\n",
       "      <td>apartamento</td>\n",
       "      <td>proprio pago</td>\n",
       "      <td>5</td>\n",
       "      <td>2</td>\n",
       "      <td>1</td>\n",
       "      <td>rede geral</td>\n",
       "      <td>sim</td>\n",
       "      <td>sim</td>\n",
       "      <td>...</td>\n",
       "      <td>sim</td>\n",
       "      <td>sim</td>\n",
       "      <td>2</td>\n",
       "      <td>1</td>\n",
       "      <td>0</td>\n",
       "      <td>serviço de limpeza</td>\n",
       "      <td>3</td>\n",
       "      <td>1</td>\n",
       "      <td>2</td>\n",
       "      <td>3100</td>\n",
       "    </tr>\n",
       "    <tr>\n",
       "      <th>3</th>\n",
       "      <td>SP</td>\n",
       "      <td>urbano</td>\n",
       "      <td>casa</td>\n",
       "      <td>proprio pago</td>\n",
       "      <td>6</td>\n",
       "      <td>2</td>\n",
       "      <td>1</td>\n",
       "      <td>rede geral</td>\n",
       "      <td>sim</td>\n",
       "      <td>sim</td>\n",
       "      <td>...</td>\n",
       "      <td>sim</td>\n",
       "      <td>sim</td>\n",
       "      <td>2</td>\n",
       "      <td>0</td>\n",
       "      <td>0</td>\n",
       "      <td>serviço de limpeza</td>\n",
       "      <td>6</td>\n",
       "      <td>1</td>\n",
       "      <td>5</td>\n",
       "      <td>1980</td>\n",
       "    </tr>\n",
       "    <tr>\n",
       "      <th>4</th>\n",
       "      <td>PE</td>\n",
       "      <td>urbano</td>\n",
       "      <td>casa</td>\n",
       "      <td>proprio pago</td>\n",
       "      <td>4</td>\n",
       "      <td>2</td>\n",
       "      <td>1</td>\n",
       "      <td>rede geral</td>\n",
       "      <td>sim</td>\n",
       "      <td>não</td>\n",
       "      <td>...</td>\n",
       "      <td>não</td>\n",
       "      <td>não</td>\n",
       "      <td>1</td>\n",
       "      <td>0</td>\n",
       "      <td>0</td>\n",
       "      <td>serviço de limpeza</td>\n",
       "      <td>13</td>\n",
       "      <td>4</td>\n",
       "      <td>9</td>\n",
       "      <td>391</td>\n",
       "    </tr>\n",
       "  </tbody>\n",
       "</table>\n",
       "<p>5 rows × 24 columns</p>\n",
       "</div>"
      ],
      "text/plain": [
       "  sigla_uf situacao_domicilio tipo_domicilio condicao_domicilio  comodos  \\\n",
       "0       CE             urbano           casa       proprio pago        3   \n",
       "1       GO             urbano           casa       proprio pago        6   \n",
       "2       SP             urbano    apartamento       proprio pago        5   \n",
       "3       SP             urbano           casa       proprio pago        6   \n",
       "4       PE             urbano           casa       proprio pago        4   \n",
       "\n",
       "   dormitorios  banheiros        agua iluminacao radio  ... telefone  \\\n",
       "0            2          0        poço        sim   sim  ...      não   \n",
       "1            3          1  rede geral        sim   sim  ...      sim   \n",
       "2            2          1  rede geral        sim   sim  ...      sim   \n",
       "3            2          1  rede geral        sim   sim  ...      sim   \n",
       "4            2          1  rede geral        sim   não  ...      não   \n",
       "\n",
       "  computador televisores automoveis ar_condicionado         coleta_lixo  \\\n",
       "0        não           1          0               0              aterro   \n",
       "1        não           1          0               0  serviço de limpeza   \n",
       "2        sim           2          1               0  serviço de limpeza   \n",
       "3        sim           2          0               0  serviço de limpeza   \n",
       "4        não           1          0               0  serviço de limpeza   \n",
       "\n",
       "   moradores  homens  mulheres rendimento  \n",
       "0          5       3         2        240  \n",
       "1          3       1         2        660  \n",
       "2          3       1         2       3100  \n",
       "3          6       1         5       1980  \n",
       "4         13       4         9        391  \n",
       "\n",
       "[5 rows x 24 columns]"
      ]
     },
     "execution_count": 11,
     "metadata": {},
     "output_type": "execute_result"
    }
   ],
   "source": [
    "df.head()"
   ]
  },
  {
   "cell_type": "markdown",
   "id": "7854342d",
   "metadata": {},
   "source": [
    "Antes de fazer o split dos dados, vamos analisar o target para fazer amostras estratificadas."
   ]
  },
  {
   "cell_type": "code",
   "execution_count": 12,
   "id": "2890ed31",
   "metadata": {
    "ExecuteTime": {
     "end_time": "2023-07-01T21:51:10.550537Z",
     "start_time": "2023-07-01T21:51:09.825446Z"
    }
   },
   "outputs": [
    {
     "data": {
      "image/png": "[encoded data removed]",
      "text/plain": [
       "<Figure size 432x288 with 1 Axes>"
      ]
     },
     "metadata": {
      "needs_background": "light"
     },
     "output_type": "display_data"
    }
   ],
   "source": [
    "# Checando target. Escala semilog para facilitar a visulização.\n",
    "\n",
    "plt.hist(df.rendimento, bins=50, log=True)\n",
    "plt.show()"
   ]
  },
  {
   "cell_type": "code",
   "execution_count": 13,
   "id": "903a30fb",
   "metadata": {
    "ExecuteTime": {
     "end_time": "2023-07-01T21:51:10.700168Z",
     "start_time": "2023-07-01T21:51:10.687352Z"
    }
   },
   "outputs": [
    {
     "data": {
      "text/plain": [
       "count    100000.000000\n",
       "mean       1080.996760\n",
       "std        2119.736992\n",
       "min           3.000000\n",
       "25%         286.000000\n",
       "50%         512.000000\n",
       "75%        1091.250000\n",
       "max       99072.000000\n",
       "Name: rendimento, dtype: float64"
      ]
     },
     "execution_count": 13,
     "metadata": {},
     "output_type": "execute_result"
    }
   ],
   "source": [
    "df.rendimento.describe()"
   ]
  },
  {
   "cell_type": "code",
   "execution_count": 14,
   "id": "9a27b690",
   "metadata": {
    "ExecuteTime": {
     "end_time": "2023-07-01T21:51:11.547712Z",
     "start_time": "2023-07-01T21:51:11.275850Z"
    }
   },
   "outputs": [
    {
     "data": {
      "image/png": "[encoded data removed]",
      "text/plain": [
       "<Figure size 432x288 with 1 Axes>"
      ]
     },
     "metadata": {
      "needs_background": "light"
     },
     "output_type": "display_data"
    }
   ],
   "source": [
    "from sklearn.preprocessing import KBinsDiscretizer\n",
    "\n",
    "kbins = KBinsDiscretizer(n_bins=5, encode='ordinal', strategy='quantile')\n",
    "\n",
    "df[\"rendimento_cat\"] = kbins.fit_transform(df.rendimento.to_numpy().reshape(-1, 1))\n",
    "\n",
    "df[\"rendimento_cat\"].hist()\n",
    "plt.show()"
   ]
  },
  {
   "cell_type": "code",
   "execution_count": 15,
   "id": "059f8af2",
   "metadata": {
    "ExecuteTime": {
     "end_time": "2023-07-01T21:51:11.788521Z",
     "start_time": "2023-07-01T21:51:11.784184Z"
    }
   },
   "outputs": [
    {
     "data": {
      "text/plain": [
       "array([array([3.0000e+00, 2.2000e+02, 4.0000e+02, 7.0000e+02, 1.3200e+03,\n",
       "              9.9072e+04])                                               ],\n",
       "      dtype=object)"
      ]
     },
     "execution_count": 15,
     "metadata": {},
     "output_type": "execute_result"
    }
   ],
   "source": [
    "# Checando os bins criados\n",
    "\n",
    "kbins.bin_edges_"
   ]
  },
  {
   "cell_type": "code",
   "execution_count": 16,
   "id": "5a2ea90d",
   "metadata": {
    "ExecuteTime": {
     "end_time": "2023-07-01T21:51:12.738469Z",
     "start_time": "2023-07-01T21:51:12.555526Z"
    }
   },
   "outputs": [],
   "source": [
    "# Train test split\n",
    "\n",
    "train_val, test = train_test_split(df, test_size=0.2, stratify=df.rendimento_cat, random_state=42)\n",
    "train, val = train_test_split(train_val, test_size=0.2, stratify=train_val.rendimento_cat, random_state=42)\n",
    "\n",
    "X_train = train.drop(['rendimento', 'rendimento_cat'], axis=1)\n",
    "y_train = train['rendimento']\n",
    "\n",
    "X_val = val.drop(['rendimento', 'rendimento_cat'], axis=1)\n",
    "y_val = val['rendimento']\n",
    "\n",
    "X_test = test.drop(['rendimento', 'rendimento_cat'], axis=1)\n",
    "y_test = test['rendimento']"
   ]
  },
  {
   "cell_type": "code",
   "execution_count": 17,
   "id": "820e255f",
   "metadata": {
    "ExecuteTime": {
     "end_time": "2023-07-01T21:51:13.764163Z",
     "start_time": "2023-07-01T21:51:13.192599Z"
    }
   },
   "outputs": [
    {
     "data": {
      "image/png": "[encoded data removed]",
      "text/plain": [
       "<Figure size 432x288 with 1 Axes>"
      ]
     },
     "metadata": {
      "needs_background": "light"
     },
     "output_type": "display_data"
    }
   ],
   "source": [
    "plt.hist(y_train, density=True, log=True, alpha=0.5, label='Train')\n",
    "plt.hist(y_val, density=True, log=True, alpha=0.5, label='Validation')\n",
    "plt.legend()\n",
    "plt.show()"
   ]
  },
  {
   "cell_type": "code",
   "execution_count": 18,
   "id": "a743a5a1",
   "metadata": {
    "ExecuteTime": {
     "end_time": "2023-07-01T21:51:14.867119Z",
     "start_time": "2023-07-01T21:51:14.183609Z"
    }
   },
   "outputs": [
    {
     "data": {
      "image/png": "[encoded data removed]",
      "text/plain": [
       "<Figure size 432x288 with 1 Axes>"
      ]
     },
     "metadata": {
      "needs_background": "light"
     },
     "output_type": "display_data"
    }
   ],
   "source": [
    "plt.hist(y_train, density=True, log=True, alpha=0.5, label='Train')\n",
    "plt.hist(y_test, density=True, log=True, alpha=0.5, label='Test')\n",
    "plt.legend()\n",
    "plt.show()"
   ]
  },
  {
   "cell_type": "code",
   "execution_count": 19,
   "id": "db9df9f8",
   "metadata": {
    "ExecuteTime": {
     "end_time": "2023-07-01T21:51:15.492385Z",
     "start_time": "2023-07-01T21:51:15.488654Z"
    }
   },
   "outputs": [
    {
     "name": "stdout",
     "output_type": "stream",
     "text": [
      "train: 64000, validation: 16000, test: 20000\n"
     ]
    }
   ],
   "source": [
    "print(f'train: {y_train.shape[0]}, validation: {y_val.shape[0]}, test: {y_test.shape[0]}')"
   ]
  },
  {
   "cell_type": "markdown",
   "id": "dcb8b4dd",
   "metadata": {},
   "source": [
    "## EDA"
   ]
  },
  {
   "cell_type": "code",
   "execution_count": 20,
   "id": "d4f8707c",
   "metadata": {
    "ExecuteTime": {
     "end_time": "2023-07-01T21:51:20.613384Z",
     "start_time": "2023-07-01T21:51:20.166398Z"
    }
   },
   "outputs": [
    {
     "data": {
      "image/png": "[encoded data removed]",
      "text/plain": [
       "<Figure size 720x288 with 2 Axes>"
      ]
     },
     "metadata": {
      "needs_background": "light"
     },
     "output_type": "display_data"
    }
   ],
   "source": [
    "# O target é extremamente assimétrico\n",
    "\n",
    "plt.figure(figsize=(10,4))\n",
    "\n",
    "plt.subplot(1,2,1)\n",
    "plt.hist(y_train, bins=100)\n",
    "\n",
    "plt.subplot(1,2,2)\n",
    "plt.boxplot(y_train)\n",
    "\n",
    "plt.show()"
   ]
  },
  {
   "cell_type": "code",
   "execution_count": 23,
   "id": "ee98dd2a",
   "metadata": {
    "ExecuteTime": {
     "end_time": "2023-07-01T21:51:36.418118Z",
     "start_time": "2023-07-01T21:51:35.684301Z"
    },
    "scrolled": true
   },
   "outputs": [
    {
     "data": {
      "image/png": "[encoded data removed]",
      "text/plain": [
       "<Figure size 432x288 with 1 Axes>"
      ]
     },
     "metadata": {
      "needs_background": "light"
     },
     "output_type": "display_data"
    }
   ],
   "source": [
    "plt.hist(y_train, bins=100, log=True)\n",
    "plt.hist(y_test, bins=100, log=True)\n",
    "plt.show()"
   ]
  },
  {
   "cell_type": "code",
   "execution_count": 24,
   "id": "60ddc447",
   "metadata": {
    "ExecuteTime": {
     "end_time": "2023-07-01T21:51:53.204044Z",
     "start_time": "2023-07-01T21:51:53.193978Z"
    },
    "scrolled": true
   },
   "outputs": [
    {
     "data": {
      "text/plain": [
       "count    64000.000000\n",
       "mean      1083.129375\n",
       "std       2136.414508\n",
       "min          3.000000\n",
       "25%        286.750000\n",
       "50%        517.000000\n",
       "75%       1090.000000\n",
       "max      99072.000000\n",
       "Name: rendimento, dtype: float64"
      ]
     },
     "execution_count": 24,
     "metadata": {},
     "output_type": "execute_result"
    }
   ],
   "source": [
    "y_train.describe()"
   ]
  },
  {
   "cell_type": "code",
   "execution_count": 25,
   "id": "7ba1e0db",
   "metadata": {
    "ExecuteTime": {
     "end_time": "2023-07-01T21:51:54.144209Z",
     "start_time": "2023-07-01T21:51:53.686950Z"
    }
   },
   "outputs": [
    {
     "data": {
      "image/png": "[encoded data removed]",
      "text/plain": [
       "<Figure size 720x288 with 2 Axes>"
      ]
     },
     "metadata": {
      "needs_background": "light"
     },
     "output_type": "display_data"
    }
   ],
   "source": [
    "# O target é extremamente assimétrico\n",
    "\n",
    "plt.figure(figsize=(10,4))\n",
    "\n",
    "plt.subplot(1,2,1)\n",
    "plt.hist(np.log(y_train), bins=100)\n",
    "\n",
    "plt.subplot(1,2,2)\n",
    "plt.boxplot(np.log(y_train))\n",
    "\n",
    "plt.show()"
   ]
  },
  {
   "cell_type": "markdown",
   "id": "1c526941",
   "metadata": {},
   "source": [
    "### sigla_uf"
   ]
  },
  {
   "cell_type": "code",
   "execution_count": 26,
   "id": "d448b4e1",
   "metadata": {
    "ExecuteTime": {
     "end_time": "2023-07-01T21:52:02.286454Z",
     "start_time": "2023-07-01T21:52:01.946630Z"
    }
   },
   "outputs": [
    {
     "data": {
      "image/png": "[encoded data removed]",
      "text/plain": [
       "<Figure size 576x216 with 1 Axes>"
      ]
     },
     "metadata": {
      "needs_background": "light"
     },
     "output_type": "display_data"
    }
   ],
   "source": [
    "plt.figure(figsize=(8,3))\n",
    "X_train['sigla_uf'].value_counts().plot(kind='bar')\n",
    "plt.show()"
   ]
  },
  {
   "cell_type": "code",
   "execution_count": 30,
   "id": "be5f526a",
   "metadata": {
    "ExecuteTime": {
     "end_time": "2023-07-01T21:53:00.984925Z",
     "start_time": "2023-07-01T21:53:00.928153Z"
    }
   },
   "outputs": [
    {
     "data": {
      "text/html": [
       "<div>\n",
       "<style scoped>\n",
       "    .dataframe tbody tr th:only-of-type {\n",
       "        vertical-align: middle;\n",
       "    }\n",
       "\n",
       "    .dataframe tbody tr th {\n",
       "        vertical-align: top;\n",
       "    }\n",
       "\n",
       "    .dataframe thead th {\n",
       "        text-align: right;\n",
       "    }\n",
       "</style>\n",
       "<table border=\"1\" class=\"dataframe\">\n",
       "  <thead>\n",
       "    <tr style=\"text-align: right;\">\n",
       "      <th></th>\n",
       "      <th>rendimento</th>\n",
       "    </tr>\n",
       "    <tr>\n",
       "      <th>sigla_uf</th>\n",
       "      <th></th>\n",
       "    </tr>\n",
       "  </thead>\n",
       "  <tbody>\n",
       "    <tr>\n",
       "      <th>DF</th>\n",
       "      <td>2148.245827</td>\n",
       "    </tr>\n",
       "    <tr>\n",
       "      <th>SP</th>\n",
       "      <td>1554.207518</td>\n",
       "    </tr>\n",
       "    <tr>\n",
       "      <th>RJ</th>\n",
       "      <td>1426.883182</td>\n",
       "    </tr>\n",
       "    <tr>\n",
       "      <th>RR</th>\n",
       "      <td>1225.631148</td>\n",
       "    </tr>\n",
       "    <tr>\n",
       "      <th>SC</th>\n",
       "      <td>1150.008589</td>\n",
       "    </tr>\n",
       "    <tr>\n",
       "      <th>RS</th>\n",
       "      <td>1144.054365</td>\n",
       "    </tr>\n",
       "    <tr>\n",
       "      <th>AP</th>\n",
       "      <td>1135.905512</td>\n",
       "    </tr>\n",
       "    <tr>\n",
       "      <th>PR</th>\n",
       "      <td>1104.173104</td>\n",
       "    </tr>\n",
       "    <tr>\n",
       "      <th>MT</th>\n",
       "      <td>1071.260155</td>\n",
       "    </tr>\n",
       "    <tr>\n",
       "      <th>AM</th>\n",
       "      <td>1023.058047</td>\n",
       "    </tr>\n",
       "    <tr>\n",
       "      <th>ES</th>\n",
       "      <td>997.891183</td>\n",
       "    </tr>\n",
       "    <tr>\n",
       "      <th>MS</th>\n",
       "      <td>988.821472</td>\n",
       "    </tr>\n",
       "    <tr>\n",
       "      <th>RO</th>\n",
       "      <td>978.784884</td>\n",
       "    </tr>\n",
       "    <tr>\n",
       "      <th>GO</th>\n",
       "      <td>966.563197</td>\n",
       "    </tr>\n",
       "    <tr>\n",
       "      <th>MG</th>\n",
       "      <td>948.533951</td>\n",
       "    </tr>\n",
       "    <tr>\n",
       "      <th>TO</th>\n",
       "      <td>810.310476</td>\n",
       "    </tr>\n",
       "    <tr>\n",
       "      <th>PA</th>\n",
       "      <td>798.025525</td>\n",
       "    </tr>\n",
       "    <tr>\n",
       "      <th>CE</th>\n",
       "      <td>742.464824</td>\n",
       "    </tr>\n",
       "    <tr>\n",
       "      <th>PE</th>\n",
       "      <td>698.118227</td>\n",
       "    </tr>\n",
       "    <tr>\n",
       "      <th>RN</th>\n",
       "      <td>668.186047</td>\n",
       "    </tr>\n",
       "    <tr>\n",
       "      <th>BA</th>\n",
       "      <td>663.223956</td>\n",
       "    </tr>\n",
       "    <tr>\n",
       "      <th>SE</th>\n",
       "      <td>642.987692</td>\n",
       "    </tr>\n",
       "    <tr>\n",
       "      <th>PB</th>\n",
       "      <td>617.545922</td>\n",
       "    </tr>\n",
       "    <tr>\n",
       "      <th>AC</th>\n",
       "      <td>576.257895</td>\n",
       "    </tr>\n",
       "    <tr>\n",
       "      <th>AL</th>\n",
       "      <td>533.859358</td>\n",
       "    </tr>\n",
       "    <tr>\n",
       "      <th>MA</th>\n",
       "      <td>533.713341</td>\n",
       "    </tr>\n",
       "    <tr>\n",
       "      <th>PI</th>\n",
       "      <td>454.680568</td>\n",
       "    </tr>\n",
       "  </tbody>\n",
       "</table>\n",
       "</div>"
      ],
      "text/plain": [
       "           rendimento\n",
       "sigla_uf             \n",
       "DF        2148.245827\n",
       "SP        1554.207518\n",
       "RJ        1426.883182\n",
       "RR        1225.631148\n",
       "SC        1150.008589\n",
       "RS        1144.054365\n",
       "AP        1135.905512\n",
       "PR        1104.173104\n",
       "MT        1071.260155\n",
       "AM        1023.058047\n",
       "ES         997.891183\n",
       "MS         988.821472\n",
       "RO         978.784884\n",
       "GO         966.563197\n",
       "MG         948.533951\n",
       "TO         810.310476\n",
       "PA         798.025525\n",
       "CE         742.464824\n",
       "PE         698.118227\n",
       "RN         668.186047\n",
       "BA         663.223956\n",
       "SE         642.987692\n",
       "PB         617.545922\n",
       "AC         576.257895\n",
       "AL         533.859358\n",
       "MA         533.713341\n",
       "PI         454.680568"
      ]
     },
     "execution_count": 30,
     "metadata": {},
     "output_type": "execute_result"
    }
   ],
   "source": [
    "rend_medio_uf = X_train.join(y_train)[['sigla_uf', 'rendimento']].groupby('sigla_uf').mean().sort_values(by='rendimento', ascending=False)\n",
    "rend_medio_uf"
   ]
  },
  {
   "cell_type": "code",
   "execution_count": 34,
   "id": "4e77a568",
   "metadata": {
    "ExecuteTime": {
     "end_time": "2023-07-01T21:54:52.878135Z",
     "start_time": "2023-07-01T21:54:52.426042Z"
    }
   },
   "outputs": [
    {
     "name": "stderr",
     "output_type": "stream",
     "text": [
      "/home/franklin/.local/lib/python3.8/site-packages/geopandas/array.py:93: ShapelyDeprecationWarning: __len__ for multi-part geometries is deprecated and will be removed in Shapely 2.0. Check the length of the `geoms` property instead to get the  number of parts of a multi-part geometry.\n",
      "  aout[:] = out\n"
     ]
    }
   ],
   "source": [
    "geo_uf = gpd.read_file('data/geospatial/BR_UF_2021.shp')\n",
    "geo_uf_rend_medio = geo_uf.merge(rend_medio_uf, left_on='SIGLA', right_on='sigla_uf')"
   ]
  },
  {
   "cell_type": "code",
   "execution_count": 35,
   "id": "82993afd",
   "metadata": {
    "ExecuteTime": {
     "end_time": "2023-07-01T21:55:14.861832Z",
     "start_time": "2023-07-01T21:55:13.936459Z"
    }
   },
   "outputs": [
    {
     "name": "stderr",
     "output_type": "stream",
     "text": [
      "/home/franklin/.local/lib/python3.8/site-packages/geopandas/plotting.py:33: ShapelyDeprecationWarning: Iteration over multi-part geometries is deprecated and will be removed in Shapely 2.0. Use the `geoms` property to access the constituent parts of a multi-part geometry.\n",
      "  for poly in geom:\n",
      "/home/franklin/.local/lib/python3.8/site-packages/descartes/patch.py:62: ShapelyDeprecationWarning: The array interface is deprecated and will no longer work in Shapely 2.0. Convert the '.coords' to a numpy array instead.\n",
      "  vertices = concatenate([\n"
     ]
    },
    {
     "data": {
      "image/png": "[encoded data removed]",
      "text/plain": [
       "<Figure size 720x720 with 2 Axes>"
      ]
     },
     "metadata": {
      "needs_background": "light"
     },
     "output_type": "display_data"
    }
   ],
   "source": [
    "fig, ax = plt.subplots(figsize=(10, 10))\n",
    "geo_uf_rend_medio.plot(column='rendimento', cmap='Blues', ax=ax, legend=True)\n",
    "plt.title('Rendimento médio por estado')\n",
    "plt.axis('off')\n",
    "plt.show()"
   ]
  },
  {
   "cell_type": "markdown",
   "id": "45a4f898",
   "metadata": {
    "ExecuteTime": {
     "end_time": "2023-03-11T23:50:27.590669Z",
     "start_time": "2023-03-11T23:50:27.561879Z"
    }
   },
   "source": [
    "### situacao_domicilio"
   ]
  },
  {
   "cell_type": "code",
   "execution_count": 31,
   "id": "cad70db1",
   "metadata": {
    "ExecuteTime": {
     "end_time": "2023-03-20T21:01:54.922717Z",
     "start_time": "2023-03-20T21:01:54.767362Z"
    },
    "scrolled": true
   },
   "outputs": [
    {
     "data": {
      "image/png": "[encoded data removed]",
      "text/plain": [
       "<Figure size 432x288 with 1 Axes>"
      ]
     },
     "metadata": {
      "needs_background": "light"
     },
     "output_type": "display_data"
    }
   ],
   "source": [
    "X_train['situacao_domicilio'].value_counts().plot(kind='bar')\n",
    "plt.show()"
   ]
  },
  {
   "cell_type": "code",
   "execution_count": 32,
   "id": "04857633",
   "metadata": {
    "ExecuteTime": {
     "end_time": "2023-03-20T21:01:55.006577Z",
     "start_time": "2023-03-20T21:01:54.924988Z"
    },
    "scrolled": true
   },
   "outputs": [
    {
     "data": {
      "text/html": [
       "<div>\n",
       "<style scoped>\n",
       "    .dataframe tbody tr th:only-of-type {\n",
       "        vertical-align: middle;\n",
       "    }\n",
       "\n",
       "    .dataframe tbody tr th {\n",
       "        vertical-align: top;\n",
       "    }\n",
       "\n",
       "    .dataframe thead th {\n",
       "        text-align: right;\n",
       "    }\n",
       "</style>\n",
       "<table border=\"1\" class=\"dataframe\">\n",
       "  <thead>\n",
       "    <tr style=\"text-align: right;\">\n",
       "      <th></th>\n",
       "      <th>comodos</th>\n",
       "      <th>dormitorios</th>\n",
       "      <th>banheiros</th>\n",
       "      <th>televisores</th>\n",
       "      <th>automoveis</th>\n",
       "      <th>ar_condicionado</th>\n",
       "      <th>moradores</th>\n",
       "      <th>homens</th>\n",
       "      <th>mulheres</th>\n",
       "      <th>rendimento</th>\n",
       "    </tr>\n",
       "    <tr>\n",
       "      <th>situacao_domicilio</th>\n",
       "      <th></th>\n",
       "      <th></th>\n",
       "      <th></th>\n",
       "      <th></th>\n",
       "      <th></th>\n",
       "      <th></th>\n",
       "      <th></th>\n",
       "      <th></th>\n",
       "      <th></th>\n",
       "      <th></th>\n",
       "    </tr>\n",
       "  </thead>\n",
       "  <tbody>\n",
       "    <tr>\n",
       "      <th>urbano</th>\n",
       "      <td>5.0</td>\n",
       "      <td>2.0</td>\n",
       "      <td>1.0</td>\n",
       "      <td>1.0</td>\n",
       "      <td>0.0</td>\n",
       "      <td>0.0</td>\n",
       "      <td>4.0</td>\n",
       "      <td>2.0</td>\n",
       "      <td>2.0</td>\n",
       "      <td>602.0</td>\n",
       "    </tr>\n",
       "    <tr>\n",
       "      <th>rural</th>\n",
       "      <td>5.0</td>\n",
       "      <td>2.0</td>\n",
       "      <td>1.0</td>\n",
       "      <td>1.0</td>\n",
       "      <td>0.0</td>\n",
       "      <td>0.0</td>\n",
       "      <td>4.0</td>\n",
       "      <td>2.0</td>\n",
       "      <td>2.0</td>\n",
       "      <td>300.0</td>\n",
       "    </tr>\n",
       "  </tbody>\n",
       "</table>\n",
       "</div>"
      ],
      "text/plain": [
       "                    comodos  dormitorios  banheiros  televisores  automoveis  \\\n",
       "situacao_domicilio                                                             \n",
       "urbano                  5.0          2.0        1.0          1.0         0.0   \n",
       "rural                   5.0          2.0        1.0          1.0         0.0   \n",
       "\n",
       "                    ar_condicionado  moradores  homens  mulheres  rendimento  \n",
       "situacao_domicilio                                                            \n",
       "urbano                          0.0        4.0     2.0       2.0       602.0  \n",
       "rural                           0.0        4.0     2.0       2.0       300.0  "
      ]
     },
     "execution_count": 32,
     "metadata": {},
     "output_type": "execute_result"
    }
   ],
   "source": [
    "X_train.join(y_train).groupby('situacao_domicilio').median().sort_values(by='rendimento', ascending=False)"
   ]
  },
  {
   "cell_type": "markdown",
   "id": "ef5ed39d",
   "metadata": {},
   "source": [
    "### condicao_domicilio"
   ]
  },
  {
   "cell_type": "code",
   "execution_count": 33,
   "id": "3a31d838",
   "metadata": {
    "ExecuteTime": {
     "end_time": "2023-03-20T21:01:55.247397Z",
     "start_time": "2023-03-20T21:01:55.016507Z"
    },
    "scrolled": false
   },
   "outputs": [
    {
     "data": {
      "image/png": "[encoded data removed]",
      "text/plain": [
       "<Figure size 432x288 with 1 Axes>"
      ]
     },
     "metadata": {
      "needs_background": "light"
     },
     "output_type": "display_data"
    }
   ],
   "source": [
    "X_train['condicao_domicilio'].value_counts().plot(kind='bar')\n",
    "plt.show()"
   ]
  },
  {
   "cell_type": "code",
   "execution_count": 34,
   "id": "8409879c",
   "metadata": {
    "ExecuteTime": {
     "end_time": "2023-03-20T21:01:55.270209Z",
     "start_time": "2023-03-20T21:01:55.249569Z"
    }
   },
   "outputs": [
    {
     "data": {
      "text/html": [
       "<div>\n",
       "<style scoped>\n",
       "    .dataframe tbody tr th:only-of-type {\n",
       "        vertical-align: middle;\n",
       "    }\n",
       "\n",
       "    .dataframe tbody tr th {\n",
       "        vertical-align: top;\n",
       "    }\n",
       "\n",
       "    .dataframe thead th {\n",
       "        text-align: right;\n",
       "    }\n",
       "</style>\n",
       "<table border=\"1\" class=\"dataframe\">\n",
       "  <thead>\n",
       "    <tr style=\"text-align: right;\">\n",
       "      <th></th>\n",
       "      <th>sigla_uf</th>\n",
       "      <th>situacao_domicilio</th>\n",
       "      <th>tipo_domicilio</th>\n",
       "      <th>condicao_domicilio</th>\n",
       "      <th>comodos</th>\n",
       "      <th>dormitorios</th>\n",
       "      <th>banheiros</th>\n",
       "      <th>agua</th>\n",
       "      <th>iluminacao</th>\n",
       "      <th>radio</th>\n",
       "      <th>...</th>\n",
       "      <th>microondas</th>\n",
       "      <th>telefone</th>\n",
       "      <th>computador</th>\n",
       "      <th>televisores</th>\n",
       "      <th>automoveis</th>\n",
       "      <th>ar_condicionado</th>\n",
       "      <th>coleta_lixo</th>\n",
       "      <th>moradores</th>\n",
       "      <th>homens</th>\n",
       "      <th>mulheres</th>\n",
       "    </tr>\n",
       "  </thead>\n",
       "  <tbody>\n",
       "    <tr>\n",
       "      <th>68111</th>\n",
       "      <td>RJ</td>\n",
       "      <td>urbano</td>\n",
       "      <td>casa</td>\n",
       "      <td>proprio pago</td>\n",
       "      <td>4</td>\n",
       "      <td>1</td>\n",
       "      <td>1</td>\n",
       "      <td>rede geral</td>\n",
       "      <td>sim</td>\n",
       "      <td>sim</td>\n",
       "      <td>...</td>\n",
       "      <td>não</td>\n",
       "      <td>não</td>\n",
       "      <td>não</td>\n",
       "      <td>1</td>\n",
       "      <td>0</td>\n",
       "      <td>0</td>\n",
       "      <td>serviço de limpeza</td>\n",
       "      <td>4</td>\n",
       "      <td>1</td>\n",
       "      <td>3</td>\n",
       "    </tr>\n",
       "    <tr>\n",
       "      <th>44812</th>\n",
       "      <td>PI</td>\n",
       "      <td>urbano</td>\n",
       "      <td>casa</td>\n",
       "      <td>proprio pago</td>\n",
       "      <td>6</td>\n",
       "      <td>2</td>\n",
       "      <td>1</td>\n",
       "      <td>rede geral</td>\n",
       "      <td>sim</td>\n",
       "      <td>sim</td>\n",
       "      <td>...</td>\n",
       "      <td>não</td>\n",
       "      <td>não</td>\n",
       "      <td>não</td>\n",
       "      <td>1</td>\n",
       "      <td>0</td>\n",
       "      <td>0</td>\n",
       "      <td>serviço de limpeza</td>\n",
       "      <td>4</td>\n",
       "      <td>1</td>\n",
       "      <td>3</td>\n",
       "    </tr>\n",
       "    <tr>\n",
       "      <th>76085</th>\n",
       "      <td>RJ</td>\n",
       "      <td>urbano</td>\n",
       "      <td>casa</td>\n",
       "      <td>alugado</td>\n",
       "      <td>2</td>\n",
       "      <td>1</td>\n",
       "      <td>1</td>\n",
       "      <td>outro</td>\n",
       "      <td>sim</td>\n",
       "      <td>sim</td>\n",
       "      <td>...</td>\n",
       "      <td>não</td>\n",
       "      <td>não</td>\n",
       "      <td>não</td>\n",
       "      <td>0</td>\n",
       "      <td>0</td>\n",
       "      <td>0</td>\n",
       "      <td>serviço de limpeza</td>\n",
       "      <td>1</td>\n",
       "      <td>1</td>\n",
       "      <td>0</td>\n",
       "    </tr>\n",
       "    <tr>\n",
       "      <th>37522</th>\n",
       "      <td>RS</td>\n",
       "      <td>urbano</td>\n",
       "      <td>casa</td>\n",
       "      <td>outro</td>\n",
       "      <td>3</td>\n",
       "      <td>2</td>\n",
       "      <td>1</td>\n",
       "      <td>rede geral</td>\n",
       "      <td>sim</td>\n",
       "      <td>sim</td>\n",
       "      <td>...</td>\n",
       "      <td>não</td>\n",
       "      <td>não</td>\n",
       "      <td>não</td>\n",
       "      <td>1</td>\n",
       "      <td>0</td>\n",
       "      <td>0</td>\n",
       "      <td>serviço de limpeza</td>\n",
       "      <td>5</td>\n",
       "      <td>1</td>\n",
       "      <td>4</td>\n",
       "    </tr>\n",
       "    <tr>\n",
       "      <th>11556</th>\n",
       "      <td>PE</td>\n",
       "      <td>urbano</td>\n",
       "      <td>casa</td>\n",
       "      <td>proprio pago</td>\n",
       "      <td>6</td>\n",
       "      <td>2</td>\n",
       "      <td>1</td>\n",
       "      <td>rede geral</td>\n",
       "      <td>sim</td>\n",
       "      <td>sim</td>\n",
       "      <td>...</td>\n",
       "      <td>não</td>\n",
       "      <td>não</td>\n",
       "      <td>não</td>\n",
       "      <td>2</td>\n",
       "      <td>0</td>\n",
       "      <td>0</td>\n",
       "      <td>serviço de limpeza</td>\n",
       "      <td>4</td>\n",
       "      <td>1</td>\n",
       "      <td>3</td>\n",
       "    </tr>\n",
       "  </tbody>\n",
       "</table>\n",
       "<p>5 rows × 23 columns</p>\n",
       "</div>"
      ],
      "text/plain": [
       "      sigla_uf situacao_domicilio tipo_domicilio condicao_domicilio  comodos  \\\n",
       "68111       RJ             urbano           casa       proprio pago        4   \n",
       "44812       PI             urbano           casa       proprio pago        6   \n",
       "76085       RJ             urbano           casa            alugado        2   \n",
       "37522       RS             urbano           casa              outro        3   \n",
       "11556       PE             urbano           casa       proprio pago        6   \n",
       "\n",
       "       dormitorios  banheiros        agua iluminacao radio  ... microondas  \\\n",
       "68111            1          1  rede geral        sim   sim  ...        não   \n",
       "44812            2          1  rede geral        sim   sim  ...        não   \n",
       "76085            1          1       outro        sim   sim  ...        não   \n",
       "37522            2          1  rede geral        sim   sim  ...        não   \n",
       "11556            2          1  rede geral        sim   sim  ...        não   \n",
       "\n",
       "      telefone computador televisores automoveis ar_condicionado  \\\n",
       "68111      não        não           1          0               0   \n",
       "44812      não        não           1          0               0   \n",
       "76085      não        não           0          0               0   \n",
       "37522      não        não           1          0               0   \n",
       "11556      não        não           2          0               0   \n",
       "\n",
       "              coleta_lixo  moradores  homens mulheres  \n",
       "68111  serviço de limpeza          4       1        3  \n",
       "44812  serviço de limpeza          4       1        3  \n",
       "76085  serviço de limpeza          1       1        0  \n",
       "37522  serviço de limpeza          5       1        4  \n",
       "11556  serviço de limpeza          4       1        3  \n",
       "\n",
       "[5 rows x 23 columns]"
      ]
     },
     "execution_count": 34,
     "metadata": {},
     "output_type": "execute_result"
    }
   ],
   "source": [
    "X_train.head()"
   ]
  },
  {
   "cell_type": "markdown",
   "id": "3d82d240",
   "metadata": {},
   "source": [
    "### tipo_domicilio"
   ]
  },
  {
   "cell_type": "code",
   "execution_count": 35,
   "id": "741f72f5",
   "metadata": {
    "ExecuteTime": {
     "end_time": "2023-03-20T21:01:55.461900Z",
     "start_time": "2023-03-20T21:01:55.272482Z"
    }
   },
   "outputs": [
    {
     "data": {
      "image/png": "[encoded data removed]",
      "text/plain": [
       "<Figure size 432x288 with 1 Axes>"
      ]
     },
     "metadata": {
      "needs_background": "light"
     },
     "output_type": "display_data"
    }
   ],
   "source": [
    "X_train['tipo_domicilio'].value_counts().plot(kind='bar')\n",
    "plt.show()"
   ]
  },
  {
   "cell_type": "code",
   "execution_count": 36,
   "id": "d86638bc",
   "metadata": {
    "ExecuteTime": {
     "end_time": "2023-03-20T21:01:55.518398Z",
     "start_time": "2023-03-20T21:01:55.464261Z"
    },
    "scrolled": false
   },
   "outputs": [
    {
     "data": {
      "text/html": [
       "<div>\n",
       "<style scoped>\n",
       "    .dataframe tbody tr th:only-of-type {\n",
       "        vertical-align: middle;\n",
       "    }\n",
       "\n",
       "    .dataframe tbody tr th {\n",
       "        vertical-align: top;\n",
       "    }\n",
       "\n",
       "    .dataframe thead th {\n",
       "        text-align: right;\n",
       "    }\n",
       "</style>\n",
       "<table border=\"1\" class=\"dataframe\">\n",
       "  <thead>\n",
       "    <tr style=\"text-align: right;\">\n",
       "      <th></th>\n",
       "      <th>comodos</th>\n",
       "      <th>dormitorios</th>\n",
       "      <th>banheiros</th>\n",
       "      <th>televisores</th>\n",
       "      <th>automoveis</th>\n",
       "      <th>ar_condicionado</th>\n",
       "      <th>moradores</th>\n",
       "      <th>homens</th>\n",
       "      <th>mulheres</th>\n",
       "      <th>rendimento</th>\n",
       "    </tr>\n",
       "    <tr>\n",
       "      <th>tipo_domicilio</th>\n",
       "      <th></th>\n",
       "      <th></th>\n",
       "      <th></th>\n",
       "      <th></th>\n",
       "      <th></th>\n",
       "      <th></th>\n",
       "      <th></th>\n",
       "      <th></th>\n",
       "      <th></th>\n",
       "      <th></th>\n",
       "    </tr>\n",
       "  </thead>\n",
       "  <tbody>\n",
       "    <tr>\n",
       "      <th>apartamento</th>\n",
       "      <td>6.0</td>\n",
       "      <td>2.0</td>\n",
       "      <td>1.0</td>\n",
       "      <td>2.0</td>\n",
       "      <td>1.0</td>\n",
       "      <td>0.0</td>\n",
       "      <td>3.0</td>\n",
       "      <td>1.0</td>\n",
       "      <td>1.0</td>\n",
       "      <td>1800.0</td>\n",
       "    </tr>\n",
       "    <tr>\n",
       "      <th>casa</th>\n",
       "      <td>5.0</td>\n",
       "      <td>2.0</td>\n",
       "      <td>1.0</td>\n",
       "      <td>1.0</td>\n",
       "      <td>0.0</td>\n",
       "      <td>0.0</td>\n",
       "      <td>4.0</td>\n",
       "      <td>2.0</td>\n",
       "      <td>2.0</td>\n",
       "      <td>490.0</td>\n",
       "    </tr>\n",
       "    <tr>\n",
       "      <th>comodo</th>\n",
       "      <td>2.0</td>\n",
       "      <td>1.0</td>\n",
       "      <td>1.0</td>\n",
       "      <td>1.0</td>\n",
       "      <td>0.0</td>\n",
       "      <td>0.0</td>\n",
       "      <td>2.0</td>\n",
       "      <td>1.0</td>\n",
       "      <td>1.0</td>\n",
       "      <td>300.0</td>\n",
       "    </tr>\n",
       "  </tbody>\n",
       "</table>\n",
       "</div>"
      ],
      "text/plain": [
       "                comodos  dormitorios  banheiros  televisores  automoveis  \\\n",
       "tipo_domicilio                                                             \n",
       "apartamento         6.0          2.0        1.0          2.0         1.0   \n",
       "casa                5.0          2.0        1.0          1.0         0.0   \n",
       "comodo              2.0          1.0        1.0          1.0         0.0   \n",
       "\n",
       "                ar_condicionado  moradores  homens  mulheres  rendimento  \n",
       "tipo_domicilio                                                            \n",
       "apartamento                 0.0        3.0     1.0       1.0      1800.0  \n",
       "casa                        0.0        4.0     2.0       2.0       490.0  \n",
       "comodo                      0.0        2.0     1.0       1.0       300.0  "
      ]
     },
     "execution_count": 36,
     "metadata": {},
     "output_type": "execute_result"
    }
   ],
   "source": [
    "X_train.join(y_train).groupby('tipo_domicilio').median().sort_values(by='rendimento', ascending=False)"
   ]
  },
  {
   "cell_type": "markdown",
   "id": "eed70186",
   "metadata": {
    "ExecuteTime": {
     "end_time": "2023-03-12T00:01:41.039200Z",
     "start_time": "2023-03-12T00:01:41.034529Z"
    }
   },
   "source": [
    "### comodos"
   ]
  },
  {
   "cell_type": "code",
   "execution_count": 37,
   "id": "beab43e8",
   "metadata": {
    "ExecuteTime": {
     "end_time": "2023-03-20T21:01:55.764456Z",
     "start_time": "2023-03-20T21:01:55.520365Z"
    },
    "scrolled": true
   },
   "outputs": [
    {
     "data": {
      "image/png": "[encoded data removed]",
      "text/plain": [
       "<Figure size 432x288 with 1 Axes>"
      ]
     },
     "metadata": {
      "needs_background": "light"
     },
     "output_type": "display_data"
    }
   ],
   "source": [
    "sns.histplot(data=X_train, x='comodos', discrete=True);"
   ]
  },
  {
   "cell_type": "code",
   "execution_count": 38,
   "id": "9d3e52cc",
   "metadata": {
    "ExecuteTime": {
     "end_time": "2023-03-20T21:01:55.781608Z",
     "start_time": "2023-03-20T21:01:55.766549Z"
    },
    "scrolled": false
   },
   "outputs": [
    {
     "data": {
      "text/plain": [
       "count    80000.000000\n",
       "mean         5.728413\n",
       "std          2.359337\n",
       "min          1.000000\n",
       "25%          4.000000\n",
       "50%          5.000000\n",
       "75%          7.000000\n",
       "max         30.000000\n",
       "Name: comodos, dtype: float64"
      ]
     },
     "execution_count": 38,
     "metadata": {},
     "output_type": "execute_result"
    }
   ],
   "source": [
    "X_train['comodos'].describe()"
   ]
  },
  {
   "cell_type": "markdown",
   "id": "ef793477",
   "metadata": {},
   "source": [
    "### dormitorios"
   ]
  },
  {
   "cell_type": "code",
   "execution_count": 39,
   "id": "1118cea8",
   "metadata": {
    "ExecuteTime": {
     "end_time": "2023-03-20T21:01:55.986616Z",
     "start_time": "2023-03-20T21:01:55.785491Z"
    }
   },
   "outputs": [
    {
     "data": {
      "image/png": "[encoded data removed]",
      "text/plain": [
       "<Figure size 432x288 with 1 Axes>"
      ]
     },
     "metadata": {
      "needs_background": "light"
     },
     "output_type": "display_data"
    }
   ],
   "source": [
    "sns.histplot(data=X_train, x='dormitorios', discrete=True);"
   ]
  },
  {
   "cell_type": "markdown",
   "id": "aa8b204a",
   "metadata": {},
   "source": [
    "### banheiros"
   ]
  },
  {
   "cell_type": "code",
   "execution_count": 40,
   "id": "6072b903",
   "metadata": {
    "ExecuteTime": {
     "end_time": "2023-03-20T21:01:56.279585Z",
     "start_time": "2023-03-20T21:01:55.988674Z"
    },
    "scrolled": true
   },
   "outputs": [
    {
     "data": {
      "image/png": "[encoded data removed]",
      "text/plain": [
       "<Figure size 432x288 with 1 Axes>"
      ]
     },
     "metadata": {
      "needs_background": "light"
     },
     "output_type": "display_data"
    }
   ],
   "source": [
    "sns.histplot(data=X_train, x='banheiros', discrete=True);"
   ]
  },
  {
   "cell_type": "markdown",
   "id": "3182d1f2",
   "metadata": {},
   "source": [
    "### agua"
   ]
  },
  {
   "cell_type": "code",
   "execution_count": 41,
   "id": "a3c14472",
   "metadata": {
    "ExecuteTime": {
     "end_time": "2023-03-20T21:01:56.452653Z",
     "start_time": "2023-03-20T21:01:56.283411Z"
    },
    "scrolled": true
   },
   "outputs": [
    {
     "data": {
      "image/png": "[encoded data removed]",
      "text/plain": [
       "<Figure size 432x288 with 1 Axes>"
      ]
     },
     "metadata": {
      "needs_background": "light"
     },
     "output_type": "display_data"
    }
   ],
   "source": [
    "X_train['agua'].value_counts().plot(kind='bar')\n",
    "plt.show()"
   ]
  },
  {
   "cell_type": "markdown",
   "id": "912d084c",
   "metadata": {},
   "source": [
    "### iluminacao"
   ]
  },
  {
   "cell_type": "code",
   "execution_count": 42,
   "id": "48693311",
   "metadata": {
    "ExecuteTime": {
     "end_time": "2023-03-20T21:01:56.618202Z",
     "start_time": "2023-03-20T21:01:56.454993Z"
    }
   },
   "outputs": [
    {
     "data": {
      "image/png": "[encoded data removed]",
      "text/plain": [
       "<Figure size 432x288 with 1 Axes>"
      ]
     },
     "metadata": {
      "needs_background": "light"
     },
     "output_type": "display_data"
    }
   ],
   "source": [
    "X_train['iluminacao'].value_counts().plot(kind='bar')\n",
    "plt.show()"
   ]
  },
  {
   "cell_type": "markdown",
   "id": "173c07b2",
   "metadata": {},
   "source": [
    "### radio"
   ]
  },
  {
   "cell_type": "code",
   "execution_count": 43,
   "id": "bca5b1b9",
   "metadata": {
    "ExecuteTime": {
     "end_time": "2023-03-20T21:01:56.789943Z",
     "start_time": "2023-03-20T21:01:56.620695Z"
    },
    "scrolled": true
   },
   "outputs": [
    {
     "data": {
      "image/png": "[encoded data removed]",
      "text/plain": [
       "<Figure size 432x288 with 1 Axes>"
      ]
     },
     "metadata": {
      "needs_background": "light"
     },
     "output_type": "display_data"
    }
   ],
   "source": [
    "X_train['radio'].value_counts().plot(kind='bar')\n",
    "plt.show()"
   ]
  },
  {
   "cell_type": "markdown",
   "id": "7734af23",
   "metadata": {},
   "source": [
    "### geladeira"
   ]
  },
  {
   "cell_type": "code",
   "execution_count": 44,
   "id": "a0fe1170",
   "metadata": {
    "ExecuteTime": {
     "end_time": "2023-03-20T21:01:56.952431Z",
     "start_time": "2023-03-20T21:01:56.792677Z"
    }
   },
   "outputs": [
    {
     "data": {
      "image/png": "[encoded data removed]",
      "text/plain": [
       "<Figure size 432x288 with 1 Axes>"
      ]
     },
     "metadata": {
      "needs_background": "light"
     },
     "output_type": "display_data"
    }
   ],
   "source": [
    "X_train['geladeira'].value_counts().plot(kind='bar')\n",
    "plt.show()"
   ]
  },
  {
   "cell_type": "markdown",
   "id": "bfee8eea",
   "metadata": {},
   "source": [
    "### videocassete"
   ]
  },
  {
   "cell_type": "code",
   "execution_count": 45,
   "id": "fdf2c893",
   "metadata": {
    "ExecuteTime": {
     "end_time": "2023-03-20T21:01:57.115999Z",
     "start_time": "2023-03-20T21:01:56.954987Z"
    },
    "scrolled": false
   },
   "outputs": [
    {
     "data": {
      "image/png": "[encoded data removed]",
      "text/plain": [
       "<Figure size 432x288 with 1 Axes>"
      ]
     },
     "metadata": {
      "needs_background": "light"
     },
     "output_type": "display_data"
    }
   ],
   "source": [
    "X_train['videocassete'].value_counts().plot(kind='bar')\n",
    "plt.show()"
   ]
  },
  {
   "cell_type": "markdown",
   "id": "602834d5",
   "metadata": {},
   "source": [
    "### maquina_lavar"
   ]
  },
  {
   "cell_type": "code",
   "execution_count": 46,
   "id": "bb50181b",
   "metadata": {
    "ExecuteTime": {
     "end_time": "2023-03-20T21:01:57.281730Z",
     "start_time": "2023-03-20T21:01:57.119074Z"
    }
   },
   "outputs": [
    {
     "data": {
      "image/png": "[encoded data removed]",
      "text/plain": [
       "<Figure size 432x288 with 1 Axes>"
      ]
     },
     "metadata": {
      "needs_background": "light"
     },
     "output_type": "display_data"
    }
   ],
   "source": [
    "X_train['maquina_lavar'].value_counts().plot(kind='bar')\n",
    "plt.show()"
   ]
  },
  {
   "cell_type": "markdown",
   "id": "d2ae89c6",
   "metadata": {},
   "source": [
    "### microondas"
   ]
  },
  {
   "cell_type": "code",
   "execution_count": 47,
   "id": "1936bbe9",
   "metadata": {
    "ExecuteTime": {
     "end_time": "2023-03-20T21:01:57.455730Z",
     "start_time": "2023-03-20T21:01:57.284246Z"
    },
    "scrolled": true
   },
   "outputs": [
    {
     "data": {
      "image/png": "[encoded data removed]",
      "text/plain": [
       "<Figure size 432x288 with 1 Axes>"
      ]
     },
     "metadata": {
      "needs_background": "light"
     },
     "output_type": "display_data"
    }
   ],
   "source": [
    "X_train['microondas'].value_counts().plot(kind='bar')\n",
    "plt.show()"
   ]
  },
  {
   "cell_type": "markdown",
   "id": "96ed7c35",
   "metadata": {},
   "source": [
    "### telefone"
   ]
  },
  {
   "cell_type": "code",
   "execution_count": 48,
   "id": "02ec25b4",
   "metadata": {
    "ExecuteTime": {
     "end_time": "2023-03-20T21:01:57.617773Z",
     "start_time": "2023-03-20T21:01:57.458344Z"
    },
    "scrolled": true
   },
   "outputs": [
    {
     "data": {
      "image/png": "[encoded data removed]",
      "text/plain": [
       "<Figure size 432x288 with 1 Axes>"
      ]
     },
     "metadata": {
      "needs_background": "light"
     },
     "output_type": "display_data"
    }
   ],
   "source": [
    "X_train['telefone'].value_counts().plot(kind='bar')\n",
    "plt.show()"
   ]
  },
  {
   "cell_type": "markdown",
   "id": "cc355afa",
   "metadata": {},
   "source": [
    "### computador"
   ]
  },
  {
   "cell_type": "code",
   "execution_count": 49,
   "id": "f80ae845",
   "metadata": {
    "ExecuteTime": {
     "end_time": "2023-03-20T21:01:57.788936Z",
     "start_time": "2023-03-20T21:01:57.620887Z"
    }
   },
   "outputs": [
    {
     "data": {
      "image/png": "[encoded data removed]",
      "text/plain": [
       "<Figure size 432x288 with 1 Axes>"
      ]
     },
     "metadata": {
      "needs_background": "light"
     },
     "output_type": "display_data"
    }
   ],
   "source": [
    "X_train['computador'].value_counts().plot(kind='bar')\n",
    "plt.show()"
   ]
  },
  {
   "cell_type": "markdown",
   "id": "df95ef19",
   "metadata": {},
   "source": [
    "### televisores"
   ]
  },
  {
   "cell_type": "code",
   "execution_count": 50,
   "id": "2ed40a1d",
   "metadata": {
    "ExecuteTime": {
     "end_time": "2023-03-20T21:01:57.966512Z",
     "start_time": "2023-03-20T21:01:57.790998Z"
    },
    "scrolled": true
   },
   "outputs": [
    {
     "data": {
      "image/png": "[encoded data removed]",
      "text/plain": [
       "<Figure size 432x288 with 1 Axes>"
      ]
     },
     "metadata": {
      "needs_background": "light"
     },
     "output_type": "display_data"
    }
   ],
   "source": [
    "X_train['televisores'].value_counts().plot(kind='bar')\n",
    "plt.show()"
   ]
  },
  {
   "cell_type": "markdown",
   "id": "8fee7597",
   "metadata": {},
   "source": [
    "### automoveis"
   ]
  },
  {
   "cell_type": "code",
   "execution_count": 51,
   "id": "1c3d6168",
   "metadata": {
    "ExecuteTime": {
     "end_time": "2023-03-20T21:01:58.151864Z",
     "start_time": "2023-03-20T21:01:57.968670Z"
    },
    "scrolled": true
   },
   "outputs": [
    {
     "data": {
      "image/png": "[encoded data removed]",
      "text/plain": [
       "<Figure size 432x288 with 1 Axes>"
      ]
     },
     "metadata": {
      "needs_background": "light"
     },
     "output_type": "display_data"
    }
   ],
   "source": [
    "X_train['automoveis'].value_counts().plot(kind='bar')\n",
    "plt.show()"
   ]
  },
  {
   "cell_type": "markdown",
   "id": "a240488c",
   "metadata": {},
   "source": [
    "### ar_condicionado"
   ]
  },
  {
   "cell_type": "code",
   "execution_count": 52,
   "id": "a0e64983",
   "metadata": {
    "ExecuteTime": {
     "end_time": "2023-03-20T21:01:58.356201Z",
     "start_time": "2023-03-20T21:01:58.153912Z"
    },
    "scrolled": true
   },
   "outputs": [
    {
     "data": {
      "image/png": "[encoded data removed]",
      "text/plain": [
       "<Figure size 432x288 with 1 Axes>"
      ]
     },
     "metadata": {
      "needs_background": "light"
     },
     "output_type": "display_data"
    }
   ],
   "source": [
    "X_train['ar_condicionado'].value_counts().plot(kind='bar')\n",
    "plt.show()"
   ]
  },
  {
   "cell_type": "markdown",
   "id": "7475c982",
   "metadata": {},
   "source": [
    "### coleta_lixo"
   ]
  },
  {
   "cell_type": "code",
   "execution_count": 53,
   "id": "98d4dfbf",
   "metadata": {
    "ExecuteTime": {
     "end_time": "2023-03-20T21:01:58.642640Z",
     "start_time": "2023-03-20T21:01:58.358262Z"
    }
   },
   "outputs": [
    {
     "data": {
      "image/png": "[encoded data removed]",
      "text/plain": [
       "<Figure size 432x288 with 1 Axes>"
      ]
     },
     "metadata": {
      "needs_background": "light"
     },
     "output_type": "display_data"
    }
   ],
   "source": [
    "X_train['coleta_lixo'].value_counts().plot(kind='bar')\n",
    "plt.show()"
   ]
  },
  {
   "cell_type": "code",
   "execution_count": 54,
   "id": "9037fb01",
   "metadata": {
    "ExecuteTime": {
     "end_time": "2023-03-20T21:01:58.882524Z",
     "start_time": "2023-03-20T21:01:58.644536Z"
    }
   },
   "outputs": [
    {
     "data": {
      "image/png": "[encoded data removed]",
      "text/plain": [
       "<Figure size 432x288 with 1 Axes>"
      ]
     },
     "metadata": {
      "needs_background": "light"
     },
     "output_type": "display_data"
    }
   ],
   "source": [
    "sns.histplot(data=X_train, x='moradores', discrete=True);"
   ]
  },
  {
   "cell_type": "code",
   "execution_count": 55,
   "id": "7a609f46",
   "metadata": {
    "ExecuteTime": {
     "end_time": "2023-03-20T21:01:59.103575Z",
     "start_time": "2023-03-20T21:01:58.887072Z"
    }
   },
   "outputs": [
    {
     "data": {
      "image/png": "[encoded data removed]",
      "text/plain": [
       "<Figure size 432x288 with 1 Axes>"
      ]
     },
     "metadata": {
      "needs_background": "light"
     },
     "output_type": "display_data"
    }
   ],
   "source": [
    "sns.histplot(data=X_train, x='homens', discrete=True);"
   ]
  },
  {
   "cell_type": "code",
   "execution_count": 56,
   "id": "6231820b",
   "metadata": {
    "ExecuteTime": {
     "end_time": "2023-03-20T21:01:59.333526Z",
     "start_time": "2023-03-20T21:01:59.106346Z"
    }
   },
   "outputs": [
    {
     "data": {
      "image/png": "[encoded data removed]",
      "text/plain": [
       "<Figure size 432x288 with 1 Axes>"
      ]
     },
     "metadata": {
      "needs_background": "light"
     },
     "output_type": "display_data"
    }
   ],
   "source": [
    "sns.histplot(data=X_train, x='mulheres', discrete=True);"
   ]
  },
  {
   "cell_type": "markdown",
   "id": "78e92008",
   "metadata": {},
   "source": [
    "## Correlações"
   ]
  },
  {
   "cell_type": "code",
   "execution_count": 57,
   "id": "d0bd9f29",
   "metadata": {
    "ExecuteTime": {
     "end_time": "2023-03-20T21:02:00.018470Z",
     "start_time": "2023-03-20T21:01:59.336206Z"
    },
    "scrolled": false
   },
   "outputs": [
    {
     "name": "stdout",
     "output_type": "stream",
     "text": [
      "rendimento         1.000000\n",
      "automoveis         0.480357\n",
      "banheiros          0.471861\n",
      "televisores        0.424147\n",
      "comodos            0.391006\n",
      "ar_condicionado    0.324247\n",
      "dormitorios        0.180411\n",
      "mulheres           0.014766\n",
      "moradores          0.013705\n",
      "homens             0.006924\n",
      "Name: rendimento, dtype: float64\n"
     ]
    },
    {
     "data": {
      "image/png": "[encoded data removed]",
      "text/plain": [
       "<Figure size 720x720 with 2 Axes>"
      ]
     },
     "metadata": {
      "needs_background": "light"
     },
     "output_type": "display_data"
    }
   ],
   "source": [
    "corr = X_train.join(y_train).corr()\n",
    "\n",
    "plt.figure(figsize=(10,10))\n",
    "sns.heatmap(data=corr, annot=True);\n",
    "\n",
    "print(corr['rendimento'].sort_values(ascending=False))"
   ]
  },
  {
   "cell_type": "markdown",
   "id": "6d099f57",
   "metadata": {
    "ExecuteTime": {
     "end_time": "2023-02-17T23:00:49.082457Z",
     "start_time": "2023-02-17T23:00:49.079573Z"
    }
   },
   "source": [
    "## Baseline"
   ]
  },
  {
   "cell_type": "code",
   "execution_count": 58,
   "id": "9df68071",
   "metadata": {
    "ExecuteTime": {
     "end_time": "2023-03-20T21:02:00.046884Z",
     "start_time": "2023-03-20T21:02:00.020870Z"
    },
    "scrolled": true
   },
   "outputs": [
    {
     "data": {
      "text/html": [
       "<div>\n",
       "<style scoped>\n",
       "    .dataframe tbody tr th:only-of-type {\n",
       "        vertical-align: middle;\n",
       "    }\n",
       "\n",
       "    .dataframe tbody tr th {\n",
       "        vertical-align: top;\n",
       "    }\n",
       "\n",
       "    .dataframe thead th {\n",
       "        text-align: right;\n",
       "    }\n",
       "</style>\n",
       "<table border=\"1\" class=\"dataframe\">\n",
       "  <thead>\n",
       "    <tr style=\"text-align: right;\">\n",
       "      <th></th>\n",
       "      <th>sigla_uf</th>\n",
       "      <th>situacao_domicilio</th>\n",
       "      <th>tipo_domicilio</th>\n",
       "      <th>condicao_domicilio</th>\n",
       "      <th>comodos</th>\n",
       "      <th>dormitorios</th>\n",
       "      <th>banheiros</th>\n",
       "      <th>agua</th>\n",
       "      <th>iluminacao</th>\n",
       "      <th>radio</th>\n",
       "      <th>...</th>\n",
       "      <th>microondas</th>\n",
       "      <th>telefone</th>\n",
       "      <th>computador</th>\n",
       "      <th>televisores</th>\n",
       "      <th>automoveis</th>\n",
       "      <th>ar_condicionado</th>\n",
       "      <th>coleta_lixo</th>\n",
       "      <th>moradores</th>\n",
       "      <th>homens</th>\n",
       "      <th>mulheres</th>\n",
       "    </tr>\n",
       "  </thead>\n",
       "  <tbody>\n",
       "    <tr>\n",
       "      <th>68111</th>\n",
       "      <td>RJ</td>\n",
       "      <td>urbano</td>\n",
       "      <td>casa</td>\n",
       "      <td>proprio pago</td>\n",
       "      <td>4</td>\n",
       "      <td>1</td>\n",
       "      <td>1</td>\n",
       "      <td>rede geral</td>\n",
       "      <td>sim</td>\n",
       "      <td>sim</td>\n",
       "      <td>...</td>\n",
       "      <td>não</td>\n",
       "      <td>não</td>\n",
       "      <td>não</td>\n",
       "      <td>1</td>\n",
       "      <td>0</td>\n",
       "      <td>0</td>\n",
       "      <td>serviço de limpeza</td>\n",
       "      <td>4</td>\n",
       "      <td>1</td>\n",
       "      <td>3</td>\n",
       "    </tr>\n",
       "    <tr>\n",
       "      <th>44812</th>\n",
       "      <td>PI</td>\n",
       "      <td>urbano</td>\n",
       "      <td>casa</td>\n",
       "      <td>proprio pago</td>\n",
       "      <td>6</td>\n",
       "      <td>2</td>\n",
       "      <td>1</td>\n",
       "      <td>rede geral</td>\n",
       "      <td>sim</td>\n",
       "      <td>sim</td>\n",
       "      <td>...</td>\n",
       "      <td>não</td>\n",
       "      <td>não</td>\n",
       "      <td>não</td>\n",
       "      <td>1</td>\n",
       "      <td>0</td>\n",
       "      <td>0</td>\n",
       "      <td>serviço de limpeza</td>\n",
       "      <td>4</td>\n",
       "      <td>1</td>\n",
       "      <td>3</td>\n",
       "    </tr>\n",
       "    <tr>\n",
       "      <th>76085</th>\n",
       "      <td>RJ</td>\n",
       "      <td>urbano</td>\n",
       "      <td>casa</td>\n",
       "      <td>alugado</td>\n",
       "      <td>2</td>\n",
       "      <td>1</td>\n",
       "      <td>1</td>\n",
       "      <td>outro</td>\n",
       "      <td>sim</td>\n",
       "      <td>sim</td>\n",
       "      <td>...</td>\n",
       "      <td>não</td>\n",
       "      <td>não</td>\n",
       "      <td>não</td>\n",
       "      <td>0</td>\n",
       "      <td>0</td>\n",
       "      <td>0</td>\n",
       "      <td>serviço de limpeza</td>\n",
       "      <td>1</td>\n",
       "      <td>1</td>\n",
       "      <td>0</td>\n",
       "    </tr>\n",
       "    <tr>\n",
       "      <th>37522</th>\n",
       "      <td>RS</td>\n",
       "      <td>urbano</td>\n",
       "      <td>casa</td>\n",
       "      <td>outro</td>\n",
       "      <td>3</td>\n",
       "      <td>2</td>\n",
       "      <td>1</td>\n",
       "      <td>rede geral</td>\n",
       "      <td>sim</td>\n",
       "      <td>sim</td>\n",
       "      <td>...</td>\n",
       "      <td>não</td>\n",
       "      <td>não</td>\n",
       "      <td>não</td>\n",
       "      <td>1</td>\n",
       "      <td>0</td>\n",
       "      <td>0</td>\n",
       "      <td>serviço de limpeza</td>\n",
       "      <td>5</td>\n",
       "      <td>1</td>\n",
       "      <td>4</td>\n",
       "    </tr>\n",
       "    <tr>\n",
       "      <th>11556</th>\n",
       "      <td>PE</td>\n",
       "      <td>urbano</td>\n",
       "      <td>casa</td>\n",
       "      <td>proprio pago</td>\n",
       "      <td>6</td>\n",
       "      <td>2</td>\n",
       "      <td>1</td>\n",
       "      <td>rede geral</td>\n",
       "      <td>sim</td>\n",
       "      <td>sim</td>\n",
       "      <td>...</td>\n",
       "      <td>não</td>\n",
       "      <td>não</td>\n",
       "      <td>não</td>\n",
       "      <td>2</td>\n",
       "      <td>0</td>\n",
       "      <td>0</td>\n",
       "      <td>serviço de limpeza</td>\n",
       "      <td>4</td>\n",
       "      <td>1</td>\n",
       "      <td>3</td>\n",
       "    </tr>\n",
       "  </tbody>\n",
       "</table>\n",
       "<p>5 rows × 23 columns</p>\n",
       "</div>"
      ],
      "text/plain": [
       "      sigla_uf situacao_domicilio tipo_domicilio condicao_domicilio  comodos  \\\n",
       "68111       RJ             urbano           casa       proprio pago        4   \n",
       "44812       PI             urbano           casa       proprio pago        6   \n",
       "76085       RJ             urbano           casa            alugado        2   \n",
       "37522       RS             urbano           casa              outro        3   \n",
       "11556       PE             urbano           casa       proprio pago        6   \n",
       "\n",
       "       dormitorios  banheiros        agua iluminacao radio  ... microondas  \\\n",
       "68111            1          1  rede geral        sim   sim  ...        não   \n",
       "44812            2          1  rede geral        sim   sim  ...        não   \n",
       "76085            1          1       outro        sim   sim  ...        não   \n",
       "37522            2          1  rede geral        sim   sim  ...        não   \n",
       "11556            2          1  rede geral        sim   sim  ...        não   \n",
       "\n",
       "      telefone computador televisores automoveis ar_condicionado  \\\n",
       "68111      não        não           1          0               0   \n",
       "44812      não        não           1          0               0   \n",
       "76085      não        não           0          0               0   \n",
       "37522      não        não           1          0               0   \n",
       "11556      não        não           2          0               0   \n",
       "\n",
       "              coleta_lixo  moradores  homens mulheres  \n",
       "68111  serviço de limpeza          4       1        3  \n",
       "44812  serviço de limpeza          4       1        3  \n",
       "76085  serviço de limpeza          1       1        0  \n",
       "37522  serviço de limpeza          5       1        4  \n",
       "11556  serviço de limpeza          4       1        3  \n",
       "\n",
       "[5 rows x 23 columns]"
      ]
     },
     "execution_count": 58,
     "metadata": {},
     "output_type": "execute_result"
    }
   ],
   "source": [
    "X_train.head()"
   ]
  },
  {
   "cell_type": "code",
   "execution_count": 59,
   "id": "98ddc685",
   "metadata": {
    "ExecuteTime": {
     "end_time": "2023-03-20T21:02:00.052455Z",
     "start_time": "2023-03-20T21:02:00.048818Z"
    }
   },
   "outputs": [],
   "source": [
    "# Categorical and numerical features\n",
    "\n",
    "cat_cols = list(X_train.select_dtypes('object').columns)\n",
    "num_cols = list(X_train.select_dtypes('int64').columns)"
   ]
  },
  {
   "cell_type": "code",
   "execution_count": 60,
   "id": "b6fa003b",
   "metadata": {
    "ExecuteTime": {
     "end_time": "2023-03-20T21:02:00.058697Z",
     "start_time": "2023-03-20T21:02:00.054943Z"
    }
   },
   "outputs": [],
   "source": [
    "# Transformers\n",
    "\n",
    "ohe = OneHotEncoder(drop='first', sparse_output=False)\n",
    "std_scaler = StandardScaler()\n",
    "normalizer = Normalizer()\n",
    "min_max_scaler = MinMaxScaler()"
   ]
  },
  {
   "cell_type": "code",
   "execution_count": 61,
   "id": "f6d636c6",
   "metadata": {
    "ExecuteTime": {
     "end_time": "2023-03-20T21:03:05.682088Z",
     "start_time": "2023-03-20T21:02:00.068788Z"
    }
   },
   "outputs": [
    {
     "name": "stdout",
     "output_type": "stream",
     "text": [
      "MAE:  668.6737917643864\n",
      "RMSE:  2119.942198754786\n"
     ]
    }
   ],
   "source": [
    "# Testando Normalizer\n",
    "\n",
    "norm_pipeline = ColumnTransformer(transformers=[('cat', ohe, cat_cols),\n",
    "                                                ('num', normalizer, num_cols)], \n",
    "                                                remainder='passthrough')\n",
    "\n",
    "\n",
    "X_train_tr = norm_pipeline.fit_transform(X_train)\n",
    "X_val_tr = norm_pipeline.transform(X_val)\n",
    "\n",
    "forest_reg = RandomForestRegressor(random_state=42,\n",
    "                                  n_jobs=-1)\n",
    "\n",
    "forest_reg.fit(X_train_tr, y_train)\n",
    "y_pred = forest_reg.predict(X_val_tr)\n",
    "\n",
    "print('MAE: ', mean_absolute_error(y_val, y_pred))\n",
    "print('RMSE: ', np.sqrt(mean_squared_error(y_val, y_pred)))"
   ]
  },
  {
   "cell_type": "code",
   "execution_count": 62,
   "id": "e1e915ff",
   "metadata": {
    "ExecuteTime": {
     "end_time": "2023-03-20T21:03:55.109936Z",
     "start_time": "2023-03-20T21:03:05.685607Z"
    }
   },
   "outputs": [
    {
     "name": "stdout",
     "output_type": "stream",
     "text": [
      "MAE:  654.0967526110761\n",
      "RMSE:  2072.586379461122\n"
     ]
    }
   ],
   "source": [
    "# Testando MinMaxScaler\n",
    "\n",
    "minmax_pipeline = ColumnTransformer(transformers=[('cat', ohe, cat_cols),\n",
    "                                                  ('num', min_max_scaler, num_cols)], \n",
    "                                                  remainder='passthrough')\n",
    "\n",
    "\n",
    "X_train_tr = minmax_pipeline.fit_transform(X_train)\n",
    "X_val_tr = minmax_pipeline.transform(X_val)\n",
    "\n",
    "forest_reg = RandomForestRegressor(random_state=42,\n",
    "                                  n_jobs=-1)\n",
    "\n",
    "forest_reg.fit(X_train_tr, y_train)\n",
    "y_pred = forest_reg.predict(X_val_tr)\n",
    "\n",
    "print('MAE: ', mean_absolute_error(y_val, y_pred))\n",
    "print('RMSE: ', np.sqrt(mean_squared_error(y_val, y_pred)))"
   ]
  },
  {
   "cell_type": "code",
   "execution_count": 63,
   "id": "e6af07b8",
   "metadata": {
    "ExecuteTime": {
     "end_time": "2023-03-20T21:04:57.629495Z",
     "start_time": "2023-03-20T21:03:55.113211Z"
    }
   },
   "outputs": [
    {
     "name": "stdout",
     "output_type": "stream",
     "text": [
      "MAE:  653.3514749907491\n",
      "RMSE:  2078.9416087545105\n"
     ]
    }
   ],
   "source": [
    "# Testando StandardScaler\n",
    "\n",
    "std_pipeline = ColumnTransformer(transformers=[('cat', ohe, cat_cols),\n",
    "                                               ('num', std_scaler, num_cols)], \n",
    "                                               remainder='passthrough')\n",
    "\n",
    "\n",
    "std_pipeline.set_output(transform=\"pandas\")\n",
    "\n",
    "X_train_tr = std_pipeline.fit_transform(X_train)\n",
    "X_val_tr = std_pipeline.transform(X_val)\n",
    "\n",
    "forest_reg = RandomForestRegressor(random_state=42,\n",
    "                                  n_jobs=-1)\n",
    "\n",
    "forest_reg.fit(X_train_tr, y_train)\n",
    "y_pred = forest_reg.predict(X_val_tr)\n",
    "\n",
    "print('MAE: ', mean_absolute_error(y_val, y_pred))\n",
    "print('RMSE: ', np.sqrt(mean_squared_error(y_val, y_pred)))"
   ]
  },
  {
   "cell_type": "markdown",
   "id": "733a7006",
   "metadata": {},
   "source": [
    "Os resultados com `StandardScaler` se mostraram promissores."
   ]
  },
  {
   "cell_type": "markdown",
   "id": "15074cc7",
   "metadata": {},
   "source": [
    "## Análises do erro"
   ]
  },
  {
   "cell_type": "code",
   "execution_count": 64,
   "id": "1e8a9455",
   "metadata": {
    "ExecuteTime": {
     "end_time": "2023-03-20T21:04:57.913618Z",
     "start_time": "2023-03-20T21:04:57.635807Z"
    },
    "scrolled": true
   },
   "outputs": [
    {
     "data": {
      "image/png": "[encoded data removed]",
      "text/plain": [
       "<Figure size 432x288 with 1 Axes>"
      ]
     },
     "metadata": {
      "needs_background": "light"
     },
     "output_type": "display_data"
    }
   ],
   "source": [
    "# Plotando a distribuição prevista com as de validação (usando log para visualização)\n",
    "\n",
    "plt.hist(np.log(y_pred),alpha=0.8, label='pred')\n",
    "plt.hist(np.log(y_val),alpha=0.8, label='true')\n",
    "plt.legend()\n",
    "plt.show()"
   ]
  },
  {
   "cell_type": "code",
   "execution_count": 65,
   "id": "19858d9d",
   "metadata": {
    "ExecuteTime": {
     "end_time": "2023-03-20T21:04:58.108794Z",
     "start_time": "2023-03-20T21:04:57.916391Z"
    },
    "scrolled": true
   },
   "outputs": [
    {
     "data": {
      "image/png": "[encoded data removed]",
      "text/plain": [
       "<Figure size 432x288 with 1 Axes>"
      ]
     },
     "metadata": {
      "needs_background": "light"
     },
     "output_type": "display_data"
    }
   ],
   "source": [
    "# Residuos\n",
    "\n",
    "residues = y_val - y_pred\n",
    "\n",
    "plt.plot(y_pred, residues, ls='', marker='.')\n",
    "plt.axhline(c='k')\n",
    "plt.xlabel('y_pred')\n",
    "plt.ylabel('y_true - y_pred')\n",
    "plt.title('Residuos')\n",
    "plt.grid()\n",
    "plt.show()"
   ]
  },
  {
   "cell_type": "code",
   "execution_count": 66,
   "id": "3b3ecca0",
   "metadata": {
    "ExecuteTime": {
     "end_time": "2023-03-20T21:04:58.127696Z",
     "start_time": "2023-03-20T21:04:58.111625Z"
    }
   },
   "outputs": [
    {
     "data": {
      "text/plain": [
       "count    10000.000000\n",
       "mean      1119.681705\n",
       "std       1530.697585\n",
       "min         69.628333\n",
       "25%        360.583125\n",
       "50%        621.920952\n",
       "75%       1204.177917\n",
       "max      24282.270000\n",
       "dtype: float64"
      ]
     },
     "execution_count": 66,
     "metadata": {},
     "output_type": "execute_result"
    }
   ],
   "source": [
    "pd.Series(y_pred).describe()"
   ]
  },
  {
   "cell_type": "code",
   "execution_count": 67,
   "id": "1258f4a4",
   "metadata": {
    "ExecuteTime": {
     "end_time": "2023-03-20T21:04:58.143869Z",
     "start_time": "2023-03-20T21:04:58.130346Z"
    },
    "scrolled": true
   },
   "outputs": [
    {
     "data": {
      "text/plain": [
       "count    80000.000000\n",
       "mean      1081.719850\n",
       "std       2127.363233\n",
       "min          4.000000\n",
       "25%        282.000000\n",
       "50%        511.000000\n",
       "75%       1082.000000\n",
       "max      95500.000000\n",
       "Name: rendimento, dtype: float64"
      ]
     },
     "execution_count": 67,
     "metadata": {},
     "output_type": "execute_result"
    }
   ],
   "source": [
    "y_train.describe()"
   ]
  },
  {
   "cell_type": "code",
   "execution_count": 68,
   "id": "da7f35e5",
   "metadata": {
    "ExecuteTime": {
     "end_time": "2023-03-20T21:04:58.230693Z",
     "start_time": "2023-03-20T21:04:58.146370Z"
    }
   },
   "outputs": [
    {
     "data": {
      "text/html": [
       "<div>\n",
       "<style scoped>\n",
       "    .dataframe tbody tr th:only-of-type {\n",
       "        vertical-align: middle;\n",
       "    }\n",
       "\n",
       "    .dataframe tbody tr th {\n",
       "        vertical-align: top;\n",
       "    }\n",
       "\n",
       "    .dataframe thead th {\n",
       "        text-align: right;\n",
       "    }\n",
       "</style>\n",
       "<table border=\"1\" class=\"dataframe\">\n",
       "  <thead>\n",
       "    <tr style=\"text-align: right;\">\n",
       "      <th></th>\n",
       "      <th>Feature</th>\n",
       "      <th>Importance</th>\n",
       "    </tr>\n",
       "  </thead>\n",
       "  <tbody>\n",
       "    <tr>\n",
       "      <th>0</th>\n",
       "      <td>num__banheiros</td>\n",
       "      <td>0.208245</td>\n",
       "    </tr>\n",
       "    <tr>\n",
       "      <th>1</th>\n",
       "      <td>num__automoveis</td>\n",
       "      <td>0.129338</td>\n",
       "    </tr>\n",
       "    <tr>\n",
       "      <th>2</th>\n",
       "      <td>num__comodos</td>\n",
       "      <td>0.084961</td>\n",
       "    </tr>\n",
       "    <tr>\n",
       "      <th>3</th>\n",
       "      <td>num__televisores</td>\n",
       "      <td>0.056322</td>\n",
       "    </tr>\n",
       "    <tr>\n",
       "      <th>4</th>\n",
       "      <td>cat__computador_sim</td>\n",
       "      <td>0.055317</td>\n",
       "    </tr>\n",
       "    <tr>\n",
       "      <th>5</th>\n",
       "      <td>num__moradores</td>\n",
       "      <td>0.042776</td>\n",
       "    </tr>\n",
       "    <tr>\n",
       "      <th>6</th>\n",
       "      <td>num__ar_condicionado</td>\n",
       "      <td>0.036888</td>\n",
       "    </tr>\n",
       "    <tr>\n",
       "      <th>7</th>\n",
       "      <td>num__mulheres</td>\n",
       "      <td>0.035413</td>\n",
       "    </tr>\n",
       "    <tr>\n",
       "      <th>8</th>\n",
       "      <td>num__dormitorios</td>\n",
       "      <td>0.033556</td>\n",
       "    </tr>\n",
       "    <tr>\n",
       "      <th>9</th>\n",
       "      <td>num__homens</td>\n",
       "      <td>0.033383</td>\n",
       "    </tr>\n",
       "    <tr>\n",
       "      <th>10</th>\n",
       "      <td>cat__tipo_domicilio_casa</td>\n",
       "      <td>0.031091</td>\n",
       "    </tr>\n",
       "    <tr>\n",
       "      <th>11</th>\n",
       "      <td>cat__condicao_domicilio_proprio pago</td>\n",
       "      <td>0.018638</td>\n",
       "    </tr>\n",
       "    <tr>\n",
       "      <th>12</th>\n",
       "      <td>cat__telefone_sim</td>\n",
       "      <td>0.017112</td>\n",
       "    </tr>\n",
       "    <tr>\n",
       "      <th>13</th>\n",
       "      <td>cat__microondas_sim</td>\n",
       "      <td>0.017079</td>\n",
       "    </tr>\n",
       "    <tr>\n",
       "      <th>14</th>\n",
       "      <td>cat__sigla_uf_PR</td>\n",
       "      <td>0.015749</td>\n",
       "    </tr>\n",
       "    <tr>\n",
       "      <th>15</th>\n",
       "      <td>cat__sigla_uf_SP</td>\n",
       "      <td>0.015159</td>\n",
       "    </tr>\n",
       "    <tr>\n",
       "      <th>16</th>\n",
       "      <td>cat__condicao_domicilio_proprio pagando</td>\n",
       "      <td>0.012402</td>\n",
       "    </tr>\n",
       "    <tr>\n",
       "      <th>17</th>\n",
       "      <td>cat__sigla_uf_RJ</td>\n",
       "      <td>0.010850</td>\n",
       "    </tr>\n",
       "    <tr>\n",
       "      <th>18</th>\n",
       "      <td>cat__maquina_lavar_sim</td>\n",
       "      <td>0.010642</td>\n",
       "    </tr>\n",
       "    <tr>\n",
       "      <th>19</th>\n",
       "      <td>cat__coleta_lixo_caçamba</td>\n",
       "      <td>0.010067</td>\n",
       "    </tr>\n",
       "    <tr>\n",
       "      <th>20</th>\n",
       "      <td>cat__videocassete_sim</td>\n",
       "      <td>0.010014</td>\n",
       "    </tr>\n",
       "    <tr>\n",
       "      <th>21</th>\n",
       "      <td>cat__sigla_uf_MG</td>\n",
       "      <td>0.009034</td>\n",
       "    </tr>\n",
       "    <tr>\n",
       "      <th>22</th>\n",
       "      <td>cat__sigla_uf_MA</td>\n",
       "      <td>0.007943</td>\n",
       "    </tr>\n",
       "    <tr>\n",
       "      <th>23</th>\n",
       "      <td>cat__sigla_uf_GO</td>\n",
       "      <td>0.007770</td>\n",
       "    </tr>\n",
       "    <tr>\n",
       "      <th>24</th>\n",
       "      <td>cat__sigla_uf_RS</td>\n",
       "      <td>0.007124</td>\n",
       "    </tr>\n",
       "    <tr>\n",
       "      <th>25</th>\n",
       "      <td>cat__coleta_lixo_serviço de limpeza</td>\n",
       "      <td>0.006983</td>\n",
       "    </tr>\n",
       "    <tr>\n",
       "      <th>26</th>\n",
       "      <td>cat__coleta_lixo_queimado</td>\n",
       "      <td>0.006390</td>\n",
       "    </tr>\n",
       "    <tr>\n",
       "      <th>27</th>\n",
       "      <td>cat__sigla_uf_ES</td>\n",
       "      <td>0.006303</td>\n",
       "    </tr>\n",
       "    <tr>\n",
       "      <th>28</th>\n",
       "      <td>cat__agua_rede geral</td>\n",
       "      <td>0.004917</td>\n",
       "    </tr>\n",
       "    <tr>\n",
       "      <th>29</th>\n",
       "      <td>cat__sigla_uf_PA</td>\n",
       "      <td>0.004897</td>\n",
       "    </tr>\n",
       "    <tr>\n",
       "      <th>30</th>\n",
       "      <td>cat__agua_poço</td>\n",
       "      <td>0.004589</td>\n",
       "    </tr>\n",
       "    <tr>\n",
       "      <th>31</th>\n",
       "      <td>cat__sigla_uf_RN</td>\n",
       "      <td>0.003688</td>\n",
       "    </tr>\n",
       "    <tr>\n",
       "      <th>32</th>\n",
       "      <td>cat__situacao_domicilio_urbano</td>\n",
       "      <td>0.003610</td>\n",
       "    </tr>\n",
       "    <tr>\n",
       "      <th>33</th>\n",
       "      <td>cat__sigla_uf_CE</td>\n",
       "      <td>0.003581</td>\n",
       "    </tr>\n",
       "    <tr>\n",
       "      <th>34</th>\n",
       "      <td>cat__sigla_uf_BA</td>\n",
       "      <td>0.003574</td>\n",
       "    </tr>\n",
       "    <tr>\n",
       "      <th>35</th>\n",
       "      <td>cat__sigla_uf_DF</td>\n",
       "      <td>0.003343</td>\n",
       "    </tr>\n",
       "    <tr>\n",
       "      <th>36</th>\n",
       "      <td>cat__sigla_uf_AM</td>\n",
       "      <td>0.003163</td>\n",
       "    </tr>\n",
       "    <tr>\n",
       "      <th>37</th>\n",
       "      <td>cat__sigla_uf_SC</td>\n",
       "      <td>0.003146</td>\n",
       "    </tr>\n",
       "    <tr>\n",
       "      <th>38</th>\n",
       "      <td>cat__sigla_uf_MT</td>\n",
       "      <td>0.003045</td>\n",
       "    </tr>\n",
       "    <tr>\n",
       "      <th>39</th>\n",
       "      <td>cat__sigla_uf_MS</td>\n",
       "      <td>0.002923</td>\n",
       "    </tr>\n",
       "    <tr>\n",
       "      <th>40</th>\n",
       "      <td>cat__radio_sim</td>\n",
       "      <td>0.002747</td>\n",
       "    </tr>\n",
       "    <tr>\n",
       "      <th>41</th>\n",
       "      <td>cat__sigla_uf_PB</td>\n",
       "      <td>0.002315</td>\n",
       "    </tr>\n",
       "    <tr>\n",
       "      <th>42</th>\n",
       "      <td>cat__sigla_uf_PE</td>\n",
       "      <td>0.002106</td>\n",
       "    </tr>\n",
       "    <tr>\n",
       "      <th>43</th>\n",
       "      <td>cat__condicao_domicilio_cedido</td>\n",
       "      <td>0.002042</td>\n",
       "    </tr>\n",
       "    <tr>\n",
       "      <th>44</th>\n",
       "      <td>cat__geladeira_sim</td>\n",
       "      <td>0.001543</td>\n",
       "    </tr>\n",
       "    <tr>\n",
       "      <th>45</th>\n",
       "      <td>cat__sigla_uf_RO</td>\n",
       "      <td>0.001053</td>\n",
       "    </tr>\n",
       "    <tr>\n",
       "      <th>46</th>\n",
       "      <td>cat__sigla_uf_TO</td>\n",
       "      <td>0.001009</td>\n",
       "    </tr>\n",
       "    <tr>\n",
       "      <th>47</th>\n",
       "      <td>cat__sigla_uf_SE</td>\n",
       "      <td>0.000820</td>\n",
       "    </tr>\n",
       "    <tr>\n",
       "      <th>48</th>\n",
       "      <td>cat__condicao_domicilio_cedido por empregador</td>\n",
       "      <td>0.000820</td>\n",
       "    </tr>\n",
       "    <tr>\n",
       "      <th>49</th>\n",
       "      <td>cat__coleta_lixo_enterrado</td>\n",
       "      <td>0.000797</td>\n",
       "    </tr>\n",
       "    <tr>\n",
       "      <th>50</th>\n",
       "      <td>cat__tipo_domicilio_comodo</td>\n",
       "      <td>0.000672</td>\n",
       "    </tr>\n",
       "    <tr>\n",
       "      <th>51</th>\n",
       "      <td>cat__sigla_uf_AP</td>\n",
       "      <td>0.000636</td>\n",
       "    </tr>\n",
       "    <tr>\n",
       "      <th>52</th>\n",
       "      <td>cat__coleta_lixo_outro</td>\n",
       "      <td>0.000627</td>\n",
       "    </tr>\n",
       "    <tr>\n",
       "      <th>53</th>\n",
       "      <td>cat__sigla_uf_AL</td>\n",
       "      <td>0.000574</td>\n",
       "    </tr>\n",
       "    <tr>\n",
       "      <th>54</th>\n",
       "      <td>cat__condicao_domicilio_outro</td>\n",
       "      <td>0.000433</td>\n",
       "    </tr>\n",
       "    <tr>\n",
       "      <th>55</th>\n",
       "      <td>cat__sigla_uf_PI</td>\n",
       "      <td>0.000415</td>\n",
       "    </tr>\n",
       "    <tr>\n",
       "      <th>56</th>\n",
       "      <td>cat__sigla_uf_RR</td>\n",
       "      <td>0.000177</td>\n",
       "    </tr>\n",
       "    <tr>\n",
       "      <th>57</th>\n",
       "      <td>cat__iluminacao_sim</td>\n",
       "      <td>0.000139</td>\n",
       "    </tr>\n",
       "    <tr>\n",
       "      <th>58</th>\n",
       "      <td>cat__coleta_lixo_rio</td>\n",
       "      <td>0.000049</td>\n",
       "    </tr>\n",
       "  </tbody>\n",
       "</table>\n",
       "</div>"
      ],
      "text/plain": [
       "                                          Feature  Importance\n",
       "0                                  num__banheiros    0.208245\n",
       "1                                 num__automoveis    0.129338\n",
       "2                                    num__comodos    0.084961\n",
       "3                                num__televisores    0.056322\n",
       "4                             cat__computador_sim    0.055317\n",
       "5                                  num__moradores    0.042776\n",
       "6                            num__ar_condicionado    0.036888\n",
       "7                                   num__mulheres    0.035413\n",
       "8                                num__dormitorios    0.033556\n",
       "9                                     num__homens    0.033383\n",
       "10                       cat__tipo_domicilio_casa    0.031091\n",
       "11           cat__condicao_domicilio_proprio pago    0.018638\n",
       "12                              cat__telefone_sim    0.017112\n",
       "13                            cat__microondas_sim    0.017079\n",
       "14                               cat__sigla_uf_PR    0.015749\n",
       "15                               cat__sigla_uf_SP    0.015159\n",
       "16        cat__condicao_domicilio_proprio pagando    0.012402\n",
       "17                               cat__sigla_uf_RJ    0.010850\n",
       "18                         cat__maquina_lavar_sim    0.010642\n",
       "19                       cat__coleta_lixo_caçamba    0.010067\n",
       "20                          cat__videocassete_sim    0.010014\n",
       "21                               cat__sigla_uf_MG    0.009034\n",
       "22                               cat__sigla_uf_MA    0.007943\n",
       "23                               cat__sigla_uf_GO    0.007770\n",
       "24                               cat__sigla_uf_RS    0.007124\n",
       "25            cat__coleta_lixo_serviço de limpeza    0.006983\n",
       "26                      cat__coleta_lixo_queimado    0.006390\n",
       "27                               cat__sigla_uf_ES    0.006303\n",
       "28                           cat__agua_rede geral    0.004917\n",
       "29                               cat__sigla_uf_PA    0.004897\n",
       "30                                 cat__agua_poço    0.004589\n",
       "31                               cat__sigla_uf_RN    0.003688\n",
       "32                 cat__situacao_domicilio_urbano    0.003610\n",
       "33                               cat__sigla_uf_CE    0.003581\n",
       "34                               cat__sigla_uf_BA    0.003574\n",
       "35                               cat__sigla_uf_DF    0.003343\n",
       "36                               cat__sigla_uf_AM    0.003163\n",
       "37                               cat__sigla_uf_SC    0.003146\n",
       "38                               cat__sigla_uf_MT    0.003045\n",
       "39                               cat__sigla_uf_MS    0.002923\n",
       "40                                 cat__radio_sim    0.002747\n",
       "41                               cat__sigla_uf_PB    0.002315\n",
       "42                               cat__sigla_uf_PE    0.002106\n",
       "43                 cat__condicao_domicilio_cedido    0.002042\n",
       "44                             cat__geladeira_sim    0.001543\n",
       "45                               cat__sigla_uf_RO    0.001053\n",
       "46                               cat__sigla_uf_TO    0.001009\n",
       "47                               cat__sigla_uf_SE    0.000820\n",
       "48  cat__condicao_domicilio_cedido por empregador    0.000820\n",
       "49                     cat__coleta_lixo_enterrado    0.000797\n",
       "50                     cat__tipo_domicilio_comodo    0.000672\n",
       "51                               cat__sigla_uf_AP    0.000636\n",
       "52                         cat__coleta_lixo_outro    0.000627\n",
       "53                               cat__sigla_uf_AL    0.000574\n",
       "54                  cat__condicao_domicilio_outro    0.000433\n",
       "55                               cat__sigla_uf_PI    0.000415\n",
       "56                               cat__sigla_uf_RR    0.000177\n",
       "57                            cat__iluminacao_sim    0.000139\n",
       "58                           cat__coleta_lixo_rio    0.000049"
      ]
     },
     "execution_count": 68,
     "metadata": {},
     "output_type": "execute_result"
    }
   ],
   "source": [
    "# Feature importance\n",
    "\n",
    "fi = pd.DataFrame(list(zip(X_train_tr.columns, forest_reg.feature_importances_)), \n",
    "                  columns=['Feature', 'Importance']).sort_values('Importance', ascending=False).reset_index(drop=True)\n",
    "\n",
    "fi"
   ]
  },
  {
   "cell_type": "markdown",
   "id": "c5475a77",
   "metadata": {},
   "source": [
    "O nosso modelo não tem precisão para rendas muito altas."
   ]
  },
  {
   "cell_type": "markdown",
   "id": "01bad712",
   "metadata": {},
   "source": [
    "# Tratamento dos dados"
   ]
  },
  {
   "cell_type": "markdown",
   "id": "e7c99154",
   "metadata": {},
   "source": [
    "## Tratamento de outliers"
   ]
  },
  {
   "cell_type": "code",
   "execution_count": 69,
   "id": "a1fadfe9",
   "metadata": {
    "ExecuteTime": {
     "end_time": "2023-03-20T21:05:51.149568Z",
     "start_time": "2023-03-20T21:04:58.233003Z"
    }
   },
   "outputs": [
    {
     "name": "stdout",
     "output_type": "stream",
     "text": [
      "MAE:  638.5617301655066\n"
     ]
    }
   ],
   "source": [
    "# Método tradicional\n",
    "\n",
    "y_train_tr = y_train.copy()\n",
    "\n",
    "Q1 = np.percentile(y_train, 25)\n",
    "Q3 = np.percentile(y_train, 75)\n",
    "\n",
    "iqr = Q3 - Q1\n",
    "\n",
    "upper_bound = iqr + (1.5 * iqr)\n",
    "lower_bound = iqr - (1.5 * iqr)\n",
    "\n",
    "y_train_tr.loc[y_train > upper_bound] = upper_bound\n",
    "y_train_tr.loc[y_train < lower_bound] = lower_bound\n",
    "\n",
    "forest_reg = RandomForestRegressor(random_state=42,\n",
    "                                   n_jobs=-1)\n",
    "\n",
    "forest_reg.fit(X_train_tr, np.log(y_train_tr))\n",
    "y_pred = forest_reg.predict(X_val_tr)\n",
    "\n",
    "print('MAE: ', mean_absolute_error(y_val, np.exp(y_pred)))"
   ]
  },
  {
   "cell_type": "code",
   "execution_count": 70,
   "id": "2c064513",
   "metadata": {
    "ExecuteTime": {
     "end_time": "2023-03-20T21:05:51.545079Z",
     "start_time": "2023-03-20T21:05:51.155818Z"
    }
   },
   "outputs": [
    {
     "data": {
      "image/png": "[encoded data removed]",
      "text/plain": [
       "<Figure size 432x288 with 1 Axes>"
      ]
     },
     "metadata": {
      "needs_background": "light"
     },
     "output_type": "display_data"
    }
   ],
   "source": [
    "# Método alternativo\n",
    "\n",
    "y_train_tr = y_train.copy()\n",
    "\n",
    "upper_bound = np.percentile(y_train_tr, 99)\n",
    "lower_bound = np.percentile(y_train_tr, 1)\n",
    "\n",
    "y_train_tr.loc[y_train > upper_bound] = upper_bound\n",
    "y_train_tr.loc[y_train < lower_bound] = lower_bound\n",
    "\n",
    "plt.hist(np.log(y_train_tr), bins=50)\n",
    "plt.show()"
   ]
  },
  {
   "cell_type": "code",
   "execution_count": 71,
   "id": "4988bb92",
   "metadata": {
    "ExecuteTime": {
     "end_time": "2023-03-20T21:06:35.751462Z",
     "start_time": "2023-03-20T21:05:51.547408Z"
    }
   },
   "outputs": [
    {
     "name": "stdout",
     "output_type": "stream",
     "text": [
      "MAE:  583.2810681109321\n"
     ]
    }
   ],
   "source": [
    "forest_reg = RandomForestRegressor(random_state=42,\n",
    "                                   n_jobs=-1)\n",
    "\n",
    "forest_reg.fit(X_train_tr, np.log(y_train_tr))\n",
    "y_pred = forest_reg.predict(X_val_tr)\n",
    "\n",
    "print('MAE: ', mean_absolute_error(y_val, np.exp(y_pred)))"
   ]
  },
  {
   "cell_type": "markdown",
   "id": "33feb95a",
   "metadata": {},
   "source": [
    "## Feature engineering"
   ]
  },
  {
   "cell_type": "code",
   "execution_count": 72,
   "id": "210c8796",
   "metadata": {
    "ExecuteTime": {
     "end_time": "2023-03-20T21:06:35.772686Z",
     "start_time": "2023-03-20T21:06:35.758286Z"
    }
   },
   "outputs": [],
   "source": [
    "X_train_feature = X_train.copy()\n",
    "X_val_feature = X_val.copy()"
   ]
  },
  {
   "cell_type": "code",
   "execution_count": 73,
   "id": "8a3b8584",
   "metadata": {
    "ExecuteTime": {
     "end_time": "2023-03-20T21:06:35.786344Z",
     "start_time": "2023-03-20T21:06:35.774972Z"
    }
   },
   "outputs": [],
   "source": [
    "X_train_feature['moradores_por_comodo'] = X_train['moradores'] / X_train['comodos']\n",
    "X_train_feature['moradores_por_dormitorio'] = X_train['moradores'] / X_train['dormitorios']\n",
    "\n",
    "X_val_feature['moradores_por_comodo'] = X_val['moradores'] / X_val['comodos']\n",
    "X_val_feature['moradores_por_dormitorio'] = X_val['moradores'] / X_val['dormitorios']"
   ]
  },
  {
   "cell_type": "code",
   "execution_count": 75,
   "id": "74c6d09f",
   "metadata": {
    "ExecuteTime": {
     "end_time": "2023-03-20T21:11:55.622184Z",
     "start_time": "2023-03-20T21:11:55.072206Z"
    }
   },
   "outputs": [],
   "source": [
    "X_train_feature_tr = std_pipeline.fit_transform(X_train_feature)\n",
    "X_val_feature_tr = std_pipeline.transform(X_val_feature)"
   ]
  },
  {
   "cell_type": "code",
   "execution_count": 76,
   "id": "9dbf93f6",
   "metadata": {
    "ExecuteTime": {
     "end_time": "2023-03-20T21:12:47.789822Z",
     "start_time": "2023-03-20T21:11:57.252592Z"
    }
   },
   "outputs": [
    {
     "name": "stdout",
     "output_type": "stream",
     "text": [
      "MAE:  583.546819783836\n"
     ]
    }
   ],
   "source": [
    "forest_reg = RandomForestRegressor(random_state=42,\n",
    "                                   n_jobs=-1)\n",
    "\n",
    "forest_reg.fit(X_train_feature_tr, np.log(y_train_tr))\n",
    "y_pred = forest_reg.predict(X_val_feature_tr)\n",
    "\n",
    "print('MAE: ', mean_absolute_error(y_val, np.exp(y_pred)))"
   ]
  },
  {
   "cell_type": "markdown",
   "id": "23d96c81",
   "metadata": {},
   "source": [
    "# Refinando modelos"
   ]
  },
  {
   "cell_type": "code",
   "execution_count": 77,
   "id": "e2750477",
   "metadata": {
    "ExecuteTime": {
     "end_time": "2023-03-20T21:21:45.417398Z",
     "start_time": "2023-03-20T21:17:48.587938Z"
    }
   },
   "outputs": [
    {
     "name": "stdout",
     "output_type": "stream",
     "text": [
      "MAE:  581.434455560007\n"
     ]
    }
   ],
   "source": [
    "forest_reg = RandomForestRegressor(n_estimators=500,\n",
    "                                   random_state=42,\n",
    "                                   n_jobs=-1)\n",
    "\n",
    "forest_reg.fit(X_train_feature_tr, np.log(y_train_tr))\n",
    "y_pred = forest_reg.predict(X_val_feature_tr)\n",
    "\n",
    "print('MAE: ', mean_absolute_error(y_val, np.exp(y_pred)))"
   ]
  },
  {
   "cell_type": "code",
   "execution_count": 78,
   "id": "3df17560",
   "metadata": {
    "ExecuteTime": {
     "end_time": "2023-03-20T21:23:43.277740Z",
     "start_time": "2023-03-20T21:21:45.420911Z"
    }
   },
   "outputs": [
    {
     "name": "stdout",
     "output_type": "stream",
     "text": [
      "MAE:  559.7548951499939\n"
     ]
    }
   ],
   "source": [
    "xgb_reg = XGBRegressor(n_estimators=500,\n",
    "                       learning_rate=0.01,\n",
    "                       n_jobs=-1,\n",
    "                       random_state=42)\n",
    "\n",
    "xgb_reg.fit(X_train_feature_tr, np.log(y_train_tr))\n",
    "y_pred = xgb_reg.predict(X_val_feature_tr)\n",
    "\n",
    "print('MAE: ', mean_absolute_error(y_val, np.exp(y_pred)))"
   ]
  },
  {
   "cell_type": "code",
   "execution_count": 79,
   "id": "5100523d",
   "metadata": {
    "ExecuteTime": {
     "end_time": "2023-03-20T21:23:52.085620Z",
     "start_time": "2023-03-20T21:23:43.283509Z"
    }
   },
   "outputs": [
    {
     "name": "stdout",
     "output_type": "stream",
     "text": [
      "MAE:  553.6834165161245\n"
     ]
    }
   ],
   "source": [
    "lgbm_reg = LGBMRegressor(n_estimators=300,\n",
    "                         n_jobs=-1, \n",
    "                         random_state=42)\n",
    "\n",
    "lgbm_reg.fit(X_train_feature_tr, np.log(y_train_tr))\n",
    "y_pred = lgbm_reg.predict(X_val_feature_tr)\n",
    "\n",
    "print('MAE: ', mean_absolute_error(y_val, np.exp(y_pred)))"
   ]
  },
  {
   "cell_type": "markdown",
   "id": "2d1631c8",
   "metadata": {},
   "source": [
    "# Otimização de hiperparâmetros"
   ]
  },
  {
   "cell_type": "code",
   "execution_count": 80,
   "id": "31d2754c",
   "metadata": {
    "ExecuteTime": {
     "end_time": "2023-03-20T21:31:13.792138Z",
     "start_time": "2023-03-20T21:23:52.094462Z"
    },
    "scrolled": false
   },
   "outputs": [
    {
     "name": "stdout",
     "output_type": "stream",
     "text": [
      "Iteration No: 1 started. Evaluating function at random point.\n",
      "[0.07985775569916306, 16, 72, 0.6187255599871848, 0.2404167763981929]\n",
      "Iteration No: 1 ended. Evaluation done at random point.\n",
      "Time taken: 15.8503\n",
      "Function value obtained: 552.0557\n",
      "Current minimum: 552.0557\n",
      "Iteration No: 2 started. Evaluating function at random point.\n",
      "[0.016443457513284066, 76, 75, 0.8728673384861885, 0.6410035105688879]\n",
      "Iteration No: 2 ended. Evaluation done at random point.\n",
      "Time taken: 18.8619\n",
      "Function value obtained: 552.0523\n",
      "Current minimum: 552.0523\n",
      "Iteration No: 3 started. Evaluating function at random point.\n",
      "[0.07109918520180852, 23, 53, 0.9714143595538948, 0.8491983767203797]\n",
      "Iteration No: 3 ended. Evaluation done at random point.\n",
      "Time taken: 8.2346\n",
      "Function value obtained: 552.5563\n",
      "Current minimum: 552.0523\n",
      "Iteration No: 4 started. Evaluating function at random point.\n",
      "[0.022021571957149343, 65, 60, 0.22423428436076215, 0.373818018663584]\n",
      "Iteration No: 4 ended. Evaluation done at random point.\n",
      "Time taken: 15.1053\n",
      "Function value obtained: 551.9992\n",
      "Current minimum: 551.9992\n",
      "Iteration No: 5 started. Evaluating function at random point.\n",
      "[0.052950886731591554, 109, 89, 0.3266676831881398, 0.6506676052501416]\n",
      "Iteration No: 5 ended. Evaluation done at random point.\n",
      "Time taken: 33.1092\n",
      "Function value obtained: 555.8293\n",
      "Current minimum: 551.9992\n",
      "Iteration No: 6 started. Evaluating function at random point.\n",
      "[0.014809892204552144, 93, 60, 0.39804375112900714, 0.5104629857953324]\n",
      "Iteration No: 6 ended. Evaluation done at random point.\n",
      "Time taken: 17.4009\n",
      "Function value obtained: 551.7377\n",
      "Current minimum: 551.7377\n",
      "Iteration No: 7 started. Evaluating function at random point.\n",
      "[0.07873242017790837, 52, 55, 0.9840693415164489, 0.520086603923182]\n",
      "Iteration No: 7 ended. Evaluation done at random point.\n",
      "Time taken: 10.3308\n",
      "Function value obtained: 554.7148\n",
      "Current minimum: 551.7377\n",
      "Iteration No: 8 started. Evaluating function at random point.\n",
      "[0.08613410026689575, 8, 21, 0.47797428937106584, 0.11193846504387989]\n",
      "Iteration No: 8 ended. Evaluation done at random point.\n",
      "Time taken: 9.1675\n",
      "Function value obtained: 552.6608\n",
      "Current minimum: 551.7377\n",
      "Iteration No: 9 started. Evaluating function at random point.\n",
      "[0.09427797381280044, 15, 9, 0.06516793960920349, 0.30780444305993415]\n",
      "Iteration No: 9 ended. Evaluation done at random point.\n",
      "Time taken: 6.8219\n",
      "Function value obtained: 555.0601\n",
      "Current minimum: 551.7377\n",
      "Iteration No: 10 started. Evaluating function at random point.\n",
      "[0.024861521136575165, 61, 71, 0.6294968248934899, 0.849875420562548]\n",
      "Iteration No: 10 ended. Evaluation done at random point.\n",
      "Time taken: 15.4433\n",
      "Function value obtained: 551.6772\n",
      "Current minimum: 551.6772\n",
      "Iteration No: 11 started. Evaluating function at random point.\n",
      "[0.01816310069726944, 82, 36, 0.22312428339865925, 0.7798252692858874]\n",
      "Iteration No: 11 ended. Evaluation done at random point.\n",
      "Time taken: 17.4728\n",
      "Function value obtained: 552.5713\n",
      "Current minimum: 551.6772\n",
      "Iteration No: 12 started. Evaluating function at random point.\n",
      "[0.043090431574633235, 55, 4, 0.22561173274925073, 0.9726261649881028]\n",
      "Iteration No: 12 ended. Evaluation done at random point.\n",
      "Time taken: 13.2385\n",
      "Function value obtained: 553.1682\n",
      "Current minimum: 551.6772\n",
      "Iteration No: 13 started. Evaluating function at random point.\n",
      "[0.07773814951275036, 35, 74, 0.9000859829062665, 0.6381099809299767]\n",
      "Iteration No: 13 ended. Evaluation done at random point.\n",
      "Time taken: 11.3836\n",
      "Function value obtained: 553.3089\n",
      "Current minimum: 551.6772\n",
      "Iteration No: 14 started. Evaluating function at random point.\n",
      "[0.09226554926728858, 73, 78, 0.23618371929818793, 0.14070456001948428]\n",
      "Iteration No: 14 ended. Evaluation done at random point.\n",
      "Time taken: 14.4385\n",
      "Function value obtained: 553.7998\n",
      "Current minimum: 551.6772\n",
      "Iteration No: 15 started. Evaluating function at random point.\n",
      "[0.03320770274556318, 81, 82, 0.5627075257696259, 0.6280760490974635]\n",
      "Iteration No: 15 ended. Evaluation done at random point.\n",
      "Time taken: 17.4054\n",
      "Function value obtained: 552.8047\n",
      "Current minimum: 551.6772\n",
      "Iteration No: 16 started. Evaluating function at random point.\n",
      "[0.09656027541914967, 61, 41, 0.3314598304188783, 0.24874024515670226]\n",
      "Iteration No: 16 ended. Evaluation done at random point.\n",
      "Time taken: 15.1335\n",
      "Function value obtained: 558.5645\n",
      "Current minimum: 551.6772\n",
      "Iteration No: 17 started. Evaluating function at random point.\n",
      "[0.0025480042673781994, 10, 88, 0.42513744226679123, 0.36413935724623436]\n",
      "Iteration No: 17 ended. Evaluation done at random point.\n",
      "Time taken: 12.2052\n",
      "Function value obtained: 648.2631\n",
      "Current minimum: 551.6772\n",
      "Iteration No: 18 started. Evaluating function at random point.\n",
      "[0.0023939024487933617, 116, 81, 0.7257748551112175, 0.8111579864780851]\n",
      "Iteration No: 18 ended. Evaluation done at random point.\n",
      "Time taken: 21.5786\n",
      "Function value obtained: 629.3181\n",
      "Current minimum: 551.6772\n",
      "Iteration No: 19 started. Evaluating function at random point.\n",
      "[0.06099003750332014, 107, 41, 0.9192116917665918, 0.8650347200108195]\n",
      "Iteration No: 19 ended. Evaluation done at random point.\n",
      "Time taken: 17.7439\n",
      "Function value obtained: 555.8678\n",
      "Current minimum: 551.6772\n",
      "Iteration No: 20 started. Evaluating function at random point.\n",
      "[0.045495616739682145, 34, 48, 0.40227733958835304, 0.7019571273972466]\n",
      "Iteration No: 20 ended. Evaluation done at random point.\n",
      "Time taken: 13.0265\n",
      "Function value obtained: 551.7758\n",
      "Current minimum: 551.6772\n",
      "Iteration No: 21 started. Evaluating function at random point.\n",
      "[0.06692631330513218, 45, 86, 0.8928521054475104, 0.5249934326457545]\n",
      "Iteration No: 21 ended. Evaluation done at random point.\n",
      "Time taken: 11.6503\n",
      "Function value obtained: 552.1813\n",
      "Current minimum: 551.6772\n",
      "Iteration No: 22 started. Evaluating function at random point.\n",
      "[0.012839830347891872, 79, 3, 0.7727457961860527, 0.6051494778125467]\n",
      "Iteration No: 22 ended. Evaluation done at random point.\n",
      "Time taken: 13.6967\n",
      "Function value obtained: 552.4681\n",
      "Current minimum: 551.6772\n",
      "Iteration No: 23 started. Evaluating function at random point.\n",
      "[0.07732575081550155, 104, 27, 0.5465961879128944, 0.4847869165226947]\n",
      "Iteration No: 23 ended. Evaluation done at random point.\n",
      "Time taken: 16.1129\n",
      "Function value obtained: 556.9184\n",
      "Current minimum: 551.6772\n",
      "Iteration No: 24 started. Evaluating function at random point.\n",
      "[0.003516493547665424, 78, 51, 0.07985772640239755, 0.6727693701374025]\n",
      "Iteration No: 24 ended. Evaluation done at random point.\n",
      "Time taken: 12.4607\n",
      "Function value obtained: 595.7807\n",
      "Current minimum: 551.6772\n",
      "Iteration No: 25 started. Evaluating function at random point.\n",
      "[0.03212124212655634, 97, 4, 0.9121881502297885, 0.3243630062339875]\n",
      "Iteration No: 25 ended. Evaluation done at random point.\n",
      "Time taken: 14.1536\n",
      "Function value obtained: 552.3196\n",
      "Current minimum: 551.6772\n",
      "Iteration No: 26 started. Evaluating function at random point.\n",
      "[0.04162790938052735, 44, 29, 0.2673582572170414, 0.1692819188459137]\n",
      "Iteration No: 26 ended. Evaluation done at random point.\n",
      "Time taken: 14.5215\n",
      "Function value obtained: 555.3044\n",
      "Current minimum: 551.6772\n",
      "Iteration No: 27 started. Evaluating function at random point.\n",
      "[0.02968539383846304, 87, 28, 0.9332127697254445, 0.8273083416079754]\n",
      "Iteration No: 27 ended. Evaluation done at random point.\n",
      "Time taken: 11.9455\n",
      "Function value obtained: 553.0827\n",
      "Current minimum: 551.6772\n",
      "Iteration No: 28 started. Evaluating function at random point.\n",
      "[0.06370697189453194, 7, 28, 0.8134884730541588, 0.2679130529974323]\n",
      "Iteration No: 28 ended. Evaluation done at random point.\n",
      "Time taken: 10.0199\n",
      "Function value obtained: 553.5331\n",
      "Current minimum: 551.6772\n",
      "Iteration No: 29 started. Evaluating function at random point.\n",
      "[0.08936334085050782, 76, 92, 0.3884829461731262, 0.9161455973911787]\n",
      "Iteration No: 29 ended. Evaluation done at random point.\n",
      "Time taken: 21.8770\n",
      "Function value obtained: 558.3069\n",
      "Current minimum: 551.6772\n",
      "Iteration No: 30 started. Evaluating function at random point.\n",
      "[0.027941092689078902, 28, 62, 0.05049435814555003, 0.4173119707007522]\n",
      "Iteration No: 30 ended. Evaluation done at random point.\n",
      "Time taken: 11.2734\n",
      "Function value obtained: 555.4172\n",
      "Current minimum: 551.6772\n"
     ]
    }
   ],
   "source": [
    "# Random search\n",
    "\n",
    "def treinar_modelo(params):\n",
    "     \n",
    "    learning_rate = params[0]\n",
    "    num_leaves = params[1]\n",
    "    min_child_samples = params[2]\n",
    "    subsample = params[3]\n",
    "    colsample_bytree = params[4]\n",
    "    \n",
    "    print(params)\n",
    "    \n",
    "    lgbm_reg = LGBMRegressor(n_estimators=500,\n",
    "                             learning_rate=learning_rate,\n",
    "                             num_leaves = num_leaves,\n",
    "                             min_child_samples = min_child_samples,\n",
    "                             subsample = subsample,\n",
    "                             colsample_bytree = colsample_bytree,\n",
    "                             subsample_freq=1,\n",
    "                             n_jobs=-1, \n",
    "                             random_state=42)\n",
    "    \n",
    "    lgbm_reg.fit(X_train_feature_tr, np.log(y_train_tr))\n",
    "    y_pred = lgbm_reg.predict(X_val_feature_tr)\n",
    "    \n",
    "    return mean_absolute_error(y_val, np.exp(y_pred))\n",
    "\n",
    "space = [(1e-3, 1e-1), # learning_rate\n",
    "         (2, 128), # num_leaves\n",
    "         (1, 100), # min_child_samples\n",
    "         (0.05, 1.0), # subsample\n",
    "         (0.1, 1.0) # colsample_bytree\n",
    "        ]\n",
    "\n",
    "resultado = dummy_minimize(treinar_modelo, space, random_state=42, verbose=1, n_calls=30)"
   ]
  },
  {
   "cell_type": "code",
   "execution_count": 81,
   "id": "fb03eed3",
   "metadata": {
    "ExecuteTime": {
     "end_time": "2023-03-20T21:31:13.804384Z",
     "start_time": "2023-03-20T21:31:13.798261Z"
    }
   },
   "outputs": [],
   "source": [
    "best_result = resultado.x"
   ]
  },
  {
   "cell_type": "code",
   "execution_count": 84,
   "id": "49380845",
   "metadata": {
    "ExecuteTime": {
     "end_time": "2023-03-20T21:32:29.649751Z",
     "start_time": "2023-03-20T21:32:29.645041Z"
    }
   },
   "outputs": [
    {
     "data": {
      "text/plain": [
       "[0.024861521136575165, 61, 71, 0.6294968248934899, 0.849875420562548]"
      ]
     },
     "execution_count": 84,
     "metadata": {},
     "output_type": "execute_result"
    }
   ],
   "source": [
    "best_result"
   ]
  },
  {
   "cell_type": "code",
   "execution_count": 85,
   "id": "5ef8a1e1",
   "metadata": {
    "ExecuteTime": {
     "end_time": "2023-03-20T21:39:45.805406Z",
     "start_time": "2023-03-20T21:35:49.681563Z"
    },
    "scrolled": false
   },
   "outputs": [
    {
     "name": "stdout",
     "output_type": "stream",
     "text": [
      "Iteration No: 1 started. Evaluating function at random point.\n",
      "[0.07985775569916308, 25, 78, 0.6170076500491628, 0.5012494775682321]\n",
      "Iteration No: 1 ended. Evaluation done at random point.\n",
      "Time taken: 3.2817\n",
      "Function value obtained: 552.8177\n",
      "Current minimum: 552.8177\n",
      "Iteration No: 2 started. Evaluating function at random point.\n",
      "[0.01089751666598229, 60, 34, 0.18572347702584374, 0.6857996256539677]\n",
      "Iteration No: 2 ended. Evaluation done at random point.\n",
      "Time taken: 5.4198\n",
      "Function value obtained: 553.4815\n",
      "Current minimum: 552.8177\n",
      "Iteration No: 3 started. Evaluating function at random point.\n",
      "[0.006584746323682927, 93, 94, 0.05073982754896361, 0.992990403362096]\n",
      "Iteration No: 3 ended. Evaluation done at random point.\n",
      "Time taken: 2.7341\n",
      "Function value obtained: 566.6210\n",
      "Current minimum: 552.8177\n",
      "Iteration No: 4 started. Evaluating function at random point.\n",
      "[0.06213066945314395, 79, 2, 0.07190930378934497, 0.5722971942325503]\n",
      "Iteration No: 4 ended. Evaluation done at random point.\n",
      "Time taken: 3.7381\n",
      "Function value obtained: 572.6438\n",
      "Current minimum: 552.8177\n",
      "Iteration No: 5 started. Evaluating function at random point.\n",
      "[0.040586236199810305, 8, 97, 0.27113277340878905, 0.18154579107953872]\n",
      "Iteration No: 5 ended. Evaluation done at random point.\n",
      "Time taken: 3.1209\n",
      "Function value obtained: 553.9070\n",
      "Current minimum: 552.8177\n",
      "Iteration No: 6 started. Evaluating function at random point.\n",
      "[0.062220214923975656, 50, 98, 0.493424748585581, 0.8739463660626887]\n",
      "Iteration No: 6 ended. Evaluation done at random point.\n",
      "Time taken: 7.2824\n",
      "Function value obtained: 553.8898\n",
      "Current minimum: 552.8177\n",
      "Iteration No: 7 started. Evaluating function at random point.\n",
      "[0.0683504463201902, 59, 2, 0.9450916679006104, 0.6069593960609855]\n",
      "Iteration No: 7 ended. Evaluation done at random point.\n",
      "Time taken: 4.0763\n",
      "Function value obtained: 552.6361\n",
      "Current minimum: 552.6361\n",
      "Iteration No: 8 started. Evaluating function at random point.\n",
      "[0.039156233751451705, 4, 24, 0.2789741927247112, 0.7149371669429125]\n",
      "Iteration No: 8 ended. Evaluation done at random point.\n",
      "Time taken: 7.1953\n",
      "Function value obtained: 557.0659\n",
      "Current minimum: 552.6361\n",
      "Iteration No: 9 started. Evaluating function at random point.\n",
      "[0.06138966912047948, 107, 18, 0.4215075771945788, 0.2640124790092561]\n",
      "Iteration No: 9 ended. Evaluation done at random point.\n",
      "Time taken: 16.3222\n",
      "Function value obtained: 554.4519\n",
      "Current minimum: 552.6361\n",
      "Iteration No: 10 started. Evaluating function at random point.\n",
      "[0.07578077962144762, 56, 22, 0.5893153114289921, 0.12818196321000275]\n",
      "Iteration No: 10 ended. Evaluation done at random point.\n",
      "Time taken: 13.4578\n",
      "Function value obtained: 555.0009\n",
      "Current minimum: 552.6361\n",
      "Iteration No: 11 started. Searching for the next optimal point.\n",
      "[0.1, 57, 32, 0.952398190147332, 1.0]\n",
      "Iteration No: 11 ended. Search finished for the next optimal point.\n",
      "Time taken: 8.7133\n",
      "Function value obtained: 556.3525\n",
      "Current minimum: 552.6361\n",
      "Iteration No: 12 started. Searching for the next optimal point.\n",
      "[0.056748520724805636, 17, 95, 0.44246743048120557, 0.13363364390148397]\n",
      "Iteration No: 12 ended. Search finished for the next optimal point.\n",
      "Time taken: 10.0562\n",
      "Function value obtained: 554.2266\n",
      "Current minimum: 552.6361\n",
      "Iteration No: 13 started. Searching for the next optimal point.\n",
      "[0.08497608621290821, 59, 1, 1.0, 0.5860446612961069]\n",
      "Iteration No: 13 ended. Search finished for the next optimal point.\n",
      "Time taken: 8.7615\n",
      "Function value obtained: 555.0517\n",
      "Current minimum: 552.6361\n",
      "Iteration No: 14 started. Searching for the next optimal point.\n",
      "[0.08440175484836446, 122, 51, 0.15829675962565337, 0.14109250288855554]\n",
      "Iteration No: 14 ended. Search finished for the next optimal point.\n",
      "Time taken: 12.0022\n",
      "Function value obtained: 553.8633\n",
      "Current minimum: 552.6361\n",
      "Iteration No: 15 started. Searching for the next optimal point.\n",
      "[0.038217691475179456, 31, 100, 0.5361182228972023, 0.41704320127104755]\n",
      "Iteration No: 15 ended. Search finished for the next optimal point.\n",
      "Time taken: 11.3000\n",
      "Function value obtained: 551.5155\n",
      "Current minimum: 551.5155\n",
      "Iteration No: 16 started. Searching for the next optimal point.\n",
      "[0.001, 34, 83, 0.707653805014272, 0.29438802006159454]\n",
      "Iteration No: 16 ended. Search finished for the next optimal point.\n",
      "Time taken: 12.6081\n",
      "Function value obtained: 734.1490\n",
      "Current minimum: 551.5155\n",
      "Iteration No: 17 started. Searching for the next optimal point.\n",
      "[0.1, 128, 100, 0.3968755055986376, 0.1]\n",
      "Iteration No: 17 ended. Search finished for the next optimal point.\n",
      "Time taken: 14.2437\n",
      "Function value obtained: 556.0402\n",
      "Current minimum: 551.5155\n",
      "Iteration No: 18 started. Searching for the next optimal point.\n",
      "[0.1, 128, 100, 0.05, 0.1]\n",
      "Iteration No: 18 ended. Search finished for the next optimal point.\n",
      "Time taken: 6.7584\n",
      "Function value obtained: 558.2486\n",
      "Current minimum: 551.5155\n",
      "Iteration No: 19 started. Searching for the next optimal point.\n",
      "[0.022105229356006093, 128, 100, 0.05, 0.1]\n",
      "Iteration No: 19 ended. Search finished for the next optimal point.\n",
      "Time taken: 6.5271\n",
      "Function value obtained: 568.6565\n",
      "Current minimum: 551.5155\n",
      "Iteration No: 20 started. Searching for the next optimal point.\n",
      "[0.04763638996961687, 128, 1, 1.0, 0.1]\n",
      "Iteration No: 20 ended. Search finished for the next optimal point.\n",
      "Time taken: 12.8974\n",
      "Function value obtained: 557.0765\n",
      "Current minimum: 551.5155\n",
      "Iteration No: 21 started. Searching for the next optimal point.\n",
      "[0.1, 16, 72, 0.502226592352936, 0.5464292112398007]\n",
      "Iteration No: 21 ended. Search finished for the next optimal point.\n",
      "Time taken: 9.0020\n",
      "Function value obtained: 551.9812\n",
      "Current minimum: 551.5155\n",
      "Iteration No: 22 started. Searching for the next optimal point.\n",
      "[0.1, 2, 43, 1.0, 0.37000558372461667]\n",
      "Iteration No: 22 ended. Search finished for the next optimal point.\n",
      "Time taken: 7.1249\n",
      "Function value obtained: 560.4844\n",
      "Current minimum: 551.5155\n",
      "Iteration No: 23 started. Searching for the next optimal point.\n",
      "[0.028200601497363142, 70, 100, 1.0, 0.1]\n",
      "Iteration No: 23 ended. Search finished for the next optimal point.\n",
      "Time taken: 10.8783\n",
      "Function value obtained: 561.1518\n",
      "Current minimum: 551.5155\n",
      "Iteration No: 24 started. Searching for the next optimal point.\n",
      "[0.09190362709980868, 2, 1, 0.5632722436654618, 1.0]\n",
      "Iteration No: 24 ended. Search finished for the next optimal point.\n",
      "Time taken: 5.0547\n",
      "Function value obtained: 559.7822\n",
      "Current minimum: 551.5155\n",
      "Iteration No: 25 started. Searching for the next optimal point.\n",
      "[0.01385266393151072, 23, 80, 0.05, 1.0]\n",
      "Iteration No: 25 ended. Search finished for the next optimal point.\n",
      "Time taken: 7.6397\n",
      "Function value obtained: 557.5230\n",
      "Current minimum: 551.5155\n",
      "Iteration No: 26 started. Searching for the next optimal point.\n",
      "[0.046878429738422725, 128, 100, 0.7535900618926429, 0.1]\n",
      "Iteration No: 26 ended. Search finished for the next optimal point.\n",
      "Time taken: 8.4349\n",
      "Function value obtained: 556.7595\n",
      "Current minimum: 551.5155\n",
      "Iteration No: 27 started. Searching for the next optimal point.\n",
      "[0.023411674830736015, 16, 100, 0.3654193162110486, 0.1]\n",
      "Iteration No: 27 ended. Search finished for the next optimal point.\n",
      "Time taken: 6.7610\n",
      "Function value obtained: 564.0036\n",
      "Current minimum: 551.5155\n",
      "Iteration No: 28 started. Searching for the next optimal point.\n",
      "[0.0609540927176901, 108, 44, 0.6408992652146589, 0.1]\n",
      "Iteration No: 28 ended. Search finished for the next optimal point.\n",
      "Time taken: 5.3699\n",
      "Function value obtained: 556.1513\n",
      "Current minimum: 551.5155\n",
      "Iteration No: 29 started. Searching for the next optimal point.\n",
      "[0.1, 2, 68, 0.570562308917651, 1.0]\n",
      "Iteration No: 29 ended. Search finished for the next optimal point.\n",
      "Time taken: 2.3819\n",
      "Function value obtained: 559.0431\n",
      "Current minimum: 551.5155\n",
      "Iteration No: 30 started. Searching for the next optimal point.\n",
      "[0.03859431091493162, 2, 100, 1.0, 0.1]\n",
      "Iteration No: 30 ended. Search finished for the next optimal point.\n",
      "Time taken: 2.9330\n",
      "Function value obtained: 575.8454\n",
      "Current minimum: 551.5155\n"
     ]
    }
   ],
   "source": [
    "# Baysean optimization\n",
    "\n",
    "np.int = int # GAMBIARRA\n",
    "\n",
    "resultado = gp_minimize(treinar_modelo, space, random_state=42, verbose=1, n_calls=30, n_random_starts=10)"
   ]
  },
  {
   "cell_type": "code",
   "execution_count": 86,
   "id": "3530f974",
   "metadata": {
    "ExecuteTime": {
     "end_time": "2023-03-20T21:40:25.617053Z",
     "start_time": "2023-03-20T21:40:25.612317Z"
    }
   },
   "outputs": [
    {
     "data": {
      "text/plain": [
       "[0.038217691475179456, 31, 100, 0.5361182228972023, 0.41704320127104755]"
      ]
     },
     "execution_count": 86,
     "metadata": {},
     "output_type": "execute_result"
    }
   ],
   "source": [
    "resultado.x"
   ]
  },
  {
   "cell_type": "markdown",
   "id": "092955f1",
   "metadata": {},
   "source": [
    "# Resultados finais"
   ]
  },
  {
   "cell_type": "code",
   "execution_count": 87,
   "id": "79fef770",
   "metadata": {
    "ExecuteTime": {
     "end_time": "2023-03-20T21:41:01.723769Z",
     "start_time": "2023-03-20T21:40:58.327460Z"
    }
   },
   "outputs": [],
   "source": [
    "lgbm_reg = LGBMRegressor(n_estimators=500,\n",
    "                         learning_rate=0.08,\n",
    "                         num_leaves=25,\n",
    "                         min_child_samples = 80,\n",
    "                         subsample = 0.6,\n",
    "                         colsample_bytree=0.5,\n",
    "                         subsample_freq=1,\n",
    "                         n_jobs=-1, \n",
    "                         random_state=42)\n",
    "\n",
    "lgbm_reg.fit(X_train_feature_tr, np.log(y_train_tr))\n",
    "\n",
    "y_pred = lgbm_reg.predict(X_val_feature_tr)"
   ]
  },
  {
   "cell_type": "code",
   "execution_count": 88,
   "id": "c6249b8d",
   "metadata": {
    "ExecuteTime": {
     "end_time": "2023-03-20T21:41:02.839772Z",
     "start_time": "2023-03-20T21:41:02.802768Z"
    },
    "scrolled": true
   },
   "outputs": [
    {
     "data": {
      "text/html": [
       "<div>\n",
       "<style scoped>\n",
       "    .dataframe tbody tr th:only-of-type {\n",
       "        vertical-align: middle;\n",
       "    }\n",
       "\n",
       "    .dataframe tbody tr th {\n",
       "        vertical-align: top;\n",
       "    }\n",
       "\n",
       "    .dataframe thead th {\n",
       "        text-align: right;\n",
       "    }\n",
       "</style>\n",
       "<table border=\"1\" class=\"dataframe\">\n",
       "  <thead>\n",
       "    <tr style=\"text-align: right;\">\n",
       "      <th></th>\n",
       "      <th>Model</th>\n",
       "      <th>MAE</th>\n",
       "      <th>MAPE</th>\n",
       "      <th>RMSE</th>\n",
       "      <th>R2</th>\n",
       "    </tr>\n",
       "  </thead>\n",
       "  <tbody>\n",
       "    <tr>\n",
       "      <th>0</th>\n",
       "      <td>LGBM (Treino)</td>\n",
       "      <td>552.696735</td>\n",
       "      <td>0.656123</td>\n",
       "      <td>2022.825477</td>\n",
       "      <td>0.27685</td>\n",
       "    </tr>\n",
       "  </tbody>\n",
       "</table>\n",
       "</div>"
      ],
      "text/plain": [
       "           Model         MAE      MAPE         RMSE       R2\n",
       "0  LGBM (Treino)  552.696735  0.656123  2022.825477  0.27685"
      ]
     },
     "execution_count": 88,
     "metadata": {},
     "output_type": "execute_result"
    }
   ],
   "source": [
    "# Métricas de treino\n",
    "\n",
    "mae = mean_absolute_error(y_val, np.exp(y_pred))\n",
    "mape = mean_absolute_percentage_error(y_val, np.exp(y_pred))\n",
    "rmse = np.sqrt(mean_squared_error(y_val, np.exp(y_pred)))\n",
    "r2 = r2_score(y_val, np.exp(y_pred))\n",
    "\n",
    "pd.DataFrame([{'Model':'LGBM (Treino)','MAE': mae, 'MAPE':mape, 'RMSE':rmse, 'R2':r2}])"
   ]
  },
  {
   "cell_type": "code",
   "execution_count": 89,
   "id": "66bdab80",
   "metadata": {
    "ExecuteTime": {
     "end_time": "2023-03-20T21:41:04.063258Z",
     "start_time": "2023-03-20T21:41:04.051460Z"
    }
   },
   "outputs": [],
   "source": [
    "# Tratamento do teste\n",
    "\n",
    "X_test_feature = X_test.copy()"
   ]
  },
  {
   "cell_type": "code",
   "execution_count": 91,
   "id": "a4dfc2c5",
   "metadata": {
    "ExecuteTime": {
     "end_time": "2023-03-20T21:41:23.646963Z",
     "start_time": "2023-03-20T21:41:23.377168Z"
    }
   },
   "outputs": [
    {
     "data": {
      "text/html": [
       "<div>\n",
       "<style scoped>\n",
       "    .dataframe tbody tr th:only-of-type {\n",
       "        vertical-align: middle;\n",
       "    }\n",
       "\n",
       "    .dataframe tbody tr th {\n",
       "        vertical-align: top;\n",
       "    }\n",
       "\n",
       "    .dataframe thead th {\n",
       "        text-align: right;\n",
       "    }\n",
       "</style>\n",
       "<table border=\"1\" class=\"dataframe\">\n",
       "  <thead>\n",
       "    <tr style=\"text-align: right;\">\n",
       "      <th></th>\n",
       "      <th>Model</th>\n",
       "      <th>MAE</th>\n",
       "      <th>MAPE</th>\n",
       "      <th>RMSE</th>\n",
       "      <th>R2</th>\n",
       "    </tr>\n",
       "  </thead>\n",
       "  <tbody>\n",
       "    <tr>\n",
       "      <th>0</th>\n",
       "      <td>LGBM (Teste)</td>\n",
       "      <td>504.379133</td>\n",
       "      <td>0.645693</td>\n",
       "      <td>1283.783066</td>\n",
       "      <td>0.462776</td>\n",
       "    </tr>\n",
       "  </tbody>\n",
       "</table>\n",
       "</div>"
      ],
      "text/plain": [
       "          Model         MAE      MAPE         RMSE        R2\n",
       "0  LGBM (Teste)  504.379133  0.645693  1283.783066  0.462776"
      ]
     },
     "execution_count": 91,
     "metadata": {},
     "output_type": "execute_result"
    }
   ],
   "source": [
    "# Métricas de teste\n",
    "\n",
    "X_test_feature['moradores_por_comodo'] = X_test['moradores'] / X_test['comodos']\n",
    "X_test_feature['moradores_por_dormitorio'] = X_test['moradores'] / X_test['dormitorios']\n",
    "\n",
    "\n",
    "X_test_feature_tr = std_pipeline.transform(X_test_feature)\n",
    "\n",
    "y_pred = lgbm_reg.predict(X_test_feature_tr)\n",
    "\n",
    "mae = mean_absolute_error(y_test, np.exp(y_pred))\n",
    "mape = mean_absolute_percentage_error(y_test, np.exp(y_pred))\n",
    "rmse = np.sqrt(mean_squared_error(y_test, np.exp(y_pred)))\n",
    "r2 = r2_score(y_test, np.exp(y_pred))\n",
    "\n",
    "pd.DataFrame([{'Model':'LGBM (Teste)','MAE': mae, 'MAPE':mape, 'RMSE':rmse, 'R2':r2}])"
   ]
  },
  {
   "cell_type": "code",
   "execution_count": 93,
   "id": "9d12cb8f",
   "metadata": {
    "ExecuteTime": {
     "end_time": "2023-03-20T21:41:40.898620Z",
     "start_time": "2023-03-20T21:41:40.885202Z"
    }
   },
   "outputs": [
    {
     "data": {
      "text/plain": [
       "(481.236800556961, 527.5214658766733)"
      ]
     },
     "execution_count": 93,
     "metadata": {},
     "output_type": "execute_result"
    }
   ],
   "source": [
    "# Intevalo de confiança\n",
    "\n",
    "from scipy import stats\n",
    "\n",
    "confidence = 0.95\n",
    "absolute_errors = np.abs(np.exp(y_pred) - y_test)\n",
    "stats.t.interval(confidence, len(absolute_errors)-1,\n",
    "                loc=absolute_errors.mean(),\n",
    "                scale=stats.sem(absolute_errors))"
   ]
  }
 ],
 "metadata": {
  "kernelspec": {
   "display_name": "Python 3",
   "language": "python",
   "name": "python3"
  },
  "language_info": {
   "codemirror_mode": {
    "name": "ipython",
    "version": 3
   },
   "file_extension": ".py",
   "mimetype": "text/x-python",
   "name": "python",
   "nbconvert_exporter": "python",
   "pygments_lexer": "ipython3",
   "version": "3.8.10"
  },
  "varInspector": {
   "cols": {
    "lenName": 16,
    "lenType": 16,
    "lenVar": 40
   },
   "kernels_config": {
    "python": {
     "delete_cmd_postfix": "",
     "delete_cmd_prefix": "del ",
     "library": "var_list.py",
     "varRefreshCmd": "print(var_dic_list())"
    },
    "r": {
     "delete_cmd_postfix": ") ",
     "delete_cmd_prefix": "rm(",
     "library": "var_list.r",
     "varRefreshCmd": "cat(var_dic_list()) "
    }
   },
   "types_to_exclude": [
    "module",
    "function",
    "builtin_function_or_method",
    "instance",
    "_Feature"
   ],
   "window_display": false
  }
 },
 "nbformat": 4,
 "nbformat_minor": 5
}
