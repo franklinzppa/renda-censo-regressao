{
 "cells": [
  {
   "cell_type": "markdown",
   "id": "7b48ac7f",
   "metadata": {},
   "source": [
    "# Renda-Classificação"
   ]
  },
  {
   "cell_type": "markdown",
   "id": "bb35b409",
   "metadata": {},
   "source": [
    "## Introdução"
   ]
  },
  {
   "cell_type": "markdown",
   "id": "8e8205d2",
   "metadata": {},
   "source": [
    "O objetivo desse projeto é prever a renda de um grupo familiar utilizando informações relacionadas a sua residência. Trata-se portanto de um projeto de **regressão supervisionado offline**. \n",
    "\n",
    "Uma aplicação possível desse projeto é como parte de um sistema de verificação de autodeclaração de renda. Esse sistema compararia a renda autodeclarada com a resposta do modelo de machine learning a fim de verificar a integridade desse dado.\n",
    "\n",
    "Utilizaremos a métrica **MAE** (mean absolute error) para avaliar o nosso modelo. A justificativa para a escolha dessa métrica é que não desejamos penalizar exarcebadamente erros grandes. Preferimos que o nosso modelo seja mais preciso com rendas mais baixas e intermediárias."
   ]
  },
  {
   "cell_type": "markdown",
   "id": "08d752f4",
   "metadata": {},
   "source": [
    "## Extração dos dados"
   ]
  },
  {
   "cell_type": "markdown",
   "id": "1f404e5f",
   "metadata": {},
   "source": [
    "Os dados utilizados são do **Censo 2000** realizado pelo IBGE e mantido na [Base dos Dados](https://basedosdados.org/dataset/br-ibge-censo-demografico?bdm_table=microdados_domicilio_2000). Informações sobre a metodologia do Censo e sobre a base de dados estão na pasta `materiais`. A extração será realizada utilizando SQL utilizando a API do **BigQuery**."
   ]
  },
  {
   "cell_type": "code",
   "execution_count": 140,
   "id": "d0577e32",
   "metadata": {
    "ExecuteTime": {
     "end_time": "2023-03-14T15:42:38.876124Z",
     "start_time": "2023-03-14T15:42:03.865389Z"
    }
   },
   "outputs": [
    {
     "data": {
      "text/html": [
       "<div>\n",
       "<style scoped>\n",
       "    .dataframe tbody tr th:only-of-type {\n",
       "        vertical-align: middle;\n",
       "    }\n",
       "\n",
       "    .dataframe tbody tr th {\n",
       "        vertical-align: top;\n",
       "    }\n",
       "\n",
       "    .dataframe thead th {\n",
       "        text-align: right;\n",
       "    }\n",
       "</style>\n",
       "<table border=\"1\" class=\"dataframe\">\n",
       "  <thead>\n",
       "    <tr style=\"text-align: right;\">\n",
       "      <th></th>\n",
       "      <th>sigla_uf</th>\n",
       "      <th>situacao_domicilio</th>\n",
       "      <th>tipo_domicilio</th>\n",
       "      <th>condicao_domicilio</th>\n",
       "      <th>comodos</th>\n",
       "      <th>dormitorios</th>\n",
       "      <th>banheiros</th>\n",
       "      <th>agua</th>\n",
       "      <th>iluminacao</th>\n",
       "      <th>radio</th>\n",
       "      <th>...</th>\n",
       "      <th>telefone</th>\n",
       "      <th>computador</th>\n",
       "      <th>televisores</th>\n",
       "      <th>automoveis</th>\n",
       "      <th>ar_condicionado</th>\n",
       "      <th>coleta_lixo</th>\n",
       "      <th>moradores</th>\n",
       "      <th>homens</th>\n",
       "      <th>mulheres</th>\n",
       "      <th>rendimento</th>\n",
       "    </tr>\n",
       "  </thead>\n",
       "  <tbody>\n",
       "    <tr>\n",
       "      <th>0</th>\n",
       "      <td>CE</td>\n",
       "      <td>1</td>\n",
       "      <td>1</td>\n",
       "      <td>1</td>\n",
       "      <td>3</td>\n",
       "      <td>2</td>\n",
       "      <td>0</td>\n",
       "      <td>2</td>\n",
       "      <td>1</td>\n",
       "      <td>1</td>\n",
       "      <td>...</td>\n",
       "      <td>2</td>\n",
       "      <td>2</td>\n",
       "      <td>1</td>\n",
       "      <td>0</td>\n",
       "      <td>0</td>\n",
       "      <td>5</td>\n",
       "      <td>5</td>\n",
       "      <td>3</td>\n",
       "      <td>2</td>\n",
       "      <td>240</td>\n",
       "    </tr>\n",
       "    <tr>\n",
       "      <th>1</th>\n",
       "      <td>GO</td>\n",
       "      <td>1</td>\n",
       "      <td>1</td>\n",
       "      <td>1</td>\n",
       "      <td>6</td>\n",
       "      <td>3</td>\n",
       "      <td>1</td>\n",
       "      <td>1</td>\n",
       "      <td>1</td>\n",
       "      <td>1</td>\n",
       "      <td>...</td>\n",
       "      <td>1</td>\n",
       "      <td>2</td>\n",
       "      <td>1</td>\n",
       "      <td>0</td>\n",
       "      <td>0</td>\n",
       "      <td>1</td>\n",
       "      <td>3</td>\n",
       "      <td>1</td>\n",
       "      <td>2</td>\n",
       "      <td>660</td>\n",
       "    </tr>\n",
       "    <tr>\n",
       "      <th>2</th>\n",
       "      <td>SP</td>\n",
       "      <td>1</td>\n",
       "      <td>2</td>\n",
       "      <td>1</td>\n",
       "      <td>5</td>\n",
       "      <td>2</td>\n",
       "      <td>1</td>\n",
       "      <td>1</td>\n",
       "      <td>1</td>\n",
       "      <td>1</td>\n",
       "      <td>...</td>\n",
       "      <td>1</td>\n",
       "      <td>1</td>\n",
       "      <td>2</td>\n",
       "      <td>1</td>\n",
       "      <td>0</td>\n",
       "      <td>1</td>\n",
       "      <td>3</td>\n",
       "      <td>1</td>\n",
       "      <td>2</td>\n",
       "      <td>3100</td>\n",
       "    </tr>\n",
       "    <tr>\n",
       "      <th>3</th>\n",
       "      <td>SP</td>\n",
       "      <td>1</td>\n",
       "      <td>1</td>\n",
       "      <td>1</td>\n",
       "      <td>6</td>\n",
       "      <td>2</td>\n",
       "      <td>1</td>\n",
       "      <td>1</td>\n",
       "      <td>1</td>\n",
       "      <td>1</td>\n",
       "      <td>...</td>\n",
       "      <td>1</td>\n",
       "      <td>1</td>\n",
       "      <td>2</td>\n",
       "      <td>0</td>\n",
       "      <td>0</td>\n",
       "      <td>1</td>\n",
       "      <td>6</td>\n",
       "      <td>1</td>\n",
       "      <td>5</td>\n",
       "      <td>1980</td>\n",
       "    </tr>\n",
       "    <tr>\n",
       "      <th>4</th>\n",
       "      <td>PE</td>\n",
       "      <td>1</td>\n",
       "      <td>1</td>\n",
       "      <td>1</td>\n",
       "      <td>4</td>\n",
       "      <td>2</td>\n",
       "      <td>1</td>\n",
       "      <td>1</td>\n",
       "      <td>1</td>\n",
       "      <td>2</td>\n",
       "      <td>...</td>\n",
       "      <td>2</td>\n",
       "      <td>2</td>\n",
       "      <td>1</td>\n",
       "      <td>0</td>\n",
       "      <td>0</td>\n",
       "      <td>1</td>\n",
       "      <td>13</td>\n",
       "      <td>4</td>\n",
       "      <td>9</td>\n",
       "      <td>391</td>\n",
       "    </tr>\n",
       "  </tbody>\n",
       "</table>\n",
       "<p>5 rows × 24 columns</p>\n",
       "</div>"
      ],
      "text/plain": [
       "  sigla_uf  situacao_domicilio  tipo_domicilio  condicao_domicilio  comodos  \\\n",
       "0       CE                   1               1                   1        3   \n",
       "1       GO                   1               1                   1        6   \n",
       "2       SP                   1               2                   1        5   \n",
       "3       SP                   1               1                   1        6   \n",
       "4       PE                   1               1                   1        4   \n",
       "\n",
       "   dormitorios  banheiros  agua  iluminacao  radio  ...  telefone  computador  \\\n",
       "0            2          0     2           1      1  ...         2           2   \n",
       "1            3          1     1           1      1  ...         1           2   \n",
       "2            2          1     1           1      1  ...         1           1   \n",
       "3            2          1     1           1      1  ...         1           1   \n",
       "4            2          1     1           1      2  ...         2           2   \n",
       "\n",
       "   televisores  automoveis  ar_condicionado  coleta_lixo  moradores  homens  \\\n",
       "0            1           0                0            5          5       3   \n",
       "1            1           0                0            1          3       1   \n",
       "2            2           1                0            1          3       1   \n",
       "3            2           0                0            1          6       1   \n",
       "4            1           0                0            1         13       4   \n",
       "\n",
       "   mulheres  rendimento  \n",
       "0         2         240  \n",
       "1         2         660  \n",
       "2         2        3100  \n",
       "3         5        1980  \n",
       "4         9         391  \n",
       "\n",
       "[5 rows x 24 columns]"
      ]
     },
     "execution_count": 140,
     "metadata": {},
     "output_type": "execute_result"
    }
   ],
   "source": [
    "# # Consulta\n",
    "\n",
    "# import os\n",
    "# import pandas as pd\n",
    "# from google.cloud import bigquery\n",
    "\n",
    "# os.environ['GOOGLE_APPLICATION_CREDENTIALS'] = 'renda-censo-regressao-0d5cd82b3cac.json'\n",
    "\n",
    "# client = bigquery.Client()\n",
    "\n",
    "# query = \"\"\"\n",
    "#         SELECT sigla_uf, situacao_domicilio, v0202 AS tipo_domicilio, v0205 AS condicao_domicilio, v0203 AS comodos, v0204 AS dormitorios,v0209 AS banheiros, v0207 AS agua, v0213 AS iluminacao, v0214 AS radio, v0215 AS geladeira, v0216 AS videocassete, v0217 AS maquina_lavar, v0218 AS microondas, v0219 as telefone, v0220 as computador, v0221 as televisores, v0222 as automoveis, v0223 as ar_condicionado, v0212 AS coleta_lixo, v7100 AS moradores, v0110 AS homens, v0111 AS mulheres, v7616 AS rendimento\n",
    "#         FROM `basedosdados.br_ibge_censo_demografico.microdados_domicilio_2000`\n",
    "#         WHERE (v7616 IS NOT NULL) AND (v7616 > 0) AND (v7616 < 100000) AND v0201 = 1\n",
    "#         ORDER BY RAND() \n",
    "#         LIMIT 100000;\n",
    "#         \"\"\"\n",
    "\n",
    "# df_raw = client.query(query).to_dataframe()\n",
    "# df_raw.to_csv('data/df_raw.csv', index=False)\n",
    "\n",
    "# df_raw.head()"
   ]
  },
  {
   "cell_type": "markdown",
   "id": "9f3f1238",
   "metadata": {},
   "source": [
    "## Colunas"
   ]
  },
  {
   "cell_type": "markdown",
   "id": "500188b7",
   "metadata": {},
   "source": [
    "Coluna       | Tipo  | Descrição\n",
    "-------------|-------|-------------------------------\n",
    "sigla_uf     |str    | Sigla da Unidade da Federação\n",
    "situacao_domicilio | int64 | 1: Urbano, 2: Rural\n",
    "tipo_domicilio | int64 | 1: Casa, 2: Apartamento, 3: Cômodo\n",
    "condicao_domicilio | int64 | 1: proprio pago, 2: proprio pagando, 3: alugado, 4: cedido por empregador, 5: cedido, 6: outro\n",
    "comodos | int64 | Número de cômodos\n",
    "dormitorios | int64 | Número de dormitórios\n",
    "banheiros | int64 | Número de banheiros\n",
    "agua | int64 | 1: rede geral, 2: Poço, 3: outro\n",
    "iluminacao | int64 | 1: sim, 2: não\n",
    "radio | int64 | Número de rádios\n",
    "geladeira | int64 | Número de geladeiras\n",
    "videocassete | int64 | Número de videocassetes\n",
    "maquina_lavar | int64 | Número de máquinas de lavar\n",
    "microondas | int64 | Número de microondas\n",
    "telefone | int64 | Número de telefones\n",
    "computador | int64 | Número de computadores\n",
    "televisores | int64 | Número de televisores\n",
    "automoveis | int64 | Número de automoveis \n",
    "ar_condicionado | int64 | Número de ar-condicionado\n",
    "coleta_lixo | int64 | 1: serviço de limpeza, 2: caçamba, 3: queimado, 4: enterrado, 5: aterro, 6: rio, 7: outro\n",
    "moradores | int64 | Número de moradores\n",
    "homens | int64 | Número de homens residentes\n",
    "mulheres | int64 | Número de mulheres residentes\n",
    "rendimento | int64 | Total de rendimentos (Target)"
   ]
  },
  {
   "cell_type": "markdown",
   "id": "f441b671",
   "metadata": {},
   "source": [
    "## Explorando os dados"
   ]
  },
  {
   "cell_type": "code",
   "execution_count": 223,
   "id": "ec5e36e5",
   "metadata": {
    "ExecuteTime": {
     "end_time": "2023-03-14T16:31:30.795145Z",
     "start_time": "2023-03-14T16:31:30.788952Z"
    }
   },
   "outputs": [],
   "source": [
    "# Importando bibliotecas\n",
    "\n",
    "import numpy as np\n",
    "import pandas as pd\n",
    "import seaborn as sns\n",
    "import matplotlib.pyplot as plt\n",
    "from sklearn.model_selection import train_test_split\n",
    "from sklearn.preprocessing import OneHotEncoder\n",
    "from sklearn.preprocessing import StandardScaler\n",
    "from sklearn.metrics import mean_squared_error, mean_absolute_error, r2_score, mean_absolute_percentage_error\n",
    "from sklearn.pipeline import Pipeline\n",
    "from sklearn.compose import ColumnTransformer\n",
    "from skopt import dummy_minimize, gp_minimize\n",
    "\n",
    "from sklearn.ensemble import RandomForestRegressor\n",
    "from lightgbm import LGBMRegressor\n",
    "from xgboost import XGBRegressor"
   ]
  },
  {
   "cell_type": "code",
   "execution_count": 142,
   "id": "1be86225",
   "metadata": {
    "ExecuteTime": {
     "end_time": "2023-03-14T15:42:41.131549Z",
     "start_time": "2023-03-14T15:42:40.842803Z"
    }
   },
   "outputs": [],
   "source": [
    "df_raw = pd.read_csv('data/df_raw.csv')"
   ]
  },
  {
   "cell_type": "code",
   "execution_count": 143,
   "id": "6726f1b5",
   "metadata": {
    "ExecuteTime": {
     "end_time": "2023-03-14T15:42:42.186253Z",
     "start_time": "2023-03-14T15:42:42.153711Z"
    },
    "scrolled": true
   },
   "outputs": [
    {
     "data": {
      "text/html": [
       "<div>\n",
       "<style scoped>\n",
       "    .dataframe tbody tr th:only-of-type {\n",
       "        vertical-align: middle;\n",
       "    }\n",
       "\n",
       "    .dataframe tbody tr th {\n",
       "        vertical-align: top;\n",
       "    }\n",
       "\n",
       "    .dataframe thead th {\n",
       "        text-align: right;\n",
       "    }\n",
       "</style>\n",
       "<table border=\"1\" class=\"dataframe\">\n",
       "  <thead>\n",
       "    <tr style=\"text-align: right;\">\n",
       "      <th></th>\n",
       "      <th>sigla_uf</th>\n",
       "      <th>situacao_domicilio</th>\n",
       "      <th>tipo_domicilio</th>\n",
       "      <th>condicao_domicilio</th>\n",
       "      <th>comodos</th>\n",
       "      <th>dormitorios</th>\n",
       "      <th>banheiros</th>\n",
       "      <th>agua</th>\n",
       "      <th>iluminacao</th>\n",
       "      <th>radio</th>\n",
       "      <th>...</th>\n",
       "      <th>telefone</th>\n",
       "      <th>computador</th>\n",
       "      <th>televisores</th>\n",
       "      <th>automoveis</th>\n",
       "      <th>ar_condicionado</th>\n",
       "      <th>coleta_lixo</th>\n",
       "      <th>moradores</th>\n",
       "      <th>homens</th>\n",
       "      <th>mulheres</th>\n",
       "      <th>rendimento</th>\n",
       "    </tr>\n",
       "  </thead>\n",
       "  <tbody>\n",
       "    <tr>\n",
       "      <th>0</th>\n",
       "      <td>CE</td>\n",
       "      <td>1</td>\n",
       "      <td>1</td>\n",
       "      <td>1</td>\n",
       "      <td>3</td>\n",
       "      <td>2</td>\n",
       "      <td>0</td>\n",
       "      <td>2</td>\n",
       "      <td>1</td>\n",
       "      <td>1</td>\n",
       "      <td>...</td>\n",
       "      <td>2</td>\n",
       "      <td>2</td>\n",
       "      <td>1</td>\n",
       "      <td>0</td>\n",
       "      <td>0</td>\n",
       "      <td>5</td>\n",
       "      <td>5</td>\n",
       "      <td>3</td>\n",
       "      <td>2</td>\n",
       "      <td>240</td>\n",
       "    </tr>\n",
       "    <tr>\n",
       "      <th>1</th>\n",
       "      <td>GO</td>\n",
       "      <td>1</td>\n",
       "      <td>1</td>\n",
       "      <td>1</td>\n",
       "      <td>6</td>\n",
       "      <td>3</td>\n",
       "      <td>1</td>\n",
       "      <td>1</td>\n",
       "      <td>1</td>\n",
       "      <td>1</td>\n",
       "      <td>...</td>\n",
       "      <td>1</td>\n",
       "      <td>2</td>\n",
       "      <td>1</td>\n",
       "      <td>0</td>\n",
       "      <td>0</td>\n",
       "      <td>1</td>\n",
       "      <td>3</td>\n",
       "      <td>1</td>\n",
       "      <td>2</td>\n",
       "      <td>660</td>\n",
       "    </tr>\n",
       "    <tr>\n",
       "      <th>2</th>\n",
       "      <td>SP</td>\n",
       "      <td>1</td>\n",
       "      <td>2</td>\n",
       "      <td>1</td>\n",
       "      <td>5</td>\n",
       "      <td>2</td>\n",
       "      <td>1</td>\n",
       "      <td>1</td>\n",
       "      <td>1</td>\n",
       "      <td>1</td>\n",
       "      <td>...</td>\n",
       "      <td>1</td>\n",
       "      <td>1</td>\n",
       "      <td>2</td>\n",
       "      <td>1</td>\n",
       "      <td>0</td>\n",
       "      <td>1</td>\n",
       "      <td>3</td>\n",
       "      <td>1</td>\n",
       "      <td>2</td>\n",
       "      <td>3100</td>\n",
       "    </tr>\n",
       "    <tr>\n",
       "      <th>3</th>\n",
       "      <td>SP</td>\n",
       "      <td>1</td>\n",
       "      <td>1</td>\n",
       "      <td>1</td>\n",
       "      <td>6</td>\n",
       "      <td>2</td>\n",
       "      <td>1</td>\n",
       "      <td>1</td>\n",
       "      <td>1</td>\n",
       "      <td>1</td>\n",
       "      <td>...</td>\n",
       "      <td>1</td>\n",
       "      <td>1</td>\n",
       "      <td>2</td>\n",
       "      <td>0</td>\n",
       "      <td>0</td>\n",
       "      <td>1</td>\n",
       "      <td>6</td>\n",
       "      <td>1</td>\n",
       "      <td>5</td>\n",
       "      <td>1980</td>\n",
       "    </tr>\n",
       "    <tr>\n",
       "      <th>4</th>\n",
       "      <td>PE</td>\n",
       "      <td>1</td>\n",
       "      <td>1</td>\n",
       "      <td>1</td>\n",
       "      <td>4</td>\n",
       "      <td>2</td>\n",
       "      <td>1</td>\n",
       "      <td>1</td>\n",
       "      <td>1</td>\n",
       "      <td>2</td>\n",
       "      <td>...</td>\n",
       "      <td>2</td>\n",
       "      <td>2</td>\n",
       "      <td>1</td>\n",
       "      <td>0</td>\n",
       "      <td>0</td>\n",
       "      <td>1</td>\n",
       "      <td>13</td>\n",
       "      <td>4</td>\n",
       "      <td>9</td>\n",
       "      <td>391</td>\n",
       "    </tr>\n",
       "  </tbody>\n",
       "</table>\n",
       "<p>5 rows × 24 columns</p>\n",
       "</div>"
      ],
      "text/plain": [
       "  sigla_uf  situacao_domicilio  tipo_domicilio  condicao_domicilio  comodos  \\\n",
       "0       CE                   1               1                   1        3   \n",
       "1       GO                   1               1                   1        6   \n",
       "2       SP                   1               2                   1        5   \n",
       "3       SP                   1               1                   1        6   \n",
       "4       PE                   1               1                   1        4   \n",
       "\n",
       "   dormitorios  banheiros  agua  iluminacao  radio  ...  telefone  computador  \\\n",
       "0            2          0     2           1      1  ...         2           2   \n",
       "1            3          1     1           1      1  ...         1           2   \n",
       "2            2          1     1           1      1  ...         1           1   \n",
       "3            2          1     1           1      1  ...         1           1   \n",
       "4            2          1     1           1      2  ...         2           2   \n",
       "\n",
       "   televisores  automoveis  ar_condicionado  coleta_lixo  moradores  homens  \\\n",
       "0            1           0                0            5          5       3   \n",
       "1            1           0                0            1          3       1   \n",
       "2            2           1                0            1          3       1   \n",
       "3            2           0                0            1          6       1   \n",
       "4            1           0                0            1         13       4   \n",
       "\n",
       "   mulheres  rendimento  \n",
       "0         2         240  \n",
       "1         2         660  \n",
       "2         2        3100  \n",
       "3         5        1980  \n",
       "4         9         391  \n",
       "\n",
       "[5 rows x 24 columns]"
      ]
     },
     "execution_count": 143,
     "metadata": {},
     "output_type": "execute_result"
    }
   ],
   "source": [
    "df_raw.head()"
   ]
  },
  {
   "cell_type": "code",
   "execution_count": 144,
   "id": "b70e49e6",
   "metadata": {
    "ExecuteTime": {
     "end_time": "2023-03-14T15:42:43.175704Z",
     "start_time": "2023-03-14T15:42:43.167656Z"
    }
   },
   "outputs": [
    {
     "data": {
      "text/plain": [
       "(100000, 24)"
      ]
     },
     "execution_count": 144,
     "metadata": {},
     "output_type": "execute_result"
    }
   ],
   "source": [
    "df_raw.shape"
   ]
  },
  {
   "cell_type": "code",
   "execution_count": 145,
   "id": "d0d7ff09",
   "metadata": {
    "ExecuteTime": {
     "end_time": "2023-03-14T15:42:44.289556Z",
     "start_time": "2023-03-14T15:42:44.263929Z"
    },
    "scrolled": false
   },
   "outputs": [
    {
     "data": {
      "text/plain": [
       "sigla_uf              0\n",
       "situacao_domicilio    0\n",
       "tipo_domicilio        0\n",
       "condicao_domicilio    0\n",
       "comodos               0\n",
       "dormitorios           0\n",
       "banheiros             0\n",
       "agua                  0\n",
       "iluminacao            0\n",
       "radio                 0\n",
       "geladeira             0\n",
       "videocassete          0\n",
       "maquina_lavar         0\n",
       "microondas            0\n",
       "telefone              0\n",
       "computador            0\n",
       "televisores           0\n",
       "automoveis            0\n",
       "ar_condicionado       0\n",
       "coleta_lixo           0\n",
       "moradores             0\n",
       "homens                0\n",
       "mulheres              0\n",
       "rendimento            0\n",
       "dtype: int64"
      ]
     },
     "execution_count": 145,
     "metadata": {},
     "output_type": "execute_result"
    }
   ],
   "source": [
    "df_raw.isna().sum()"
   ]
  },
  {
   "cell_type": "code",
   "execution_count": 146,
   "id": "e94a9228",
   "metadata": {
    "ExecuteTime": {
     "end_time": "2023-03-14T15:42:45.398422Z",
     "start_time": "2023-03-14T15:42:45.364978Z"
    }
   },
   "outputs": [
    {
     "name": "stdout",
     "output_type": "stream",
     "text": [
      "<class 'pandas.core.frame.DataFrame'>\n",
      "RangeIndex: 100000 entries, 0 to 99999\n",
      "Data columns (total 24 columns):\n",
      " #   Column              Non-Null Count   Dtype \n",
      "---  ------              --------------   ----- \n",
      " 0   sigla_uf            100000 non-null  object\n",
      " 1   situacao_domicilio  100000 non-null  int64 \n",
      " 2   tipo_domicilio      100000 non-null  int64 \n",
      " 3   condicao_domicilio  100000 non-null  int64 \n",
      " 4   comodos             100000 non-null  int64 \n",
      " 5   dormitorios         100000 non-null  int64 \n",
      " 6   banheiros           100000 non-null  int64 \n",
      " 7   agua                100000 non-null  int64 \n",
      " 8   iluminacao          100000 non-null  int64 \n",
      " 9   radio               100000 non-null  int64 \n",
      " 10  geladeira           100000 non-null  int64 \n",
      " 11  videocassete        100000 non-null  int64 \n",
      " 12  maquina_lavar       100000 non-null  int64 \n",
      " 13  microondas          100000 non-null  int64 \n",
      " 14  telefone            100000 non-null  int64 \n",
      " 15  computador          100000 non-null  int64 \n",
      " 16  televisores         100000 non-null  int64 \n",
      " 17  automoveis          100000 non-null  int64 \n",
      " 18  ar_condicionado     100000 non-null  int64 \n",
      " 19  coleta_lixo         100000 non-null  int64 \n",
      " 20  moradores           100000 non-null  int64 \n",
      " 21  homens              100000 non-null  int64 \n",
      " 22  mulheres            100000 non-null  int64 \n",
      " 23  rendimento          100000 non-null  int64 \n",
      "dtypes: int64(23), object(1)\n",
      "memory usage: 18.3+ MB\n"
     ]
    }
   ],
   "source": [
    "df_raw.info()"
   ]
  },
  {
   "cell_type": "code",
   "execution_count": 73,
   "id": "0e4ec5a5",
   "metadata": {
    "ExecuteTime": {
     "end_time": "2023-03-14T15:08:08.322527Z",
     "start_time": "2023-03-14T15:08:08.207841Z"
    }
   },
   "outputs": [
    {
     "data": {
      "text/html": [
       "<div>\n",
       "<style scoped>\n",
       "    .dataframe tbody tr th:only-of-type {\n",
       "        vertical-align: middle;\n",
       "    }\n",
       "\n",
       "    .dataframe tbody tr th {\n",
       "        vertical-align: top;\n",
       "    }\n",
       "\n",
       "    .dataframe thead th {\n",
       "        text-align: right;\n",
       "    }\n",
       "</style>\n",
       "<table border=\"1\" class=\"dataframe\">\n",
       "  <thead>\n",
       "    <tr style=\"text-align: right;\">\n",
       "      <th></th>\n",
       "      <th>situacao_domicilio</th>\n",
       "      <th>tipo_domicilio</th>\n",
       "      <th>condicao_domicilio</th>\n",
       "      <th>comodos</th>\n",
       "      <th>dormitorios</th>\n",
       "      <th>banheiros</th>\n",
       "      <th>agua</th>\n",
       "      <th>iluminacao</th>\n",
       "      <th>radio</th>\n",
       "      <th>geladeira</th>\n",
       "      <th>...</th>\n",
       "      <th>telefone</th>\n",
       "      <th>computador</th>\n",
       "      <th>televisores</th>\n",
       "      <th>automoveis</th>\n",
       "      <th>ar_condicionado</th>\n",
       "      <th>coleta_lixo</th>\n",
       "      <th>moradores</th>\n",
       "      <th>homens</th>\n",
       "      <th>mulheres</th>\n",
       "      <th>rendimento</th>\n",
       "    </tr>\n",
       "  </thead>\n",
       "  <tbody>\n",
       "    <tr>\n",
       "      <th>count</th>\n",
       "      <td>100000.000000</td>\n",
       "      <td>100000.00000</td>\n",
       "      <td>100000.000000</td>\n",
       "      <td>100000.000000</td>\n",
       "      <td>100000.000000</td>\n",
       "      <td>100000.000000</td>\n",
       "      <td>100000.000000</td>\n",
       "      <td>100000.000000</td>\n",
       "      <td>100000.000000</td>\n",
       "      <td>100000.000000</td>\n",
       "      <td>...</td>\n",
       "      <td>100000.00000</td>\n",
       "      <td>100000.000000</td>\n",
       "      <td>100000.000000</td>\n",
       "      <td>100000.000000</td>\n",
       "      <td>100000.000000</td>\n",
       "      <td>100000.000000</td>\n",
       "      <td>100000.000000</td>\n",
       "      <td>100000.000000</td>\n",
       "      <td>100000.000000</td>\n",
       "      <td>100000.000000</td>\n",
       "    </tr>\n",
       "    <tr>\n",
       "      <th>mean</th>\n",
       "      <td>1.204540</td>\n",
       "      <td>1.10307</td>\n",
       "      <td>1.758990</td>\n",
       "      <td>5.720480</td>\n",
       "      <td>2.032370</td>\n",
       "      <td>1.094080</td>\n",
       "      <td>1.316350</td>\n",
       "      <td>1.061310</td>\n",
       "      <td>1.122590</td>\n",
       "      <td>1.175430</td>\n",
       "      <td>...</td>\n",
       "      <td>1.63227</td>\n",
       "      <td>1.902710</td>\n",
       "      <td>1.280740</td>\n",
       "      <td>0.400080</td>\n",
       "      <td>0.104430</td>\n",
       "      <td>1.773680</td>\n",
       "      <td>3.869210</td>\n",
       "      <td>1.910470</td>\n",
       "      <td>1.958740</td>\n",
       "      <td>1091.594460</td>\n",
       "    </tr>\n",
       "    <tr>\n",
       "      <th>std</th>\n",
       "      <td>0.403367</td>\n",
       "      <td>0.33566</td>\n",
       "      <td>1.288061</td>\n",
       "      <td>2.360687</td>\n",
       "      <td>0.875403</td>\n",
       "      <td>0.815019</td>\n",
       "      <td>0.593192</td>\n",
       "      <td>0.239899</td>\n",
       "      <td>0.327968</td>\n",
       "      <td>0.380336</td>\n",
       "      <td>...</td>\n",
       "      <td>0.48219</td>\n",
       "      <td>0.296354</td>\n",
       "      <td>0.896344</td>\n",
       "      <td>0.647441</td>\n",
       "      <td>0.460659</td>\n",
       "      <td>1.401356</td>\n",
       "      <td>1.974726</td>\n",
       "      <td>1.281644</td>\n",
       "      <td>1.225958</td>\n",
       "      <td>2643.502251</td>\n",
       "    </tr>\n",
       "    <tr>\n",
       "      <th>min</th>\n",
       "      <td>1.000000</td>\n",
       "      <td>1.00000</td>\n",
       "      <td>1.000000</td>\n",
       "      <td>1.000000</td>\n",
       "      <td>1.000000</td>\n",
       "      <td>0.000000</td>\n",
       "      <td>1.000000</td>\n",
       "      <td>1.000000</td>\n",
       "      <td>1.000000</td>\n",
       "      <td>1.000000</td>\n",
       "      <td>...</td>\n",
       "      <td>1.00000</td>\n",
       "      <td>1.000000</td>\n",
       "      <td>0.000000</td>\n",
       "      <td>0.000000</td>\n",
       "      <td>0.000000</td>\n",
       "      <td>1.000000</td>\n",
       "      <td>1.000000</td>\n",
       "      <td>0.000000</td>\n",
       "      <td>0.000000</td>\n",
       "      <td>1.000000</td>\n",
       "    </tr>\n",
       "    <tr>\n",
       "      <th>25%</th>\n",
       "      <td>1.000000</td>\n",
       "      <td>1.00000</td>\n",
       "      <td>1.000000</td>\n",
       "      <td>4.000000</td>\n",
       "      <td>1.000000</td>\n",
       "      <td>1.000000</td>\n",
       "      <td>1.000000</td>\n",
       "      <td>1.000000</td>\n",
       "      <td>1.000000</td>\n",
       "      <td>1.000000</td>\n",
       "      <td>...</td>\n",
       "      <td>1.00000</td>\n",
       "      <td>2.000000</td>\n",
       "      <td>1.000000</td>\n",
       "      <td>0.000000</td>\n",
       "      <td>0.000000</td>\n",
       "      <td>1.000000</td>\n",
       "      <td>3.000000</td>\n",
       "      <td>1.000000</td>\n",
       "      <td>1.000000</td>\n",
       "      <td>280.000000</td>\n",
       "    </tr>\n",
       "    <tr>\n",
       "      <th>50%</th>\n",
       "      <td>1.000000</td>\n",
       "      <td>1.00000</td>\n",
       "      <td>1.000000</td>\n",
       "      <td>5.000000</td>\n",
       "      <td>2.000000</td>\n",
       "      <td>1.000000</td>\n",
       "      <td>1.000000</td>\n",
       "      <td>1.000000</td>\n",
       "      <td>1.000000</td>\n",
       "      <td>1.000000</td>\n",
       "      <td>...</td>\n",
       "      <td>2.00000</td>\n",
       "      <td>2.000000</td>\n",
       "      <td>1.000000</td>\n",
       "      <td>0.000000</td>\n",
       "      <td>0.000000</td>\n",
       "      <td>1.000000</td>\n",
       "      <td>4.000000</td>\n",
       "      <td>2.000000</td>\n",
       "      <td>2.000000</td>\n",
       "      <td>519.000000</td>\n",
       "    </tr>\n",
       "    <tr>\n",
       "      <th>75%</th>\n",
       "      <td>1.000000</td>\n",
       "      <td>1.00000</td>\n",
       "      <td>2.000000</td>\n",
       "      <td>7.000000</td>\n",
       "      <td>3.000000</td>\n",
       "      <td>1.000000</td>\n",
       "      <td>1.000000</td>\n",
       "      <td>1.000000</td>\n",
       "      <td>1.000000</td>\n",
       "      <td>1.000000</td>\n",
       "      <td>...</td>\n",
       "      <td>2.00000</td>\n",
       "      <td>2.000000</td>\n",
       "      <td>2.000000</td>\n",
       "      <td>1.000000</td>\n",
       "      <td>0.000000</td>\n",
       "      <td>2.000000</td>\n",
       "      <td>5.000000</td>\n",
       "      <td>3.000000</td>\n",
       "      <td>3.000000</td>\n",
       "      <td>1100.000000</td>\n",
       "    </tr>\n",
       "    <tr>\n",
       "      <th>max</th>\n",
       "      <td>2.000000</td>\n",
       "      <td>3.00000</td>\n",
       "      <td>6.000000</td>\n",
       "      <td>30.000000</td>\n",
       "      <td>9.000000</td>\n",
       "      <td>9.000000</td>\n",
       "      <td>3.000000</td>\n",
       "      <td>2.000000</td>\n",
       "      <td>2.000000</td>\n",
       "      <td>2.000000</td>\n",
       "      <td>...</td>\n",
       "      <td>2.00000</td>\n",
       "      <td>2.000000</td>\n",
       "      <td>9.000000</td>\n",
       "      <td>7.000000</td>\n",
       "      <td>9.000000</td>\n",
       "      <td>7.000000</td>\n",
       "      <td>29.000000</td>\n",
       "      <td>16.000000</td>\n",
       "      <td>16.000000</td>\n",
       "      <td>301810.000000</td>\n",
       "    </tr>\n",
       "  </tbody>\n",
       "</table>\n",
       "<p>8 rows × 23 columns</p>\n",
       "</div>"
      ],
      "text/plain": [
       "       situacao_domicilio  tipo_domicilio  condicao_domicilio        comodos  \\\n",
       "count       100000.000000    100000.00000       100000.000000  100000.000000   \n",
       "mean             1.204540         1.10307            1.758990       5.720480   \n",
       "std              0.403367         0.33566            1.288061       2.360687   \n",
       "min              1.000000         1.00000            1.000000       1.000000   \n",
       "25%              1.000000         1.00000            1.000000       4.000000   \n",
       "50%              1.000000         1.00000            1.000000       5.000000   \n",
       "75%              1.000000         1.00000            2.000000       7.000000   \n",
       "max              2.000000         3.00000            6.000000      30.000000   \n",
       "\n",
       "         dormitorios      banheiros           agua     iluminacao  \\\n",
       "count  100000.000000  100000.000000  100000.000000  100000.000000   \n",
       "mean        2.032370       1.094080       1.316350       1.061310   \n",
       "std         0.875403       0.815019       0.593192       0.239899   \n",
       "min         1.000000       0.000000       1.000000       1.000000   \n",
       "25%         1.000000       1.000000       1.000000       1.000000   \n",
       "50%         2.000000       1.000000       1.000000       1.000000   \n",
       "75%         3.000000       1.000000       1.000000       1.000000   \n",
       "max         9.000000       9.000000       3.000000       2.000000   \n",
       "\n",
       "               radio      geladeira  ...      telefone     computador  \\\n",
       "count  100000.000000  100000.000000  ...  100000.00000  100000.000000   \n",
       "mean        1.122590       1.175430  ...       1.63227       1.902710   \n",
       "std         0.327968       0.380336  ...       0.48219       0.296354   \n",
       "min         1.000000       1.000000  ...       1.00000       1.000000   \n",
       "25%         1.000000       1.000000  ...       1.00000       2.000000   \n",
       "50%         1.000000       1.000000  ...       2.00000       2.000000   \n",
       "75%         1.000000       1.000000  ...       2.00000       2.000000   \n",
       "max         2.000000       2.000000  ...       2.00000       2.000000   \n",
       "\n",
       "         televisores     automoveis  ar_condicionado    coleta_lixo  \\\n",
       "count  100000.000000  100000.000000    100000.000000  100000.000000   \n",
       "mean        1.280740       0.400080         0.104430       1.773680   \n",
       "std         0.896344       0.647441         0.460659       1.401356   \n",
       "min         0.000000       0.000000         0.000000       1.000000   \n",
       "25%         1.000000       0.000000         0.000000       1.000000   \n",
       "50%         1.000000       0.000000         0.000000       1.000000   \n",
       "75%         2.000000       1.000000         0.000000       2.000000   \n",
       "max         9.000000       7.000000         9.000000       7.000000   \n",
       "\n",
       "           moradores         homens       mulheres     rendimento  \n",
       "count  100000.000000  100000.000000  100000.000000  100000.000000  \n",
       "mean        3.869210       1.910470       1.958740    1091.594460  \n",
       "std         1.974726       1.281644       1.225958    2643.502251  \n",
       "min         1.000000       0.000000       0.000000       1.000000  \n",
       "25%         3.000000       1.000000       1.000000     280.000000  \n",
       "50%         4.000000       2.000000       2.000000     519.000000  \n",
       "75%         5.000000       3.000000       3.000000    1100.000000  \n",
       "max        29.000000      16.000000      16.000000  301810.000000  \n",
       "\n",
       "[8 rows x 23 columns]"
      ]
     },
     "execution_count": 73,
     "metadata": {},
     "output_type": "execute_result"
    }
   ],
   "source": [
    "df_raw.describe()"
   ]
  },
  {
   "cell_type": "markdown",
   "id": "a027bae3",
   "metadata": {
    "ExecuteTime": {
     "end_time": "2023-03-10T22:14:27.710181Z",
     "start_time": "2023-03-10T22:14:27.707571Z"
    }
   },
   "source": [
    "## Pre-processamento"
   ]
  },
  {
   "cell_type": "code",
   "execution_count": 147,
   "id": "5b59d8f7",
   "metadata": {
    "ExecuteTime": {
     "end_time": "2023-03-14T15:43:03.630012Z",
     "start_time": "2023-03-14T15:43:03.462968Z"
    }
   },
   "outputs": [],
   "source": [
    "df = df_raw.copy()"
   ]
  },
  {
   "cell_type": "code",
   "execution_count": 148,
   "id": "daf7df83",
   "metadata": {
    "ExecuteTime": {
     "end_time": "2023-03-14T15:43:04.689205Z",
     "start_time": "2023-03-14T15:43:04.671698Z"
    },
    "scrolled": true
   },
   "outputs": [],
   "source": [
    "df['situacao_domicilio'] = df_raw['situacao_domicilio'].map({1:'urbano', 2:'rural'})"
   ]
  },
  {
   "cell_type": "code",
   "execution_count": 149,
   "id": "d2ee5478",
   "metadata": {
    "ExecuteTime": {
     "end_time": "2023-03-14T15:43:05.666140Z",
     "start_time": "2023-03-14T15:43:05.655057Z"
    }
   },
   "outputs": [],
   "source": [
    "df['tipo_domicilio'] = df_raw['tipo_domicilio'].map({1:'casa', 2:'apartamento', 3:'comodo'})"
   ]
  },
  {
   "cell_type": "code",
   "execution_count": 150,
   "id": "ba70a409",
   "metadata": {
    "ExecuteTime": {
     "end_time": "2023-03-14T15:43:06.683719Z",
     "start_time": "2023-03-14T15:43:06.673505Z"
    }
   },
   "outputs": [],
   "source": [
    "df['condicao_domicilio'] = df_raw['condicao_domicilio'].map({1:'proprio pago',\n",
    "                                                             2:'proprio pagando',\n",
    "                                                             3:'alugado',\n",
    "                                                             4:'cedido por empregador',\n",
    "                                                             5:'cedido',\n",
    "                                                             6:'outro'})"
   ]
  },
  {
   "cell_type": "code",
   "execution_count": 151,
   "id": "54f65155",
   "metadata": {
    "ExecuteTime": {
     "end_time": "2023-03-14T15:43:07.807555Z",
     "start_time": "2023-03-14T15:43:07.763046Z"
    }
   },
   "outputs": [],
   "source": [
    "df['agua'] = df_raw['agua'].map({1:'rede geral',\n",
    "                                 2:'poço',\n",
    "                                 3:'outro'})"
   ]
  },
  {
   "cell_type": "code",
   "execution_count": 152,
   "id": "999db37b",
   "metadata": {
    "ExecuteTime": {
     "end_time": "2023-03-14T15:43:08.759667Z",
     "start_time": "2023-03-14T15:43:08.747231Z"
    }
   },
   "outputs": [],
   "source": [
    "df['iluminacao'] = df_raw['iluminacao'].map({1:'sim',\n",
    "                                             2:'não'})"
   ]
  },
  {
   "cell_type": "code",
   "execution_count": 153,
   "id": "9203c1dc",
   "metadata": {
    "ExecuteTime": {
     "end_time": "2023-03-14T15:43:09.740048Z",
     "start_time": "2023-03-14T15:43:09.731411Z"
    }
   },
   "outputs": [],
   "source": [
    "df['coleta_lixo'] = df_raw['coleta_lixo'].map({1:'serviço de limpeza',\n",
    "                                               2:'caçamba',\n",
    "                                               3:'queimado',\n",
    "                                               4:'enterrado',\n",
    "                                               5:'aterro',\n",
    "                                               6:'rio',\n",
    "                                               7:'outro'})"
   ]
  },
  {
   "cell_type": "code",
   "execution_count": 154,
   "id": "7c5428c6",
   "metadata": {
    "ExecuteTime": {
     "end_time": "2023-03-14T15:43:10.723818Z",
     "start_time": "2023-03-14T15:43:10.699856Z"
    }
   },
   "outputs": [
    {
     "data": {
      "text/html": [
       "<div>\n",
       "<style scoped>\n",
       "    .dataframe tbody tr th:only-of-type {\n",
       "        vertical-align: middle;\n",
       "    }\n",
       "\n",
       "    .dataframe tbody tr th {\n",
       "        vertical-align: top;\n",
       "    }\n",
       "\n",
       "    .dataframe thead th {\n",
       "        text-align: right;\n",
       "    }\n",
       "</style>\n",
       "<table border=\"1\" class=\"dataframe\">\n",
       "  <thead>\n",
       "    <tr style=\"text-align: right;\">\n",
       "      <th></th>\n",
       "      <th>sigla_uf</th>\n",
       "      <th>situacao_domicilio</th>\n",
       "      <th>tipo_domicilio</th>\n",
       "      <th>condicao_domicilio</th>\n",
       "      <th>comodos</th>\n",
       "      <th>dormitorios</th>\n",
       "      <th>banheiros</th>\n",
       "      <th>agua</th>\n",
       "      <th>iluminacao</th>\n",
       "      <th>radio</th>\n",
       "      <th>...</th>\n",
       "      <th>telefone</th>\n",
       "      <th>computador</th>\n",
       "      <th>televisores</th>\n",
       "      <th>automoveis</th>\n",
       "      <th>ar_condicionado</th>\n",
       "      <th>coleta_lixo</th>\n",
       "      <th>moradores</th>\n",
       "      <th>homens</th>\n",
       "      <th>mulheres</th>\n",
       "      <th>rendimento</th>\n",
       "    </tr>\n",
       "  </thead>\n",
       "  <tbody>\n",
       "    <tr>\n",
       "      <th>0</th>\n",
       "      <td>CE</td>\n",
       "      <td>urbano</td>\n",
       "      <td>casa</td>\n",
       "      <td>proprio pago</td>\n",
       "      <td>3</td>\n",
       "      <td>2</td>\n",
       "      <td>0</td>\n",
       "      <td>poço</td>\n",
       "      <td>sim</td>\n",
       "      <td>1</td>\n",
       "      <td>...</td>\n",
       "      <td>2</td>\n",
       "      <td>2</td>\n",
       "      <td>1</td>\n",
       "      <td>0</td>\n",
       "      <td>0</td>\n",
       "      <td>aterro</td>\n",
       "      <td>5</td>\n",
       "      <td>3</td>\n",
       "      <td>2</td>\n",
       "      <td>240</td>\n",
       "    </tr>\n",
       "    <tr>\n",
       "      <th>1</th>\n",
       "      <td>GO</td>\n",
       "      <td>urbano</td>\n",
       "      <td>casa</td>\n",
       "      <td>proprio pago</td>\n",
       "      <td>6</td>\n",
       "      <td>3</td>\n",
       "      <td>1</td>\n",
       "      <td>rede geral</td>\n",
       "      <td>sim</td>\n",
       "      <td>1</td>\n",
       "      <td>...</td>\n",
       "      <td>1</td>\n",
       "      <td>2</td>\n",
       "      <td>1</td>\n",
       "      <td>0</td>\n",
       "      <td>0</td>\n",
       "      <td>serviço de limpeza</td>\n",
       "      <td>3</td>\n",
       "      <td>1</td>\n",
       "      <td>2</td>\n",
       "      <td>660</td>\n",
       "    </tr>\n",
       "    <tr>\n",
       "      <th>2</th>\n",
       "      <td>SP</td>\n",
       "      <td>urbano</td>\n",
       "      <td>apartamento</td>\n",
       "      <td>proprio pago</td>\n",
       "      <td>5</td>\n",
       "      <td>2</td>\n",
       "      <td>1</td>\n",
       "      <td>rede geral</td>\n",
       "      <td>sim</td>\n",
       "      <td>1</td>\n",
       "      <td>...</td>\n",
       "      <td>1</td>\n",
       "      <td>1</td>\n",
       "      <td>2</td>\n",
       "      <td>1</td>\n",
       "      <td>0</td>\n",
       "      <td>serviço de limpeza</td>\n",
       "      <td>3</td>\n",
       "      <td>1</td>\n",
       "      <td>2</td>\n",
       "      <td>3100</td>\n",
       "    </tr>\n",
       "    <tr>\n",
       "      <th>3</th>\n",
       "      <td>SP</td>\n",
       "      <td>urbano</td>\n",
       "      <td>casa</td>\n",
       "      <td>proprio pago</td>\n",
       "      <td>6</td>\n",
       "      <td>2</td>\n",
       "      <td>1</td>\n",
       "      <td>rede geral</td>\n",
       "      <td>sim</td>\n",
       "      <td>1</td>\n",
       "      <td>...</td>\n",
       "      <td>1</td>\n",
       "      <td>1</td>\n",
       "      <td>2</td>\n",
       "      <td>0</td>\n",
       "      <td>0</td>\n",
       "      <td>serviço de limpeza</td>\n",
       "      <td>6</td>\n",
       "      <td>1</td>\n",
       "      <td>5</td>\n",
       "      <td>1980</td>\n",
       "    </tr>\n",
       "    <tr>\n",
       "      <th>4</th>\n",
       "      <td>PE</td>\n",
       "      <td>urbano</td>\n",
       "      <td>casa</td>\n",
       "      <td>proprio pago</td>\n",
       "      <td>4</td>\n",
       "      <td>2</td>\n",
       "      <td>1</td>\n",
       "      <td>rede geral</td>\n",
       "      <td>sim</td>\n",
       "      <td>2</td>\n",
       "      <td>...</td>\n",
       "      <td>2</td>\n",
       "      <td>2</td>\n",
       "      <td>1</td>\n",
       "      <td>0</td>\n",
       "      <td>0</td>\n",
       "      <td>serviço de limpeza</td>\n",
       "      <td>13</td>\n",
       "      <td>4</td>\n",
       "      <td>9</td>\n",
       "      <td>391</td>\n",
       "    </tr>\n",
       "  </tbody>\n",
       "</table>\n",
       "<p>5 rows × 24 columns</p>\n",
       "</div>"
      ],
      "text/plain": [
       "  sigla_uf situacao_domicilio tipo_domicilio condicao_domicilio  comodos  \\\n",
       "0       CE             urbano           casa       proprio pago        3   \n",
       "1       GO             urbano           casa       proprio pago        6   \n",
       "2       SP             urbano    apartamento       proprio pago        5   \n",
       "3       SP             urbano           casa       proprio pago        6   \n",
       "4       PE             urbano           casa       proprio pago        4   \n",
       "\n",
       "   dormitorios  banheiros        agua iluminacao  radio  ...  telefone  \\\n",
       "0            2          0        poço        sim      1  ...         2   \n",
       "1            3          1  rede geral        sim      1  ...         1   \n",
       "2            2          1  rede geral        sim      1  ...         1   \n",
       "3            2          1  rede geral        sim      1  ...         1   \n",
       "4            2          1  rede geral        sim      2  ...         2   \n",
       "\n",
       "   computador  televisores  automoveis  ar_condicionado         coleta_lixo  \\\n",
       "0           2            1           0                0              aterro   \n",
       "1           2            1           0                0  serviço de limpeza   \n",
       "2           1            2           1                0  serviço de limpeza   \n",
       "3           1            2           0                0  serviço de limpeza   \n",
       "4           2            1           0                0  serviço de limpeza   \n",
       "\n",
       "   moradores  homens  mulheres rendimento  \n",
       "0          5       3         2        240  \n",
       "1          3       1         2        660  \n",
       "2          3       1         2       3100  \n",
       "3          6       1         5       1980  \n",
       "4         13       4         9        391  \n",
       "\n",
       "[5 rows x 24 columns]"
      ]
     },
     "execution_count": 154,
     "metadata": {},
     "output_type": "execute_result"
    }
   ],
   "source": [
    "df.head()"
   ]
  },
  {
   "cell_type": "code",
   "execution_count": 155,
   "id": "84adf7c7",
   "metadata": {
    "ExecuteTime": {
     "end_time": "2023-03-14T15:43:11.836209Z",
     "start_time": "2023-03-14T15:43:11.734199Z"
    }
   },
   "outputs": [],
   "source": [
    "# Train-Test Split\n",
    "\n",
    "X = df.drop('rendimento', axis=1)\n",
    "y = df['rendimento']\n",
    "\n",
    "X_train_val, X_test, y_train_val, y_test = train_test_split(X, y, test_size=0.1, random_state=42)\n",
    "X_train, X_val, y_train, y_val = train_test_split(X_train_val, y_train_val, test_size=0.11111, random_state=42)"
   ]
  },
  {
   "cell_type": "code",
   "execution_count": 156,
   "id": "615cca90",
   "metadata": {
    "ExecuteTime": {
     "end_time": "2023-03-14T15:43:13.032075Z",
     "start_time": "2023-03-14T15:43:13.025878Z"
    }
   },
   "outputs": [
    {
     "name": "stdout",
     "output_type": "stream",
     "text": [
      "train: 80000, validation: 10000, test: 10000\n"
     ]
    }
   ],
   "source": [
    "print(f'train: {y_train.shape[0]}, validation: {y_val.shape[0]}, test: {y_test.shape[0]}')"
   ]
  },
  {
   "cell_type": "markdown",
   "id": "96f8ba33",
   "metadata": {},
   "source": [
    "## EDA"
   ]
  },
  {
   "cell_type": "code",
   "execution_count": 157,
   "id": "52c1ce9f",
   "metadata": {
    "ExecuteTime": {
     "end_time": "2023-03-14T15:43:14.600655Z",
     "start_time": "2023-03-14T15:43:14.146351Z"
    }
   },
   "outputs": [
    {
     "data": {
      "image/png": "[encoded data removed]",
      "text/plain": [
       "<Figure size 720x288 with 2 Axes>"
      ]
     },
     "metadata": {
      "needs_background": "light"
     },
     "output_type": "display_data"
    }
   ],
   "source": [
    "# O target é extremamente assimétrico\n",
    "\n",
    "plt.figure(figsize=(10,4))\n",
    "\n",
    "plt.subplot(1,2,1)\n",
    "plt.hist(y_train, bins=100)\n",
    "\n",
    "plt.subplot(1,2,2)\n",
    "plt.boxplot(y_train)\n",
    "\n",
    "plt.show()"
   ]
  },
  {
   "cell_type": "code",
   "execution_count": 158,
   "id": "cf298e28",
   "metadata": {
    "ExecuteTime": {
     "end_time": "2023-03-14T15:43:22.682546Z",
     "start_time": "2023-03-14T15:43:22.669681Z"
    },
    "scrolled": true
   },
   "outputs": [
    {
     "data": {
      "text/plain": [
       "count    80000.000000\n",
       "mean      1081.719850\n",
       "std       2127.363233\n",
       "min          4.000000\n",
       "25%        282.000000\n",
       "50%        511.000000\n",
       "75%       1082.000000\n",
       "max      95500.000000\n",
       "Name: rendimento, dtype: float64"
      ]
     },
     "execution_count": 158,
     "metadata": {},
     "output_type": "execute_result"
    }
   ],
   "source": [
    "y_train.describe()"
   ]
  },
  {
   "cell_type": "code",
   "execution_count": 159,
   "id": "83bc428d",
   "metadata": {
    "ExecuteTime": {
     "end_time": "2023-03-14T15:43:24.051133Z",
     "start_time": "2023-03-14T15:43:23.696383Z"
    }
   },
   "outputs": [
    {
     "data": {
      "image/png": "[encoded data removed]",
      "text/plain": [
       "<Figure size 720x288 with 2 Axes>"
      ]
     },
     "metadata": {
      "needs_background": "light"
     },
     "output_type": "display_data"
    }
   ],
   "source": [
    "# O target é extremamente assimétrico\n",
    "\n",
    "plt.figure(figsize=(10,4))\n",
    "\n",
    "plt.subplot(1,2,1)\n",
    "plt.hist(np.log(y_train), bins=100)\n",
    "\n",
    "plt.subplot(1,2,2)\n",
    "plt.boxplot(np.log(y_train))\n",
    "\n",
    "plt.show()"
   ]
  },
  {
   "cell_type": "markdown",
   "id": "e308fc50",
   "metadata": {},
   "source": [
    "### sigla_uf"
   ]
  },
  {
   "cell_type": "code",
   "execution_count": 160,
   "id": "8390a6ff",
   "metadata": {
    "ExecuteTime": {
     "end_time": "2023-03-14T15:43:26.345916Z",
     "start_time": "2023-03-14T15:43:26.039427Z"
    }
   },
   "outputs": [
    {
     "data": {
      "image/png": "[encoded data removed]",
      "text/plain": [
       "<Figure size 576x216 with 1 Axes>"
      ]
     },
     "metadata": {
      "needs_background": "light"
     },
     "output_type": "display_data"
    }
   ],
   "source": [
    "plt.figure(figsize=(8,3))\n",
    "X_train['sigla_uf'].value_counts().plot(kind='bar')\n",
    "plt.show()"
   ]
  },
  {
   "cell_type": "code",
   "execution_count": 161,
   "id": "a1ef0e96",
   "metadata": {
    "ExecuteTime": {
     "end_time": "2023-03-14T15:43:27.448254Z",
     "start_time": "2023-03-14T15:43:27.388713Z"
    }
   },
   "outputs": [
    {
     "data": {
      "text/html": [
       "<div>\n",
       "<style scoped>\n",
       "    .dataframe tbody tr th:only-of-type {\n",
       "        vertical-align: middle;\n",
       "    }\n",
       "\n",
       "    .dataframe tbody tr th {\n",
       "        vertical-align: top;\n",
       "    }\n",
       "\n",
       "    .dataframe thead th {\n",
       "        text-align: right;\n",
       "    }\n",
       "</style>\n",
       "<table border=\"1\" class=\"dataframe\">\n",
       "  <thead>\n",
       "    <tr style=\"text-align: right;\">\n",
       "      <th></th>\n",
       "      <th>rendimento</th>\n",
       "    </tr>\n",
       "    <tr>\n",
       "      <th>sigla_uf</th>\n",
       "      <th></th>\n",
       "    </tr>\n",
       "  </thead>\n",
       "  <tbody>\n",
       "    <tr>\n",
       "      <th>DF</th>\n",
       "      <td>968.5</td>\n",
       "    </tr>\n",
       "    <tr>\n",
       "      <th>SP</th>\n",
       "      <td>821.0</td>\n",
       "    </tr>\n",
       "    <tr>\n",
       "      <th>RJ</th>\n",
       "      <td>750.0</td>\n",
       "    </tr>\n",
       "    <tr>\n",
       "      <th>SC</th>\n",
       "      <td>700.0</td>\n",
       "    </tr>\n",
       "    <tr>\n",
       "      <th>RS</th>\n",
       "      <td>628.0</td>\n",
       "    </tr>\n",
       "    <tr>\n",
       "      <th>AP</th>\n",
       "      <td>604.0</td>\n",
       "    </tr>\n",
       "    <tr>\n",
       "      <th>RR</th>\n",
       "      <td>590.0</td>\n",
       "    </tr>\n",
       "    <tr>\n",
       "      <th>PR</th>\n",
       "      <td>550.0</td>\n",
       "    </tr>\n",
       "    <tr>\n",
       "      <th>MT</th>\n",
       "      <td>550.0</td>\n",
       "    </tr>\n",
       "    <tr>\n",
       "      <th>ES</th>\n",
       "      <td>530.0</td>\n",
       "    </tr>\n",
       "    <tr>\n",
       "      <th>RO</th>\n",
       "      <td>500.0</td>\n",
       "    </tr>\n",
       "    <tr>\n",
       "      <th>MG</th>\n",
       "      <td>500.0</td>\n",
       "    </tr>\n",
       "    <tr>\n",
       "      <th>MS</th>\n",
       "      <td>493.5</td>\n",
       "    </tr>\n",
       "    <tr>\n",
       "      <th>GO</th>\n",
       "      <td>480.0</td>\n",
       "    </tr>\n",
       "    <tr>\n",
       "      <th>AM</th>\n",
       "      <td>451.0</td>\n",
       "    </tr>\n",
       "    <tr>\n",
       "      <th>PA</th>\n",
       "      <td>400.0</td>\n",
       "    </tr>\n",
       "    <tr>\n",
       "      <th>RN</th>\n",
       "      <td>340.0</td>\n",
       "    </tr>\n",
       "    <tr>\n",
       "      <th>AC</th>\n",
       "      <td>340.0</td>\n",
       "    </tr>\n",
       "    <tr>\n",
       "      <th>TO</th>\n",
       "      <td>320.0</td>\n",
       "    </tr>\n",
       "    <tr>\n",
       "      <th>PE</th>\n",
       "      <td>311.0</td>\n",
       "    </tr>\n",
       "    <tr>\n",
       "      <th>PB</th>\n",
       "      <td>302.0</td>\n",
       "    </tr>\n",
       "    <tr>\n",
       "      <th>CE</th>\n",
       "      <td>302.0</td>\n",
       "    </tr>\n",
       "    <tr>\n",
       "      <th>SE</th>\n",
       "      <td>302.0</td>\n",
       "    </tr>\n",
       "    <tr>\n",
       "      <th>BA</th>\n",
       "      <td>302.0</td>\n",
       "    </tr>\n",
       "    <tr>\n",
       "      <th>PI</th>\n",
       "      <td>291.0</td>\n",
       "    </tr>\n",
       "    <tr>\n",
       "      <th>AL</th>\n",
       "      <td>285.5</td>\n",
       "    </tr>\n",
       "    <tr>\n",
       "      <th>MA</th>\n",
       "      <td>250.0</td>\n",
       "    </tr>\n",
       "  </tbody>\n",
       "</table>\n",
       "</div>"
      ],
      "text/plain": [
       "          rendimento\n",
       "sigla_uf            \n",
       "DF             968.5\n",
       "SP             821.0\n",
       "RJ             750.0\n",
       "SC             700.0\n",
       "RS             628.0\n",
       "AP             604.0\n",
       "RR             590.0\n",
       "PR             550.0\n",
       "MT             550.0\n",
       "ES             530.0\n",
       "RO             500.0\n",
       "MG             500.0\n",
       "MS             493.5\n",
       "GO             480.0\n",
       "AM             451.0\n",
       "PA             400.0\n",
       "RN             340.0\n",
       "AC             340.0\n",
       "TO             320.0\n",
       "PE             311.0\n",
       "PB             302.0\n",
       "CE             302.0\n",
       "SE             302.0\n",
       "BA             302.0\n",
       "PI             291.0\n",
       "AL             285.5\n",
       "MA             250.0"
      ]
     },
     "execution_count": 161,
     "metadata": {},
     "output_type": "execute_result"
    }
   ],
   "source": [
    "X_train.join(y_train)[['sigla_uf', 'rendimento']].groupby('sigla_uf').median().sort_values(by='rendimento', ascending=False)"
   ]
  },
  {
   "cell_type": "markdown",
   "id": "645d1a4b",
   "metadata": {
    "ExecuteTime": {
     "end_time": "2023-03-11T23:50:27.590669Z",
     "start_time": "2023-03-11T23:50:27.561879Z"
    }
   },
   "source": [
    "### situacao_domicilio"
   ]
  },
  {
   "cell_type": "code",
   "execution_count": 162,
   "id": "53a4dda9",
   "metadata": {
    "ExecuteTime": {
     "end_time": "2023-03-14T15:43:28.607499Z",
     "start_time": "2023-03-14T15:43:28.445345Z"
    },
    "scrolled": true
   },
   "outputs": [
    {
     "data": {
      "image/png": "[encoded data removed]",
      "text/plain": [
       "<Figure size 432x288 with 1 Axes>"
      ]
     },
     "metadata": {
      "needs_background": "light"
     },
     "output_type": "display_data"
    }
   ],
   "source": [
    "X_train['situacao_domicilio'].value_counts().plot(kind='bar')\n",
    "plt.show()"
   ]
  },
  {
   "cell_type": "code",
   "execution_count": 163,
   "id": "e9b077f5",
   "metadata": {
    "ExecuteTime": {
     "end_time": "2023-03-14T15:43:29.633635Z",
     "start_time": "2023-03-14T15:43:29.575401Z"
    },
    "scrolled": true
   },
   "outputs": [
    {
     "data": {
      "text/html": [
       "<div>\n",
       "<style scoped>\n",
       "    .dataframe tbody tr th:only-of-type {\n",
       "        vertical-align: middle;\n",
       "    }\n",
       "\n",
       "    .dataframe tbody tr th {\n",
       "        vertical-align: top;\n",
       "    }\n",
       "\n",
       "    .dataframe thead th {\n",
       "        text-align: right;\n",
       "    }\n",
       "</style>\n",
       "<table border=\"1\" class=\"dataframe\">\n",
       "  <thead>\n",
       "    <tr style=\"text-align: right;\">\n",
       "      <th></th>\n",
       "      <th>comodos</th>\n",
       "      <th>dormitorios</th>\n",
       "      <th>banheiros</th>\n",
       "      <th>radio</th>\n",
       "      <th>geladeira</th>\n",
       "      <th>videocassete</th>\n",
       "      <th>maquina_lavar</th>\n",
       "      <th>microondas</th>\n",
       "      <th>telefone</th>\n",
       "      <th>computador</th>\n",
       "      <th>televisores</th>\n",
       "      <th>automoveis</th>\n",
       "      <th>ar_condicionado</th>\n",
       "      <th>moradores</th>\n",
       "      <th>homens</th>\n",
       "      <th>mulheres</th>\n",
       "      <th>rendimento</th>\n",
       "    </tr>\n",
       "    <tr>\n",
       "      <th>situacao_domicilio</th>\n",
       "      <th></th>\n",
       "      <th></th>\n",
       "      <th></th>\n",
       "      <th></th>\n",
       "      <th></th>\n",
       "      <th></th>\n",
       "      <th></th>\n",
       "      <th></th>\n",
       "      <th></th>\n",
       "      <th></th>\n",
       "      <th></th>\n",
       "      <th></th>\n",
       "      <th></th>\n",
       "      <th></th>\n",
       "      <th></th>\n",
       "      <th></th>\n",
       "      <th></th>\n",
       "    </tr>\n",
       "  </thead>\n",
       "  <tbody>\n",
       "    <tr>\n",
       "      <th>urbano</th>\n",
       "      <td>5.0</td>\n",
       "      <td>2.0</td>\n",
       "      <td>1.0</td>\n",
       "      <td>1.0</td>\n",
       "      <td>1.0</td>\n",
       "      <td>2.0</td>\n",
       "      <td>2.0</td>\n",
       "      <td>2.0</td>\n",
       "      <td>2.0</td>\n",
       "      <td>2.0</td>\n",
       "      <td>1.0</td>\n",
       "      <td>0.0</td>\n",
       "      <td>0.0</td>\n",
       "      <td>4.0</td>\n",
       "      <td>2.0</td>\n",
       "      <td>2.0</td>\n",
       "      <td>602.0</td>\n",
       "    </tr>\n",
       "    <tr>\n",
       "      <th>rural</th>\n",
       "      <td>5.0</td>\n",
       "      <td>2.0</td>\n",
       "      <td>1.0</td>\n",
       "      <td>1.0</td>\n",
       "      <td>1.0</td>\n",
       "      <td>2.0</td>\n",
       "      <td>2.0</td>\n",
       "      <td>2.0</td>\n",
       "      <td>2.0</td>\n",
       "      <td>2.0</td>\n",
       "      <td>1.0</td>\n",
       "      <td>0.0</td>\n",
       "      <td>0.0</td>\n",
       "      <td>4.0</td>\n",
       "      <td>2.0</td>\n",
       "      <td>2.0</td>\n",
       "      <td>300.0</td>\n",
       "    </tr>\n",
       "  </tbody>\n",
       "</table>\n",
       "</div>"
      ],
      "text/plain": [
       "                    comodos  dormitorios  banheiros  radio  geladeira  \\\n",
       "situacao_domicilio                                                      \n",
       "urbano                  5.0          2.0        1.0    1.0        1.0   \n",
       "rural                   5.0          2.0        1.0    1.0        1.0   \n",
       "\n",
       "                    videocassete  maquina_lavar  microondas  telefone  \\\n",
       "situacao_domicilio                                                      \n",
       "urbano                       2.0            2.0         2.0       2.0   \n",
       "rural                        2.0            2.0         2.0       2.0   \n",
       "\n",
       "                    computador  televisores  automoveis  ar_condicionado  \\\n",
       "situacao_domicilio                                                         \n",
       "urbano                     2.0          1.0         0.0              0.0   \n",
       "rural                      2.0          1.0         0.0              0.0   \n",
       "\n",
       "                    moradores  homens  mulheres  rendimento  \n",
       "situacao_domicilio                                           \n",
       "urbano                    4.0     2.0       2.0       602.0  \n",
       "rural                     4.0     2.0       2.0       300.0  "
      ]
     },
     "execution_count": 163,
     "metadata": {},
     "output_type": "execute_result"
    }
   ],
   "source": [
    "X_train.join(y_train).groupby('situacao_domicilio').median().sort_values(by='rendimento', ascending=False)"
   ]
  },
  {
   "cell_type": "markdown",
   "id": "a3e0ffe1",
   "metadata": {},
   "source": [
    "### condicao_domicilio"
   ]
  },
  {
   "cell_type": "code",
   "execution_count": 164,
   "id": "2523f3cb",
   "metadata": {
    "ExecuteTime": {
     "end_time": "2023-03-14T15:43:30.858647Z",
     "start_time": "2023-03-14T15:43:30.635859Z"
    },
    "scrolled": false
   },
   "outputs": [
    {
     "data": {
      "image/png": "[encoded data removed]",
      "text/plain": [
       "<Figure size 432x288 with 1 Axes>"
      ]
     },
     "metadata": {
      "needs_background": "light"
     },
     "output_type": "display_data"
    }
   ],
   "source": [
    "X_train['condicao_domicilio'].value_counts().plot(kind='bar')\n",
    "plt.show()"
   ]
  },
  {
   "cell_type": "code",
   "execution_count": 165,
   "id": "0295eb41",
   "metadata": {
    "ExecuteTime": {
     "end_time": "2023-03-14T15:43:31.878270Z",
     "start_time": "2023-03-14T15:43:31.854436Z"
    }
   },
   "outputs": [
    {
     "data": {
      "text/html": [
       "<div>\n",
       "<style scoped>\n",
       "    .dataframe tbody tr th:only-of-type {\n",
       "        vertical-align: middle;\n",
       "    }\n",
       "\n",
       "    .dataframe tbody tr th {\n",
       "        vertical-align: top;\n",
       "    }\n",
       "\n",
       "    .dataframe thead th {\n",
       "        text-align: right;\n",
       "    }\n",
       "</style>\n",
       "<table border=\"1\" class=\"dataframe\">\n",
       "  <thead>\n",
       "    <tr style=\"text-align: right;\">\n",
       "      <th></th>\n",
       "      <th>sigla_uf</th>\n",
       "      <th>situacao_domicilio</th>\n",
       "      <th>tipo_domicilio</th>\n",
       "      <th>condicao_domicilio</th>\n",
       "      <th>comodos</th>\n",
       "      <th>dormitorios</th>\n",
       "      <th>banheiros</th>\n",
       "      <th>agua</th>\n",
       "      <th>iluminacao</th>\n",
       "      <th>radio</th>\n",
       "      <th>...</th>\n",
       "      <th>microondas</th>\n",
       "      <th>telefone</th>\n",
       "      <th>computador</th>\n",
       "      <th>televisores</th>\n",
       "      <th>automoveis</th>\n",
       "      <th>ar_condicionado</th>\n",
       "      <th>coleta_lixo</th>\n",
       "      <th>moradores</th>\n",
       "      <th>homens</th>\n",
       "      <th>mulheres</th>\n",
       "    </tr>\n",
       "  </thead>\n",
       "  <tbody>\n",
       "    <tr>\n",
       "      <th>68111</th>\n",
       "      <td>RJ</td>\n",
       "      <td>urbano</td>\n",
       "      <td>casa</td>\n",
       "      <td>proprio pago</td>\n",
       "      <td>4</td>\n",
       "      <td>1</td>\n",
       "      <td>1</td>\n",
       "      <td>rede geral</td>\n",
       "      <td>sim</td>\n",
       "      <td>1</td>\n",
       "      <td>...</td>\n",
       "      <td>2</td>\n",
       "      <td>2</td>\n",
       "      <td>2</td>\n",
       "      <td>1</td>\n",
       "      <td>0</td>\n",
       "      <td>0</td>\n",
       "      <td>serviço de limpeza</td>\n",
       "      <td>4</td>\n",
       "      <td>1</td>\n",
       "      <td>3</td>\n",
       "    </tr>\n",
       "    <tr>\n",
       "      <th>44812</th>\n",
       "      <td>PI</td>\n",
       "      <td>urbano</td>\n",
       "      <td>casa</td>\n",
       "      <td>proprio pago</td>\n",
       "      <td>6</td>\n",
       "      <td>2</td>\n",
       "      <td>1</td>\n",
       "      <td>rede geral</td>\n",
       "      <td>sim</td>\n",
       "      <td>1</td>\n",
       "      <td>...</td>\n",
       "      <td>2</td>\n",
       "      <td>2</td>\n",
       "      <td>2</td>\n",
       "      <td>1</td>\n",
       "      <td>0</td>\n",
       "      <td>0</td>\n",
       "      <td>serviço de limpeza</td>\n",
       "      <td>4</td>\n",
       "      <td>1</td>\n",
       "      <td>3</td>\n",
       "    </tr>\n",
       "    <tr>\n",
       "      <th>76085</th>\n",
       "      <td>RJ</td>\n",
       "      <td>urbano</td>\n",
       "      <td>casa</td>\n",
       "      <td>alugado</td>\n",
       "      <td>2</td>\n",
       "      <td>1</td>\n",
       "      <td>1</td>\n",
       "      <td>outro</td>\n",
       "      <td>sim</td>\n",
       "      <td>1</td>\n",
       "      <td>...</td>\n",
       "      <td>2</td>\n",
       "      <td>2</td>\n",
       "      <td>2</td>\n",
       "      <td>0</td>\n",
       "      <td>0</td>\n",
       "      <td>0</td>\n",
       "      <td>serviço de limpeza</td>\n",
       "      <td>1</td>\n",
       "      <td>1</td>\n",
       "      <td>0</td>\n",
       "    </tr>\n",
       "    <tr>\n",
       "      <th>37522</th>\n",
       "      <td>RS</td>\n",
       "      <td>urbano</td>\n",
       "      <td>casa</td>\n",
       "      <td>outro</td>\n",
       "      <td>3</td>\n",
       "      <td>2</td>\n",
       "      <td>1</td>\n",
       "      <td>rede geral</td>\n",
       "      <td>sim</td>\n",
       "      <td>1</td>\n",
       "      <td>...</td>\n",
       "      <td>2</td>\n",
       "      <td>2</td>\n",
       "      <td>2</td>\n",
       "      <td>1</td>\n",
       "      <td>0</td>\n",
       "      <td>0</td>\n",
       "      <td>serviço de limpeza</td>\n",
       "      <td>5</td>\n",
       "      <td>1</td>\n",
       "      <td>4</td>\n",
       "    </tr>\n",
       "    <tr>\n",
       "      <th>11556</th>\n",
       "      <td>PE</td>\n",
       "      <td>urbano</td>\n",
       "      <td>casa</td>\n",
       "      <td>proprio pago</td>\n",
       "      <td>6</td>\n",
       "      <td>2</td>\n",
       "      <td>1</td>\n",
       "      <td>rede geral</td>\n",
       "      <td>sim</td>\n",
       "      <td>1</td>\n",
       "      <td>...</td>\n",
       "      <td>2</td>\n",
       "      <td>2</td>\n",
       "      <td>2</td>\n",
       "      <td>2</td>\n",
       "      <td>0</td>\n",
       "      <td>0</td>\n",
       "      <td>serviço de limpeza</td>\n",
       "      <td>4</td>\n",
       "      <td>1</td>\n",
       "      <td>3</td>\n",
       "    </tr>\n",
       "  </tbody>\n",
       "</table>\n",
       "<p>5 rows × 23 columns</p>\n",
       "</div>"
      ],
      "text/plain": [
       "      sigla_uf situacao_domicilio tipo_domicilio condicao_domicilio  comodos  \\\n",
       "68111       RJ             urbano           casa       proprio pago        4   \n",
       "44812       PI             urbano           casa       proprio pago        6   \n",
       "76085       RJ             urbano           casa            alugado        2   \n",
       "37522       RS             urbano           casa              outro        3   \n",
       "11556       PE             urbano           casa       proprio pago        6   \n",
       "\n",
       "       dormitorios  banheiros        agua iluminacao  radio  ...  microondas  \\\n",
       "68111            1          1  rede geral        sim      1  ...           2   \n",
       "44812            2          1  rede geral        sim      1  ...           2   \n",
       "76085            1          1       outro        sim      1  ...           2   \n",
       "37522            2          1  rede geral        sim      1  ...           2   \n",
       "11556            2          1  rede geral        sim      1  ...           2   \n",
       "\n",
       "       telefone  computador  televisores  automoveis  ar_condicionado  \\\n",
       "68111         2           2            1           0                0   \n",
       "44812         2           2            1           0                0   \n",
       "76085         2           2            0           0                0   \n",
       "37522         2           2            1           0                0   \n",
       "11556         2           2            2           0                0   \n",
       "\n",
       "              coleta_lixo  moradores  homens mulheres  \n",
       "68111  serviço de limpeza          4       1        3  \n",
       "44812  serviço de limpeza          4       1        3  \n",
       "76085  serviço de limpeza          1       1        0  \n",
       "37522  serviço de limpeza          5       1        4  \n",
       "11556  serviço de limpeza          4       1        3  \n",
       "\n",
       "[5 rows x 23 columns]"
      ]
     },
     "execution_count": 165,
     "metadata": {},
     "output_type": "execute_result"
    }
   ],
   "source": [
    "X_train.head()"
   ]
  },
  {
   "cell_type": "markdown",
   "id": "6d70e202",
   "metadata": {},
   "source": [
    "### tipo_domicilio"
   ]
  },
  {
   "cell_type": "code",
   "execution_count": 166,
   "id": "b9100419",
   "metadata": {
    "ExecuteTime": {
     "end_time": "2023-03-14T15:43:33.005271Z",
     "start_time": "2023-03-14T15:43:32.839265Z"
    }
   },
   "outputs": [
    {
     "data": {
      "image/png": "[encoded data removed]",
      "text/plain": [
       "<Figure size 432x288 with 1 Axes>"
      ]
     },
     "metadata": {
      "needs_background": "light"
     },
     "output_type": "display_data"
    }
   ],
   "source": [
    "X_train['tipo_domicilio'].value_counts().plot(kind='bar')\n",
    "plt.show()"
   ]
  },
  {
   "cell_type": "code",
   "execution_count": 167,
   "id": "86dae20c",
   "metadata": {
    "ExecuteTime": {
     "end_time": "2023-03-14T15:43:34.002347Z",
     "start_time": "2023-03-14T15:43:33.949775Z"
    },
    "scrolled": true
   },
   "outputs": [
    {
     "data": {
      "text/html": [
       "<div>\n",
       "<style scoped>\n",
       "    .dataframe tbody tr th:only-of-type {\n",
       "        vertical-align: middle;\n",
       "    }\n",
       "\n",
       "    .dataframe tbody tr th {\n",
       "        vertical-align: top;\n",
       "    }\n",
       "\n",
       "    .dataframe thead th {\n",
       "        text-align: right;\n",
       "    }\n",
       "</style>\n",
       "<table border=\"1\" class=\"dataframe\">\n",
       "  <thead>\n",
       "    <tr style=\"text-align: right;\">\n",
       "      <th></th>\n",
       "      <th>comodos</th>\n",
       "      <th>dormitorios</th>\n",
       "      <th>banheiros</th>\n",
       "      <th>radio</th>\n",
       "      <th>geladeira</th>\n",
       "      <th>videocassete</th>\n",
       "      <th>maquina_lavar</th>\n",
       "      <th>microondas</th>\n",
       "      <th>telefone</th>\n",
       "      <th>computador</th>\n",
       "      <th>televisores</th>\n",
       "      <th>automoveis</th>\n",
       "      <th>ar_condicionado</th>\n",
       "      <th>moradores</th>\n",
       "      <th>homens</th>\n",
       "      <th>mulheres</th>\n",
       "      <th>rendimento</th>\n",
       "    </tr>\n",
       "    <tr>\n",
       "      <th>tipo_domicilio</th>\n",
       "      <th></th>\n",
       "      <th></th>\n",
       "      <th></th>\n",
       "      <th></th>\n",
       "      <th></th>\n",
       "      <th></th>\n",
       "      <th></th>\n",
       "      <th></th>\n",
       "      <th></th>\n",
       "      <th></th>\n",
       "      <th></th>\n",
       "      <th></th>\n",
       "      <th></th>\n",
       "      <th></th>\n",
       "      <th></th>\n",
       "      <th></th>\n",
       "      <th></th>\n",
       "    </tr>\n",
       "  </thead>\n",
       "  <tbody>\n",
       "    <tr>\n",
       "      <th>apartamento</th>\n",
       "      <td>6.0</td>\n",
       "      <td>2.0</td>\n",
       "      <td>1.0</td>\n",
       "      <td>1.0</td>\n",
       "      <td>1.0</td>\n",
       "      <td>1.0</td>\n",
       "      <td>1.0</td>\n",
       "      <td>1.0</td>\n",
       "      <td>1.0</td>\n",
       "      <td>2.0</td>\n",
       "      <td>2.0</td>\n",
       "      <td>1.0</td>\n",
       "      <td>0.0</td>\n",
       "      <td>3.0</td>\n",
       "      <td>1.0</td>\n",
       "      <td>1.0</td>\n",
       "      <td>1800.0</td>\n",
       "    </tr>\n",
       "    <tr>\n",
       "      <th>casa</th>\n",
       "      <td>5.0</td>\n",
       "      <td>2.0</td>\n",
       "      <td>1.0</td>\n",
       "      <td>1.0</td>\n",
       "      <td>1.0</td>\n",
       "      <td>2.0</td>\n",
       "      <td>2.0</td>\n",
       "      <td>2.0</td>\n",
       "      <td>2.0</td>\n",
       "      <td>2.0</td>\n",
       "      <td>1.0</td>\n",
       "      <td>0.0</td>\n",
       "      <td>0.0</td>\n",
       "      <td>4.0</td>\n",
       "      <td>2.0</td>\n",
       "      <td>2.0</td>\n",
       "      <td>490.0</td>\n",
       "    </tr>\n",
       "    <tr>\n",
       "      <th>comodo</th>\n",
       "      <td>2.0</td>\n",
       "      <td>1.0</td>\n",
       "      <td>1.0</td>\n",
       "      <td>1.0</td>\n",
       "      <td>1.0</td>\n",
       "      <td>2.0</td>\n",
       "      <td>2.0</td>\n",
       "      <td>2.0</td>\n",
       "      <td>2.0</td>\n",
       "      <td>2.0</td>\n",
       "      <td>1.0</td>\n",
       "      <td>0.0</td>\n",
       "      <td>0.0</td>\n",
       "      <td>2.0</td>\n",
       "      <td>1.0</td>\n",
       "      <td>1.0</td>\n",
       "      <td>300.0</td>\n",
       "    </tr>\n",
       "  </tbody>\n",
       "</table>\n",
       "</div>"
      ],
      "text/plain": [
       "                comodos  dormitorios  banheiros  radio  geladeira  \\\n",
       "tipo_domicilio                                                      \n",
       "apartamento         6.0          2.0        1.0    1.0        1.0   \n",
       "casa                5.0          2.0        1.0    1.0        1.0   \n",
       "comodo              2.0          1.0        1.0    1.0        1.0   \n",
       "\n",
       "                videocassete  maquina_lavar  microondas  telefone  computador  \\\n",
       "tipo_domicilio                                                                  \n",
       "apartamento              1.0            1.0         1.0       1.0         2.0   \n",
       "casa                     2.0            2.0         2.0       2.0         2.0   \n",
       "comodo                   2.0            2.0         2.0       2.0         2.0   \n",
       "\n",
       "                televisores  automoveis  ar_condicionado  moradores  homens  \\\n",
       "tipo_domicilio                                                                \n",
       "apartamento             2.0         1.0              0.0        3.0     1.0   \n",
       "casa                    1.0         0.0              0.0        4.0     2.0   \n",
       "comodo                  1.0         0.0              0.0        2.0     1.0   \n",
       "\n",
       "                mulheres  rendimento  \n",
       "tipo_domicilio                        \n",
       "apartamento          1.0      1800.0  \n",
       "casa                 2.0       490.0  \n",
       "comodo               1.0       300.0  "
      ]
     },
     "execution_count": 167,
     "metadata": {},
     "output_type": "execute_result"
    }
   ],
   "source": [
    "X_train.join(y_train).groupby('tipo_domicilio').median().sort_values(by='rendimento', ascending=False)"
   ]
  },
  {
   "cell_type": "markdown",
   "id": "aa864c15",
   "metadata": {
    "ExecuteTime": {
     "end_time": "2023-03-12T00:01:41.039200Z",
     "start_time": "2023-03-12T00:01:41.034529Z"
    }
   },
   "source": [
    "### comodos"
   ]
  },
  {
   "cell_type": "code",
   "execution_count": 168,
   "id": "ee04b68d",
   "metadata": {
    "ExecuteTime": {
     "end_time": "2023-03-14T15:43:35.190642Z",
     "start_time": "2023-03-14T15:43:34.941569Z"
    },
    "scrolled": true
   },
   "outputs": [
    {
     "data": {
      "image/png": "[encoded data removed]",
      "text/plain": [
       "<Figure size 432x288 with 1 Axes>"
      ]
     },
     "metadata": {
      "needs_background": "light"
     },
     "output_type": "display_data"
    }
   ],
   "source": [
    "sns.histplot(data=X_train, x='comodos', discrete=True);"
   ]
  },
  {
   "cell_type": "code",
   "execution_count": 169,
   "id": "29300a68",
   "metadata": {
    "ExecuteTime": {
     "end_time": "2023-03-14T15:43:36.146696Z",
     "start_time": "2023-03-14T15:43:36.135768Z"
    },
    "scrolled": false
   },
   "outputs": [
    {
     "data": {
      "text/plain": [
       "count    80000.000000\n",
       "mean         5.728413\n",
       "std          2.359337\n",
       "min          1.000000\n",
       "25%          4.000000\n",
       "50%          5.000000\n",
       "75%          7.000000\n",
       "max         30.000000\n",
       "Name: comodos, dtype: float64"
      ]
     },
     "execution_count": 169,
     "metadata": {},
     "output_type": "execute_result"
    }
   ],
   "source": [
    "X_train['comodos'].describe()"
   ]
  },
  {
   "cell_type": "code",
   "execution_count": 264,
   "id": "45d5053f",
   "metadata": {
    "ExecuteTime": {
     "end_time": "2023-03-14T16:51:32.057240Z",
     "start_time": "2023-03-14T16:51:31.832880Z"
    }
   },
   "outputs": [
    {
     "data": {
      "image/png": "[encoded data removed]",
      "text/plain": [
       "<Figure size 432x288 with 1 Axes>"
      ]
     },
     "metadata": {
      "needs_background": "light"
     },
     "output_type": "display_data"
    }
   ],
   "source": [
    "sns.histplot(data=X_train, x='dormitorios', discrete=True);"
   ]
  },
  {
   "cell_type": "code",
   "execution_count": 266,
   "id": "5fa21c1a",
   "metadata": {
    "ExecuteTime": {
     "end_time": "2023-03-14T16:51:56.711824Z",
     "start_time": "2023-03-14T16:51:56.484028Z"
    },
    "scrolled": true
   },
   "outputs": [
    {
     "data": {
      "image/png": "[encoded data removed]",
      "text/plain": [
       "<Figure size 432x288 with 1 Axes>"
      ]
     },
     "metadata": {
      "needs_background": "light"
     },
     "output_type": "display_data"
    }
   ],
   "source": [
    "sns.histplot(data=X_train, x='banheiros', discrete=True);"
   ]
  },
  {
   "cell_type": "code",
   "execution_count": 267,
   "id": "3b2bc72b",
   "metadata": {
    "ExecuteTime": {
     "end_time": "2023-03-14T16:52:25.152147Z",
     "start_time": "2023-03-14T16:52:24.950947Z"
    },
    "scrolled": true
   },
   "outputs": [
    {
     "data": {
      "image/png": "[encoded data removed]",
      "text/plain": [
       "<Figure size 432x288 with 1 Axes>"
      ]
     },
     "metadata": {
      "needs_background": "light"
     },
     "output_type": "display_data"
    }
   ],
   "source": [
    "X_train['agua'].value_counts().plot(kind='bar')\n",
    "plt.show()"
   ]
  },
  {
   "cell_type": "code",
   "execution_count": 268,
   "id": "7fa412e6",
   "metadata": {
    "ExecuteTime": {
     "end_time": "2023-03-14T16:52:45.980185Z",
     "start_time": "2023-03-14T16:52:45.787660Z"
    },
    "scrolled": true
   },
   "outputs": [
    {
     "data": {
      "image/png": "[encoded data removed]",
      "text/plain": [
       "<Figure size 432x288 with 1 Axes>"
      ]
     },
     "metadata": {
      "needs_background": "light"
     },
     "output_type": "display_data"
    }
   ],
   "source": [
    "X_train['iluminacao'].value_counts().plot(kind='bar')\n",
    "plt.show()"
   ]
  },
  {
   "cell_type": "code",
   "execution_count": 270,
   "id": "7e23bea2",
   "metadata": {
    "ExecuteTime": {
     "end_time": "2023-03-14T16:53:16.412431Z",
     "start_time": "2023-03-14T16:53:16.170944Z"
    }
   },
   "outputs": [
    {
     "data": {
      "image/png": "[encoded data removed]",
      "text/plain": [
       "<Figure size 432x288 with 1 Axes>"
      ]
     },
     "metadata": {
      "needs_background": "light"
     },
     "output_type": "display_data"
    }
   ],
   "source": [
    "X_train['radio'].value_counts().plot(kind='bar')\n",
    "plt.show()"
   ]
  },
  {
   "cell_type": "code",
   "execution_count": 272,
   "id": "6aa149cb",
   "metadata": {
    "ExecuteTime": {
     "end_time": "2023-03-14T16:54:06.898327Z",
     "start_time": "2023-03-14T16:54:06.718135Z"
    }
   },
   "outputs": [
    {
     "data": {
      "image/png": "[encoded data removed]",
      "text/plain": [
       "<Figure size 432x288 with 1 Axes>"
      ]
     },
     "metadata": {
      "needs_background": "light"
     },
     "output_type": "display_data"
    }
   ],
   "source": [
    "X_train['geladeira'].value_counts().plot(kind='bar')\n",
    "plt.show()"
   ]
  },
  {
   "cell_type": "code",
   "execution_count": 274,
   "id": "8b7f84f6",
   "metadata": {
    "ExecuteTime": {
     "end_time": "2023-03-14T16:54:26.524931Z",
     "start_time": "2023-03-14T16:54:26.346647Z"
    },
    "scrolled": true
   },
   "outputs": [
    {
     "data": {
      "image/png": "[encoded data removed]",
      "text/plain": [
       "<Figure size 432x288 with 1 Axes>"
      ]
     },
     "metadata": {
      "needs_background": "light"
     },
     "output_type": "display_data"
    }
   ],
   "source": [
    "X_train['videocassete'].value_counts().plot(kind='bar')\n",
    "plt.show()"
   ]
  },
  {
   "cell_type": "code",
   "execution_count": 276,
   "id": "74e631ea",
   "metadata": {
    "ExecuteTime": {
     "end_time": "2023-03-14T16:56:19.032213Z",
     "start_time": "2023-03-14T16:56:18.859221Z"
    },
    "scrolled": true
   },
   "outputs": [
    {
     "data": {
      "image/png": "[encoded data removed]",
      "text/plain": [
       "<Figure size 432x288 with 1 Axes>"
      ]
     },
     "metadata": {
      "needs_background": "light"
     },
     "output_type": "display_data"
    }
   ],
   "source": [
    "X_train['microondas'].value_counts().plot(kind='bar')\n",
    "plt.show()"
   ]
  },
  {
   "cell_type": "code",
   "execution_count": 282,
   "id": "e6eadbb6",
   "metadata": {
    "ExecuteTime": {
     "end_time": "2023-03-14T16:58:50.961029Z",
     "start_time": "2023-03-14T16:58:50.772477Z"
    }
   },
   "outputs": [
    {
     "data": {
      "image/png": "[encoded data removed]",
      "text/plain": [
       "<Figure size 432x288 with 1 Axes>"
      ]
     },
     "metadata": {
      "needs_background": "light"
     },
     "output_type": "display_data"
    }
   ],
   "source": [
    "X_train['coleta_lixo'].value_counts().plot(kind='bar')\n",
    "plt.show()"
   ]
  },
  {
   "cell_type": "code",
   "execution_count": 283,
   "id": "7e13f938",
   "metadata": {
    "ExecuteTime": {
     "end_time": "2023-03-14T16:59:25.757513Z",
     "start_time": "2023-03-14T16:59:25.538102Z"
    }
   },
   "outputs": [
    {
     "data": {
      "image/png": "[encoded data removed]",
      "text/plain": [
       "<Figure size 432x288 with 1 Axes>"
      ]
     },
     "metadata": {
      "needs_background": "light"
     },
     "output_type": "display_data"
    }
   ],
   "source": [
    "X_train['agua'].value_counts().plot(kind='bar')\n",
    "plt.show()"
   ]
  },
  {
   "cell_type": "code",
   "execution_count": 278,
   "id": "2d6125af",
   "metadata": {
    "ExecuteTime": {
     "end_time": "2023-03-14T16:57:55.237486Z",
     "start_time": "2023-03-14T16:57:54.967624Z"
    }
   },
   "outputs": [
    {
     "data": {
      "image/png": "[encoded data removed]",
      "text/plain": [
       "<Figure size 432x288 with 1 Axes>"
      ]
     },
     "metadata": {
      "needs_background": "light"
     },
     "output_type": "display_data"
    }
   ],
   "source": [
    "sns.histplot(data=X_train, x='moradores', discrete=True);"
   ]
  },
  {
   "cell_type": "code",
   "execution_count": 279,
   "id": "2f7ffeae",
   "metadata": {
    "ExecuteTime": {
     "end_time": "2023-03-14T16:58:01.402310Z",
     "start_time": "2023-03-14T16:58:01.160275Z"
    }
   },
   "outputs": [
    {
     "data": {
      "image/png": "[encoded data removed]",
      "text/plain": [
       "<Figure size 432x288 with 1 Axes>"
      ]
     },
     "metadata": {
      "needs_background": "light"
     },
     "output_type": "display_data"
    }
   ],
   "source": [
    "sns.histplot(data=X_train, x='homens', discrete=True);"
   ]
  },
  {
   "cell_type": "code",
   "execution_count": 280,
   "id": "2454aa1a",
   "metadata": {
    "ExecuteTime": {
     "end_time": "2023-03-14T16:58:09.684391Z",
     "start_time": "2023-03-14T16:58:09.444198Z"
    }
   },
   "outputs": [
    {
     "data": {
      "image/png": "[encoded data removed]",
      "text/plain": [
       "<Figure size 432x288 with 1 Axes>"
      ]
     },
     "metadata": {
      "needs_background": "light"
     },
     "output_type": "display_data"
    }
   ],
   "source": [
    "sns.histplot(data=X_train, x='mulheres', discrete=True);"
   ]
  },
  {
   "cell_type": "markdown",
   "id": "bf4234ab",
   "metadata": {},
   "source": [
    "## Correlações"
   ]
  },
  {
   "cell_type": "code",
   "execution_count": 170,
   "id": "d11685a8",
   "metadata": {
    "ExecuteTime": {
     "end_time": "2023-03-14T15:43:38.557854Z",
     "start_time": "2023-03-14T15:43:37.060990Z"
    },
    "scrolled": false
   },
   "outputs": [
    {
     "name": "stdout",
     "output_type": "stream",
     "text": [
      "rendimento         1.000000\n",
      "automoveis         0.480357\n",
      "banheiros          0.471861\n",
      "televisores        0.424147\n",
      "comodos            0.391006\n",
      "ar_condicionado    0.324247\n",
      "dormitorios        0.180411\n",
      "mulheres           0.014766\n",
      "moradores          0.013705\n",
      "homens             0.006924\n",
      "radio             -0.105171\n",
      "geladeira         -0.171128\n",
      "maquina_lavar     -0.333267\n",
      "videocassete      -0.340037\n",
      "telefone          -0.345259\n",
      "microondas        -0.381548\n",
      "computador        -0.418388\n",
      "Name: rendimento, dtype: float64\n"
     ]
    },
    {
     "data": {
      "image/png": "[encoded data removed]",
      "text/plain": [
       "<Figure size 1080x1080 with 2 Axes>"
      ]
     },
     "metadata": {
      "needs_background": "light"
     },
     "output_type": "display_data"
    }
   ],
   "source": [
    "corr = X_train.join(y_train).corr()\n",
    "\n",
    "plt.figure(figsize=(15,15))\n",
    "sns.heatmap(data=corr, annot=True);\n",
    "\n",
    "print(corr['rendimento'].sort_values(ascending=False))"
   ]
  },
  {
   "cell_type": "markdown",
   "id": "c8c507c3",
   "metadata": {
    "ExecuteTime": {
     "end_time": "2023-02-17T23:00:49.082457Z",
     "start_time": "2023-02-17T23:00:49.079573Z"
    }
   },
   "source": [
    "## Baseline"
   ]
  },
  {
   "cell_type": "code",
   "execution_count": 171,
   "id": "5d028716",
   "metadata": {
    "ExecuteTime": {
     "end_time": "2023-03-14T15:43:39.519394Z",
     "start_time": "2023-03-14T15:43:39.498551Z"
    },
    "scrolled": false
   },
   "outputs": [
    {
     "data": {
      "text/html": [
       "<div>\n",
       "<style scoped>\n",
       "    .dataframe tbody tr th:only-of-type {\n",
       "        vertical-align: middle;\n",
       "    }\n",
       "\n",
       "    .dataframe tbody tr th {\n",
       "        vertical-align: top;\n",
       "    }\n",
       "\n",
       "    .dataframe thead th {\n",
       "        text-align: right;\n",
       "    }\n",
       "</style>\n",
       "<table border=\"1\" class=\"dataframe\">\n",
       "  <thead>\n",
       "    <tr style=\"text-align: right;\">\n",
       "      <th></th>\n",
       "      <th>sigla_uf</th>\n",
       "      <th>situacao_domicilio</th>\n",
       "      <th>tipo_domicilio</th>\n",
       "      <th>condicao_domicilio</th>\n",
       "      <th>comodos</th>\n",
       "      <th>dormitorios</th>\n",
       "      <th>banheiros</th>\n",
       "      <th>agua</th>\n",
       "      <th>iluminacao</th>\n",
       "      <th>radio</th>\n",
       "      <th>...</th>\n",
       "      <th>microondas</th>\n",
       "      <th>telefone</th>\n",
       "      <th>computador</th>\n",
       "      <th>televisores</th>\n",
       "      <th>automoveis</th>\n",
       "      <th>ar_condicionado</th>\n",
       "      <th>coleta_lixo</th>\n",
       "      <th>moradores</th>\n",
       "      <th>homens</th>\n",
       "      <th>mulheres</th>\n",
       "    </tr>\n",
       "  </thead>\n",
       "  <tbody>\n",
       "    <tr>\n",
       "      <th>68111</th>\n",
       "      <td>RJ</td>\n",
       "      <td>urbano</td>\n",
       "      <td>casa</td>\n",
       "      <td>proprio pago</td>\n",
       "      <td>4</td>\n",
       "      <td>1</td>\n",
       "      <td>1</td>\n",
       "      <td>rede geral</td>\n",
       "      <td>sim</td>\n",
       "      <td>1</td>\n",
       "      <td>...</td>\n",
       "      <td>2</td>\n",
       "      <td>2</td>\n",
       "      <td>2</td>\n",
       "      <td>1</td>\n",
       "      <td>0</td>\n",
       "      <td>0</td>\n",
       "      <td>serviço de limpeza</td>\n",
       "      <td>4</td>\n",
       "      <td>1</td>\n",
       "      <td>3</td>\n",
       "    </tr>\n",
       "    <tr>\n",
       "      <th>44812</th>\n",
       "      <td>PI</td>\n",
       "      <td>urbano</td>\n",
       "      <td>casa</td>\n",
       "      <td>proprio pago</td>\n",
       "      <td>6</td>\n",
       "      <td>2</td>\n",
       "      <td>1</td>\n",
       "      <td>rede geral</td>\n",
       "      <td>sim</td>\n",
       "      <td>1</td>\n",
       "      <td>...</td>\n",
       "      <td>2</td>\n",
       "      <td>2</td>\n",
       "      <td>2</td>\n",
       "      <td>1</td>\n",
       "      <td>0</td>\n",
       "      <td>0</td>\n",
       "      <td>serviço de limpeza</td>\n",
       "      <td>4</td>\n",
       "      <td>1</td>\n",
       "      <td>3</td>\n",
       "    </tr>\n",
       "    <tr>\n",
       "      <th>76085</th>\n",
       "      <td>RJ</td>\n",
       "      <td>urbano</td>\n",
       "      <td>casa</td>\n",
       "      <td>alugado</td>\n",
       "      <td>2</td>\n",
       "      <td>1</td>\n",
       "      <td>1</td>\n",
       "      <td>outro</td>\n",
       "      <td>sim</td>\n",
       "      <td>1</td>\n",
       "      <td>...</td>\n",
       "      <td>2</td>\n",
       "      <td>2</td>\n",
       "      <td>2</td>\n",
       "      <td>0</td>\n",
       "      <td>0</td>\n",
       "      <td>0</td>\n",
       "      <td>serviço de limpeza</td>\n",
       "      <td>1</td>\n",
       "      <td>1</td>\n",
       "      <td>0</td>\n",
       "    </tr>\n",
       "    <tr>\n",
       "      <th>37522</th>\n",
       "      <td>RS</td>\n",
       "      <td>urbano</td>\n",
       "      <td>casa</td>\n",
       "      <td>outro</td>\n",
       "      <td>3</td>\n",
       "      <td>2</td>\n",
       "      <td>1</td>\n",
       "      <td>rede geral</td>\n",
       "      <td>sim</td>\n",
       "      <td>1</td>\n",
       "      <td>...</td>\n",
       "      <td>2</td>\n",
       "      <td>2</td>\n",
       "      <td>2</td>\n",
       "      <td>1</td>\n",
       "      <td>0</td>\n",
       "      <td>0</td>\n",
       "      <td>serviço de limpeza</td>\n",
       "      <td>5</td>\n",
       "      <td>1</td>\n",
       "      <td>4</td>\n",
       "    </tr>\n",
       "    <tr>\n",
       "      <th>11556</th>\n",
       "      <td>PE</td>\n",
       "      <td>urbano</td>\n",
       "      <td>casa</td>\n",
       "      <td>proprio pago</td>\n",
       "      <td>6</td>\n",
       "      <td>2</td>\n",
       "      <td>1</td>\n",
       "      <td>rede geral</td>\n",
       "      <td>sim</td>\n",
       "      <td>1</td>\n",
       "      <td>...</td>\n",
       "      <td>2</td>\n",
       "      <td>2</td>\n",
       "      <td>2</td>\n",
       "      <td>2</td>\n",
       "      <td>0</td>\n",
       "      <td>0</td>\n",
       "      <td>serviço de limpeza</td>\n",
       "      <td>4</td>\n",
       "      <td>1</td>\n",
       "      <td>3</td>\n",
       "    </tr>\n",
       "  </tbody>\n",
       "</table>\n",
       "<p>5 rows × 23 columns</p>\n",
       "</div>"
      ],
      "text/plain": [
       "      sigla_uf situacao_domicilio tipo_domicilio condicao_domicilio  comodos  \\\n",
       "68111       RJ             urbano           casa       proprio pago        4   \n",
       "44812       PI             urbano           casa       proprio pago        6   \n",
       "76085       RJ             urbano           casa            alugado        2   \n",
       "37522       RS             urbano           casa              outro        3   \n",
       "11556       PE             urbano           casa       proprio pago        6   \n",
       "\n",
       "       dormitorios  banheiros        agua iluminacao  radio  ...  microondas  \\\n",
       "68111            1          1  rede geral        sim      1  ...           2   \n",
       "44812            2          1  rede geral        sim      1  ...           2   \n",
       "76085            1          1       outro        sim      1  ...           2   \n",
       "37522            2          1  rede geral        sim      1  ...           2   \n",
       "11556            2          1  rede geral        sim      1  ...           2   \n",
       "\n",
       "       telefone  computador  televisores  automoveis  ar_condicionado  \\\n",
       "68111         2           2            1           0                0   \n",
       "44812         2           2            1           0                0   \n",
       "76085         2           2            0           0                0   \n",
       "37522         2           2            1           0                0   \n",
       "11556         2           2            2           0                0   \n",
       "\n",
       "              coleta_lixo  moradores  homens mulheres  \n",
       "68111  serviço de limpeza          4       1        3  \n",
       "44812  serviço de limpeza          4       1        3  \n",
       "76085  serviço de limpeza          1       1        0  \n",
       "37522  serviço de limpeza          5       1        4  \n",
       "11556  serviço de limpeza          4       1        3  \n",
       "\n",
       "[5 rows x 23 columns]"
      ]
     },
     "execution_count": 171,
     "metadata": {},
     "output_type": "execute_result"
    }
   ],
   "source": [
    "X_train.head()"
   ]
  },
  {
   "cell_type": "code",
   "execution_count": 172,
   "id": "94236190",
   "metadata": {
    "ExecuteTime": {
     "end_time": "2023-03-14T15:43:40.622575Z",
     "start_time": "2023-03-14T15:43:40.603798Z"
    },
    "scrolled": true
   },
   "outputs": [
    {
     "data": {
      "text/html": [
       "<style>#sk-container-id-5 {color: black;background-color: white;}#sk-container-id-5 pre{padding: 0;}#sk-container-id-5 div.sk-toggleable {background-color: white;}#sk-container-id-5 label.sk-toggleable__label {cursor: pointer;display: block;width: 100%;margin-bottom: 0;padding: 0.3em;box-sizing: border-box;text-align: center;}#sk-container-id-5 label.sk-toggleable__label-arrow:before {content: \"▸\";float: left;margin-right: 0.25em;color: #696969;}#sk-container-id-5 label.sk-toggleable__label-arrow:hover:before {color: black;}#sk-container-id-5 div.sk-estimator:hover label.sk-toggleable__label-arrow:before {color: black;}#sk-container-id-5 div.sk-toggleable__content {max-height: 0;max-width: 0;overflow: hidden;text-align: left;background-color: #f0f8ff;}#sk-container-id-5 div.sk-toggleable__content pre {margin: 0.2em;color: black;border-radius: 0.25em;background-color: #f0f8ff;}#sk-container-id-5 input.sk-toggleable__control:checked~div.sk-toggleable__content {max-height: 200px;max-width: 100%;overflow: auto;}#sk-container-id-5 input.sk-toggleable__control:checked~label.sk-toggleable__label-arrow:before {content: \"▾\";}#sk-container-id-5 div.sk-estimator input.sk-toggleable__control:checked~label.sk-toggleable__label {background-color: #d4ebff;}#sk-container-id-5 div.sk-label input.sk-toggleable__control:checked~label.sk-toggleable__label {background-color: #d4ebff;}#sk-container-id-5 input.sk-hidden--visually {border: 0;clip: rect(1px 1px 1px 1px);clip: rect(1px, 1px, 1px, 1px);height: 1px;margin: -1px;overflow: hidden;padding: 0;position: absolute;width: 1px;}#sk-container-id-5 div.sk-estimator {font-family: monospace;background-color: #f0f8ff;border: 1px dotted black;border-radius: 0.25em;box-sizing: border-box;margin-bottom: 0.5em;}#sk-container-id-5 div.sk-estimator:hover {background-color: #d4ebff;}#sk-container-id-5 div.sk-parallel-item::after {content: \"\";width: 100%;border-bottom: 1px solid gray;flex-grow: 1;}#sk-container-id-5 div.sk-label:hover label.sk-toggleable__label {background-color: #d4ebff;}#sk-container-id-5 div.sk-serial::before {content: \"\";position: absolute;border-left: 1px solid gray;box-sizing: border-box;top: 0;bottom: 0;left: 50%;z-index: 0;}#sk-container-id-5 div.sk-serial {display: flex;flex-direction: column;align-items: center;background-color: white;padding-right: 0.2em;padding-left: 0.2em;position: relative;}#sk-container-id-5 div.sk-item {position: relative;z-index: 1;}#sk-container-id-5 div.sk-parallel {display: flex;align-items: stretch;justify-content: center;background-color: white;position: relative;}#sk-container-id-5 div.sk-item::before, #sk-container-id-5 div.sk-parallel-item::before {content: \"\";position: absolute;border-left: 1px solid gray;box-sizing: border-box;top: 0;bottom: 0;left: 50%;z-index: -1;}#sk-container-id-5 div.sk-parallel-item {display: flex;flex-direction: column;z-index: 1;position: relative;background-color: white;}#sk-container-id-5 div.sk-parallel-item:first-child::after {align-self: flex-end;width: 50%;}#sk-container-id-5 div.sk-parallel-item:last-child::after {align-self: flex-start;width: 50%;}#sk-container-id-5 div.sk-parallel-item:only-child::after {width: 0;}#sk-container-id-5 div.sk-dashed-wrapped {border: 1px dashed gray;margin: 0 0.4em 0.5em 0.4em;box-sizing: border-box;padding-bottom: 0.4em;background-color: white;}#sk-container-id-5 div.sk-label label {font-family: monospace;font-weight: bold;display: inline-block;line-height: 1.2em;}#sk-container-id-5 div.sk-label-container {text-align: center;}#sk-container-id-5 div.sk-container {/* jupyter's `normalize.less` sets `[hidden] { display: none; }` but bootstrap.min.css set `[hidden] { display: none !important; }` so we also need the `!important` here to be able to override the default hidden behavior on the sphinx rendered scikit-learn.org. See: https://github.com/scikit-learn/scikit-learn/issues/21755 */display: inline-block !important;position: relative;}#sk-container-id-5 div.sk-text-repr-fallback {display: none;}</style><div id=\"sk-container-id-5\" class=\"sk-top-container\"><div class=\"sk-text-repr-fallback\"><pre>Pipeline(steps=[(&#x27;ohe_ct&#x27;,\n",
       "                 ColumnTransformer(remainder=&#x27;passthrough&#x27;,\n",
       "                                   transformers=[(&#x27;ohe&#x27;,\n",
       "                                                  OneHotEncoder(drop=&#x27;first&#x27;),\n",
       "                                                  [0, 1, 2, 3, 7, 8, 19])])),\n",
       "                (&#x27;scale&#x27;, StandardScaler())])</pre><b>In a Jupyter environment, please rerun this cell to show the HTML representation or trust the notebook. <br />On GitHub, the HTML representation is unable to render, please try loading this page with nbviewer.org.</b></div><div class=\"sk-container\" hidden><div class=\"sk-item sk-dashed-wrapped\"><div class=\"sk-label-container\"><div class=\"sk-label sk-toggleable\"><input class=\"sk-toggleable__control sk-hidden--visually\" id=\"sk-estimator-id-29\" type=\"checkbox\" ><label for=\"sk-estimator-id-29\" class=\"sk-toggleable__label sk-toggleable__label-arrow\">Pipeline</label><div class=\"sk-toggleable__content\"><pre>Pipeline(steps=[(&#x27;ohe_ct&#x27;,\n",
       "                 ColumnTransformer(remainder=&#x27;passthrough&#x27;,\n",
       "                                   transformers=[(&#x27;ohe&#x27;,\n",
       "                                                  OneHotEncoder(drop=&#x27;first&#x27;),\n",
       "                                                  [0, 1, 2, 3, 7, 8, 19])])),\n",
       "                (&#x27;scale&#x27;, StandardScaler())])</pre></div></div></div><div class=\"sk-serial\"><div class=\"sk-item sk-dashed-wrapped\"><div class=\"sk-label-container\"><div class=\"sk-label sk-toggleable\"><input class=\"sk-toggleable__control sk-hidden--visually\" id=\"sk-estimator-id-30\" type=\"checkbox\" ><label for=\"sk-estimator-id-30\" class=\"sk-toggleable__label sk-toggleable__label-arrow\">ohe_ct: ColumnTransformer</label><div class=\"sk-toggleable__content\"><pre>ColumnTransformer(remainder=&#x27;passthrough&#x27;,\n",
       "                  transformers=[(&#x27;ohe&#x27;, OneHotEncoder(drop=&#x27;first&#x27;),\n",
       "                                 [0, 1, 2, 3, 7, 8, 19])])</pre></div></div></div><div class=\"sk-parallel\"><div class=\"sk-parallel-item\"><div class=\"sk-item\"><div class=\"sk-label-container\"><div class=\"sk-label sk-toggleable\"><input class=\"sk-toggleable__control sk-hidden--visually\" id=\"sk-estimator-id-31\" type=\"checkbox\" ><label for=\"sk-estimator-id-31\" class=\"sk-toggleable__label sk-toggleable__label-arrow\">ohe</label><div class=\"sk-toggleable__content\"><pre>[0, 1, 2, 3, 7, 8, 19]</pre></div></div></div><div class=\"sk-serial\"><div class=\"sk-item\"><div class=\"sk-estimator sk-toggleable\"><input class=\"sk-toggleable__control sk-hidden--visually\" id=\"sk-estimator-id-32\" type=\"checkbox\" ><label for=\"sk-estimator-id-32\" class=\"sk-toggleable__label sk-toggleable__label-arrow\">OneHotEncoder</label><div class=\"sk-toggleable__content\"><pre>OneHotEncoder(drop=&#x27;first&#x27;)</pre></div></div></div></div></div></div><div class=\"sk-parallel-item\"><div class=\"sk-item\"><div class=\"sk-label-container\"><div class=\"sk-label sk-toggleable\"><input class=\"sk-toggleable__control sk-hidden--visually\" id=\"sk-estimator-id-33\" type=\"checkbox\" ><label for=\"sk-estimator-id-33\" class=\"sk-toggleable__label sk-toggleable__label-arrow\">remainder</label><div class=\"sk-toggleable__content\"><pre></pre></div></div></div><div class=\"sk-serial\"><div class=\"sk-item\"><div class=\"sk-estimator sk-toggleable\"><input class=\"sk-toggleable__control sk-hidden--visually\" id=\"sk-estimator-id-34\" type=\"checkbox\" ><label for=\"sk-estimator-id-34\" class=\"sk-toggleable__label sk-toggleable__label-arrow\">passthrough</label><div class=\"sk-toggleable__content\"><pre>passthrough</pre></div></div></div></div></div></div></div></div><div class=\"sk-item\"><div class=\"sk-estimator sk-toggleable\"><input class=\"sk-toggleable__control sk-hidden--visually\" id=\"sk-estimator-id-35\" type=\"checkbox\" ><label for=\"sk-estimator-id-35\" class=\"sk-toggleable__label sk-toggleable__label-arrow\">StandardScaler</label><div class=\"sk-toggleable__content\"><pre>StandardScaler()</pre></div></div></div></div></div></div></div>"
      ],
      "text/plain": [
       "Pipeline(steps=[('ohe_ct',\n",
       "                 ColumnTransformer(remainder='passthrough',\n",
       "                                   transformers=[('ohe',\n",
       "                                                  OneHotEncoder(drop='first'),\n",
       "                                                  [0, 1, 2, 3, 7, 8, 19])])),\n",
       "                ('scale', StandardScaler())])"
      ]
     },
     "execution_count": 172,
     "metadata": {},
     "output_type": "execute_result"
    }
   ],
   "source": [
    "# Tratamento\n",
    "\n",
    "ohe = OneHotEncoder(drop='first')\n",
    "ohe_ct = ColumnTransformer(transformers=[('ohe', ohe, [0,1,2,3,7,8,19])], remainder='passthrough')\n",
    "std_scaler = StandardScaler()\n",
    "tr_pipeline = Pipeline([('ohe_ct', ohe_ct), ('scale', std_scaler)])\n",
    "\n",
    "tr_pipeline"
   ]
  },
  {
   "cell_type": "code",
   "execution_count": 173,
   "id": "37c7fa4a",
   "metadata": {
    "ExecuteTime": {
     "end_time": "2023-03-14T15:43:41.915069Z",
     "start_time": "2023-03-14T15:43:41.649146Z"
    }
   },
   "outputs": [],
   "source": [
    "X_train_tr = tr_pipeline.fit_transform(X_train)\n",
    "X_val_tr = tr_pipeline.transform(X_val)"
   ]
  },
  {
   "cell_type": "code",
   "execution_count": 174,
   "id": "3435efdf",
   "metadata": {
    "ExecuteTime": {
     "end_time": "2023-03-14T15:44:23.273320Z",
     "start_time": "2023-03-14T15:43:42.877069Z"
    },
    "scrolled": true
   },
   "outputs": [
    {
     "data": {
      "text/plain": [
       "2079.6214453898237"
      ]
     },
     "execution_count": 174,
     "metadata": {},
     "output_type": "execute_result"
    }
   ],
   "source": [
    "forest_reg = RandomForestRegressor(random_state=42,\n",
    "                                  n_jobs=-1)\n",
    "\n",
    "forest_reg.fit(X_train_tr, y_train)\n",
    "y_pred = forest_reg.predict(X_val_tr)\n",
    "\n",
    "print('MAE: ', mean_absolute_error(y_val, y_pred))"
   ]
  },
  {
   "cell_type": "markdown",
   "id": "e2576af7",
   "metadata": {},
   "source": [
    "## Análises do erro"
   ]
  },
  {
   "cell_type": "code",
   "execution_count": 177,
   "id": "8c9ff6a7",
   "metadata": {
    "ExecuteTime": {
     "end_time": "2023-03-14T15:45:33.677367Z",
     "start_time": "2023-03-14T15:45:33.416763Z"
    }
   },
   "outputs": [
    {
     "data": {
      "image/png": "[encoded data removed]",
      "text/plain": [
       "<Figure size 432x288 with 1 Axes>"
      ]
     },
     "metadata": {
      "needs_background": "light"
     },
     "output_type": "display_data"
    }
   ],
   "source": [
    "plt.hist(np.log(y_pred),alpha=0.8, label='pred')\n",
    "plt.hist(np.log(y_val),alpha=0.8, label='true')\n",
    "plt.legend()\n",
    "plt.show()"
   ]
  },
  {
   "cell_type": "code",
   "execution_count": 178,
   "id": "1b58b031",
   "metadata": {
    "ExecuteTime": {
     "end_time": "2023-03-14T15:45:46.500304Z",
     "start_time": "2023-03-14T15:45:46.490137Z"
    }
   },
   "outputs": [
    {
     "data": {
      "text/plain": [
       "count    10000.000000\n",
       "mean      1119.259243\n",
       "std       1526.189003\n",
       "min         68.460000\n",
       "25%        360.776498\n",
       "50%        623.827500\n",
       "75%       1205.443125\n",
       "max      23612.930000\n",
       "dtype: float64"
      ]
     },
     "execution_count": 178,
     "metadata": {},
     "output_type": "execute_result"
    }
   ],
   "source": [
    "pd.Series(y_pred).describe()"
   ]
  },
  {
   "cell_type": "code",
   "execution_count": 179,
   "id": "a2856465",
   "metadata": {
    "ExecuteTime": {
     "end_time": "2023-03-14T15:45:47.531025Z",
     "start_time": "2023-03-14T15:45:47.517507Z"
    }
   },
   "outputs": [
    {
     "data": {
      "text/plain": [
       "count    80000.000000\n",
       "mean      1081.719850\n",
       "std       2127.363233\n",
       "min          4.000000\n",
       "25%        282.000000\n",
       "50%        511.000000\n",
       "75%       1082.000000\n",
       "max      95500.000000\n",
       "Name: rendimento, dtype: float64"
      ]
     },
     "execution_count": 179,
     "metadata": {},
     "output_type": "execute_result"
    }
   ],
   "source": [
    "y_train.describe()"
   ]
  },
  {
   "cell_type": "markdown",
   "id": "f4c3606d",
   "metadata": {},
   "source": [
    "# Tratamento dos dados"
   ]
  },
  {
   "cell_type": "markdown",
   "id": "c863a850",
   "metadata": {},
   "source": [
    "## Tratamento de outliers"
   ]
  },
  {
   "cell_type": "code",
   "execution_count": 181,
   "id": "bbb0ad3a",
   "metadata": {
    "ExecuteTime": {
     "end_time": "2023-03-14T15:48:38.081666Z",
     "start_time": "2023-03-14T15:48:06.229585Z"
    }
   },
   "outputs": [
    {
     "name": "stdout",
     "output_type": "stream",
     "text": [
      "MAE:  638.7242575326918\n"
     ]
    }
   ],
   "source": [
    "# Método tradicional\n",
    "\n",
    "y_train_tr = y_train.copy()\n",
    "\n",
    "Q1 = np.percentile(y_train, 25)\n",
    "Q3 = np.percentile(y_train, 75)\n",
    "\n",
    "iqr = Q3 - Q1\n",
    "\n",
    "upper_bound = iqr + (1.5 * iqr)\n",
    "lower_bound = iqr - (1.5 * iqr)\n",
    "\n",
    "y_train_tr.loc[y_train > upper_bound] = upper_bound\n",
    "y_train_tr.loc[y_train < lower_bound] = lower_bound\n",
    "\n",
    "forest_reg = RandomForestRegressor(random_state=42,\n",
    "                                   n_jobs=-1)\n",
    "\n",
    "forest_reg.fit(X_train_tr, np.log(y_train_tr))\n",
    "y_pred = forest_reg.predict(X_val_tr)\n",
    "\n",
    "print('MAE: ', mean_absolute_error(y_val, np.exp(y_pred)))"
   ]
  },
  {
   "cell_type": "code",
   "execution_count": 183,
   "id": "a3389d5d",
   "metadata": {
    "ExecuteTime": {
     "end_time": "2023-03-14T15:49:09.674460Z",
     "start_time": "2023-03-14T15:49:09.379291Z"
    }
   },
   "outputs": [
    {
     "data": {
      "image/png": "[encoded data removed]",
      "text/plain": [
       "<Figure size 432x288 with 1 Axes>"
      ]
     },
     "metadata": {
      "needs_background": "light"
     },
     "output_type": "display_data"
    }
   ],
   "source": [
    "# Método alternativo\n",
    "\n",
    "y_train_tr = y_train.copy()\n",
    "\n",
    "upper_bound = np.percentile(y_train_tr, 99)\n",
    "lower_bound = np.percentile(y_train_tr, 1)\n",
    "\n",
    "y_train_tr.loc[y_train > upper_bound] = upper_bound\n",
    "y_train_tr.loc[y_train < lower_bound] = lower_bound\n",
    "\n",
    "plt.hist(np.log(y_train_tr), bins=50)\n",
    "plt.show()"
   ]
  },
  {
   "cell_type": "code",
   "execution_count": 184,
   "id": "57e01758",
   "metadata": {
    "ExecuteTime": {
     "end_time": "2023-03-14T15:49:38.564058Z",
     "start_time": "2023-03-14T15:49:10.941072Z"
    }
   },
   "outputs": [
    {
     "name": "stdout",
     "output_type": "stream",
     "text": [
      "MAE:  583.3711173500203\n"
     ]
    }
   ],
   "source": [
    "forest_reg = RandomForestRegressor(random_state=42,\n",
    "                                   n_jobs=-1)\n",
    "\n",
    "forest_reg.fit(X_train_tr, np.log(y_train_tr))\n",
    "y_pred = forest_reg.predict(X_val_tr)\n",
    "\n",
    "print('MAE: ', mean_absolute_error(y_val, np.exp(y_pred)))"
   ]
  },
  {
   "cell_type": "markdown",
   "id": "1d53c48c",
   "metadata": {},
   "source": [
    "## Feature engineering"
   ]
  },
  {
   "cell_type": "code",
   "execution_count": 185,
   "id": "4a06f020",
   "metadata": {
    "ExecuteTime": {
     "end_time": "2023-03-14T15:49:47.952685Z",
     "start_time": "2023-03-14T15:49:47.941235Z"
    }
   },
   "outputs": [],
   "source": [
    "X_train_feature = X_train.copy()\n",
    "X_val_feature = X_val.copy()"
   ]
  },
  {
   "cell_type": "code",
   "execution_count": 186,
   "id": "a03f7551",
   "metadata": {
    "ExecuteTime": {
     "end_time": "2023-03-14T15:49:48.982526Z",
     "start_time": "2023-03-14T15:49:48.974742Z"
    }
   },
   "outputs": [],
   "source": [
    "X_train_feature['moradores_por_comodo'] = X_train['moradores'] / X_train['comodos']\n",
    "X_train_feature['moradores_por_dormitorio'] = X_train['moradores'] / X_train['dormitorios']\n",
    "\n",
    "X_val_feature['moradores_por_comodo'] = X_val['moradores'] / X_val['comodos']\n",
    "X_val_feature['moradores_por_dormitorio'] = X_val['moradores'] / X_val['dormitorios']"
   ]
  },
  {
   "cell_type": "code",
   "execution_count": 187,
   "id": "18c591fb",
   "metadata": {
    "ExecuteTime": {
     "end_time": "2023-03-14T15:49:50.697270Z",
     "start_time": "2023-03-14T15:49:50.426784Z"
    }
   },
   "outputs": [],
   "source": [
    "X_train_feature_tr = tr_pipeline.fit_transform(X_train_feature)\n",
    "X_val_feature_tr = tr_pipeline.transform(X_val_feature)"
   ]
  },
  {
   "cell_type": "code",
   "execution_count": 188,
   "id": "2247a424",
   "metadata": {
    "ExecuteTime": {
     "end_time": "2023-03-14T15:50:28.456125Z",
     "start_time": "2023-03-14T15:49:56.388640Z"
    }
   },
   "outputs": [
    {
     "name": "stdout",
     "output_type": "stream",
     "text": [
      "MAE:  583.1957306521583\n"
     ]
    }
   ],
   "source": [
    "forest_reg = RandomForestRegressor(random_state=42,\n",
    "                                   n_jobs=-1)\n",
    "\n",
    "forest_reg.fit(X_train_feature_tr, np.log(y_train_tr))\n",
    "y_pred = forest_reg.predict(X_val_feature_tr)\n",
    "\n",
    "print('MAE: ', mean_absolute_error(y_val, np.exp(y_pred)))"
   ]
  },
  {
   "cell_type": "markdown",
   "id": "2cef9c76",
   "metadata": {},
   "source": [
    "# Refinando modelos"
   ]
  },
  {
   "cell_type": "code",
   "execution_count": 191,
   "id": "6129209e",
   "metadata": {
    "ExecuteTime": {
     "end_time": "2023-03-14T15:56:44.970988Z",
     "start_time": "2023-03-14T15:53:46.061962Z"
    }
   },
   "outputs": [
    {
     "name": "stdout",
     "output_type": "stream",
     "text": [
      "MAE:  581.2982138023982\n"
     ]
    }
   ],
   "source": [
    "forest_reg = RandomForestRegressor(n_estimators=500,\n",
    "                                   random_state=42,\n",
    "                                   n_jobs=-1)\n",
    "\n",
    "forest_reg.fit(X_train_feature_tr, np.log(y_train_tr))\n",
    "y_pred = forest_reg.predict(X_val_feature_tr)\n",
    "\n",
    "print('MAE: ', mean_absolute_error(y_val, np.exp(y_pred)))"
   ]
  },
  {
   "cell_type": "code",
   "execution_count": 192,
   "id": "629436aa",
   "metadata": {
    "ExecuteTime": {
     "end_time": "2023-03-14T15:58:21.936468Z",
     "start_time": "2023-03-14T15:56:55.199559Z"
    }
   },
   "outputs": [
    {
     "name": "stdout",
     "output_type": "stream",
     "text": [
      "MAE:  559.755457862091\n"
     ]
    }
   ],
   "source": [
    "xgb_reg = XGBRegressor(n_estimators=500,\n",
    "                       learning_rate=0.01,\n",
    "                       n_jobs=-1,\n",
    "                       random_state=42)\n",
    "\n",
    "xgb_reg.fit(X_train_feature_tr, np.log(y_train_tr))\n",
    "y_pred = xgb_reg.predict(X_val_feature_tr)\n",
    "\n",
    "print('MAE: ', mean_absolute_error(y_val, np.exp(y_pred)))"
   ]
  },
  {
   "cell_type": "code",
   "execution_count": 211,
   "id": "9cc71de7",
   "metadata": {
    "ExecuteTime": {
     "end_time": "2023-03-14T16:01:55.581291Z",
     "start_time": "2023-03-14T16:01:53.306806Z"
    }
   },
   "outputs": [
    {
     "name": "stdout",
     "output_type": "stream",
     "text": [
      "MAE:  552.8241082732466\n"
     ]
    }
   ],
   "source": [
    "lgbm_reg = LGBMRegressor(n_estimators=300,\n",
    "                         n_jobs=-1, \n",
    "                         random_state=42)\n",
    "\n",
    "lgbm_reg.fit(X_train_feature_tr, np.log(y_train_tr))\n",
    "y_pred = lgbm_reg.predict(X_val_feature_tr)\n",
    "\n",
    "print('MAE: ', mean_absolute_error(y_val, np.exp(y_pred)))"
   ]
  },
  {
   "cell_type": "markdown",
   "id": "d90faec9",
   "metadata": {},
   "source": [
    "# Otimização de hiperparâmetros"
   ]
  },
  {
   "cell_type": "code",
   "execution_count": 220,
   "id": "e0c04835",
   "metadata": {
    "ExecuteTime": {
     "end_time": "2023-03-14T16:30:55.990681Z",
     "start_time": "2023-03-14T16:27:08.077913Z"
    },
    "scrolled": true
   },
   "outputs": [
    {
     "name": "stdout",
     "output_type": "stream",
     "text": [
      "Iteration No: 1 started. Evaluating function at random point.\n",
      "[0.07985775569916306, 16, 72, 0.6187255599871848, 0.2404167763981929]\n",
      "Iteration No: 1 ended. Evaluation done at random point.\n",
      "Time taken: 3.6828\n",
      "Function value obtained: 552.3444\n",
      "Current minimum: 552.3444\n",
      "Iteration No: 2 started. Evaluating function at random point.\n",
      "[0.016443457513284066, 76, 75, 0.8728673384861885, 0.6410035105688879]\n",
      "Iteration No: 2 ended. Evaluation done at random point.\n",
      "Time taken: 6.3769\n",
      "Function value obtained: 551.7266\n",
      "Current minimum: 551.7266\n",
      "Iteration No: 3 started. Evaluating function at random point.\n",
      "[0.07109918520180852, 23, 53, 0.9714143595538948, 0.8491983767203797]\n",
      "Iteration No: 3 ended. Evaluation done at random point.\n",
      "Time taken: 3.6244\n",
      "Function value obtained: 551.8810\n",
      "Current minimum: 551.7266\n",
      "Iteration No: 4 started. Evaluating function at random point.\n",
      "[0.022021571957149343, 65, 60, 0.22423428436076215, 0.373818018663584]\n",
      "Iteration No: 4 ended. Evaluation done at random point.\n",
      "Time taken: 10.0208\n",
      "Function value obtained: 552.4165\n",
      "Current minimum: 551.7266\n",
      "Iteration No: 5 started. Evaluating function at random point.\n",
      "[0.052950886731591554, 109, 89, 0.3266676831881398, 0.6506676052501416]\n",
      "Iteration No: 5 ended. Evaluation done at random point.\n",
      "Time taken: 22.9945\n",
      "Function value obtained: 556.0240\n",
      "Current minimum: 551.7266\n",
      "Iteration No: 6 started. Evaluating function at random point.\n",
      "[0.014809892204552144, 93, 60, 0.39804375112900714, 0.5104629857953324]\n",
      "Iteration No: 6 ended. Evaluation done at random point.\n",
      "Time taken: 11.2959\n",
      "Function value obtained: 551.4484\n",
      "Current minimum: 551.4484\n",
      "Iteration No: 7 started. Evaluating function at random point.\n",
      "[0.07873242017790837, 52, 55, 0.9840693415164489, 0.520086603923182]\n",
      "Iteration No: 7 ended. Evaluation done at random point.\n",
      "Time taken: 5.7706\n",
      "Function value obtained: 553.7802\n",
      "Current minimum: 551.4484\n",
      "Iteration No: 8 started. Evaluating function at random point.\n",
      "[0.08613410026689575, 8, 21, 0.47797428937106584, 0.11193846504387989]\n",
      "Iteration No: 8 ended. Evaluation done at random point.\n",
      "Time taken: 4.9308\n",
      "Function value obtained: 552.9120\n",
      "Current minimum: 551.4484\n",
      "Iteration No: 9 started. Evaluating function at random point.\n",
      "[0.09427797381280044, 15, 9, 0.06516793960920349, 0.30780444305993415]\n",
      "Iteration No: 9 ended. Evaluation done at random point.\n",
      "Time taken: 3.0724\n",
      "Function value obtained: 560.5228\n",
      "Current minimum: 551.4484\n",
      "Iteration No: 10 started. Evaluating function at random point.\n",
      "[0.024861521136575165, 61, 71, 0.6294968248934899, 0.849875420562548]\n",
      "Iteration No: 10 ended. Evaluation done at random point.\n",
      "Time taken: 10.0230\n",
      "Function value obtained: 551.7761\n",
      "Current minimum: 551.4484\n",
      "Iteration No: 11 started. Evaluating function at random point.\n",
      "[0.01816310069726944, 82, 36, 0.22312428339865925, 0.7798252692858874]\n",
      "Iteration No: 11 ended. Evaluation done at random point.\n",
      "Time taken: 10.9321\n",
      "Function value obtained: 551.7384\n",
      "Current minimum: 551.4484\n",
      "Iteration No: 12 started. Evaluating function at random point.\n",
      "[0.043090431574633235, 55, 4, 0.22561173274925073, 0.9726261649881028]\n",
      "Iteration No: 12 ended. Evaluation done at random point.\n",
      "Time taken: 6.7463\n",
      "Function value obtained: 552.4257\n",
      "Current minimum: 551.4484\n",
      "Iteration No: 13 started. Evaluating function at random point.\n",
      "[0.07773814951275036, 35, 74, 0.9000859829062665, 0.6381099809299767]\n",
      "Iteration No: 13 ended. Evaluation done at random point.\n",
      "Time taken: 5.0329\n",
      "Function value obtained: 553.1191\n",
      "Current minimum: 551.4484\n",
      "Iteration No: 14 started. Evaluating function at random point.\n",
      "[0.09226554926728858, 73, 78, 0.23618371929818793, 0.14070456001948428]\n",
      "Iteration No: 14 ended. Evaluation done at random point.\n",
      "Time taken: 6.7777\n",
      "Function value obtained: 551.8216\n",
      "Current minimum: 551.4484\n",
      "Iteration No: 15 started. Evaluating function at random point.\n",
      "[0.03320770274556318, 81, 82, 0.5627075257696259, 0.6280760490974635]\n",
      "Iteration No: 15 ended. Evaluation done at random point.\n",
      "Time taken: 7.6271\n",
      "Function value obtained: 553.5286\n",
      "Current minimum: 551.4484\n",
      "Iteration No: 16 started. Evaluating function at random point.\n",
      "[0.09656027541914967, 61, 41, 0.3314598304188783, 0.24874024515670226]\n",
      "Iteration No: 16 ended. Evaluation done at random point.\n",
      "Time taken: 8.2266\n",
      "Function value obtained: 557.5757\n",
      "Current minimum: 551.4484\n",
      "Iteration No: 17 started. Evaluating function at random point.\n",
      "[0.0025480042673781994, 10, 88, 0.42513744226679123, 0.36413935724623436]\n",
      "Iteration No: 17 ended. Evaluation done at random point.\n",
      "Time taken: 7.8930\n",
      "Function value obtained: 647.9318\n",
      "Current minimum: 551.4484\n",
      "Iteration No: 18 started. Evaluating function at random point.\n",
      "[0.0023939024487933617, 116, 81, 0.7257748551112175, 0.8111579864780851]\n",
      "Iteration No: 18 ended. Evaluation done at random point.\n",
      "Time taken: 9.9429\n",
      "Function value obtained: 629.3506\n",
      "Current minimum: 551.4484\n",
      "Iteration No: 19 started. Evaluating function at random point.\n",
      "[0.06099003750332014, 107, 41, 0.9192116917665918, 0.8650347200108195]\n",
      "Iteration No: 19 ended. Evaluation done at random point.\n",
      "Time taken: 6.6112\n",
      "Function value obtained: 556.8845\n",
      "Current minimum: 551.4484\n",
      "Iteration No: 20 started. Evaluating function at random point.\n",
      "[0.045495616739682145, 34, 48, 0.40227733958835304, 0.7019571273972466]\n",
      "Iteration No: 20 ended. Evaluation done at random point.\n",
      "Time taken: 6.0242\n",
      "Function value obtained: 552.3228\n",
      "Current minimum: 551.4484\n",
      "Iteration No: 21 started. Evaluating function at random point.\n",
      "[0.06692631330513218, 45, 86, 0.8928521054475104, 0.5249934326457545]\n",
      "Iteration No: 21 ended. Evaluation done at random point.\n",
      "Time taken: 6.6330\n",
      "Function value obtained: 553.0091\n",
      "Current minimum: 551.4484\n",
      "Iteration No: 22 started. Evaluating function at random point.\n",
      "[0.012839830347891872, 79, 3, 0.7727457961860527, 0.6051494778125467]\n",
      "Iteration No: 22 ended. Evaluation done at random point.\n",
      "Time taken: 8.3697\n",
      "Function value obtained: 552.7116\n",
      "Current minimum: 551.4484\n",
      "Iteration No: 23 started. Evaluating function at random point.\n",
      "[0.07732575081550155, 104, 27, 0.5465961879128944, 0.4847869165226947]\n",
      "Iteration No: 23 ended. Evaluation done at random point.\n",
      "Time taken: 9.6218\n",
      "Function value obtained: 557.6060\n",
      "Current minimum: 551.4484\n",
      "Iteration No: 24 started. Evaluating function at random point.\n",
      "[0.003516493547665424, 78, 51, 0.07985772640239755, 0.6727693701374025]\n",
      "Iteration No: 24 ended. Evaluation done at random point.\n",
      "Time taken: 8.5155\n",
      "Function value obtained: 595.5480\n",
      "Current minimum: 551.4484\n",
      "Iteration No: 25 started. Evaluating function at random point.\n",
      "[0.03212124212655634, 97, 4, 0.9121881502297885, 0.3243630062339875]\n",
      "Iteration No: 25 ended. Evaluation done at random point.\n",
      "Time taken: 7.9310\n",
      "Function value obtained: 551.7858\n",
      "Current minimum: 551.4484\n",
      "Iteration No: 26 started. Evaluating function at random point.\n",
      "[0.04162790938052735, 44, 29, 0.2673582572170414, 0.1692819188459137]\n",
      "Iteration No: 26 ended. Evaluation done at random point.\n",
      "Time taken: 6.0677\n",
      "Function value obtained: 552.6590\n",
      "Current minimum: 551.4484\n",
      "Iteration No: 27 started. Evaluating function at random point.\n",
      "[0.02968539383846304, 87, 28, 0.9332127697254445, 0.8273083416079754]\n",
      "Iteration No: 27 ended. Evaluation done at random point.\n",
      "Time taken: 5.7717\n",
      "Function value obtained: 552.4529\n",
      "Current minimum: 551.4484\n",
      "Iteration No: 28 started. Evaluating function at random point.\n",
      "[0.06370697189453194, 7, 28, 0.8134884730541588, 0.2679130529974323]\n",
      "Iteration No: 28 ended. Evaluation done at random point.\n",
      "Time taken: 3.4708\n",
      "Function value obtained: 552.9615\n",
      "Current minimum: 551.4484\n",
      "Iteration No: 29 started. Evaluating function at random point.\n",
      "[0.08936334085050782, 76, 92, 0.3884829461731262, 0.9161455973911787]\n",
      "Iteration No: 29 ended. Evaluation done at random point.\n",
      "Time taken: 9.5993\n",
      "Function value obtained: 560.6901\n",
      "Current minimum: 551.4484\n",
      "Iteration No: 30 started. Evaluating function at random point.\n",
      "[0.027941092689078902, 28, 62, 0.05049435814555003, 0.4173119707007522]\n",
      "Iteration No: 30 ended. Evaluation done at random point.\n",
      "Time taken: 4.2880\n",
      "Function value obtained: 554.9981\n",
      "Current minimum: 551.4484\n"
     ]
    }
   ],
   "source": [
    "# Random search\n",
    "\n",
    "def treinar_modelo(params):\n",
    "     \n",
    "    learning_rate = params[0]\n",
    "    num_leaves = params[1]\n",
    "    min_child_samples = params[2]\n",
    "    subsample = params[3]\n",
    "    colsample_bytree = params[4]\n",
    "    \n",
    "    print(params)\n",
    "    \n",
    "    lgbm_reg = LGBMRegressor(n_estimators=500,\n",
    "                             learning_rate=learning_rate,\n",
    "                             num_leaves = num_leaves,\n",
    "                             min_child_samples = min_child_samples,\n",
    "                             subsample = subsample,\n",
    "                             colsample_bytree = colsample_bytree,\n",
    "                             subsample_freq=1,\n",
    "                             n_jobs=-1, \n",
    "                             random_state=42)\n",
    "    \n",
    "    lgbm_reg.fit(X_train_feature_tr, np.log(y_train_tr))\n",
    "    y_pred = lgbm_reg.predict(X_val_feature_tr)\n",
    "    \n",
    "    return mean_absolute_error(y_val, np.exp(y_pred))\n",
    "\n",
    "space = [(1e-3, 1e-1), # learning_rate\n",
    "         (2, 128), # num_leaves\n",
    "         (1, 100), # min_child_samples\n",
    "         (0.05, 1.0), # subsample\n",
    "         (0.1, 1.0) # colsample_bytree\n",
    "        ]\n",
    "\n",
    "resultado = dummy_minimize(treinar_modelo, space, random_state=42, verbose=1, n_calls=30)"
   ]
  },
  {
   "cell_type": "code",
   "execution_count": 222,
   "id": "ae1dab86",
   "metadata": {
    "ExecuteTime": {
     "end_time": "2023-03-14T16:31:22.129201Z",
     "start_time": "2023-03-14T16:31:22.125734Z"
    }
   },
   "outputs": [],
   "source": [
    "best_result = resultado.x"
   ]
  },
  {
   "cell_type": "code",
   "execution_count": 225,
   "id": "03915c76",
   "metadata": {
    "ExecuteTime": {
     "end_time": "2023-03-14T16:35:12.441930Z",
     "start_time": "2023-03-14T16:31:46.187565Z"
    },
    "scrolled": true
   },
   "outputs": [
    {
     "name": "stdout",
     "output_type": "stream",
     "text": [
      "Iteration No: 1 started. Evaluating function at random point.\n",
      "[0.07985775569916308, 25, 78, 0.6170076500491628, 0.5012494775682321]\n",
      "Iteration No: 1 ended. Evaluation done at random point.\n",
      "Time taken: 6.9596\n",
      "Function value obtained: 551.4408\n",
      "Current minimum: 551.4408\n",
      "Iteration No: 2 started. Evaluating function at random point.\n",
      "[0.01089751666598229, 60, 34, 0.18572347702584374, 0.6857996256539677]\n",
      "Iteration No: 2 ended. Evaluation done at random point.\n",
      "Time taken: 7.3750\n",
      "Function value obtained: 553.4044\n",
      "Current minimum: 551.4408\n",
      "Iteration No: 3 started. Evaluating function at random point.\n",
      "[0.006584746323682927, 93, 94, 0.05073982754896361, 0.992990403362096]\n",
      "Iteration No: 3 ended. Evaluation done at random point.\n",
      "Time taken: 4.5598\n",
      "Function value obtained: 566.6552\n",
      "Current minimum: 551.4408\n",
      "Iteration No: 4 started. Evaluating function at random point.\n",
      "[0.06213066945314395, 79, 2, 0.07190930378934497, 0.5722971942325503]\n",
      "Iteration No: 4 ended. Evaluation done at random point.\n",
      "Time taken: 5.8123\n",
      "Function value obtained: 570.9641\n",
      "Current minimum: 551.4408\n",
      "Iteration No: 5 started. Evaluating function at random point.\n",
      "[0.040586236199810305, 8, 97, 0.27113277340878905, 0.18154579107953872]\n",
      "Iteration No: 5 ended. Evaluation done at random point.\n",
      "Time taken: 3.5932\n",
      "Function value obtained: 554.1525\n",
      "Current minimum: 551.4408\n",
      "Iteration No: 6 started. Evaluating function at random point.\n",
      "[0.062220214923975656, 50, 98, 0.493424748585581, 0.8739463660626887]\n",
      "Iteration No: 6 ended. Evaluation done at random point.\n",
      "Time taken: 11.5027\n",
      "Function value obtained: 553.4603\n",
      "Current minimum: 551.4408\n",
      "Iteration No: 7 started. Evaluating function at random point.\n",
      "[0.0683504463201902, 59, 2, 0.9450916679006104, 0.6069593960609855]\n",
      "Iteration No: 7 ended. Evaluation done at random point.\n",
      "Time taken: 6.9042\n",
      "Function value obtained: 552.4767\n",
      "Current minimum: 551.4408\n",
      "Iteration No: 8 started. Evaluating function at random point.\n",
      "[0.039156233751451705, 4, 24, 0.2789741927247112, 0.7149371669429125]\n",
      "Iteration No: 8 ended. Evaluation done at random point.\n",
      "Time taken: 3.6433\n",
      "Function value obtained: 556.9243\n",
      "Current minimum: 551.4408\n",
      "Iteration No: 9 started. Evaluating function at random point.\n",
      "[0.06138966912047948, 107, 18, 0.4215075771945788, 0.2640124790092561]\n",
      "Iteration No: 9 ended. Evaluation done at random point.\n",
      "Time taken: 9.6674\n",
      "Function value obtained: 556.3309\n",
      "Current minimum: 551.4408\n",
      "Iteration No: 10 started. Evaluating function at random point.\n",
      "[0.07578077962144762, 56, 22, 0.5893153114289921, 0.12818196321000275]\n",
      "Iteration No: 10 ended. Evaluation done at random point.\n",
      "Time taken: 7.3760\n",
      "Function value obtained: 553.9752\n",
      "Current minimum: 551.4408\n",
      "Iteration No: 11 started. Searching for the next optimal point.\n",
      "[0.07308102653374585, 22, 100, 0.6176702328885796, 0.27855306412033565]\n",
      "Iteration No: 11 ended. Search finished for the next optimal point.\n",
      "Time taken: 7.2121\n",
      "Function value obtained: 553.6432\n",
      "Current minimum: 551.4408\n",
      "Iteration No: 12 started. Searching for the next optimal point.\n",
      "[0.08962162722295995, 29, 52, 0.6150554285669759, 0.8178364814467944]\n",
      "Iteration No: 12 ended. Search finished for the next optimal point.\n",
      "Time taken: 5.6656\n",
      "Function value obtained: 554.6505\n",
      "Current minimum: 551.4408\n",
      "Iteration No: 13 started. Searching for the next optimal point.\n",
      "[0.07721628875192164, 125, 2, 0.6769621854123627, 0.1311326949435892]\n",
      "Iteration No: 13 ended. Search finished for the next optimal point.\n",
      "Time taken: 7.3607\n",
      "Function value obtained: 555.3315\n",
      "Current minimum: 551.4408\n",
      "Iteration No: 14 started. Searching for the next optimal point.\n",
      "[0.06112660394383664, 80, 22, 0.985989618743783, 0.8924529046839866]\n",
      "Iteration No: 14 ended. Search finished for the next optimal point.\n",
      "Time taken: 12.5931\n",
      "Function value obtained: 554.4899\n",
      "Current minimum: 551.4408\n",
      "Iteration No: 15 started. Searching for the next optimal point.\n",
      "[0.07688111118007693, 30, 2, 0.9010038748927, 0.47809424785616705]\n",
      "Iteration No: 15 ended. Search finished for the next optimal point.\n",
      "Time taken: 5.5558\n",
      "Function value obtained: 552.4354\n",
      "Current minimum: 551.4408\n",
      "Iteration No: 16 started. Searching for the next optimal point.\n",
      "[0.011387134124705964, 128, 20, 0.9042011269916356, 0.26885754931546196]\n",
      "Iteration No: 16 ended. Search finished for the next optimal point.\n",
      "Time taken: 10.0908\n",
      "Function value obtained: 554.2704\n",
      "Current minimum: 551.4408\n",
      "Iteration No: 17 started. Searching for the next optimal point.\n",
      "[0.001, 105, 100, 0.21822787978864877, 0.19694957399566718]\n",
      "Iteration No: 17 ended. Search finished for the next optimal point.\n",
      "Time taken: 9.2630\n",
      "Function value obtained: 742.8193\n",
      "Current minimum: 551.4408\n",
      "Iteration No: 18 started. Searching for the next optimal point.\n",
      "[0.1, 2, 100, 1.0, 0.6785093838675802]\n",
      "Iteration No: 18 ended. Search finished for the next optimal point.\n",
      "Time taken: 3.5586\n",
      "Function value obtained: 560.6166\n",
      "Current minimum: 551.4408\n",
      "Iteration No: 19 started. Searching for the next optimal point.\n",
      "[0.056595634330557205, 128, 100, 0.05, 0.1]\n",
      "Iteration No: 19 ended. Search finished for the next optimal point.\n",
      "Time taken: 3.9541\n",
      "Function value obtained: 559.7134\n",
      "Current minimum: 551.4408\n",
      "Iteration No: 20 started. Searching for the next optimal point.\n",
      "[0.022334944589508562, 128, 1, 1.0, 0.12890009962234217]\n",
      "Iteration No: 20 ended. Search finished for the next optimal point.\n",
      "Time taken: 7.1467\n",
      "Function value obtained: 558.0368\n",
      "Current minimum: 551.4408\n",
      "Iteration No: 21 started. Searching for the next optimal point.\n",
      "[0.002336133448025994, 128, 1, 1.0, 1.0]\n",
      "Iteration No: 21 ended. Search finished for the next optimal point.\n",
      "Time taken: 12.4249\n",
      "Function value obtained: 632.1859\n",
      "Current minimum: 551.4408\n",
      "Iteration No: 22 started. Searching for the next optimal point.\n",
      "[0.015034533518309873, 128, 100, 0.9549252585917979, 1.0]\n",
      "Iteration No: 22 ended. Search finished for the next optimal point.\n",
      "Time taken: 10.8493\n",
      "Function value obtained: 552.6474\n",
      "Current minimum: 551.4408\n",
      "Iteration No: 23 started. Searching for the next optimal point.\n",
      "[0.07007333157848485, 2, 100, 1.0, 1.0]\n",
      "Iteration No: 23 ended. Search finished for the next optimal point.\n",
      "Time taken: 3.6398\n",
      "Function value obtained: 562.1649\n",
      "Current minimum: 551.4408\n",
      "Iteration No: 24 started. Searching for the next optimal point.\n",
      "[0.015668020498016827, 109, 57, 0.9644493154675265, 0.1]\n",
      "Iteration No: 24 ended. Search finished for the next optimal point.\n",
      "Time taken: 7.1622\n",
      "Function value obtained: 567.0681\n",
      "Current minimum: 551.4408\n",
      "Iteration No: 25 started. Searching for the next optimal point.\n",
      "[0.03134121529611882, 10, 91, 0.9711603834681485, 0.1]\n",
      "Iteration No: 25 ended. Search finished for the next optimal point.\n",
      "Time taken: 4.0564\n",
      "Function value obtained: 558.6396\n",
      "Current minimum: 551.4408\n",
      "Iteration No: 26 started. Searching for the next optimal point.\n",
      "[0.027069274347691755, 52, 11, 0.7811444331834888, 1.0]\n",
      "Iteration No: 26 ended. Search finished for the next optimal point.\n",
      "Time taken: 6.9274\n",
      "Function value obtained: 552.5548\n",
      "Current minimum: 551.4408\n",
      "Iteration No: 27 started. Searching for the next optimal point.\n",
      "[0.08451017850860301, 2, 100, 0.769862284503093, 0.7957740036543938]\n",
      "Iteration No: 27 ended. Search finished for the next optimal point.\n",
      "Time taken: 4.8210\n",
      "Function value obtained: 560.2723\n",
      "Current minimum: 551.4408\n",
      "Iteration No: 28 started. Searching for the next optimal point.\n",
      "[0.04891817698787609, 84, 100, 1.0, 1.0]\n",
      "Iteration No: 28 ended. Search finished for the next optimal point.\n",
      "Time taken: 6.9374\n",
      "Function value obtained: 554.3076\n",
      "Current minimum: 551.4408\n",
      "Iteration No: 29 started. Searching for the next optimal point.\n",
      "[0.06614622045865075, 2, 100, 1.0, 0.1]\n",
      "Iteration No: 29 ended. Search finished for the next optimal point.\n",
      "Time taken: 3.1042\n",
      "Function value obtained: 566.4962\n",
      "Current minimum: 551.4408\n",
      "Iteration No: 30 started. Searching for the next optimal point.\n",
      "[0.09262494772794322, 128, 1, 0.05, 0.1]\n",
      "Iteration No: 30 ended. Search finished for the next optimal point.\n",
      "Time taken: 6.4938\n",
      "Function value obtained: 575.4406\n",
      "Current minimum: 551.4408\n"
     ]
    }
   ],
   "source": [
    "# Baysean optimization\n",
    "\n",
    "resultado = gp_minimize(treinar_modelo, space, random_state=42, verbose=1, n_calls=30, n_random_starts=10)"
   ]
  },
  {
   "cell_type": "code",
   "execution_count": 226,
   "id": "de0fb478",
   "metadata": {
    "ExecuteTime": {
     "end_time": "2023-03-14T16:35:15.547382Z",
     "start_time": "2023-03-14T16:35:15.529408Z"
    }
   },
   "outputs": [
    {
     "data": {
      "text/plain": [
       "[0.07985775569916308, 25, 78, 0.6170076500491628, 0.5012494775682321]"
      ]
     },
     "execution_count": 226,
     "metadata": {},
     "output_type": "execute_result"
    }
   ],
   "source": [
    "resultado.x"
   ]
  },
  {
   "cell_type": "markdown",
   "id": "c3ace798",
   "metadata": {},
   "source": [
    "# Resultados finais"
   ]
  },
  {
   "cell_type": "code",
   "execution_count": 259,
   "id": "43826813",
   "metadata": {
    "ExecuteTime": {
     "end_time": "2023-03-14T16:49:22.411162Z",
     "start_time": "2023-03-14T16:49:17.671275Z"
    }
   },
   "outputs": [],
   "source": [
    "lgbm_reg = LGBMRegressor(n_estimators=500,\n",
    "                         learning_rate=0.08,\n",
    "                         num_leaves=25,\n",
    "                         min_child_samples = 80,\n",
    "                         subsample = 0.6,\n",
    "                         colsample_bytree=0.5,\n",
    "                         subsample_freq=1,\n",
    "                         n_jobs=-1, \n",
    "                         random_state=42)\n",
    "\n",
    "lgbm_reg.fit(X_train_feature_tr, np.log(y_train_tr))\n",
    "\n",
    "y_pred = lgbm_reg.predict(X_val_feature_tr)"
   ]
  },
  {
   "cell_type": "code",
   "execution_count": 260,
   "id": "a6470e4c",
   "metadata": {
    "ExecuteTime": {
     "end_time": "2023-03-14T16:49:23.541582Z",
     "start_time": "2023-03-14T16:49:23.524469Z"
    },
    "scrolled": true
   },
   "outputs": [
    {
     "data": {
      "text/html": [
       "<div>\n",
       "<style scoped>\n",
       "    .dataframe tbody tr th:only-of-type {\n",
       "        vertical-align: middle;\n",
       "    }\n",
       "\n",
       "    .dataframe tbody tr th {\n",
       "        vertical-align: top;\n",
       "    }\n",
       "\n",
       "    .dataframe thead th {\n",
       "        text-align: right;\n",
       "    }\n",
       "</style>\n",
       "<table border=\"1\" class=\"dataframe\">\n",
       "  <thead>\n",
       "    <tr style=\"text-align: right;\">\n",
       "      <th></th>\n",
       "      <th>Model</th>\n",
       "      <th>MAE</th>\n",
       "      <th>MAPE</th>\n",
       "      <th>RMSE</th>\n",
       "      <th>R2</th>\n",
       "    </tr>\n",
       "  </thead>\n",
       "  <tbody>\n",
       "    <tr>\n",
       "      <th>0</th>\n",
       "      <td>LGBM (Treino)</td>\n",
       "      <td>551.399686</td>\n",
       "      <td>0.65419</td>\n",
       "      <td>2022.338668</td>\n",
       "      <td>0.277198</td>\n",
       "    </tr>\n",
       "  </tbody>\n",
       "</table>\n",
       "</div>"
      ],
      "text/plain": [
       "           Model         MAE     MAPE         RMSE        R2\n",
       "0  LGBM (Treino)  551.399686  0.65419  2022.338668  0.277198"
      ]
     },
     "execution_count": 260,
     "metadata": {},
     "output_type": "execute_result"
    }
   ],
   "source": [
    "# Métricas de treino\n",
    "\n",
    "mae = mean_absolute_error(y_val, np.exp(y_pred))\n",
    "mape = mean_absolute_percentage_error(y_val, np.exp(y_pred))\n",
    "rmse = np.sqrt(mean_squared_error(y_val, np.exp(y_pred)))\n",
    "r2 = r2_score(y_val, np.exp(y_pred))\n",
    "\n",
    "pd.DataFrame([{'Model':'LGBM (Treino)','MAE': mae, 'MAPE':mape, 'RMSE':rmse, 'R2':r2}])"
   ]
  },
  {
   "cell_type": "code",
   "execution_count": 261,
   "id": "7cd6c7b8",
   "metadata": {
    "ExecuteTime": {
     "end_time": "2023-03-14T16:49:24.601167Z",
     "start_time": "2023-03-14T16:49:24.596174Z"
    }
   },
   "outputs": [],
   "source": [
    "# Tratamento do teste\n",
    "\n",
    "X_test_feature = X_test.copy()"
   ]
  },
  {
   "cell_type": "code",
   "execution_count": 262,
   "id": "3be06245",
   "metadata": {
    "ExecuteTime": {
     "end_time": "2023-03-14T16:49:25.914428Z",
     "start_time": "2023-03-14T16:49:25.637161Z"
    }
   },
   "outputs": [
    {
     "data": {
      "text/html": [
       "<div>\n",
       "<style scoped>\n",
       "    .dataframe tbody tr th:only-of-type {\n",
       "        vertical-align: middle;\n",
       "    }\n",
       "\n",
       "    .dataframe tbody tr th {\n",
       "        vertical-align: top;\n",
       "    }\n",
       "\n",
       "    .dataframe thead th {\n",
       "        text-align: right;\n",
       "    }\n",
       "</style>\n",
       "<table border=\"1\" class=\"dataframe\">\n",
       "  <thead>\n",
       "    <tr style=\"text-align: right;\">\n",
       "      <th></th>\n",
       "      <th>Model</th>\n",
       "      <th>MAE</th>\n",
       "      <th>MAPE</th>\n",
       "      <th>RMSE</th>\n",
       "      <th>R2</th>\n",
       "    </tr>\n",
       "  </thead>\n",
       "  <tbody>\n",
       "    <tr>\n",
       "      <th>0</th>\n",
       "      <td>LGBM (Teste)</td>\n",
       "      <td>503.889469</td>\n",
       "      <td>0.645168</td>\n",
       "      <td>1284.884388</td>\n",
       "      <td>0.461854</td>\n",
       "    </tr>\n",
       "  </tbody>\n",
       "</table>\n",
       "</div>"
      ],
      "text/plain": [
       "          Model         MAE      MAPE         RMSE        R2\n",
       "0  LGBM (Teste)  503.889469  0.645168  1284.884388  0.461854"
      ]
     },
     "execution_count": 262,
     "metadata": {},
     "output_type": "execute_result"
    }
   ],
   "source": [
    "# Métricas de teste\n",
    "\n",
    "X_test_feature['moradores_por_comodo'] = X_test['moradores'] / X_test['comodos']\n",
    "X_test_feature['moradores_por_dormitorio'] = X_test['moradores'] / X_test['dormitorios']\n",
    "\n",
    "\n",
    "X_test_feature_tr = tr_pipeline.transform(X_test_feature)\n",
    "\n",
    "y_pred = lgbm_reg.predict(X_test_feature_tr)\n",
    "\n",
    "mae = mean_absolute_error(y_test, np.exp(y_pred))\n",
    "mape = mean_absolute_percentage_error(y_test, np.exp(y_pred))\n",
    "rmse = np.sqrt(mean_squared_error(y_test, np.exp(y_pred)))\n",
    "r2 = r2_score(y_test, np.exp(y_pred))\n",
    "\n",
    "pd.DataFrame([{'Model':'LGBM (Teste)','MAE': mae, 'MAPE':mape, 'RMSE':rmse, 'R2':r2}])"
   ]
  },
  {
   "cell_type": "code",
   "execution_count": 286,
   "id": "95208234",
   "metadata": {
    "ExecuteTime": {
     "end_time": "2023-03-14T17:03:09.026039Z",
     "start_time": "2023-03-14T17:03:09.009643Z"
    }
   },
   "outputs": [
    {
     "data": {
      "text/plain": [
       "(480.7195667550926, 527.0593715354455)"
      ]
     },
     "execution_count": 286,
     "metadata": {},
     "output_type": "execute_result"
    }
   ],
   "source": [
    "# Intevalo de confiança\n",
    "\n",
    "from scipy import stats\n",
    "\n",
    "confidence = 0.95\n",
    "absolute_errors = np.abs(np.exp(y_pred) - y_test)\n",
    "stats.t.interval(confidence, len(squared_errors) - 1,\n",
    "                loc=absolute_errors.mean(),\n",
    "                scale=stats.sem(absolute_errors))"
   ]
  }
 ],
 "metadata": {
  "kernelspec": {
   "display_name": "Python 3",
   "language": "python",
   "name": "python3"
  },
  "language_info": {
   "codemirror_mode": {
    "name": "ipython",
    "version": 3
   },
   "file_extension": ".py",
   "mimetype": "text/x-python",
   "name": "python",
   "nbconvert_exporter": "python",
   "pygments_lexer": "ipython3",
   "version": "3.8.10"
  },
  "varInspector": {
   "cols": {
    "lenName": 16,
    "lenType": 16,
    "lenVar": 40
   },
   "kernels_config": {
    "python": {
     "delete_cmd_postfix": "",
     "delete_cmd_prefix": "del ",
     "library": "var_list.py",
     "varRefreshCmd": "print(var_dic_list())"
    },
    "r": {
     "delete_cmd_postfix": ") ",
     "delete_cmd_prefix": "rm(",
     "library": "var_list.r",
     "varRefreshCmd": "cat(var_dic_list()) "
    }
   },
   "types_to_exclude": [
    "module",
    "function",
    "builtin_function_or_method",
    "instance",
    "_Feature"
   ],
   "window_display": false
  }
 },
 "nbformat": 4,
 "nbformat_minor": 5
}
