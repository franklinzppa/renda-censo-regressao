{
 "cells": [
  {
   "cell_type": "markdown",
   "id": "232298e8",
   "metadata": {},
   "source": [
    "# Renda-Classificação"
   ]
  },
  {
   "cell_type": "markdown",
   "id": "d1a56d3c",
   "metadata": {},
   "source": [
    "## Introdução"
   ]
  },
  {
   "cell_type": "markdown",
   "id": "a9b9c6f7",
   "metadata": {},
   "source": [
    "O objetivo desse projeto é prever a renda de um grupo familiar utilizando informações relacionadas a sua residência. Trata-se portanto de um projeto de **regressão supervisionado offline**. "
   ]
  },
  {
   "cell_type": "markdown",
   "id": "cc76c666",
   "metadata": {},
   "source": [
    "## Questão de negócio\n",
    "\n",
    "* Compania de cartão de crédito\n",
    "* Estimar renda de um cliente a partir dos parâmetros de sua residência e comparar com a autodeclaração"
   ]
  },
  {
   "cell_type": "markdown",
   "id": "87cec73d",
   "metadata": {},
   "source": [
    "## Extração dos dados"
   ]
  },
  {
   "cell_type": "markdown",
   "id": "8381e184",
   "metadata": {},
   "source": [
    "Os dados utilizados são do **Censo 2000** realizado pelo IBGE e mantido na [Base dos Dados](https://basedosdados.org/dataset/br-ibge-censo-demografico?bdm_table=microdados_domicilio_2000). Informações sobre a metodologia do Censo e sobre a base de dados estão na pasta `materiais`. A extração será realizada utilizando SQL utilizando a API do **BigQuery**."
   ]
  },
  {
   "cell_type": "code",
   "execution_count": 1,
   "id": "2220ec7b",
   "metadata": {
    "ExecuteTime": {
     "end_time": "2023-03-13T22:51:52.184885Z",
     "start_time": "2023-03-13T22:51:52.181672Z"
    }
   },
   "outputs": [],
   "source": [
    "# # Consulta\n",
    "\n",
    "# import os\n",
    "# import pandas as pd\n",
    "# from google.cloud import bigquery\n",
    "\n",
    "# os.environ['GOOGLE_APPLICATION_CREDENTIALS'] = 'renda-censo-regressao-0d5cd82b3cac.json'\n",
    "\n",
    "# client = bigquery.Client()\n",
    "\n",
    "# query = \"\"\"\n",
    "#         SELECT sigla_uf, situacao_domicilio, v0202 AS tipo_domicilio, v0205 AS condicao_domicilio, v0203 AS comodos, v0204 AS dormitorios,v0209 AS banheiros, v0207 AS agua, v0213 AS iluminacao, v0214 AS radio, v0215 AS geladeira, v0216 AS videocassete, v0217 AS maquina_lavar, v0218 AS microondas, v0219 as telefone, v0220 as computador, v0221 as televisores, v0222 as automoveis, v0223 as ar_condicionado, v7100 as iluminacao_publica, v0212 AS coleta_lixo, v7100 AS moradores, v0110 AS homens, v0111 AS mulheres, v7616 AS rendimento\n",
    "#         FROM `basedosdados.br_ibge_censo_demografico.microdados_domicilio_2000`\n",
    "#         WHERE (v7616 IS NOT NULL) AND (v7616 > 0) AND v0201 = 1\n",
    "#         ORDER BY RAND() \n",
    "#         LIMIT 100000;\n",
    "#         \"\"\"\n",
    "\n",
    "# df_raw = client.query(query).to_dataframe()\n",
    "# df_raw.to_csv('data/df_raw.csv', index=False)\n",
    "\n",
    "# df_raw.head()"
   ]
  },
  {
   "cell_type": "markdown",
   "id": "d7dead36",
   "metadata": {},
   "source": [
    "## Colunas"
   ]
  },
  {
   "cell_type": "markdown",
   "id": "c7bac44a",
   "metadata": {},
   "source": [
    "Coluna       | Tipo  | Descrição\n",
    "-------------|-------|-------------------------------\n",
    "sigla_uf     |str    | Sigla da Unidade da Federação\n",
    "id_municipio |str    | ID de 7 dígitos do IBGE\n",
    "situacao_domicilio | int64 |"
   ]
  },
  {
   "cell_type": "code",
   "execution_count": 2,
   "id": "bf760647",
   "metadata": {
    "ExecuteTime": {
     "end_time": "2023-03-13T22:51:52.195212Z",
     "start_time": "2023-03-13T22:51:52.192094Z"
    }
   },
   "outputs": [],
   "source": [
    "# sigla_uf\tSTRING\tSigla da Unidade da Federação\n",
    "# id_municipio\tSTRING\tID Município - IBGE 7 Dígitos\n",
    "# situacao_domicilio\tINT64\tSituação do domicílio\n",
    "# v0110\tINT64\tTotal de homens\n",
    "# v0111\tINT64\tTotal de mulheres\n",
    "# v0202\tINT64\tTipo do domicílio\n",
    "# v0203\tINT64\tTotal de cômodos\n",
    "# v0205\tINT64\tCondição do domicílio\n",
    "# v0207\tINT64\tForma de abastecimento de água\n",
    "# v0209\tINT64\tTotal de banheiros\n",
    "# v0212\tINT64\tColeta de lixo\n",
    "# v0213\tINT64\tIluminação elétrica\n",
    "# v0214\tINT64\tExistência de rádio\n",
    "# v0215\tINT64\tExistência de geladeira ou freezer\n",
    "# v0216\tINT64\tExistência de videocassete\n",
    "# v0217\tINT64\tExistência de máquina de lavar roupa\n",
    "# v0218\tINT64\tExistência de forno de microondas\n",
    "# v0219\tINT64\tExistência de linha telefônica instalada\n",
    "# v0220\tINT64\tExistência de microcomputador\n",
    "# v0221\tINT64\tQuantidade existente de televisores\n",
    "# v0222\tINT64\tQuantidade existente de automóveis para uso particular\n",
    "# v0223\tINT64\tQuantidade existente de aparelhos de ar condicionado\n",
    "# v7100\tINT64\tTotal de moradores no domicílio\n",
    "# v1112\tINT64\tExistência de iluminação pública\n",
    "# v1113\tINT64\tExistência de calçamento/pavimentação\n",
    "\n",
    "# v7616\tINT64\tTotal de rendimentos do domicílio particular"
   ]
  },
  {
   "cell_type": "code",
   "execution_count": null,
   "id": "1159de2a",
   "metadata": {},
   "outputs": [],
   "source": []
  },
  {
   "cell_type": "code",
   "execution_count": null,
   "id": "0ea6968d",
   "metadata": {},
   "outputs": [],
   "source": []
  },
  {
   "cell_type": "code",
   "execution_count": null,
   "id": "b314854f",
   "metadata": {},
   "outputs": [],
   "source": []
  },
  {
   "cell_type": "markdown",
   "id": "a5d98896",
   "metadata": {},
   "source": [
    "## Explorando os dados"
   ]
  },
  {
   "cell_type": "code",
   "execution_count": 3,
   "id": "a9f275fd",
   "metadata": {
    "ExecuteTime": {
     "end_time": "2023-03-13T22:51:53.644397Z",
     "start_time": "2023-03-13T22:51:52.203149Z"
    }
   },
   "outputs": [],
   "source": [
    "# Importando bibliotecas\n",
    "\n",
    "import numpy as np\n",
    "import pandas as pd\n",
    "import seaborn as sns\n",
    "import matplotlib.pyplot as plt\n",
    "from sklearn.linear_model import LinearRegression\n",
    "from sklearn.model_selection import train_test_split\n",
    "from sklearn.preprocessing import OrdinalEncoder, OneHotEncoder\n",
    "from sklearn.preprocessing import StandardScaler\n",
    "from sklearn.metrics import mean_squared_error, r2_score\n",
    "from sklearn.impute import SimpleImputer\n",
    "from sklearn.pipeline import Pipeline\n",
    "from sklearn.compose import ColumnTransformer"
   ]
  },
  {
   "cell_type": "code",
   "execution_count": 4,
   "id": "8cd09a12",
   "metadata": {
    "ExecuteTime": {
     "end_time": "2023-03-13T22:51:53.821343Z",
     "start_time": "2023-03-13T22:51:53.649086Z"
    }
   },
   "outputs": [],
   "source": [
    "df_raw = pd.read_csv('data/df_raw.csv')"
   ]
  },
  {
   "cell_type": "code",
   "execution_count": 5,
   "id": "0112f7fd",
   "metadata": {
    "ExecuteTime": {
     "end_time": "2023-03-13T22:51:53.853630Z",
     "start_time": "2023-03-13T22:51:53.825229Z"
    },
    "scrolled": true
   },
   "outputs": [
    {
     "data": {
      "text/html": [
       "<div>\n",
       "<style scoped>\n",
       "    .dataframe tbody tr th:only-of-type {\n",
       "        vertical-align: middle;\n",
       "    }\n",
       "\n",
       "    .dataframe tbody tr th {\n",
       "        vertical-align: top;\n",
       "    }\n",
       "\n",
       "    .dataframe thead th {\n",
       "        text-align: right;\n",
       "    }\n",
       "</style>\n",
       "<table border=\"1\" class=\"dataframe\">\n",
       "  <thead>\n",
       "    <tr style=\"text-align: right;\">\n",
       "      <th></th>\n",
       "      <th>sigla_uf</th>\n",
       "      <th>situacao_domicilio</th>\n",
       "      <th>tipo_domicilio</th>\n",
       "      <th>condicao_domicilio</th>\n",
       "      <th>comodos</th>\n",
       "      <th>dormitorios</th>\n",
       "      <th>banheiros</th>\n",
       "      <th>agua</th>\n",
       "      <th>iluminacao</th>\n",
       "      <th>radio</th>\n",
       "      <th>...</th>\n",
       "      <th>computador</th>\n",
       "      <th>televisores</th>\n",
       "      <th>automoveis</th>\n",
       "      <th>ar_condicionado</th>\n",
       "      <th>iluminacao_publica</th>\n",
       "      <th>coleta_lixo</th>\n",
       "      <th>moradores</th>\n",
       "      <th>homens</th>\n",
       "      <th>mulheres</th>\n",
       "      <th>rendimento</th>\n",
       "    </tr>\n",
       "  </thead>\n",
       "  <tbody>\n",
       "    <tr>\n",
       "      <th>0</th>\n",
       "      <td>PE</td>\n",
       "      <td>1</td>\n",
       "      <td>1</td>\n",
       "      <td>3</td>\n",
       "      <td>3</td>\n",
       "      <td>1</td>\n",
       "      <td>1</td>\n",
       "      <td>1</td>\n",
       "      <td>1</td>\n",
       "      <td>1</td>\n",
       "      <td>...</td>\n",
       "      <td>2</td>\n",
       "      <td>1</td>\n",
       "      <td>0</td>\n",
       "      <td>0</td>\n",
       "      <td>3</td>\n",
       "      <td>1</td>\n",
       "      <td>3</td>\n",
       "      <td>1</td>\n",
       "      <td>2</td>\n",
       "      <td>100</td>\n",
       "    </tr>\n",
       "    <tr>\n",
       "      <th>1</th>\n",
       "      <td>MG</td>\n",
       "      <td>1</td>\n",
       "      <td>1</td>\n",
       "      <td>3</td>\n",
       "      <td>6</td>\n",
       "      <td>3</td>\n",
       "      <td>1</td>\n",
       "      <td>1</td>\n",
       "      <td>1</td>\n",
       "      <td>2</td>\n",
       "      <td>...</td>\n",
       "      <td>2</td>\n",
       "      <td>1</td>\n",
       "      <td>0</td>\n",
       "      <td>0</td>\n",
       "      <td>5</td>\n",
       "      <td>1</td>\n",
       "      <td>5</td>\n",
       "      <td>3</td>\n",
       "      <td>2</td>\n",
       "      <td>461</td>\n",
       "    </tr>\n",
       "    <tr>\n",
       "      <th>2</th>\n",
       "      <td>RS</td>\n",
       "      <td>2</td>\n",
       "      <td>1</td>\n",
       "      <td>1</td>\n",
       "      <td>4</td>\n",
       "      <td>1</td>\n",
       "      <td>0</td>\n",
       "      <td>2</td>\n",
       "      <td>1</td>\n",
       "      <td>1</td>\n",
       "      <td>...</td>\n",
       "      <td>2</td>\n",
       "      <td>1</td>\n",
       "      <td>0</td>\n",
       "      <td>0</td>\n",
       "      <td>2</td>\n",
       "      <td>3</td>\n",
       "      <td>2</td>\n",
       "      <td>1</td>\n",
       "      <td>1</td>\n",
       "      <td>80</td>\n",
       "    </tr>\n",
       "    <tr>\n",
       "      <th>3</th>\n",
       "      <td>SP</td>\n",
       "      <td>1</td>\n",
       "      <td>1</td>\n",
       "      <td>1</td>\n",
       "      <td>13</td>\n",
       "      <td>3</td>\n",
       "      <td>2</td>\n",
       "      <td>1</td>\n",
       "      <td>1</td>\n",
       "      <td>1</td>\n",
       "      <td>...</td>\n",
       "      <td>2</td>\n",
       "      <td>2</td>\n",
       "      <td>1</td>\n",
       "      <td>0</td>\n",
       "      <td>4</td>\n",
       "      <td>1</td>\n",
       "      <td>4</td>\n",
       "      <td>1</td>\n",
       "      <td>3</td>\n",
       "      <td>1000</td>\n",
       "    </tr>\n",
       "    <tr>\n",
       "      <th>4</th>\n",
       "      <td>MG</td>\n",
       "      <td>1</td>\n",
       "      <td>1</td>\n",
       "      <td>1</td>\n",
       "      <td>3</td>\n",
       "      <td>1</td>\n",
       "      <td>1</td>\n",
       "      <td>1</td>\n",
       "      <td>1</td>\n",
       "      <td>1</td>\n",
       "      <td>...</td>\n",
       "      <td>2</td>\n",
       "      <td>1</td>\n",
       "      <td>0</td>\n",
       "      <td>0</td>\n",
       "      <td>5</td>\n",
       "      <td>1</td>\n",
       "      <td>5</td>\n",
       "      <td>3</td>\n",
       "      <td>2</td>\n",
       "      <td>600</td>\n",
       "    </tr>\n",
       "  </tbody>\n",
       "</table>\n",
       "<p>5 rows × 25 columns</p>\n",
       "</div>"
      ],
      "text/plain": [
       "  sigla_uf  situacao_domicilio  tipo_domicilio  condicao_domicilio  comodos  \\\n",
       "0       PE                   1               1                   3        3   \n",
       "1       MG                   1               1                   3        6   \n",
       "2       RS                   2               1                   1        4   \n",
       "3       SP                   1               1                   1       13   \n",
       "4       MG                   1               1                   1        3   \n",
       "\n",
       "   dormitorios  banheiros  agua  iluminacao  radio  ...  computador  \\\n",
       "0            1          1     1           1      1  ...           2   \n",
       "1            3          1     1           1      2  ...           2   \n",
       "2            1          0     2           1      1  ...           2   \n",
       "3            3          2     1           1      1  ...           2   \n",
       "4            1          1     1           1      1  ...           2   \n",
       "\n",
       "   televisores  automoveis  ar_condicionado  iluminacao_publica  coleta_lixo  \\\n",
       "0            1           0                0                   3            1   \n",
       "1            1           0                0                   5            1   \n",
       "2            1           0                0                   2            3   \n",
       "3            2           1                0                   4            1   \n",
       "4            1           0                0                   5            1   \n",
       "\n",
       "   moradores  homens  mulheres  rendimento  \n",
       "0          3       1         2         100  \n",
       "1          5       3         2         461  \n",
       "2          2       1         1          80  \n",
       "3          4       1         3        1000  \n",
       "4          5       3         2         600  \n",
       "\n",
       "[5 rows x 25 columns]"
      ]
     },
     "execution_count": 5,
     "metadata": {},
     "output_type": "execute_result"
    }
   ],
   "source": [
    "df_raw.head()"
   ]
  },
  {
   "cell_type": "code",
   "execution_count": 6,
   "id": "a64fac4a",
   "metadata": {
    "ExecuteTime": {
     "end_time": "2023-03-13T22:51:53.865511Z",
     "start_time": "2023-03-13T22:51:53.857025Z"
    }
   },
   "outputs": [
    {
     "data": {
      "text/plain": [
       "(100000, 25)"
      ]
     },
     "execution_count": 6,
     "metadata": {},
     "output_type": "execute_result"
    }
   ],
   "source": [
    "df_raw.shape"
   ]
  },
  {
   "cell_type": "code",
   "execution_count": 7,
   "id": "b44e7c35",
   "metadata": {
    "ExecuteTime": {
     "end_time": "2023-03-13T22:51:53.901045Z",
     "start_time": "2023-03-13T22:51:53.868633Z"
    },
    "scrolled": false
   },
   "outputs": [
    {
     "data": {
      "text/plain": [
       "sigla_uf              0\n",
       "situacao_domicilio    0\n",
       "tipo_domicilio        0\n",
       "condicao_domicilio    0\n",
       "comodos               0\n",
       "dormitorios           0\n",
       "banheiros             0\n",
       "agua                  0\n",
       "iluminacao            0\n",
       "radio                 0\n",
       "geladeira             0\n",
       "videocassete          0\n",
       "maquina_lavar         0\n",
       "microondas            0\n",
       "telefone              0\n",
       "computador            0\n",
       "televisores           0\n",
       "automoveis            0\n",
       "ar_condicionado       0\n",
       "iluminacao_publica    0\n",
       "coleta_lixo           0\n",
       "moradores             0\n",
       "homens                0\n",
       "mulheres              0\n",
       "rendimento            0\n",
       "dtype: int64"
      ]
     },
     "execution_count": 7,
     "metadata": {},
     "output_type": "execute_result"
    }
   ],
   "source": [
    "df_raw.isna().sum()"
   ]
  },
  {
   "cell_type": "code",
   "execution_count": 8,
   "id": "0f153ade",
   "metadata": {
    "ExecuteTime": {
     "end_time": "2023-03-13T22:51:53.940327Z",
     "start_time": "2023-03-13T22:51:53.903622Z"
    }
   },
   "outputs": [
    {
     "name": "stdout",
     "output_type": "stream",
     "text": [
      "<class 'pandas.core.frame.DataFrame'>\n",
      "RangeIndex: 100000 entries, 0 to 99999\n",
      "Data columns (total 25 columns):\n",
      " #   Column              Non-Null Count   Dtype \n",
      "---  ------              --------------   ----- \n",
      " 0   sigla_uf            100000 non-null  object\n",
      " 1   situacao_domicilio  100000 non-null  int64 \n",
      " 2   tipo_domicilio      100000 non-null  int64 \n",
      " 3   condicao_domicilio  100000 non-null  int64 \n",
      " 4   comodos             100000 non-null  int64 \n",
      " 5   dormitorios         100000 non-null  int64 \n",
      " 6   banheiros           100000 non-null  int64 \n",
      " 7   agua                100000 non-null  int64 \n",
      " 8   iluminacao          100000 non-null  int64 \n",
      " 9   radio               100000 non-null  int64 \n",
      " 10  geladeira           100000 non-null  int64 \n",
      " 11  videocassete        100000 non-null  int64 \n",
      " 12  maquina_lavar       100000 non-null  int64 \n",
      " 13  microondas          100000 non-null  int64 \n",
      " 14  telefone            100000 non-null  int64 \n",
      " 15  computador          100000 non-null  int64 \n",
      " 16  televisores         100000 non-null  int64 \n",
      " 17  automoveis          100000 non-null  int64 \n",
      " 18  ar_condicionado     100000 non-null  int64 \n",
      " 19  iluminacao_publica  100000 non-null  int64 \n",
      " 20  coleta_lixo         100000 non-null  int64 \n",
      " 21  moradores           100000 non-null  int64 \n",
      " 22  homens              100000 non-null  int64 \n",
      " 23  mulheres            100000 non-null  int64 \n",
      " 24  rendimento          100000 non-null  int64 \n",
      "dtypes: int64(24), object(1)\n",
      "memory usage: 19.1+ MB\n"
     ]
    }
   ],
   "source": [
    "df_raw.info()"
   ]
  },
  {
   "cell_type": "code",
   "execution_count": 9,
   "id": "106d17eb",
   "metadata": {
    "ExecuteTime": {
     "end_time": "2023-03-13T22:51:54.128060Z",
     "start_time": "2023-03-13T22:51:53.946143Z"
    }
   },
   "outputs": [
    {
     "data": {
      "text/html": [
       "<div>\n",
       "<style scoped>\n",
       "    .dataframe tbody tr th:only-of-type {\n",
       "        vertical-align: middle;\n",
       "    }\n",
       "\n",
       "    .dataframe tbody tr th {\n",
       "        vertical-align: top;\n",
       "    }\n",
       "\n",
       "    .dataframe thead th {\n",
       "        text-align: right;\n",
       "    }\n",
       "</style>\n",
       "<table border=\"1\" class=\"dataframe\">\n",
       "  <thead>\n",
       "    <tr style=\"text-align: right;\">\n",
       "      <th></th>\n",
       "      <th>situacao_domicilio</th>\n",
       "      <th>tipo_domicilio</th>\n",
       "      <th>condicao_domicilio</th>\n",
       "      <th>comodos</th>\n",
       "      <th>dormitorios</th>\n",
       "      <th>banheiros</th>\n",
       "      <th>agua</th>\n",
       "      <th>iluminacao</th>\n",
       "      <th>radio</th>\n",
       "      <th>geladeira</th>\n",
       "      <th>...</th>\n",
       "      <th>computador</th>\n",
       "      <th>televisores</th>\n",
       "      <th>automoveis</th>\n",
       "      <th>ar_condicionado</th>\n",
       "      <th>iluminacao_publica</th>\n",
       "      <th>coleta_lixo</th>\n",
       "      <th>moradores</th>\n",
       "      <th>homens</th>\n",
       "      <th>mulheres</th>\n",
       "      <th>rendimento</th>\n",
       "    </tr>\n",
       "  </thead>\n",
       "  <tbody>\n",
       "    <tr>\n",
       "      <th>count</th>\n",
       "      <td>100000.000000</td>\n",
       "      <td>100000.000000</td>\n",
       "      <td>100000.000000</td>\n",
       "      <td>100000.00000</td>\n",
       "      <td>100000.000000</td>\n",
       "      <td>100000.00000</td>\n",
       "      <td>100000.000000</td>\n",
       "      <td>100000.000000</td>\n",
       "      <td>100000.000000</td>\n",
       "      <td>100000.000000</td>\n",
       "      <td>...</td>\n",
       "      <td>100000.000000</td>\n",
       "      <td>100000.00000</td>\n",
       "      <td>100000.000000</td>\n",
       "      <td>100000.000000</td>\n",
       "      <td>100000.000000</td>\n",
       "      <td>100000.000000</td>\n",
       "      <td>100000.000000</td>\n",
       "      <td>100000.000000</td>\n",
       "      <td>100000.000000</td>\n",
       "      <td>100000.000000</td>\n",
       "    </tr>\n",
       "    <tr>\n",
       "      <th>mean</th>\n",
       "      <td>1.200640</td>\n",
       "      <td>1.106990</td>\n",
       "      <td>1.754530</td>\n",
       "      <td>5.72113</td>\n",
       "      <td>2.026210</td>\n",
       "      <td>1.10044</td>\n",
       "      <td>1.316170</td>\n",
       "      <td>1.060030</td>\n",
       "      <td>1.123300</td>\n",
       "      <td>1.173800</td>\n",
       "      <td>...</td>\n",
       "      <td>1.902120</td>\n",
       "      <td>1.28697</td>\n",
       "      <td>0.400970</td>\n",
       "      <td>0.106140</td>\n",
       "      <td>3.848550</td>\n",
       "      <td>1.767300</td>\n",
       "      <td>3.848550</td>\n",
       "      <td>1.899190</td>\n",
       "      <td>1.949360</td>\n",
       "      <td>1097.617430</td>\n",
       "    </tr>\n",
       "    <tr>\n",
       "      <th>std</th>\n",
       "      <td>0.400481</td>\n",
       "      <td>0.341679</td>\n",
       "      <td>1.279512</td>\n",
       "      <td>2.36799</td>\n",
       "      <td>0.870029</td>\n",
       "      <td>0.81956</td>\n",
       "      <td>0.594365</td>\n",
       "      <td>0.237544</td>\n",
       "      <td>0.328783</td>\n",
       "      <td>0.378939</td>\n",
       "      <td>...</td>\n",
       "      <td>0.297154</td>\n",
       "      <td>0.89273</td>\n",
       "      <td>0.649013</td>\n",
       "      <td>0.466151</td>\n",
       "      <td>1.957603</td>\n",
       "      <td>1.400825</td>\n",
       "      <td>1.957603</td>\n",
       "      <td>1.272188</td>\n",
       "      <td>1.219496</td>\n",
       "      <td>2602.635795</td>\n",
       "    </tr>\n",
       "    <tr>\n",
       "      <th>min</th>\n",
       "      <td>1.000000</td>\n",
       "      <td>1.000000</td>\n",
       "      <td>1.000000</td>\n",
       "      <td>1.00000</td>\n",
       "      <td>1.000000</td>\n",
       "      <td>0.00000</td>\n",
       "      <td>1.000000</td>\n",
       "      <td>1.000000</td>\n",
       "      <td>1.000000</td>\n",
       "      <td>1.000000</td>\n",
       "      <td>...</td>\n",
       "      <td>1.000000</td>\n",
       "      <td>0.00000</td>\n",
       "      <td>0.000000</td>\n",
       "      <td>0.000000</td>\n",
       "      <td>1.000000</td>\n",
       "      <td>1.000000</td>\n",
       "      <td>1.000000</td>\n",
       "      <td>0.000000</td>\n",
       "      <td>0.000000</td>\n",
       "      <td>5.000000</td>\n",
       "    </tr>\n",
       "    <tr>\n",
       "      <th>25%</th>\n",
       "      <td>1.000000</td>\n",
       "      <td>1.000000</td>\n",
       "      <td>1.000000</td>\n",
       "      <td>4.00000</td>\n",
       "      <td>1.000000</td>\n",
       "      <td>1.00000</td>\n",
       "      <td>1.000000</td>\n",
       "      <td>1.000000</td>\n",
       "      <td>1.000000</td>\n",
       "      <td>1.000000</td>\n",
       "      <td>...</td>\n",
       "      <td>2.000000</td>\n",
       "      <td>1.00000</td>\n",
       "      <td>0.000000</td>\n",
       "      <td>0.000000</td>\n",
       "      <td>3.000000</td>\n",
       "      <td>1.000000</td>\n",
       "      <td>3.000000</td>\n",
       "      <td>1.000000</td>\n",
       "      <td>1.000000</td>\n",
       "      <td>290.000000</td>\n",
       "    </tr>\n",
       "    <tr>\n",
       "      <th>50%</th>\n",
       "      <td>1.000000</td>\n",
       "      <td>1.000000</td>\n",
       "      <td>1.000000</td>\n",
       "      <td>5.00000</td>\n",
       "      <td>2.000000</td>\n",
       "      <td>1.00000</td>\n",
       "      <td>1.000000</td>\n",
       "      <td>1.000000</td>\n",
       "      <td>1.000000</td>\n",
       "      <td>1.000000</td>\n",
       "      <td>...</td>\n",
       "      <td>2.000000</td>\n",
       "      <td>1.00000</td>\n",
       "      <td>0.000000</td>\n",
       "      <td>0.000000</td>\n",
       "      <td>4.000000</td>\n",
       "      <td>1.000000</td>\n",
       "      <td>4.000000</td>\n",
       "      <td>2.000000</td>\n",
       "      <td>2.000000</td>\n",
       "      <td>515.000000</td>\n",
       "    </tr>\n",
       "    <tr>\n",
       "      <th>75%</th>\n",
       "      <td>1.000000</td>\n",
       "      <td>1.000000</td>\n",
       "      <td>2.000000</td>\n",
       "      <td>7.00000</td>\n",
       "      <td>3.000000</td>\n",
       "      <td>1.00000</td>\n",
       "      <td>1.000000</td>\n",
       "      <td>1.000000</td>\n",
       "      <td>1.000000</td>\n",
       "      <td>1.000000</td>\n",
       "      <td>...</td>\n",
       "      <td>2.000000</td>\n",
       "      <td>2.00000</td>\n",
       "      <td>1.000000</td>\n",
       "      <td>0.000000</td>\n",
       "      <td>5.000000</td>\n",
       "      <td>2.000000</td>\n",
       "      <td>5.000000</td>\n",
       "      <td>3.000000</td>\n",
       "      <td>3.000000</td>\n",
       "      <td>1100.000000</td>\n",
       "    </tr>\n",
       "    <tr>\n",
       "      <th>max</th>\n",
       "      <td>2.000000</td>\n",
       "      <td>3.000000</td>\n",
       "      <td>6.000000</td>\n",
       "      <td>30.00000</td>\n",
       "      <td>9.000000</td>\n",
       "      <td>9.00000</td>\n",
       "      <td>3.000000</td>\n",
       "      <td>2.000000</td>\n",
       "      <td>2.000000</td>\n",
       "      <td>2.000000</td>\n",
       "      <td>...</td>\n",
       "      <td>2.000000</td>\n",
       "      <td>9.00000</td>\n",
       "      <td>7.000000</td>\n",
       "      <td>9.000000</td>\n",
       "      <td>31.000000</td>\n",
       "      <td>7.000000</td>\n",
       "      <td>31.000000</td>\n",
       "      <td>13.000000</td>\n",
       "      <td>18.000000</td>\n",
       "      <td>300000.000000</td>\n",
       "    </tr>\n",
       "  </tbody>\n",
       "</table>\n",
       "<p>8 rows × 24 columns</p>\n",
       "</div>"
      ],
      "text/plain": [
       "       situacao_domicilio  tipo_domicilio  condicao_domicilio       comodos  \\\n",
       "count       100000.000000   100000.000000       100000.000000  100000.00000   \n",
       "mean             1.200640        1.106990            1.754530       5.72113   \n",
       "std              0.400481        0.341679            1.279512       2.36799   \n",
       "min              1.000000        1.000000            1.000000       1.00000   \n",
       "25%              1.000000        1.000000            1.000000       4.00000   \n",
       "50%              1.000000        1.000000            1.000000       5.00000   \n",
       "75%              1.000000        1.000000            2.000000       7.00000   \n",
       "max              2.000000        3.000000            6.000000      30.00000   \n",
       "\n",
       "         dormitorios     banheiros           agua     iluminacao  \\\n",
       "count  100000.000000  100000.00000  100000.000000  100000.000000   \n",
       "mean        2.026210       1.10044       1.316170       1.060030   \n",
       "std         0.870029       0.81956       0.594365       0.237544   \n",
       "min         1.000000       0.00000       1.000000       1.000000   \n",
       "25%         1.000000       1.00000       1.000000       1.000000   \n",
       "50%         2.000000       1.00000       1.000000       1.000000   \n",
       "75%         3.000000       1.00000       1.000000       1.000000   \n",
       "max         9.000000       9.00000       3.000000       2.000000   \n",
       "\n",
       "               radio      geladeira  ...     computador   televisores  \\\n",
       "count  100000.000000  100000.000000  ...  100000.000000  100000.00000   \n",
       "mean        1.123300       1.173800  ...       1.902120       1.28697   \n",
       "std         0.328783       0.378939  ...       0.297154       0.89273   \n",
       "min         1.000000       1.000000  ...       1.000000       0.00000   \n",
       "25%         1.000000       1.000000  ...       2.000000       1.00000   \n",
       "50%         1.000000       1.000000  ...       2.000000       1.00000   \n",
       "75%         1.000000       1.000000  ...       2.000000       2.00000   \n",
       "max         2.000000       2.000000  ...       2.000000       9.00000   \n",
       "\n",
       "          automoveis  ar_condicionado  iluminacao_publica    coleta_lixo  \\\n",
       "count  100000.000000    100000.000000       100000.000000  100000.000000   \n",
       "mean        0.400970         0.106140            3.848550       1.767300   \n",
       "std         0.649013         0.466151            1.957603       1.400825   \n",
       "min         0.000000         0.000000            1.000000       1.000000   \n",
       "25%         0.000000         0.000000            3.000000       1.000000   \n",
       "50%         0.000000         0.000000            4.000000       1.000000   \n",
       "75%         1.000000         0.000000            5.000000       2.000000   \n",
       "max         7.000000         9.000000           31.000000       7.000000   \n",
       "\n",
       "           moradores         homens       mulheres     rendimento  \n",
       "count  100000.000000  100000.000000  100000.000000  100000.000000  \n",
       "mean        3.848550       1.899190       1.949360    1097.617430  \n",
       "std         1.957603       1.272188       1.219496    2602.635795  \n",
       "min         1.000000       0.000000       0.000000       5.000000  \n",
       "25%         3.000000       1.000000       1.000000     290.000000  \n",
       "50%         4.000000       2.000000       2.000000     515.000000  \n",
       "75%         5.000000       3.000000       3.000000    1100.000000  \n",
       "max        31.000000      13.000000      18.000000  300000.000000  \n",
       "\n",
       "[8 rows x 24 columns]"
      ]
     },
     "execution_count": 9,
     "metadata": {},
     "output_type": "execute_result"
    }
   ],
   "source": [
    "df_raw.describe()"
   ]
  },
  {
   "cell_type": "markdown",
   "id": "467e6779",
   "metadata": {
    "ExecuteTime": {
     "end_time": "2023-03-10T22:14:27.710181Z",
     "start_time": "2023-03-10T22:14:27.707571Z"
    }
   },
   "source": [
    "## Pre-processamento"
   ]
  },
  {
   "cell_type": "code",
   "execution_count": 10,
   "id": "436cb810",
   "metadata": {
    "ExecuteTime": {
     "end_time": "2023-03-13T22:51:54.143067Z",
     "start_time": "2023-03-13T22:51:54.130780Z"
    }
   },
   "outputs": [],
   "source": [
    "df = df_raw.copy()"
   ]
  },
  {
   "cell_type": "code",
   "execution_count": 11,
   "id": "64d23901",
   "metadata": {
    "ExecuteTime": {
     "end_time": "2023-03-13T22:51:54.167075Z",
     "start_time": "2023-03-13T22:51:54.152008Z"
    },
    "scrolled": true
   },
   "outputs": [],
   "source": [
    "df['situacao_domicilio'] = df_raw['situacao_domicilio'].map({1:'urbano', 2:'rural'})"
   ]
  },
  {
   "cell_type": "code",
   "execution_count": 12,
   "id": "401f0f28",
   "metadata": {
    "ExecuteTime": {
     "end_time": "2023-03-13T22:51:54.186268Z",
     "start_time": "2023-03-13T22:51:54.171506Z"
    }
   },
   "outputs": [],
   "source": [
    "df['tipo_domicilio'] = df_raw['tipo_domicilio'].map({1:'casa', 2:'apartamento', 3:'comodo'})"
   ]
  },
  {
   "cell_type": "code",
   "execution_count": 13,
   "id": "d569343a",
   "metadata": {
    "ExecuteTime": {
     "end_time": "2023-03-13T22:51:54.205490Z",
     "start_time": "2023-03-13T22:51:54.188828Z"
    }
   },
   "outputs": [],
   "source": [
    "df['condicao_domicilio'] = df_raw['condicao_domicilio'].map({1:'proprio pago',\n",
    "                                                             2:'proprio pagando',\n",
    "                                                             3:'alugado',\n",
    "                                                             4:'cedido por empregador.',\n",
    "                                                             5:'cedido',\n",
    "                                                             6:'outro'})"
   ]
  },
  {
   "cell_type": "code",
   "execution_count": 14,
   "id": "1efa0413",
   "metadata": {
    "ExecuteTime": {
     "end_time": "2023-03-13T22:51:54.242035Z",
     "start_time": "2023-03-13T22:51:54.207727Z"
    }
   },
   "outputs": [
    {
     "data": {
      "text/html": [
       "<div>\n",
       "<style scoped>\n",
       "    .dataframe tbody tr th:only-of-type {\n",
       "        vertical-align: middle;\n",
       "    }\n",
       "\n",
       "    .dataframe tbody tr th {\n",
       "        vertical-align: top;\n",
       "    }\n",
       "\n",
       "    .dataframe thead th {\n",
       "        text-align: right;\n",
       "    }\n",
       "</style>\n",
       "<table border=\"1\" class=\"dataframe\">\n",
       "  <thead>\n",
       "    <tr style=\"text-align: right;\">\n",
       "      <th></th>\n",
       "      <th>sigla_uf</th>\n",
       "      <th>situacao_domicilio</th>\n",
       "      <th>tipo_domicilio</th>\n",
       "      <th>condicao_domicilio</th>\n",
       "      <th>comodos</th>\n",
       "      <th>dormitorios</th>\n",
       "      <th>banheiros</th>\n",
       "      <th>agua</th>\n",
       "      <th>iluminacao</th>\n",
       "      <th>radio</th>\n",
       "      <th>...</th>\n",
       "      <th>computador</th>\n",
       "      <th>televisores</th>\n",
       "      <th>automoveis</th>\n",
       "      <th>ar_condicionado</th>\n",
       "      <th>iluminacao_publica</th>\n",
       "      <th>coleta_lixo</th>\n",
       "      <th>moradores</th>\n",
       "      <th>homens</th>\n",
       "      <th>mulheres</th>\n",
       "      <th>rendimento</th>\n",
       "    </tr>\n",
       "  </thead>\n",
       "  <tbody>\n",
       "    <tr>\n",
       "      <th>0</th>\n",
       "      <td>PE</td>\n",
       "      <td>urbano</td>\n",
       "      <td>casa</td>\n",
       "      <td>alugado</td>\n",
       "      <td>3</td>\n",
       "      <td>1</td>\n",
       "      <td>1</td>\n",
       "      <td>1</td>\n",
       "      <td>1</td>\n",
       "      <td>1</td>\n",
       "      <td>...</td>\n",
       "      <td>2</td>\n",
       "      <td>1</td>\n",
       "      <td>0</td>\n",
       "      <td>0</td>\n",
       "      <td>3</td>\n",
       "      <td>1</td>\n",
       "      <td>3</td>\n",
       "      <td>1</td>\n",
       "      <td>2</td>\n",
       "      <td>100</td>\n",
       "    </tr>\n",
       "    <tr>\n",
       "      <th>1</th>\n",
       "      <td>MG</td>\n",
       "      <td>urbano</td>\n",
       "      <td>casa</td>\n",
       "      <td>alugado</td>\n",
       "      <td>6</td>\n",
       "      <td>3</td>\n",
       "      <td>1</td>\n",
       "      <td>1</td>\n",
       "      <td>1</td>\n",
       "      <td>2</td>\n",
       "      <td>...</td>\n",
       "      <td>2</td>\n",
       "      <td>1</td>\n",
       "      <td>0</td>\n",
       "      <td>0</td>\n",
       "      <td>5</td>\n",
       "      <td>1</td>\n",
       "      <td>5</td>\n",
       "      <td>3</td>\n",
       "      <td>2</td>\n",
       "      <td>461</td>\n",
       "    </tr>\n",
       "    <tr>\n",
       "      <th>2</th>\n",
       "      <td>RS</td>\n",
       "      <td>rural</td>\n",
       "      <td>casa</td>\n",
       "      <td>proprio pago</td>\n",
       "      <td>4</td>\n",
       "      <td>1</td>\n",
       "      <td>0</td>\n",
       "      <td>2</td>\n",
       "      <td>1</td>\n",
       "      <td>1</td>\n",
       "      <td>...</td>\n",
       "      <td>2</td>\n",
       "      <td>1</td>\n",
       "      <td>0</td>\n",
       "      <td>0</td>\n",
       "      <td>2</td>\n",
       "      <td>3</td>\n",
       "      <td>2</td>\n",
       "      <td>1</td>\n",
       "      <td>1</td>\n",
       "      <td>80</td>\n",
       "    </tr>\n",
       "    <tr>\n",
       "      <th>3</th>\n",
       "      <td>SP</td>\n",
       "      <td>urbano</td>\n",
       "      <td>casa</td>\n",
       "      <td>proprio pago</td>\n",
       "      <td>13</td>\n",
       "      <td>3</td>\n",
       "      <td>2</td>\n",
       "      <td>1</td>\n",
       "      <td>1</td>\n",
       "      <td>1</td>\n",
       "      <td>...</td>\n",
       "      <td>2</td>\n",
       "      <td>2</td>\n",
       "      <td>1</td>\n",
       "      <td>0</td>\n",
       "      <td>4</td>\n",
       "      <td>1</td>\n",
       "      <td>4</td>\n",
       "      <td>1</td>\n",
       "      <td>3</td>\n",
       "      <td>1000</td>\n",
       "    </tr>\n",
       "    <tr>\n",
       "      <th>4</th>\n",
       "      <td>MG</td>\n",
       "      <td>urbano</td>\n",
       "      <td>casa</td>\n",
       "      <td>proprio pago</td>\n",
       "      <td>3</td>\n",
       "      <td>1</td>\n",
       "      <td>1</td>\n",
       "      <td>1</td>\n",
       "      <td>1</td>\n",
       "      <td>1</td>\n",
       "      <td>...</td>\n",
       "      <td>2</td>\n",
       "      <td>1</td>\n",
       "      <td>0</td>\n",
       "      <td>0</td>\n",
       "      <td>5</td>\n",
       "      <td>1</td>\n",
       "      <td>5</td>\n",
       "      <td>3</td>\n",
       "      <td>2</td>\n",
       "      <td>600</td>\n",
       "    </tr>\n",
       "  </tbody>\n",
       "</table>\n",
       "<p>5 rows × 25 columns</p>\n",
       "</div>"
      ],
      "text/plain": [
       "  sigla_uf situacao_domicilio tipo_domicilio condicao_domicilio  comodos  \\\n",
       "0       PE             urbano           casa            alugado        3   \n",
       "1       MG             urbano           casa            alugado        6   \n",
       "2       RS              rural           casa       proprio pago        4   \n",
       "3       SP             urbano           casa       proprio pago       13   \n",
       "4       MG             urbano           casa       proprio pago        3   \n",
       "\n",
       "   dormitorios  banheiros  agua  iluminacao  radio  ...  computador  \\\n",
       "0            1          1     1           1      1  ...           2   \n",
       "1            3          1     1           1      2  ...           2   \n",
       "2            1          0     2           1      1  ...           2   \n",
       "3            3          2     1           1      1  ...           2   \n",
       "4            1          1     1           1      1  ...           2   \n",
       "\n",
       "   televisores  automoveis  ar_condicionado  iluminacao_publica  coleta_lixo  \\\n",
       "0            1           0                0                   3            1   \n",
       "1            1           0                0                   5            1   \n",
       "2            1           0                0                   2            3   \n",
       "3            2           1                0                   4            1   \n",
       "4            1           0                0                   5            1   \n",
       "\n",
       "   moradores  homens  mulheres  rendimento  \n",
       "0          3       1         2         100  \n",
       "1          5       3         2         461  \n",
       "2          2       1         1          80  \n",
       "3          4       1         3        1000  \n",
       "4          5       3         2         600  \n",
       "\n",
       "[5 rows x 25 columns]"
      ]
     },
     "execution_count": 14,
     "metadata": {},
     "output_type": "execute_result"
    }
   ],
   "source": [
    "df.head()"
   ]
  },
  {
   "cell_type": "code",
   "execution_count": 15,
   "id": "ff6c5d57",
   "metadata": {
    "ExecuteTime": {
     "end_time": "2023-03-13T22:51:54.334701Z",
     "start_time": "2023-03-13T22:51:54.244423Z"
    }
   },
   "outputs": [],
   "source": [
    "# Train-Test Split\n",
    "\n",
    "X = df.drop('rendimento', axis=1)\n",
    "y = df['rendimento']\n",
    "\n",
    "X_train_val, X_test, y_train_val, y_test = train_test_split(X, y, test_size=0.1, random_state=42)\n",
    "X_train, X_val, y_train, y_val = train_test_split(X_train_val, y_train_val, test_size=0.11111, random_state=42)"
   ]
  },
  {
   "cell_type": "code",
   "execution_count": 16,
   "id": "7e64acf7",
   "metadata": {
    "ExecuteTime": {
     "end_time": "2023-03-13T22:51:54.341736Z",
     "start_time": "2023-03-13T22:51:54.337087Z"
    }
   },
   "outputs": [
    {
     "name": "stdout",
     "output_type": "stream",
     "text": [
      "train: 80000, validation: 10000, test: 10000\n"
     ]
    }
   ],
   "source": [
    "print(f'train: {y_train.shape[0]}, validation: {y_val.shape[0]}, test: {y_test.shape[0]}')"
   ]
  },
  {
   "cell_type": "markdown",
   "id": "4a26c867",
   "metadata": {},
   "source": [
    "## EDA"
   ]
  },
  {
   "cell_type": "code",
   "execution_count": 18,
   "id": "7819f689",
   "metadata": {
    "ExecuteTime": {
     "end_time": "2023-03-13T22:51:54.933199Z",
     "start_time": "2023-03-13T22:51:54.356374Z"
    }
   },
   "outputs": [
    {
     "data": {
      "image/png": "[encoded data removed]",
      "text/plain": [
       "<Figure size 720x288 with 2 Axes>"
      ]
     },
     "metadata": {
      "needs_background": "light"
     },
     "output_type": "display_data"
    }
   ],
   "source": [
    "# O target é extremamente assimétrico\n",
    "\n",
    "plt.figure(figsize=(10,4))\n",
    "\n",
    "plt.subplot(1,2,1)\n",
    "plt.hist(y_train, bins=100)\n",
    "\n",
    "plt.subplot(1,2,2)\n",
    "plt.boxplot(y_train)\n",
    "\n",
    "plt.show()"
   ]
  },
  {
   "cell_type": "code",
   "execution_count": 19,
   "id": "6a0e18bd",
   "metadata": {
    "ExecuteTime": {
     "end_time": "2023-03-13T22:51:54.949622Z",
     "start_time": "2023-03-13T22:51:54.935909Z"
    },
    "scrolled": true
   },
   "outputs": [
    {
     "data": {
      "text/plain": [
       "count     80000.000000\n",
       "mean       1098.857387\n",
       "std        2491.444151\n",
       "min           5.000000\n",
       "25%         288.750000\n",
       "50%         515.000000\n",
       "75%        1100.000000\n",
       "max      219600.000000\n",
       "Name: rendimento, dtype: float64"
      ]
     },
     "execution_count": 19,
     "metadata": {},
     "output_type": "execute_result"
    }
   ],
   "source": [
    "y_train.describe()"
   ]
  },
  {
   "cell_type": "code",
   "execution_count": 21,
   "id": "8f9dfe1e",
   "metadata": {
    "ExecuteTime": {
     "end_time": "2023-03-13T22:51:55.550720Z",
     "start_time": "2023-03-13T22:51:54.968083Z"
    }
   },
   "outputs": [
    {
     "data": {
      "image/png": "[encoded data removed]",
      "text/plain": [
       "<Figure size 720x288 with 2 Axes>"
      ]
     },
     "metadata": {
      "needs_background": "light"
     },
     "output_type": "display_data"
    }
   ],
   "source": [
    "# O target é extremamente assimétrico\n",
    "\n",
    "plt.figure(figsize=(10,4))\n",
    "\n",
    "plt.subplot(1,2,1)\n",
    "plt.hist(np.log(y_train), bins=100)\n",
    "\n",
    "plt.subplot(1,2,2)\n",
    "plt.boxplot(np.log(y_train))\n",
    "\n",
    "plt.show()"
   ]
  },
  {
   "cell_type": "markdown",
   "id": "80bf76ba",
   "metadata": {},
   "source": [
    "### sigla_uf"
   ]
  },
  {
   "cell_type": "code",
   "execution_count": 22,
   "id": "959eb0f0",
   "metadata": {
    "ExecuteTime": {
     "end_time": "2023-03-13T22:51:55.929650Z",
     "start_time": "2023-03-13T22:51:55.553112Z"
    }
   },
   "outputs": [
    {
     "data": {
      "image/png": "[encoded data removed]",
      "text/plain": [
       "<Figure size 576x216 with 1 Axes>"
      ]
     },
     "metadata": {
      "needs_background": "light"
     },
     "output_type": "display_data"
    }
   ],
   "source": [
    "plt.figure(figsize=(8,3))\n",
    "X_train['sigla_uf'].value_counts().plot(kind='bar')\n",
    "plt.show()"
   ]
  },
  {
   "cell_type": "code",
   "execution_count": 23,
   "id": "319ddd02",
   "metadata": {
    "ExecuteTime": {
     "end_time": "2023-03-13T22:51:56.074189Z",
     "start_time": "2023-03-13T22:51:55.931650Z"
    },
    "scrolled": true
   },
   "outputs": [],
   "source": [
    "# Plotar mapa com renda\n",
    "\n",
    "# !pip3 install geopandas geobr descartes\n",
    "\n",
    "import geopandas as gpd\n",
    "import geobr\n",
    "\n",
    "# Checa lista de atributos\n",
    "\n",
    "# geobr.list_geobr()"
   ]
  },
  {
   "cell_type": "code",
   "execution_count": 24,
   "id": "84833224",
   "metadata": {
    "ExecuteTime": {
     "end_time": "2023-03-13T22:52:08.040392Z",
     "start_time": "2023-03-13T22:51:56.076406Z"
    },
    "scrolled": true
   },
   "outputs": [
    {
     "name": "stderr",
     "output_type": "stream",
     "text": [
      "/home/franklin/.local/lib/python3.8/site-packages/geopandas/array.py:93: ShapelyDeprecationWarning: __len__ for multi-part geometries is deprecated and will be removed in Shapely 2.0. Check the length of the `geoms` property instead to get the  number of parts of a multi-part geometry.\n",
      "  aout[:] = out\n",
      "/home/franklin/.local/lib/python3.8/site-packages/geopandas/array.py:93: ShapelyDeprecationWarning: Iteration over multi-part geometries is deprecated and will be removed in Shapely 2.0. Use the `geoms` property to access the constituent parts of a multi-part geometry.\n",
      "  aout[:] = out\n",
      "/home/franklin/.local/lib/python3.8/site-packages/geopandas/array.py:93: ShapelyDeprecationWarning: __len__ for multi-part geometries is deprecated and will be removed in Shapely 2.0. Check the length of the `geoms` property instead to get the  number of parts of a multi-part geometry.\n",
      "  aout[:] = out\n",
      "/home/franklin/.local/lib/python3.8/site-packages/geopandas/array.py:93: ShapelyDeprecationWarning: Iteration over multi-part geometries is deprecated and will be removed in Shapely 2.0. Use the `geoms` property to access the constituent parts of a multi-part geometry.\n",
      "  aout[:] = out\n",
      "/home/franklin/.local/lib/python3.8/site-packages/geopandas/array.py:93: ShapelyDeprecationWarning: __len__ for multi-part geometries is deprecated and will be removed in Shapely 2.0. Check the length of the `geoms` property instead to get the  number of parts of a multi-part geometry.\n",
      "  aout[:] = out\n",
      "/home/franklin/.local/lib/python3.8/site-packages/geopandas/array.py:93: ShapelyDeprecationWarning: Iteration over multi-part geometries is deprecated and will be removed in Shapely 2.0. Use the `geoms` property to access the constituent parts of a multi-part geometry.\n",
      "  aout[:] = out\n",
      "/home/franklin/.local/lib/python3.8/site-packages/geopandas/array.py:93: ShapelyDeprecationWarning: __len__ for multi-part geometries is deprecated and will be removed in Shapely 2.0. Check the length of the `geoms` property instead to get the  number of parts of a multi-part geometry.\n",
      "  aout[:] = out\n",
      "/home/franklin/.local/lib/python3.8/site-packages/geopandas/array.py:93: ShapelyDeprecationWarning: Iteration over multi-part geometries is deprecated and will be removed in Shapely 2.0. Use the `geoms` property to access the constituent parts of a multi-part geometry.\n",
      "  aout[:] = out\n",
      "/home/franklin/.local/lib/python3.8/site-packages/geopandas/array.py:93: ShapelyDeprecationWarning: __len__ for multi-part geometries is deprecated and will be removed in Shapely 2.0. Check the length of the `geoms` property instead to get the  number of parts of a multi-part geometry.\n",
      "  aout[:] = out\n",
      "/home/franklin/.local/lib/python3.8/site-packages/geopandas/array.py:93: ShapelyDeprecationWarning: Iteration over multi-part geometries is deprecated and will be removed in Shapely 2.0. Use the `geoms` property to access the constituent parts of a multi-part geometry.\n",
      "  aout[:] = out\n",
      "/home/franklin/.local/lib/python3.8/site-packages/geopandas/array.py:93: ShapelyDeprecationWarning: __len__ for multi-part geometries is deprecated and will be removed in Shapely 2.0. Check the length of the `geoms` property instead to get the  number of parts of a multi-part geometry.\n",
      "  aout[:] = out\n",
      "/home/franklin/.local/lib/python3.8/site-packages/geopandas/array.py:93: ShapelyDeprecationWarning: Iteration over multi-part geometries is deprecated and will be removed in Shapely 2.0. Use the `geoms` property to access the constituent parts of a multi-part geometry.\n",
      "  aout[:] = out\n",
      "/home/franklin/.local/lib/python3.8/site-packages/geopandas/array.py:93: ShapelyDeprecationWarning: __len__ for multi-part geometries is deprecated and will be removed in Shapely 2.0. Check the length of the `geoms` property instead to get the  number of parts of a multi-part geometry.\n",
      "  aout[:] = out\n",
      "/home/franklin/.local/lib/python3.8/site-packages/geopandas/array.py:93: ShapelyDeprecationWarning: Iteration over multi-part geometries is deprecated and will be removed in Shapely 2.0. Use the `geoms` property to access the constituent parts of a multi-part geometry.\n",
      "  aout[:] = out\n",
      "/home/franklin/.local/lib/python3.8/site-packages/geopandas/array.py:93: ShapelyDeprecationWarning: __len__ for multi-part geometries is deprecated and will be removed in Shapely 2.0. Check the length of the `geoms` property instead to get the  number of parts of a multi-part geometry.\n",
      "  aout[:] = out\n",
      "/home/franklin/.local/lib/python3.8/site-packages/geopandas/array.py:93: ShapelyDeprecationWarning: Iteration over multi-part geometries is deprecated and will be removed in Shapely 2.0. Use the `geoms` property to access the constituent parts of a multi-part geometry.\n",
      "  aout[:] = out\n",
      "/home/franklin/.local/lib/python3.8/site-packages/geopandas/array.py:93: ShapelyDeprecationWarning: __len__ for multi-part geometries is deprecated and will be removed in Shapely 2.0. Check the length of the `geoms` property instead to get the  number of parts of a multi-part geometry.\n",
      "  aout[:] = out\n",
      "/home/franklin/.local/lib/python3.8/site-packages/geopandas/array.py:93: ShapelyDeprecationWarning: Iteration over multi-part geometries is deprecated and will be removed in Shapely 2.0. Use the `geoms` property to access the constituent parts of a multi-part geometry.\n",
      "  aout[:] = out\n",
      "/home/franklin/.local/lib/python3.8/site-packages/geopandas/array.py:93: ShapelyDeprecationWarning: __len__ for multi-part geometries is deprecated and will be removed in Shapely 2.0. Check the length of the `geoms` property instead to get the  number of parts of a multi-part geometry.\n",
      "  aout[:] = out\n",
      "/home/franklin/.local/lib/python3.8/site-packages/geopandas/array.py:93: ShapelyDeprecationWarning: Iteration over multi-part geometries is deprecated and will be removed in Shapely 2.0. Use the `geoms` property to access the constituent parts of a multi-part geometry.\n",
      "  aout[:] = out\n",
      "/home/franklin/.local/lib/python3.8/site-packages/geopandas/array.py:93: ShapelyDeprecationWarning: __len__ for multi-part geometries is deprecated and will be removed in Shapely 2.0. Check the length of the `geoms` property instead to get the  number of parts of a multi-part geometry.\n",
      "  aout[:] = out\n",
      "/home/franklin/.local/lib/python3.8/site-packages/geopandas/array.py:93: ShapelyDeprecationWarning: Iteration over multi-part geometries is deprecated and will be removed in Shapely 2.0. Use the `geoms` property to access the constituent parts of a multi-part geometry.\n",
      "  aout[:] = out\n",
      "/home/franklin/.local/lib/python3.8/site-packages/geopandas/array.py:93: ShapelyDeprecationWarning: __len__ for multi-part geometries is deprecated and will be removed in Shapely 2.0. Check the length of the `geoms` property instead to get the  number of parts of a multi-part geometry.\n",
      "  aout[:] = out\n",
      "/home/franklin/.local/lib/python3.8/site-packages/geopandas/array.py:93: ShapelyDeprecationWarning: Iteration over multi-part geometries is deprecated and will be removed in Shapely 2.0. Use the `geoms` property to access the constituent parts of a multi-part geometry.\n",
      "  aout[:] = out\n",
      "/home/franklin/.local/lib/python3.8/site-packages/geopandas/array.py:93: ShapelyDeprecationWarning: __len__ for multi-part geometries is deprecated and will be removed in Shapely 2.0. Check the length of the `geoms` property instead to get the  number of parts of a multi-part geometry.\n",
      "  aout[:] = out\n",
      "/home/franklin/.local/lib/python3.8/site-packages/geopandas/array.py:93: ShapelyDeprecationWarning: Iteration over multi-part geometries is deprecated and will be removed in Shapely 2.0. Use the `geoms` property to access the constituent parts of a multi-part geometry.\n",
      "  aout[:] = out\n",
      "/home/franklin/.local/lib/python3.8/site-packages/geopandas/array.py:93: ShapelyDeprecationWarning: __len__ for multi-part geometries is deprecated and will be removed in Shapely 2.0. Check the length of the `geoms` property instead to get the  number of parts of a multi-part geometry.\n",
      "  aout[:] = out\n",
      "/home/franklin/.local/lib/python3.8/site-packages/geopandas/array.py:93: ShapelyDeprecationWarning: Iteration over multi-part geometries is deprecated and will be removed in Shapely 2.0. Use the `geoms` property to access the constituent parts of a multi-part geometry.\n",
      "  aout[:] = out\n"
     ]
    },
    {
     "name": "stderr",
     "output_type": "stream",
     "text": [
      "/home/franklin/.local/lib/python3.8/site-packages/geopandas/array.py:93: ShapelyDeprecationWarning: __len__ for multi-part geometries is deprecated and will be removed in Shapely 2.0. Check the length of the `geoms` property instead to get the  number of parts of a multi-part geometry.\n",
      "  aout[:] = out\n",
      "/home/franklin/.local/lib/python3.8/site-packages/geopandas/array.py:93: ShapelyDeprecationWarning: Iteration over multi-part geometries is deprecated and will be removed in Shapely 2.0. Use the `geoms` property to access the constituent parts of a multi-part geometry.\n",
      "  aout[:] = out\n",
      "/home/franklin/.local/lib/python3.8/site-packages/geopandas/array.py:93: ShapelyDeprecationWarning: __len__ for multi-part geometries is deprecated and will be removed in Shapely 2.0. Check the length of the `geoms` property instead to get the  number of parts of a multi-part geometry.\n",
      "  aout[:] = out\n",
      "/home/franklin/.local/lib/python3.8/site-packages/geopandas/array.py:93: ShapelyDeprecationWarning: Iteration over multi-part geometries is deprecated and will be removed in Shapely 2.0. Use the `geoms` property to access the constituent parts of a multi-part geometry.\n",
      "  aout[:] = out\n",
      "/home/franklin/.local/lib/python3.8/site-packages/geopandas/array.py:93: ShapelyDeprecationWarning: __len__ for multi-part geometries is deprecated and will be removed in Shapely 2.0. Check the length of the `geoms` property instead to get the  number of parts of a multi-part geometry.\n",
      "  aout[:] = out\n",
      "/home/franklin/.local/lib/python3.8/site-packages/geopandas/array.py:93: ShapelyDeprecationWarning: Iteration over multi-part geometries is deprecated and will be removed in Shapely 2.0. Use the `geoms` property to access the constituent parts of a multi-part geometry.\n",
      "  aout[:] = out\n",
      "/home/franklin/.local/lib/python3.8/site-packages/geopandas/array.py:93: ShapelyDeprecationWarning: __len__ for multi-part geometries is deprecated and will be removed in Shapely 2.0. Check the length of the `geoms` property instead to get the  number of parts of a multi-part geometry.\n",
      "  aout[:] = out\n",
      "/home/franklin/.local/lib/python3.8/site-packages/geopandas/array.py:93: ShapelyDeprecationWarning: Iteration over multi-part geometries is deprecated and will be removed in Shapely 2.0. Use the `geoms` property to access the constituent parts of a multi-part geometry.\n",
      "  aout[:] = out\n",
      "/home/franklin/.local/lib/python3.8/site-packages/geopandas/array.py:93: ShapelyDeprecationWarning: __len__ for multi-part geometries is deprecated and will be removed in Shapely 2.0. Check the length of the `geoms` property instead to get the  number of parts of a multi-part geometry.\n",
      "  aout[:] = out\n",
      "/home/franklin/.local/lib/python3.8/site-packages/geopandas/array.py:93: ShapelyDeprecationWarning: Iteration over multi-part geometries is deprecated and will be removed in Shapely 2.0. Use the `geoms` property to access the constituent parts of a multi-part geometry.\n",
      "  aout[:] = out\n",
      "/home/franklin/.local/lib/python3.8/site-packages/geopandas/array.py:93: ShapelyDeprecationWarning: __len__ for multi-part geometries is deprecated and will be removed in Shapely 2.0. Check the length of the `geoms` property instead to get the  number of parts of a multi-part geometry.\n",
      "  aout[:] = out\n",
      "/home/franklin/.local/lib/python3.8/site-packages/geopandas/array.py:93: ShapelyDeprecationWarning: Iteration over multi-part geometries is deprecated and will be removed in Shapely 2.0. Use the `geoms` property to access the constituent parts of a multi-part geometry.\n",
      "  aout[:] = out\n",
      "/home/franklin/.local/lib/python3.8/site-packages/geopandas/array.py:93: ShapelyDeprecationWarning: __len__ for multi-part geometries is deprecated and will be removed in Shapely 2.0. Check the length of the `geoms` property instead to get the  number of parts of a multi-part geometry.\n",
      "  aout[:] = out\n",
      "/home/franklin/.local/lib/python3.8/site-packages/geopandas/array.py:93: ShapelyDeprecationWarning: Iteration over multi-part geometries is deprecated and will be removed in Shapely 2.0. Use the `geoms` property to access the constituent parts of a multi-part geometry.\n",
      "  aout[:] = out\n",
      "/home/franklin/.local/lib/python3.8/site-packages/geopandas/array.py:93: ShapelyDeprecationWarning: __len__ for multi-part geometries is deprecated and will be removed in Shapely 2.0. Check the length of the `geoms` property instead to get the  number of parts of a multi-part geometry.\n",
      "  aout[:] = out\n",
      "/home/franklin/.local/lib/python3.8/site-packages/geopandas/array.py:93: ShapelyDeprecationWarning: Iteration over multi-part geometries is deprecated and will be removed in Shapely 2.0. Use the `geoms` property to access the constituent parts of a multi-part geometry.\n",
      "  aout[:] = out\n",
      "/home/franklin/.local/lib/python3.8/site-packages/geopandas/array.py:93: ShapelyDeprecationWarning: __len__ for multi-part geometries is deprecated and will be removed in Shapely 2.0. Check the length of the `geoms` property instead to get the  number of parts of a multi-part geometry.\n",
      "  aout[:] = out\n",
      "/home/franklin/.local/lib/python3.8/site-packages/geopandas/array.py:93: ShapelyDeprecationWarning: Iteration over multi-part geometries is deprecated and will be removed in Shapely 2.0. Use the `geoms` property to access the constituent parts of a multi-part geometry.\n",
      "  aout[:] = out\n",
      "/home/franklin/.local/lib/python3.8/site-packages/geopandas/array.py:93: ShapelyDeprecationWarning: __len__ for multi-part geometries is deprecated and will be removed in Shapely 2.0. Check the length of the `geoms` property instead to get the  number of parts of a multi-part geometry.\n",
      "  aout[:] = out\n",
      "/home/franklin/.local/lib/python3.8/site-packages/geopandas/array.py:93: ShapelyDeprecationWarning: Iteration over multi-part geometries is deprecated and will be removed in Shapely 2.0. Use the `geoms` property to access the constituent parts of a multi-part geometry.\n",
      "  aout[:] = out\n",
      "/home/franklin/.local/lib/python3.8/site-packages/geopandas/array.py:93: ShapelyDeprecationWarning: __len__ for multi-part geometries is deprecated and will be removed in Shapely 2.0. Check the length of the `geoms` property instead to get the  number of parts of a multi-part geometry.\n",
      "  aout[:] = out\n",
      "/home/franklin/.local/lib/python3.8/site-packages/geopandas/array.py:93: ShapelyDeprecationWarning: Iteration over multi-part geometries is deprecated and will be removed in Shapely 2.0. Use the `geoms` property to access the constituent parts of a multi-part geometry.\n",
      "  aout[:] = out\n",
      "/home/franklin/.local/lib/python3.8/site-packages/geopandas/array.py:93: ShapelyDeprecationWarning: __len__ for multi-part geometries is deprecated and will be removed in Shapely 2.0. Check the length of the `geoms` property instead to get the  number of parts of a multi-part geometry.\n",
      "  aout[:] = out\n",
      "/home/franklin/.local/lib/python3.8/site-packages/geopandas/array.py:93: ShapelyDeprecationWarning: Iteration over multi-part geometries is deprecated and will be removed in Shapely 2.0. Use the `geoms` property to access the constituent parts of a multi-part geometry.\n",
      "  aout[:] = out\n",
      "/home/franklin/.local/lib/python3.8/site-packages/geopandas/array.py:93: ShapelyDeprecationWarning: __len__ for multi-part geometries is deprecated and will be removed in Shapely 2.0. Check the length of the `geoms` property instead to get the  number of parts of a multi-part geometry.\n",
      "  aout[:] = out\n",
      "/home/franklin/.local/lib/python3.8/site-packages/geopandas/array.py:93: ShapelyDeprecationWarning: Iteration over multi-part geometries is deprecated and will be removed in Shapely 2.0. Use the `geoms` property to access the constituent parts of a multi-part geometry.\n",
      "  aout[:] = out\n",
      "/home/franklin/.local/lib/python3.8/site-packages/geopandas/plotting.py:33: ShapelyDeprecationWarning: Iteration over multi-part geometries is deprecated and will be removed in Shapely 2.0. Use the `geoms` property to access the constituent parts of a multi-part geometry.\n",
      "  for poly in geom:\n",
      "/home/franklin/.local/lib/python3.8/site-packages/descartes/patch.py:63: ShapelyDeprecationWarning: The array interface is deprecated and will no longer work in Shapely 2.0. Convert the '.coords' to a numpy array instead.\n",
      "  concatenate([asarray(t.exterior)[:, :2]] +\n"
     ]
    },
    {
     "data": {
      "image/png": "[encoded data removed]",
      "text/plain": [
       "<Figure size 432x288 with 1 Axes>"
      ]
     },
     "metadata": {
      "needs_background": "light"
     },
     "output_type": "display_data"
    }
   ],
   "source": [
    "# Plot dos estados\n",
    "estados = geobr.read_state(year=2000)\n",
    "estados.plot()\n",
    "plt.show()"
   ]
  },
  {
   "cell_type": "code",
   "execution_count": 25,
   "id": "0aa0efdf",
   "metadata": {
    "ExecuteTime": {
     "end_time": "2023-03-13T22:52:08.126313Z",
     "start_time": "2023-03-13T22:52:08.044680Z"
    }
   },
   "outputs": [
    {
     "data": {
      "text/html": [
       "<div>\n",
       "<style scoped>\n",
       "    .dataframe tbody tr th:only-of-type {\n",
       "        vertical-align: middle;\n",
       "    }\n",
       "\n",
       "    .dataframe tbody tr th {\n",
       "        vertical-align: top;\n",
       "    }\n",
       "\n",
       "    .dataframe thead th {\n",
       "        text-align: right;\n",
       "    }\n",
       "</style>\n",
       "<table border=\"1\" class=\"dataframe\">\n",
       "  <thead>\n",
       "    <tr style=\"text-align: right;\">\n",
       "      <th></th>\n",
       "      <th>sigla_uf</th>\n",
       "      <th>situacao_domicilio</th>\n",
       "      <th>tipo_domicilio</th>\n",
       "      <th>condicao_domicilio</th>\n",
       "      <th>comodos</th>\n",
       "      <th>dormitorios</th>\n",
       "      <th>banheiros</th>\n",
       "      <th>agua</th>\n",
       "      <th>iluminacao</th>\n",
       "      <th>radio</th>\n",
       "      <th>...</th>\n",
       "      <th>computador</th>\n",
       "      <th>televisores</th>\n",
       "      <th>automoveis</th>\n",
       "      <th>ar_condicionado</th>\n",
       "      <th>iluminacao_publica</th>\n",
       "      <th>coleta_lixo</th>\n",
       "      <th>moradores</th>\n",
       "      <th>homens</th>\n",
       "      <th>mulheres</th>\n",
       "      <th>rendimento</th>\n",
       "    </tr>\n",
       "  </thead>\n",
       "  <tbody>\n",
       "    <tr>\n",
       "      <th>68111</th>\n",
       "      <td>RS</td>\n",
       "      <td>urbano</td>\n",
       "      <td>casa</td>\n",
       "      <td>proprio pago</td>\n",
       "      <td>7</td>\n",
       "      <td>3</td>\n",
       "      <td>1</td>\n",
       "      <td>1</td>\n",
       "      <td>1</td>\n",
       "      <td>1</td>\n",
       "      <td>...</td>\n",
       "      <td>2</td>\n",
       "      <td>2</td>\n",
       "      <td>1</td>\n",
       "      <td>0</td>\n",
       "      <td>4</td>\n",
       "      <td>1</td>\n",
       "      <td>4</td>\n",
       "      <td>2</td>\n",
       "      <td>2</td>\n",
       "      <td>502</td>\n",
       "    </tr>\n",
       "    <tr>\n",
       "      <th>44812</th>\n",
       "      <td>MG</td>\n",
       "      <td>urbano</td>\n",
       "      <td>casa</td>\n",
       "      <td>proprio pagando</td>\n",
       "      <td>6</td>\n",
       "      <td>3</td>\n",
       "      <td>1</td>\n",
       "      <td>1</td>\n",
       "      <td>1</td>\n",
       "      <td>1</td>\n",
       "      <td>...</td>\n",
       "      <td>1</td>\n",
       "      <td>2</td>\n",
       "      <td>0</td>\n",
       "      <td>0</td>\n",
       "      <td>5</td>\n",
       "      <td>1</td>\n",
       "      <td>5</td>\n",
       "      <td>4</td>\n",
       "      <td>1</td>\n",
       "      <td>1769</td>\n",
       "    </tr>\n",
       "    <tr>\n",
       "      <th>76085</th>\n",
       "      <td>RS</td>\n",
       "      <td>urbano</td>\n",
       "      <td>casa</td>\n",
       "      <td>proprio pago</td>\n",
       "      <td>6</td>\n",
       "      <td>3</td>\n",
       "      <td>1</td>\n",
       "      <td>1</td>\n",
       "      <td>1</td>\n",
       "      <td>1</td>\n",
       "      <td>...</td>\n",
       "      <td>2</td>\n",
       "      <td>2</td>\n",
       "      <td>1</td>\n",
       "      <td>1</td>\n",
       "      <td>4</td>\n",
       "      <td>1</td>\n",
       "      <td>4</td>\n",
       "      <td>2</td>\n",
       "      <td>2</td>\n",
       "      <td>13000</td>\n",
       "    </tr>\n",
       "    <tr>\n",
       "      <th>37522</th>\n",
       "      <td>MG</td>\n",
       "      <td>urbano</td>\n",
       "      <td>casa</td>\n",
       "      <td>proprio pago</td>\n",
       "      <td>5</td>\n",
       "      <td>1</td>\n",
       "      <td>1</td>\n",
       "      <td>2</td>\n",
       "      <td>1</td>\n",
       "      <td>2</td>\n",
       "      <td>...</td>\n",
       "      <td>2</td>\n",
       "      <td>1</td>\n",
       "      <td>0</td>\n",
       "      <td>0</td>\n",
       "      <td>1</td>\n",
       "      <td>1</td>\n",
       "      <td>1</td>\n",
       "      <td>0</td>\n",
       "      <td>1</td>\n",
       "      <td>231</td>\n",
       "    </tr>\n",
       "    <tr>\n",
       "      <th>11556</th>\n",
       "      <td>SP</td>\n",
       "      <td>urbano</td>\n",
       "      <td>comodo</td>\n",
       "      <td>alugado</td>\n",
       "      <td>1</td>\n",
       "      <td>1</td>\n",
       "      <td>0</td>\n",
       "      <td>1</td>\n",
       "      <td>1</td>\n",
       "      <td>1</td>\n",
       "      <td>...</td>\n",
       "      <td>2</td>\n",
       "      <td>1</td>\n",
       "      <td>0</td>\n",
       "      <td>0</td>\n",
       "      <td>1</td>\n",
       "      <td>1</td>\n",
       "      <td>1</td>\n",
       "      <td>1</td>\n",
       "      <td>0</td>\n",
       "      <td>300</td>\n",
       "    </tr>\n",
       "    <tr>\n",
       "      <th>...</th>\n",
       "      <td>...</td>\n",
       "      <td>...</td>\n",
       "      <td>...</td>\n",
       "      <td>...</td>\n",
       "      <td>...</td>\n",
       "      <td>...</td>\n",
       "      <td>...</td>\n",
       "      <td>...</td>\n",
       "      <td>...</td>\n",
       "      <td>...</td>\n",
       "      <td>...</td>\n",
       "      <td>...</td>\n",
       "      <td>...</td>\n",
       "      <td>...</td>\n",
       "      <td>...</td>\n",
       "      <td>...</td>\n",
       "      <td>...</td>\n",
       "      <td>...</td>\n",
       "      <td>...</td>\n",
       "      <td>...</td>\n",
       "      <td>...</td>\n",
       "    </tr>\n",
       "    <tr>\n",
       "      <th>95786</th>\n",
       "      <td>SP</td>\n",
       "      <td>urbano</td>\n",
       "      <td>casa</td>\n",
       "      <td>proprio pago</td>\n",
       "      <td>5</td>\n",
       "      <td>1</td>\n",
       "      <td>1</td>\n",
       "      <td>1</td>\n",
       "      <td>1</td>\n",
       "      <td>1</td>\n",
       "      <td>...</td>\n",
       "      <td>2</td>\n",
       "      <td>1</td>\n",
       "      <td>0</td>\n",
       "      <td>0</td>\n",
       "      <td>1</td>\n",
       "      <td>1</td>\n",
       "      <td>1</td>\n",
       "      <td>1</td>\n",
       "      <td>0</td>\n",
       "      <td>600</td>\n",
       "    </tr>\n",
       "    <tr>\n",
       "      <th>64232</th>\n",
       "      <td>RJ</td>\n",
       "      <td>urbano</td>\n",
       "      <td>apartamento</td>\n",
       "      <td>proprio pago</td>\n",
       "      <td>6</td>\n",
       "      <td>2</td>\n",
       "      <td>2</td>\n",
       "      <td>1</td>\n",
       "      <td>1</td>\n",
       "      <td>1</td>\n",
       "      <td>...</td>\n",
       "      <td>2</td>\n",
       "      <td>2</td>\n",
       "      <td>1</td>\n",
       "      <td>1</td>\n",
       "      <td>3</td>\n",
       "      <td>1</td>\n",
       "      <td>3</td>\n",
       "      <td>2</td>\n",
       "      <td>1</td>\n",
       "      <td>1200</td>\n",
       "    </tr>\n",
       "    <tr>\n",
       "      <th>98458</th>\n",
       "      <td>RJ</td>\n",
       "      <td>urbano</td>\n",
       "      <td>casa</td>\n",
       "      <td>proprio pago</td>\n",
       "      <td>4</td>\n",
       "      <td>1</td>\n",
       "      <td>1</td>\n",
       "      <td>1</td>\n",
       "      <td>1</td>\n",
       "      <td>1</td>\n",
       "      <td>...</td>\n",
       "      <td>2</td>\n",
       "      <td>1</td>\n",
       "      <td>0</td>\n",
       "      <td>0</td>\n",
       "      <td>4</td>\n",
       "      <td>1</td>\n",
       "      <td>4</td>\n",
       "      <td>1</td>\n",
       "      <td>3</td>\n",
       "      <td>800</td>\n",
       "    </tr>\n",
       "    <tr>\n",
       "      <th>47856</th>\n",
       "      <td>BA</td>\n",
       "      <td>urbano</td>\n",
       "      <td>casa</td>\n",
       "      <td>proprio pago</td>\n",
       "      <td>7</td>\n",
       "      <td>2</td>\n",
       "      <td>1</td>\n",
       "      <td>1</td>\n",
       "      <td>1</td>\n",
       "      <td>1</td>\n",
       "      <td>...</td>\n",
       "      <td>2</td>\n",
       "      <td>1</td>\n",
       "      <td>1</td>\n",
       "      <td>0</td>\n",
       "      <td>3</td>\n",
       "      <td>1</td>\n",
       "      <td>3</td>\n",
       "      <td>1</td>\n",
       "      <td>2</td>\n",
       "      <td>591</td>\n",
       "    </tr>\n",
       "    <tr>\n",
       "      <th>49194</th>\n",
       "      <td>RJ</td>\n",
       "      <td>urbano</td>\n",
       "      <td>casa</td>\n",
       "      <td>proprio pago</td>\n",
       "      <td>6</td>\n",
       "      <td>2</td>\n",
       "      <td>2</td>\n",
       "      <td>1</td>\n",
       "      <td>1</td>\n",
       "      <td>1</td>\n",
       "      <td>...</td>\n",
       "      <td>2</td>\n",
       "      <td>2</td>\n",
       "      <td>0</td>\n",
       "      <td>0</td>\n",
       "      <td>5</td>\n",
       "      <td>1</td>\n",
       "      <td>5</td>\n",
       "      <td>2</td>\n",
       "      <td>3</td>\n",
       "      <td>530</td>\n",
       "    </tr>\n",
       "  </tbody>\n",
       "</table>\n",
       "<p>80000 rows × 25 columns</p>\n",
       "</div>"
      ],
      "text/plain": [
       "      sigla_uf situacao_domicilio tipo_domicilio condicao_domicilio  comodos  \\\n",
       "68111       RS             urbano           casa       proprio pago        7   \n",
       "44812       MG             urbano           casa    proprio pagando        6   \n",
       "76085       RS             urbano           casa       proprio pago        6   \n",
       "37522       MG             urbano           casa       proprio pago        5   \n",
       "11556       SP             urbano         comodo            alugado        1   \n",
       "...        ...                ...            ...                ...      ...   \n",
       "95786       SP             urbano           casa       proprio pago        5   \n",
       "64232       RJ             urbano    apartamento       proprio pago        6   \n",
       "98458       RJ             urbano           casa       proprio pago        4   \n",
       "47856       BA             urbano           casa       proprio pago        7   \n",
       "49194       RJ             urbano           casa       proprio pago        6   \n",
       "\n",
       "       dormitorios  banheiros  agua  iluminacao  radio  ...  computador  \\\n",
       "68111            3          1     1           1      1  ...           2   \n",
       "44812            3          1     1           1      1  ...           1   \n",
       "76085            3          1     1           1      1  ...           2   \n",
       "37522            1          1     2           1      2  ...           2   \n",
       "11556            1          0     1           1      1  ...           2   \n",
       "...            ...        ...   ...         ...    ...  ...         ...   \n",
       "95786            1          1     1           1      1  ...           2   \n",
       "64232            2          2     1           1      1  ...           2   \n",
       "98458            1          1     1           1      1  ...           2   \n",
       "47856            2          1     1           1      1  ...           2   \n",
       "49194            2          2     1           1      1  ...           2   \n",
       "\n",
       "       televisores  automoveis  ar_condicionado  iluminacao_publica  \\\n",
       "68111            2           1                0                   4   \n",
       "44812            2           0                0                   5   \n",
       "76085            2           1                1                   4   \n",
       "37522            1           0                0                   1   \n",
       "11556            1           0                0                   1   \n",
       "...            ...         ...              ...                 ...   \n",
       "95786            1           0                0                   1   \n",
       "64232            2           1                1                   3   \n",
       "98458            1           0                0                   4   \n",
       "47856            1           1                0                   3   \n",
       "49194            2           0                0                   5   \n",
       "\n",
       "       coleta_lixo  moradores  homens  mulheres  rendimento  \n",
       "68111            1          4       2         2         502  \n",
       "44812            1          5       4         1        1769  \n",
       "76085            1          4       2         2       13000  \n",
       "37522            1          1       0         1         231  \n",
       "11556            1          1       1         0         300  \n",
       "...            ...        ...     ...       ...         ...  \n",
       "95786            1          1       1         0         600  \n",
       "64232            1          3       2         1        1200  \n",
       "98458            1          4       1         3         800  \n",
       "47856            1          3       1         2         591  \n",
       "49194            1          5       2         3         530  \n",
       "\n",
       "[80000 rows x 25 columns]"
      ]
     },
     "execution_count": 25,
     "metadata": {},
     "output_type": "execute_result"
    }
   ],
   "source": [
    "X_train.join(y_train)"
   ]
  },
  {
   "cell_type": "code",
   "execution_count": 26,
   "id": "888e2009",
   "metadata": {
    "ExecuteTime": {
     "end_time": "2023-03-13T22:52:08.180770Z",
     "start_time": "2023-03-13T22:52:08.130712Z"
    }
   },
   "outputs": [
    {
     "data": {
      "text/html": [
       "<div>\n",
       "<style scoped>\n",
       "    .dataframe tbody tr th:only-of-type {\n",
       "        vertical-align: middle;\n",
       "    }\n",
       "\n",
       "    .dataframe tbody tr th {\n",
       "        vertical-align: top;\n",
       "    }\n",
       "\n",
       "    .dataframe thead th {\n",
       "        text-align: right;\n",
       "    }\n",
       "</style>\n",
       "<table border=\"1\" class=\"dataframe\">\n",
       "  <thead>\n",
       "    <tr style=\"text-align: right;\">\n",
       "      <th></th>\n",
       "      <th>rendimento</th>\n",
       "    </tr>\n",
       "    <tr>\n",
       "      <th>sigla_uf</th>\n",
       "      <th></th>\n",
       "    </tr>\n",
       "  </thead>\n",
       "  <tbody>\n",
       "    <tr>\n",
       "      <th>DF</th>\n",
       "      <td>1000.0</td>\n",
       "    </tr>\n",
       "    <tr>\n",
       "      <th>SP</th>\n",
       "      <td>830.0</td>\n",
       "    </tr>\n",
       "    <tr>\n",
       "      <th>RJ</th>\n",
       "      <td>755.0</td>\n",
       "    </tr>\n",
       "    <tr>\n",
       "      <th>SC</th>\n",
       "      <td>670.0</td>\n",
       "    </tr>\n",
       "    <tr>\n",
       "      <th>RS</th>\n",
       "      <td>600.0</td>\n",
       "    </tr>\n",
       "    <tr>\n",
       "      <th>AP</th>\n",
       "      <td>570.0</td>\n",
       "    </tr>\n",
       "    <tr>\n",
       "      <th>PR</th>\n",
       "      <td>551.0</td>\n",
       "    </tr>\n",
       "    <tr>\n",
       "      <th>MT</th>\n",
       "      <td>530.0</td>\n",
       "    </tr>\n",
       "    <tr>\n",
       "      <th>ES</th>\n",
       "      <td>529.0</td>\n",
       "    </tr>\n",
       "    <tr>\n",
       "      <th>MG</th>\n",
       "      <td>500.0</td>\n",
       "    </tr>\n",
       "    <tr>\n",
       "      <th>MS</th>\n",
       "      <td>499.0</td>\n",
       "    </tr>\n",
       "    <tr>\n",
       "      <th>GO</th>\n",
       "      <td>482.0</td>\n",
       "    </tr>\n",
       "    <tr>\n",
       "      <th>RR</th>\n",
       "      <td>480.0</td>\n",
       "    </tr>\n",
       "    <tr>\n",
       "      <th>RO</th>\n",
       "      <td>480.0</td>\n",
       "    </tr>\n",
       "    <tr>\n",
       "      <th>AM</th>\n",
       "      <td>450.0</td>\n",
       "    </tr>\n",
       "    <tr>\n",
       "      <th>AC</th>\n",
       "      <td>440.0</td>\n",
       "    </tr>\n",
       "    <tr>\n",
       "      <th>PA</th>\n",
       "      <td>380.0</td>\n",
       "    </tr>\n",
       "    <tr>\n",
       "      <th>PE</th>\n",
       "      <td>331.0</td>\n",
       "    </tr>\n",
       "    <tr>\n",
       "      <th>RN</th>\n",
       "      <td>302.0</td>\n",
       "    </tr>\n",
       "    <tr>\n",
       "      <th>PB</th>\n",
       "      <td>302.0</td>\n",
       "    </tr>\n",
       "    <tr>\n",
       "      <th>AL</th>\n",
       "      <td>302.0</td>\n",
       "    </tr>\n",
       "    <tr>\n",
       "      <th>CE</th>\n",
       "      <td>302.0</td>\n",
       "    </tr>\n",
       "    <tr>\n",
       "      <th>SE</th>\n",
       "      <td>302.0</td>\n",
       "    </tr>\n",
       "    <tr>\n",
       "      <th>BA</th>\n",
       "      <td>302.0</td>\n",
       "    </tr>\n",
       "    <tr>\n",
       "      <th>TO</th>\n",
       "      <td>302.0</td>\n",
       "    </tr>\n",
       "    <tr>\n",
       "      <th>PI</th>\n",
       "      <td>271.0</td>\n",
       "    </tr>\n",
       "    <tr>\n",
       "      <th>MA</th>\n",
       "      <td>256.0</td>\n",
       "    </tr>\n",
       "  </tbody>\n",
       "</table>\n",
       "</div>"
      ],
      "text/plain": [
       "          rendimento\n",
       "sigla_uf            \n",
       "DF            1000.0\n",
       "SP             830.0\n",
       "RJ             755.0\n",
       "SC             670.0\n",
       "RS             600.0\n",
       "AP             570.0\n",
       "PR             551.0\n",
       "MT             530.0\n",
       "ES             529.0\n",
       "MG             500.0\n",
       "MS             499.0\n",
       "GO             482.0\n",
       "RR             480.0\n",
       "RO             480.0\n",
       "AM             450.0\n",
       "AC             440.0\n",
       "PA             380.0\n",
       "PE             331.0\n",
       "RN             302.0\n",
       "PB             302.0\n",
       "AL             302.0\n",
       "CE             302.0\n",
       "SE             302.0\n",
       "BA             302.0\n",
       "TO             302.0\n",
       "PI             271.0\n",
       "MA             256.0"
      ]
     },
     "execution_count": 26,
     "metadata": {},
     "output_type": "execute_result"
    }
   ],
   "source": [
    "X_train.join(y_train)[['sigla_uf', 'rendimento']].groupby('sigla_uf').median().sort_values(by='rendimento', ascending=False)"
   ]
  },
  {
   "cell_type": "markdown",
   "id": "66f0fb38",
   "metadata": {
    "ExecuteTime": {
     "end_time": "2023-03-11T23:50:27.590669Z",
     "start_time": "2023-03-11T23:50:27.561879Z"
    }
   },
   "source": [
    "### situacao_domicilio"
   ]
  },
  {
   "cell_type": "code",
   "execution_count": 27,
   "id": "df18ba52",
   "metadata": {
    "ExecuteTime": {
     "end_time": "2023-03-13T22:52:08.468096Z",
     "start_time": "2023-03-13T22:52:08.184080Z"
    },
    "scrolled": true
   },
   "outputs": [
    {
     "data": {
      "image/png": "[encoded data removed]",
      "text/plain": [
       "<Figure size 432x288 with 1 Axes>"
      ]
     },
     "metadata": {
      "needs_background": "light"
     },
     "output_type": "display_data"
    }
   ],
   "source": [
    "X_train['situacao_domicilio'].value_counts().plot(kind='bar')\n",
    "plt.show()"
   ]
  },
  {
   "cell_type": "code",
   "execution_count": 28,
   "id": "21f4c573",
   "metadata": {
    "ExecuteTime": {
     "end_time": "2023-03-13T22:52:08.587329Z",
     "start_time": "2023-03-13T22:52:08.475839Z"
    },
    "scrolled": true
   },
   "outputs": [
    {
     "data": {
      "text/html": [
       "<div>\n",
       "<style scoped>\n",
       "    .dataframe tbody tr th:only-of-type {\n",
       "        vertical-align: middle;\n",
       "    }\n",
       "\n",
       "    .dataframe tbody tr th {\n",
       "        vertical-align: top;\n",
       "    }\n",
       "\n",
       "    .dataframe thead th {\n",
       "        text-align: right;\n",
       "    }\n",
       "</style>\n",
       "<table border=\"1\" class=\"dataframe\">\n",
       "  <thead>\n",
       "    <tr style=\"text-align: right;\">\n",
       "      <th></th>\n",
       "      <th>comodos</th>\n",
       "      <th>dormitorios</th>\n",
       "      <th>banheiros</th>\n",
       "      <th>agua</th>\n",
       "      <th>iluminacao</th>\n",
       "      <th>radio</th>\n",
       "      <th>geladeira</th>\n",
       "      <th>videocassete</th>\n",
       "      <th>maquina_lavar</th>\n",
       "      <th>microondas</th>\n",
       "      <th>...</th>\n",
       "      <th>computador</th>\n",
       "      <th>televisores</th>\n",
       "      <th>automoveis</th>\n",
       "      <th>ar_condicionado</th>\n",
       "      <th>iluminacao_publica</th>\n",
       "      <th>coleta_lixo</th>\n",
       "      <th>moradores</th>\n",
       "      <th>homens</th>\n",
       "      <th>mulheres</th>\n",
       "      <th>rendimento</th>\n",
       "    </tr>\n",
       "    <tr>\n",
       "      <th>situacao_domicilio</th>\n",
       "      <th></th>\n",
       "      <th></th>\n",
       "      <th></th>\n",
       "      <th></th>\n",
       "      <th></th>\n",
       "      <th></th>\n",
       "      <th></th>\n",
       "      <th></th>\n",
       "      <th></th>\n",
       "      <th></th>\n",
       "      <th></th>\n",
       "      <th></th>\n",
       "      <th></th>\n",
       "      <th></th>\n",
       "      <th></th>\n",
       "      <th></th>\n",
       "      <th></th>\n",
       "      <th></th>\n",
       "      <th></th>\n",
       "      <th></th>\n",
       "      <th></th>\n",
       "    </tr>\n",
       "  </thead>\n",
       "  <tbody>\n",
       "    <tr>\n",
       "      <th>urbano</th>\n",
       "      <td>5.0</td>\n",
       "      <td>2.0</td>\n",
       "      <td>1.0</td>\n",
       "      <td>1.0</td>\n",
       "      <td>1.0</td>\n",
       "      <td>1.0</td>\n",
       "      <td>1.0</td>\n",
       "      <td>2.0</td>\n",
       "      <td>2.0</td>\n",
       "      <td>2.0</td>\n",
       "      <td>...</td>\n",
       "      <td>2.0</td>\n",
       "      <td>1.0</td>\n",
       "      <td>0.0</td>\n",
       "      <td>0.0</td>\n",
       "      <td>4.0</td>\n",
       "      <td>1.0</td>\n",
       "      <td>4.0</td>\n",
       "      <td>2.0</td>\n",
       "      <td>2.0</td>\n",
       "      <td>601.0</td>\n",
       "    </tr>\n",
       "    <tr>\n",
       "      <th>rural</th>\n",
       "      <td>5.0</td>\n",
       "      <td>2.0</td>\n",
       "      <td>1.0</td>\n",
       "      <td>2.0</td>\n",
       "      <td>1.0</td>\n",
       "      <td>1.0</td>\n",
       "      <td>1.0</td>\n",
       "      <td>2.0</td>\n",
       "      <td>2.0</td>\n",
       "      <td>2.0</td>\n",
       "      <td>...</td>\n",
       "      <td>2.0</td>\n",
       "      <td>1.0</td>\n",
       "      <td>0.0</td>\n",
       "      <td>0.0</td>\n",
       "      <td>4.0</td>\n",
       "      <td>3.0</td>\n",
       "      <td>4.0</td>\n",
       "      <td>2.0</td>\n",
       "      <td>2.0</td>\n",
       "      <td>300.0</td>\n",
       "    </tr>\n",
       "  </tbody>\n",
       "</table>\n",
       "<p>2 rows × 21 columns</p>\n",
       "</div>"
      ],
      "text/plain": [
       "                    comodos  dormitorios  banheiros  agua  iluminacao  radio  \\\n",
       "situacao_domicilio                                                             \n",
       "urbano                  5.0          2.0        1.0   1.0         1.0    1.0   \n",
       "rural                   5.0          2.0        1.0   2.0         1.0    1.0   \n",
       "\n",
       "                    geladeira  videocassete  maquina_lavar  microondas  ...  \\\n",
       "situacao_domicilio                                                      ...   \n",
       "urbano                    1.0           2.0            2.0         2.0  ...   \n",
       "rural                     1.0           2.0            2.0         2.0  ...   \n",
       "\n",
       "                    computador  televisores  automoveis  ar_condicionado  \\\n",
       "situacao_domicilio                                                         \n",
       "urbano                     2.0          1.0         0.0              0.0   \n",
       "rural                      2.0          1.0         0.0              0.0   \n",
       "\n",
       "                    iluminacao_publica  coleta_lixo  moradores  homens  \\\n",
       "situacao_domicilio                                                       \n",
       "urbano                             4.0          1.0        4.0     2.0   \n",
       "rural                              4.0          3.0        4.0     2.0   \n",
       "\n",
       "                    mulheres  rendimento  \n",
       "situacao_domicilio                        \n",
       "urbano                   2.0       601.0  \n",
       "rural                    2.0       300.0  \n",
       "\n",
       "[2 rows x 21 columns]"
      ]
     },
     "execution_count": 28,
     "metadata": {},
     "output_type": "execute_result"
    }
   ],
   "source": [
    "X_train.join(y_train).groupby('situacao_domicilio').median().sort_values(by='rendimento', ascending=False)"
   ]
  },
  {
   "cell_type": "markdown",
   "id": "ee365fd5",
   "metadata": {},
   "source": [
    "### condicao_domicilio"
   ]
  },
  {
   "cell_type": "code",
   "execution_count": 29,
   "id": "b558a101",
   "metadata": {
    "ExecuteTime": {
     "end_time": "2023-03-13T22:52:08.867324Z",
     "start_time": "2023-03-13T22:52:08.600227Z"
    },
    "scrolled": false
   },
   "outputs": [
    {
     "data": {
      "image/png": "[encoded data removed]",
      "text/plain": [
       "<Figure size 432x288 with 1 Axes>"
      ]
     },
     "metadata": {
      "needs_background": "light"
     },
     "output_type": "display_data"
    }
   ],
   "source": [
    "X_train['condicao_domicilio'].value_counts().plot(kind='bar')\n",
    "plt.show()"
   ]
  },
  {
   "cell_type": "code",
   "execution_count": 30,
   "id": "9e29ab0d",
   "metadata": {
    "ExecuteTime": {
     "end_time": "2023-03-13T22:52:08.926812Z",
     "start_time": "2023-03-13T22:52:08.886618Z"
    }
   },
   "outputs": [
    {
     "data": {
      "text/html": [
       "<div>\n",
       "<style scoped>\n",
       "    .dataframe tbody tr th:only-of-type {\n",
       "        vertical-align: middle;\n",
       "    }\n",
       "\n",
       "    .dataframe tbody tr th {\n",
       "        vertical-align: top;\n",
       "    }\n",
       "\n",
       "    .dataframe thead th {\n",
       "        text-align: right;\n",
       "    }\n",
       "</style>\n",
       "<table border=\"1\" class=\"dataframe\">\n",
       "  <thead>\n",
       "    <tr style=\"text-align: right;\">\n",
       "      <th></th>\n",
       "      <th>sigla_uf</th>\n",
       "      <th>situacao_domicilio</th>\n",
       "      <th>tipo_domicilio</th>\n",
       "      <th>condicao_domicilio</th>\n",
       "      <th>comodos</th>\n",
       "      <th>dormitorios</th>\n",
       "      <th>banheiros</th>\n",
       "      <th>agua</th>\n",
       "      <th>iluminacao</th>\n",
       "      <th>radio</th>\n",
       "      <th>...</th>\n",
       "      <th>telefone</th>\n",
       "      <th>computador</th>\n",
       "      <th>televisores</th>\n",
       "      <th>automoveis</th>\n",
       "      <th>ar_condicionado</th>\n",
       "      <th>iluminacao_publica</th>\n",
       "      <th>coleta_lixo</th>\n",
       "      <th>moradores</th>\n",
       "      <th>homens</th>\n",
       "      <th>mulheres</th>\n",
       "    </tr>\n",
       "  </thead>\n",
       "  <tbody>\n",
       "    <tr>\n",
       "      <th>68111</th>\n",
       "      <td>RS</td>\n",
       "      <td>urbano</td>\n",
       "      <td>casa</td>\n",
       "      <td>proprio pago</td>\n",
       "      <td>7</td>\n",
       "      <td>3</td>\n",
       "      <td>1</td>\n",
       "      <td>1</td>\n",
       "      <td>1</td>\n",
       "      <td>1</td>\n",
       "      <td>...</td>\n",
       "      <td>2</td>\n",
       "      <td>2</td>\n",
       "      <td>2</td>\n",
       "      <td>1</td>\n",
       "      <td>0</td>\n",
       "      <td>4</td>\n",
       "      <td>1</td>\n",
       "      <td>4</td>\n",
       "      <td>2</td>\n",
       "      <td>2</td>\n",
       "    </tr>\n",
       "    <tr>\n",
       "      <th>44812</th>\n",
       "      <td>MG</td>\n",
       "      <td>urbano</td>\n",
       "      <td>casa</td>\n",
       "      <td>proprio pagando</td>\n",
       "      <td>6</td>\n",
       "      <td>3</td>\n",
       "      <td>1</td>\n",
       "      <td>1</td>\n",
       "      <td>1</td>\n",
       "      <td>1</td>\n",
       "      <td>...</td>\n",
       "      <td>1</td>\n",
       "      <td>1</td>\n",
       "      <td>2</td>\n",
       "      <td>0</td>\n",
       "      <td>0</td>\n",
       "      <td>5</td>\n",
       "      <td>1</td>\n",
       "      <td>5</td>\n",
       "      <td>4</td>\n",
       "      <td>1</td>\n",
       "    </tr>\n",
       "    <tr>\n",
       "      <th>76085</th>\n",
       "      <td>RS</td>\n",
       "      <td>urbano</td>\n",
       "      <td>casa</td>\n",
       "      <td>proprio pago</td>\n",
       "      <td>6</td>\n",
       "      <td>3</td>\n",
       "      <td>1</td>\n",
       "      <td>1</td>\n",
       "      <td>1</td>\n",
       "      <td>1</td>\n",
       "      <td>...</td>\n",
       "      <td>1</td>\n",
       "      <td>2</td>\n",
       "      <td>2</td>\n",
       "      <td>1</td>\n",
       "      <td>1</td>\n",
       "      <td>4</td>\n",
       "      <td>1</td>\n",
       "      <td>4</td>\n",
       "      <td>2</td>\n",
       "      <td>2</td>\n",
       "    </tr>\n",
       "    <tr>\n",
       "      <th>37522</th>\n",
       "      <td>MG</td>\n",
       "      <td>urbano</td>\n",
       "      <td>casa</td>\n",
       "      <td>proprio pago</td>\n",
       "      <td>5</td>\n",
       "      <td>1</td>\n",
       "      <td>1</td>\n",
       "      <td>2</td>\n",
       "      <td>1</td>\n",
       "      <td>2</td>\n",
       "      <td>...</td>\n",
       "      <td>2</td>\n",
       "      <td>2</td>\n",
       "      <td>1</td>\n",
       "      <td>0</td>\n",
       "      <td>0</td>\n",
       "      <td>1</td>\n",
       "      <td>1</td>\n",
       "      <td>1</td>\n",
       "      <td>0</td>\n",
       "      <td>1</td>\n",
       "    </tr>\n",
       "    <tr>\n",
       "      <th>11556</th>\n",
       "      <td>SP</td>\n",
       "      <td>urbano</td>\n",
       "      <td>comodo</td>\n",
       "      <td>alugado</td>\n",
       "      <td>1</td>\n",
       "      <td>1</td>\n",
       "      <td>0</td>\n",
       "      <td>1</td>\n",
       "      <td>1</td>\n",
       "      <td>1</td>\n",
       "      <td>...</td>\n",
       "      <td>2</td>\n",
       "      <td>2</td>\n",
       "      <td>1</td>\n",
       "      <td>0</td>\n",
       "      <td>0</td>\n",
       "      <td>1</td>\n",
       "      <td>1</td>\n",
       "      <td>1</td>\n",
       "      <td>1</td>\n",
       "      <td>0</td>\n",
       "    </tr>\n",
       "  </tbody>\n",
       "</table>\n",
       "<p>5 rows × 24 columns</p>\n",
       "</div>"
      ],
      "text/plain": [
       "      sigla_uf situacao_domicilio tipo_domicilio condicao_domicilio  comodos  \\\n",
       "68111       RS             urbano           casa       proprio pago        7   \n",
       "44812       MG             urbano           casa    proprio pagando        6   \n",
       "76085       RS             urbano           casa       proprio pago        6   \n",
       "37522       MG             urbano           casa       proprio pago        5   \n",
       "11556       SP             urbano         comodo            alugado        1   \n",
       "\n",
       "       dormitorios  banheiros  agua  iluminacao  radio  ...  telefone  \\\n",
       "68111            3          1     1           1      1  ...         2   \n",
       "44812            3          1     1           1      1  ...         1   \n",
       "76085            3          1     1           1      1  ...         1   \n",
       "37522            1          1     2           1      2  ...         2   \n",
       "11556            1          0     1           1      1  ...         2   \n",
       "\n",
       "       computador  televisores  automoveis  ar_condicionado  \\\n",
       "68111           2            2           1                0   \n",
       "44812           1            2           0                0   \n",
       "76085           2            2           1                1   \n",
       "37522           2            1           0                0   \n",
       "11556           2            1           0                0   \n",
       "\n",
       "       iluminacao_publica  coleta_lixo  moradores  homens  mulheres  \n",
       "68111                   4            1          4       2         2  \n",
       "44812                   5            1          5       4         1  \n",
       "76085                   4            1          4       2         2  \n",
       "37522                   1            1          1       0         1  \n",
       "11556                   1            1          1       1         0  \n",
       "\n",
       "[5 rows x 24 columns]"
      ]
     },
     "execution_count": 30,
     "metadata": {},
     "output_type": "execute_result"
    }
   ],
   "source": [
    "X_train.head()"
   ]
  },
  {
   "cell_type": "markdown",
   "id": "7a3f4808",
   "metadata": {},
   "source": [
    "### tipo_domicilio"
   ]
  },
  {
   "cell_type": "code",
   "execution_count": 31,
   "id": "0ca79b8b",
   "metadata": {
    "ExecuteTime": {
     "end_time": "2023-03-13T22:52:09.174481Z",
     "start_time": "2023-03-13T22:52:08.933111Z"
    }
   },
   "outputs": [
    {
     "data": {
      "image/png": "[encoded data removed]",
      "text/plain": [
       "<Figure size 432x288 with 1 Axes>"
      ]
     },
     "metadata": {
      "needs_background": "light"
     },
     "output_type": "display_data"
    }
   ],
   "source": [
    "X_train['tipo_domicilio'].value_counts().plot(kind='bar')\n",
    "plt.show()"
   ]
  },
  {
   "cell_type": "code",
   "execution_count": 32,
   "id": "c3a86dac",
   "metadata": {
    "ExecuteTime": {
     "end_time": "2023-03-13T22:52:09.279755Z",
     "start_time": "2023-03-13T22:52:09.177220Z"
    },
    "scrolled": true
   },
   "outputs": [
    {
     "data": {
      "text/html": [
       "<div>\n",
       "<style scoped>\n",
       "    .dataframe tbody tr th:only-of-type {\n",
       "        vertical-align: middle;\n",
       "    }\n",
       "\n",
       "    .dataframe tbody tr th {\n",
       "        vertical-align: top;\n",
       "    }\n",
       "\n",
       "    .dataframe thead th {\n",
       "        text-align: right;\n",
       "    }\n",
       "</style>\n",
       "<table border=\"1\" class=\"dataframe\">\n",
       "  <thead>\n",
       "    <tr style=\"text-align: right;\">\n",
       "      <th></th>\n",
       "      <th>comodos</th>\n",
       "      <th>dormitorios</th>\n",
       "      <th>banheiros</th>\n",
       "      <th>agua</th>\n",
       "      <th>iluminacao</th>\n",
       "      <th>radio</th>\n",
       "      <th>geladeira</th>\n",
       "      <th>videocassete</th>\n",
       "      <th>maquina_lavar</th>\n",
       "      <th>microondas</th>\n",
       "      <th>...</th>\n",
       "      <th>computador</th>\n",
       "      <th>televisores</th>\n",
       "      <th>automoveis</th>\n",
       "      <th>ar_condicionado</th>\n",
       "      <th>iluminacao_publica</th>\n",
       "      <th>coleta_lixo</th>\n",
       "      <th>moradores</th>\n",
       "      <th>homens</th>\n",
       "      <th>mulheres</th>\n",
       "      <th>rendimento</th>\n",
       "    </tr>\n",
       "    <tr>\n",
       "      <th>tipo_domicilio</th>\n",
       "      <th></th>\n",
       "      <th></th>\n",
       "      <th></th>\n",
       "      <th></th>\n",
       "      <th></th>\n",
       "      <th></th>\n",
       "      <th></th>\n",
       "      <th></th>\n",
       "      <th></th>\n",
       "      <th></th>\n",
       "      <th></th>\n",
       "      <th></th>\n",
       "      <th></th>\n",
       "      <th></th>\n",
       "      <th></th>\n",
       "      <th></th>\n",
       "      <th></th>\n",
       "      <th></th>\n",
       "      <th></th>\n",
       "      <th></th>\n",
       "      <th></th>\n",
       "    </tr>\n",
       "  </thead>\n",
       "  <tbody>\n",
       "    <tr>\n",
       "      <th>apartamento</th>\n",
       "      <td>6.0</td>\n",
       "      <td>2.0</td>\n",
       "      <td>1.0</td>\n",
       "      <td>1.0</td>\n",
       "      <td>1.0</td>\n",
       "      <td>1.0</td>\n",
       "      <td>1.0</td>\n",
       "      <td>1.0</td>\n",
       "      <td>1.0</td>\n",
       "      <td>1.0</td>\n",
       "      <td>...</td>\n",
       "      <td>2.0</td>\n",
       "      <td>2.0</td>\n",
       "      <td>1.0</td>\n",
       "      <td>0.0</td>\n",
       "      <td>3.0</td>\n",
       "      <td>1.0</td>\n",
       "      <td>3.0</td>\n",
       "      <td>1.0</td>\n",
       "      <td>1.0</td>\n",
       "      <td>1770.0</td>\n",
       "    </tr>\n",
       "    <tr>\n",
       "      <th>casa</th>\n",
       "      <td>5.0</td>\n",
       "      <td>2.0</td>\n",
       "      <td>1.0</td>\n",
       "      <td>1.0</td>\n",
       "      <td>1.0</td>\n",
       "      <td>1.0</td>\n",
       "      <td>1.0</td>\n",
       "      <td>2.0</td>\n",
       "      <td>2.0</td>\n",
       "      <td>2.0</td>\n",
       "      <td>...</td>\n",
       "      <td>2.0</td>\n",
       "      <td>1.0</td>\n",
       "      <td>0.0</td>\n",
       "      <td>0.0</td>\n",
       "      <td>4.0</td>\n",
       "      <td>1.0</td>\n",
       "      <td>4.0</td>\n",
       "      <td>2.0</td>\n",
       "      <td>2.0</td>\n",
       "      <td>490.0</td>\n",
       "    </tr>\n",
       "    <tr>\n",
       "      <th>comodo</th>\n",
       "      <td>2.0</td>\n",
       "      <td>1.0</td>\n",
       "      <td>1.0</td>\n",
       "      <td>1.0</td>\n",
       "      <td>1.0</td>\n",
       "      <td>1.0</td>\n",
       "      <td>1.0</td>\n",
       "      <td>2.0</td>\n",
       "      <td>2.0</td>\n",
       "      <td>2.0</td>\n",
       "      <td>...</td>\n",
       "      <td>2.0</td>\n",
       "      <td>1.0</td>\n",
       "      <td>0.0</td>\n",
       "      <td>0.0</td>\n",
       "      <td>3.0</td>\n",
       "      <td>1.0</td>\n",
       "      <td>3.0</td>\n",
       "      <td>1.0</td>\n",
       "      <td>1.0</td>\n",
       "      <td>300.0</td>\n",
       "    </tr>\n",
       "  </tbody>\n",
       "</table>\n",
       "<p>3 rows × 21 columns</p>\n",
       "</div>"
      ],
      "text/plain": [
       "                comodos  dormitorios  banheiros  agua  iluminacao  radio  \\\n",
       "tipo_domicilio                                                             \n",
       "apartamento         6.0          2.0        1.0   1.0         1.0    1.0   \n",
       "casa                5.0          2.0        1.0   1.0         1.0    1.0   \n",
       "comodo              2.0          1.0        1.0   1.0         1.0    1.0   \n",
       "\n",
       "                geladeira  videocassete  maquina_lavar  microondas  ...  \\\n",
       "tipo_domicilio                                                      ...   \n",
       "apartamento           1.0           1.0            1.0         1.0  ...   \n",
       "casa                  1.0           2.0            2.0         2.0  ...   \n",
       "comodo                1.0           2.0            2.0         2.0  ...   \n",
       "\n",
       "                computador  televisores  automoveis  ar_condicionado  \\\n",
       "tipo_domicilio                                                         \n",
       "apartamento            2.0          2.0         1.0              0.0   \n",
       "casa                   2.0          1.0         0.0              0.0   \n",
       "comodo                 2.0          1.0         0.0              0.0   \n",
       "\n",
       "                iluminacao_publica  coleta_lixo  moradores  homens  mulheres  \\\n",
       "tipo_domicilio                                                                 \n",
       "apartamento                    3.0          1.0        3.0     1.0       1.0   \n",
       "casa                           4.0          1.0        4.0     2.0       2.0   \n",
       "comodo                         3.0          1.0        3.0     1.0       1.0   \n",
       "\n",
       "                rendimento  \n",
       "tipo_domicilio              \n",
       "apartamento         1770.0  \n",
       "casa                 490.0  \n",
       "comodo               300.0  \n",
       "\n",
       "[3 rows x 21 columns]"
      ]
     },
     "execution_count": 32,
     "metadata": {},
     "output_type": "execute_result"
    }
   ],
   "source": [
    "X_train.join(y_train).groupby('tipo_domicilio').median().sort_values(by='rendimento', ascending=False)"
   ]
  },
  {
   "cell_type": "markdown",
   "id": "7f8ddb96",
   "metadata": {
    "ExecuteTime": {
     "end_time": "2023-03-12T00:01:41.039200Z",
     "start_time": "2023-03-12T00:01:41.034529Z"
    }
   },
   "source": [
    "### comodos"
   ]
  },
  {
   "cell_type": "code",
   "execution_count": 33,
   "id": "b473e859",
   "metadata": {
    "ExecuteTime": {
     "end_time": "2023-03-13T22:52:09.712007Z",
     "start_time": "2023-03-13T22:52:09.283129Z"
    },
    "scrolled": true
   },
   "outputs": [
    {
     "data": {
      "image/png": "[encoded data removed]",
      "text/plain": [
       "<Figure size 432x288 with 1 Axes>"
      ]
     },
     "metadata": {
      "needs_background": "light"
     },
     "output_type": "display_data"
    }
   ],
   "source": [
    "sns.histplot(data=X_train, x='comodos', discrete=True);"
   ]
  },
  {
   "cell_type": "code",
   "execution_count": 34,
   "id": "1174337a",
   "metadata": {
    "ExecuteTime": {
     "end_time": "2023-03-13T22:52:09.738818Z",
     "start_time": "2023-03-13T22:52:09.716008Z"
    },
    "scrolled": true
   },
   "outputs": [
    {
     "data": {
      "text/plain": [
       "count    80000.000000\n",
       "mean         5.725388\n",
       "std          2.374410\n",
       "min          1.000000\n",
       "25%          4.000000\n",
       "50%          5.000000\n",
       "75%          7.000000\n",
       "max         30.000000\n",
       "Name: comodos, dtype: float64"
      ]
     },
     "execution_count": 34,
     "metadata": {},
     "output_type": "execute_result"
    }
   ],
   "source": [
    "X_train['comodos'].describe()"
   ]
  },
  {
   "cell_type": "markdown",
   "id": "37cc6c89",
   "metadata": {},
   "source": [
    "## Correlações"
   ]
  },
  {
   "cell_type": "code",
   "execution_count": 35,
   "id": "e5ccc03a",
   "metadata": {
    "ExecuteTime": {
     "end_time": "2023-03-13T22:52:12.415065Z",
     "start_time": "2023-03-13T22:52:09.742658Z"
    },
    "scrolled": false
   },
   "outputs": [
    {
     "name": "stdout",
     "output_type": "stream",
     "text": [
      "rendimento            1.000000\n",
      "banheiros             0.421114\n",
      "automoveis            0.415246\n",
      "televisores           0.362419\n",
      "comodos               0.349248\n",
      "ar_condicionado       0.299683\n",
      "dormitorios           0.156450\n",
      "iluminacao_publica    0.012976\n",
      "moradores             0.012976\n",
      "mulheres              0.012694\n",
      "homens                0.007799\n",
      "iluminacao           -0.082571\n",
      "radio                -0.091818\n",
      "agua                 -0.118308\n",
      "coleta_lixo          -0.138057\n",
      "geladeira            -0.148042\n",
      "maquina_lavar        -0.290562\n",
      "videocassete         -0.293941\n",
      "telefone             -0.296532\n",
      "microondas           -0.326337\n",
      "computador           -0.355505\n",
      "Name: rendimento, dtype: float64\n"
     ]
    },
    {
     "data": {
      "image/png": "[encoded data removed]",
      "text/plain": [
       "<Figure size 1080x1080 with 2 Axes>"
      ]
     },
     "metadata": {
      "needs_background": "light"
     },
     "output_type": "display_data"
    }
   ],
   "source": [
    "corr = X_train.join(y_train).corr()\n",
    "\n",
    "plt.figure(figsize=(15,15))\n",
    "sns.heatmap(data=corr, annot=True);\n",
    "\n",
    "print(corr['rendimento'].sort_values(ascending=False))"
   ]
  },
  {
   "cell_type": "markdown",
   "id": "c3b791a8",
   "metadata": {
    "ExecuteTime": {
     "end_time": "2023-02-17T23:00:49.082457Z",
     "start_time": "2023-02-17T23:00:49.079573Z"
    }
   },
   "source": [
    "## Baseline"
   ]
  },
  {
   "cell_type": "code",
   "execution_count": 36,
   "id": "5823eb02",
   "metadata": {
    "ExecuteTime": {
     "end_time": "2023-03-13T22:52:12.447999Z",
     "start_time": "2023-03-13T22:52:12.418507Z"
    },
    "scrolled": true
   },
   "outputs": [
    {
     "data": {
      "text/html": [
       "<div>\n",
       "<style scoped>\n",
       "    .dataframe tbody tr th:only-of-type {\n",
       "        vertical-align: middle;\n",
       "    }\n",
       "\n",
       "    .dataframe tbody tr th {\n",
       "        vertical-align: top;\n",
       "    }\n",
       "\n",
       "    .dataframe thead th {\n",
       "        text-align: right;\n",
       "    }\n",
       "</style>\n",
       "<table border=\"1\" class=\"dataframe\">\n",
       "  <thead>\n",
       "    <tr style=\"text-align: right;\">\n",
       "      <th></th>\n",
       "      <th>sigla_uf</th>\n",
       "      <th>situacao_domicilio</th>\n",
       "      <th>tipo_domicilio</th>\n",
       "      <th>condicao_domicilio</th>\n",
       "      <th>comodos</th>\n",
       "      <th>dormitorios</th>\n",
       "      <th>banheiros</th>\n",
       "      <th>agua</th>\n",
       "      <th>iluminacao</th>\n",
       "      <th>radio</th>\n",
       "      <th>...</th>\n",
       "      <th>telefone</th>\n",
       "      <th>computador</th>\n",
       "      <th>televisores</th>\n",
       "      <th>automoveis</th>\n",
       "      <th>ar_condicionado</th>\n",
       "      <th>iluminacao_publica</th>\n",
       "      <th>coleta_lixo</th>\n",
       "      <th>moradores</th>\n",
       "      <th>homens</th>\n",
       "      <th>mulheres</th>\n",
       "    </tr>\n",
       "  </thead>\n",
       "  <tbody>\n",
       "    <tr>\n",
       "      <th>68111</th>\n",
       "      <td>RS</td>\n",
       "      <td>urbano</td>\n",
       "      <td>casa</td>\n",
       "      <td>proprio pago</td>\n",
       "      <td>7</td>\n",
       "      <td>3</td>\n",
       "      <td>1</td>\n",
       "      <td>1</td>\n",
       "      <td>1</td>\n",
       "      <td>1</td>\n",
       "      <td>...</td>\n",
       "      <td>2</td>\n",
       "      <td>2</td>\n",
       "      <td>2</td>\n",
       "      <td>1</td>\n",
       "      <td>0</td>\n",
       "      <td>4</td>\n",
       "      <td>1</td>\n",
       "      <td>4</td>\n",
       "      <td>2</td>\n",
       "      <td>2</td>\n",
       "    </tr>\n",
       "    <tr>\n",
       "      <th>44812</th>\n",
       "      <td>MG</td>\n",
       "      <td>urbano</td>\n",
       "      <td>casa</td>\n",
       "      <td>proprio pagando</td>\n",
       "      <td>6</td>\n",
       "      <td>3</td>\n",
       "      <td>1</td>\n",
       "      <td>1</td>\n",
       "      <td>1</td>\n",
       "      <td>1</td>\n",
       "      <td>...</td>\n",
       "      <td>1</td>\n",
       "      <td>1</td>\n",
       "      <td>2</td>\n",
       "      <td>0</td>\n",
       "      <td>0</td>\n",
       "      <td>5</td>\n",
       "      <td>1</td>\n",
       "      <td>5</td>\n",
       "      <td>4</td>\n",
       "      <td>1</td>\n",
       "    </tr>\n",
       "    <tr>\n",
       "      <th>76085</th>\n",
       "      <td>RS</td>\n",
       "      <td>urbano</td>\n",
       "      <td>casa</td>\n",
       "      <td>proprio pago</td>\n",
       "      <td>6</td>\n",
       "      <td>3</td>\n",
       "      <td>1</td>\n",
       "      <td>1</td>\n",
       "      <td>1</td>\n",
       "      <td>1</td>\n",
       "      <td>...</td>\n",
       "      <td>1</td>\n",
       "      <td>2</td>\n",
       "      <td>2</td>\n",
       "      <td>1</td>\n",
       "      <td>1</td>\n",
       "      <td>4</td>\n",
       "      <td>1</td>\n",
       "      <td>4</td>\n",
       "      <td>2</td>\n",
       "      <td>2</td>\n",
       "    </tr>\n",
       "    <tr>\n",
       "      <th>37522</th>\n",
       "      <td>MG</td>\n",
       "      <td>urbano</td>\n",
       "      <td>casa</td>\n",
       "      <td>proprio pago</td>\n",
       "      <td>5</td>\n",
       "      <td>1</td>\n",
       "      <td>1</td>\n",
       "      <td>2</td>\n",
       "      <td>1</td>\n",
       "      <td>2</td>\n",
       "      <td>...</td>\n",
       "      <td>2</td>\n",
       "      <td>2</td>\n",
       "      <td>1</td>\n",
       "      <td>0</td>\n",
       "      <td>0</td>\n",
       "      <td>1</td>\n",
       "      <td>1</td>\n",
       "      <td>1</td>\n",
       "      <td>0</td>\n",
       "      <td>1</td>\n",
       "    </tr>\n",
       "    <tr>\n",
       "      <th>11556</th>\n",
       "      <td>SP</td>\n",
       "      <td>urbano</td>\n",
       "      <td>comodo</td>\n",
       "      <td>alugado</td>\n",
       "      <td>1</td>\n",
       "      <td>1</td>\n",
       "      <td>0</td>\n",
       "      <td>1</td>\n",
       "      <td>1</td>\n",
       "      <td>1</td>\n",
       "      <td>...</td>\n",
       "      <td>2</td>\n",
       "      <td>2</td>\n",
       "      <td>1</td>\n",
       "      <td>0</td>\n",
       "      <td>0</td>\n",
       "      <td>1</td>\n",
       "      <td>1</td>\n",
       "      <td>1</td>\n",
       "      <td>1</td>\n",
       "      <td>0</td>\n",
       "    </tr>\n",
       "  </tbody>\n",
       "</table>\n",
       "<p>5 rows × 24 columns</p>\n",
       "</div>"
      ],
      "text/plain": [
       "      sigla_uf situacao_domicilio tipo_domicilio condicao_domicilio  comodos  \\\n",
       "68111       RS             urbano           casa       proprio pago        7   \n",
       "44812       MG             urbano           casa    proprio pagando        6   \n",
       "76085       RS             urbano           casa       proprio pago        6   \n",
       "37522       MG             urbano           casa       proprio pago        5   \n",
       "11556       SP             urbano         comodo            alugado        1   \n",
       "\n",
       "       dormitorios  banheiros  agua  iluminacao  radio  ...  telefone  \\\n",
       "68111            3          1     1           1      1  ...         2   \n",
       "44812            3          1     1           1      1  ...         1   \n",
       "76085            3          1     1           1      1  ...         1   \n",
       "37522            1          1     2           1      2  ...         2   \n",
       "11556            1          0     1           1      1  ...         2   \n",
       "\n",
       "       computador  televisores  automoveis  ar_condicionado  \\\n",
       "68111           2            2           1                0   \n",
       "44812           1            2           0                0   \n",
       "76085           2            2           1                1   \n",
       "37522           2            1           0                0   \n",
       "11556           2            1           0                0   \n",
       "\n",
       "       iluminacao_publica  coleta_lixo  moradores  homens  mulheres  \n",
       "68111                   4            1          4       2         2  \n",
       "44812                   5            1          5       4         1  \n",
       "76085                   4            1          4       2         2  \n",
       "37522                   1            1          1       0         1  \n",
       "11556                   1            1          1       1         0  \n",
       "\n",
       "[5 rows x 24 columns]"
      ]
     },
     "execution_count": 36,
     "metadata": {},
     "output_type": "execute_result"
    }
   ],
   "source": [
    "X_train.head()"
   ]
  },
  {
   "cell_type": "code",
   "execution_count": 37,
   "id": "49e086b2",
   "metadata": {
    "ExecuteTime": {
     "end_time": "2023-03-13T22:52:12.485946Z",
     "start_time": "2023-03-13T22:52:12.452946Z"
    },
    "scrolled": true
   },
   "outputs": [
    {
     "data": {
      "text/html": [
       "<style>#sk-container-id-1 {color: black;background-color: white;}#sk-container-id-1 pre{padding: 0;}#sk-container-id-1 div.sk-toggleable {background-color: white;}#sk-container-id-1 label.sk-toggleable__label {cursor: pointer;display: block;width: 100%;margin-bottom: 0;padding: 0.3em;box-sizing: border-box;text-align: center;}#sk-container-id-1 label.sk-toggleable__label-arrow:before {content: \"▸\";float: left;margin-right: 0.25em;color: #696969;}#sk-container-id-1 label.sk-toggleable__label-arrow:hover:before {color: black;}#sk-container-id-1 div.sk-estimator:hover label.sk-toggleable__label-arrow:before {color: black;}#sk-container-id-1 div.sk-toggleable__content {max-height: 0;max-width: 0;overflow: hidden;text-align: left;background-color: #f0f8ff;}#sk-container-id-1 div.sk-toggleable__content pre {margin: 0.2em;color: black;border-radius: 0.25em;background-color: #f0f8ff;}#sk-container-id-1 input.sk-toggleable__control:checked~div.sk-toggleable__content {max-height: 200px;max-width: 100%;overflow: auto;}#sk-container-id-1 input.sk-toggleable__control:checked~label.sk-toggleable__label-arrow:before {content: \"▾\";}#sk-container-id-1 div.sk-estimator input.sk-toggleable__control:checked~label.sk-toggleable__label {background-color: #d4ebff;}#sk-container-id-1 div.sk-label input.sk-toggleable__control:checked~label.sk-toggleable__label {background-color: #d4ebff;}#sk-container-id-1 input.sk-hidden--visually {border: 0;clip: rect(1px 1px 1px 1px);clip: rect(1px, 1px, 1px, 1px);height: 1px;margin: -1px;overflow: hidden;padding: 0;position: absolute;width: 1px;}#sk-container-id-1 div.sk-estimator {font-family: monospace;background-color: #f0f8ff;border: 1px dotted black;border-radius: 0.25em;box-sizing: border-box;margin-bottom: 0.5em;}#sk-container-id-1 div.sk-estimator:hover {background-color: #d4ebff;}#sk-container-id-1 div.sk-parallel-item::after {content: \"\";width: 100%;border-bottom: 1px solid gray;flex-grow: 1;}#sk-container-id-1 div.sk-label:hover label.sk-toggleable__label {background-color: #d4ebff;}#sk-container-id-1 div.sk-serial::before {content: \"\";position: absolute;border-left: 1px solid gray;box-sizing: border-box;top: 0;bottom: 0;left: 50%;z-index: 0;}#sk-container-id-1 div.sk-serial {display: flex;flex-direction: column;align-items: center;background-color: white;padding-right: 0.2em;padding-left: 0.2em;position: relative;}#sk-container-id-1 div.sk-item {position: relative;z-index: 1;}#sk-container-id-1 div.sk-parallel {display: flex;align-items: stretch;justify-content: center;background-color: white;position: relative;}#sk-container-id-1 div.sk-item::before, #sk-container-id-1 div.sk-parallel-item::before {content: \"\";position: absolute;border-left: 1px solid gray;box-sizing: border-box;top: 0;bottom: 0;left: 50%;z-index: -1;}#sk-container-id-1 div.sk-parallel-item {display: flex;flex-direction: column;z-index: 1;position: relative;background-color: white;}#sk-container-id-1 div.sk-parallel-item:first-child::after {align-self: flex-end;width: 50%;}#sk-container-id-1 div.sk-parallel-item:last-child::after {align-self: flex-start;width: 50%;}#sk-container-id-1 div.sk-parallel-item:only-child::after {width: 0;}#sk-container-id-1 div.sk-dashed-wrapped {border: 1px dashed gray;margin: 0 0.4em 0.5em 0.4em;box-sizing: border-box;padding-bottom: 0.4em;background-color: white;}#sk-container-id-1 div.sk-label label {font-family: monospace;font-weight: bold;display: inline-block;line-height: 1.2em;}#sk-container-id-1 div.sk-label-container {text-align: center;}#sk-container-id-1 div.sk-container {/* jupyter's `normalize.less` sets `[hidden] { display: none; }` but bootstrap.min.css set `[hidden] { display: none !important; }` so we also need the `!important` here to be able to override the default hidden behavior on the sphinx rendered scikit-learn.org. See: https://github.com/scikit-learn/scikit-learn/issues/21755 */display: inline-block !important;position: relative;}#sk-container-id-1 div.sk-text-repr-fallback {display: none;}</style><div id=\"sk-container-id-1\" class=\"sk-top-container\"><div class=\"sk-text-repr-fallback\"><pre>Pipeline(steps=[(&#x27;ohe_ct&#x27;,\n",
       "                 ColumnTransformer(remainder=&#x27;passthrough&#x27;,\n",
       "                                   transformers=[(&#x27;ohe&#x27;,\n",
       "                                                  OneHotEncoder(drop=&#x27;first&#x27;),\n",
       "                                                  [0, 1, 2, 3])])),\n",
       "                (&#x27;scale&#x27;, StandardScaler())])</pre><b>In a Jupyter environment, please rerun this cell to show the HTML representation or trust the notebook. <br />On GitHub, the HTML representation is unable to render, please try loading this page with nbviewer.org.</b></div><div class=\"sk-container\" hidden><div class=\"sk-item sk-dashed-wrapped\"><div class=\"sk-label-container\"><div class=\"sk-label sk-toggleable\"><input class=\"sk-toggleable__control sk-hidden--visually\" id=\"sk-estimator-id-1\" type=\"checkbox\" ><label for=\"sk-estimator-id-1\" class=\"sk-toggleable__label sk-toggleable__label-arrow\">Pipeline</label><div class=\"sk-toggleable__content\"><pre>Pipeline(steps=[(&#x27;ohe_ct&#x27;,\n",
       "                 ColumnTransformer(remainder=&#x27;passthrough&#x27;,\n",
       "                                   transformers=[(&#x27;ohe&#x27;,\n",
       "                                                  OneHotEncoder(drop=&#x27;first&#x27;),\n",
       "                                                  [0, 1, 2, 3])])),\n",
       "                (&#x27;scale&#x27;, StandardScaler())])</pre></div></div></div><div class=\"sk-serial\"><div class=\"sk-item sk-dashed-wrapped\"><div class=\"sk-label-container\"><div class=\"sk-label sk-toggleable\"><input class=\"sk-toggleable__control sk-hidden--visually\" id=\"sk-estimator-id-2\" type=\"checkbox\" ><label for=\"sk-estimator-id-2\" class=\"sk-toggleable__label sk-toggleable__label-arrow\">ohe_ct: ColumnTransformer</label><div class=\"sk-toggleable__content\"><pre>ColumnTransformer(remainder=&#x27;passthrough&#x27;,\n",
       "                  transformers=[(&#x27;ohe&#x27;, OneHotEncoder(drop=&#x27;first&#x27;),\n",
       "                                 [0, 1, 2, 3])])</pre></div></div></div><div class=\"sk-parallel\"><div class=\"sk-parallel-item\"><div class=\"sk-item\"><div class=\"sk-label-container\"><div class=\"sk-label sk-toggleable\"><input class=\"sk-toggleable__control sk-hidden--visually\" id=\"sk-estimator-id-3\" type=\"checkbox\" ><label for=\"sk-estimator-id-3\" class=\"sk-toggleable__label sk-toggleable__label-arrow\">ohe</label><div class=\"sk-toggleable__content\"><pre>[0, 1, 2, 3]</pre></div></div></div><div class=\"sk-serial\"><div class=\"sk-item\"><div class=\"sk-estimator sk-toggleable\"><input class=\"sk-toggleable__control sk-hidden--visually\" id=\"sk-estimator-id-4\" type=\"checkbox\" ><label for=\"sk-estimator-id-4\" class=\"sk-toggleable__label sk-toggleable__label-arrow\">OneHotEncoder</label><div class=\"sk-toggleable__content\"><pre>OneHotEncoder(drop=&#x27;first&#x27;)</pre></div></div></div></div></div></div><div class=\"sk-parallel-item\"><div class=\"sk-item\"><div class=\"sk-label-container\"><div class=\"sk-label sk-toggleable\"><input class=\"sk-toggleable__control sk-hidden--visually\" id=\"sk-estimator-id-5\" type=\"checkbox\" ><label for=\"sk-estimator-id-5\" class=\"sk-toggleable__label sk-toggleable__label-arrow\">remainder</label><div class=\"sk-toggleable__content\"><pre></pre></div></div></div><div class=\"sk-serial\"><div class=\"sk-item\"><div class=\"sk-estimator sk-toggleable\"><input class=\"sk-toggleable__control sk-hidden--visually\" id=\"sk-estimator-id-6\" type=\"checkbox\" ><label for=\"sk-estimator-id-6\" class=\"sk-toggleable__label sk-toggleable__label-arrow\">passthrough</label><div class=\"sk-toggleable__content\"><pre>passthrough</pre></div></div></div></div></div></div></div></div><div class=\"sk-item\"><div class=\"sk-estimator sk-toggleable\"><input class=\"sk-toggleable__control sk-hidden--visually\" id=\"sk-estimator-id-7\" type=\"checkbox\" ><label for=\"sk-estimator-id-7\" class=\"sk-toggleable__label sk-toggleable__label-arrow\">StandardScaler</label><div class=\"sk-toggleable__content\"><pre>StandardScaler()</pre></div></div></div></div></div></div></div>"
      ],
      "text/plain": [
       "Pipeline(steps=[('ohe_ct',\n",
       "                 ColumnTransformer(remainder='passthrough',\n",
       "                                   transformers=[('ohe',\n",
       "                                                  OneHotEncoder(drop='first'),\n",
       "                                                  [0, 1, 2, 3])])),\n",
       "                ('scale', StandardScaler())])"
      ]
     },
     "execution_count": 37,
     "metadata": {},
     "output_type": "execute_result"
    }
   ],
   "source": [
    "# Tratamento\n",
    "\n",
    "ohe = OneHotEncoder(drop='first')\n",
    "ohe_ct = ColumnTransformer(transformers=[('ohe', ohe, [0,1,2,3])], remainder='passthrough')\n",
    "std_scaler = StandardScaler()\n",
    "tr_pipeline = Pipeline([('ohe_ct', ohe_ct), ('scale', std_scaler)])\n",
    "\n",
    "tr_pipeline"
   ]
  },
  {
   "cell_type": "code",
   "execution_count": 38,
   "id": "0735ffb6",
   "metadata": {
    "ExecuteTime": {
     "end_time": "2023-03-13T22:52:12.801972Z",
     "start_time": "2023-03-13T22:52:12.489935Z"
    }
   },
   "outputs": [],
   "source": [
    "X_train_tr = tr_pipeline.fit_transform(X_train)\n",
    "X_val_tr = tr_pipeline.transform(X_val)"
   ]
  },
  {
   "cell_type": "code",
   "execution_count": 68,
   "id": "faa4bf0f",
   "metadata": {
    "ExecuteTime": {
     "end_time": "2023-03-13T23:04:40.627145Z",
     "start_time": "2023-03-13T23:04:09.683018Z"
    }
   },
   "outputs": [
    {
     "data": {
      "text/plain": [
       "1973.1987246135177"
      ]
     },
     "execution_count": 68,
     "metadata": {},
     "output_type": "execute_result"
    }
   ],
   "source": [
    "from sklearn.ensemble import RandomForestRegressor\n",
    "\n",
    "forest_reg = RandomForestRegressor(random_state=42,\n",
    "                                  n_jobs=-1)\n",
    "\n",
    "forest_reg.fit(X_train_tr, y_train)\n",
    "y_pred = forest_reg.predict(X_val_tr)\n",
    "\n",
    "np.sqrt(mean_squared_error(y_val, y_pred))"
   ]
  },
  {
   "cell_type": "markdown",
   "id": "a30479e0",
   "metadata": {},
   "source": [
    "## Análises do erro"
   ]
  },
  {
   "cell_type": "code",
   "execution_count": 92,
   "id": "152ab6e7",
   "metadata": {
    "ExecuteTime": {
     "end_time": "2023-03-13T23:21:24.127096Z",
     "start_time": "2023-03-13T23:21:23.870688Z"
    }
   },
   "outputs": [
    {
     "data": {
      "image/png": "[encoded data removed]",
      "text/plain": [
       "<Figure size 432x288 with 1 Axes>"
      ]
     },
     "metadata": {
      "needs_background": "light"
     },
     "output_type": "display_data"
    }
   ],
   "source": [
    "plt.hist(np.log(y_pred),alpha=0.8, label='pred')\n",
    "plt.hist(np.log(y_val),alpha=0.8, label='true')\n",
    "plt.legend()\n",
    "plt.show()"
   ]
  },
  {
   "cell_type": "code",
   "execution_count": 94,
   "id": "76837bbb",
   "metadata": {
    "ExecuteTime": {
     "end_time": "2023-03-13T23:24:23.627486Z",
     "start_time": "2023-03-13T23:24:23.612203Z"
    }
   },
   "outputs": [
    {
     "data": {
      "text/plain": [
       "count    10000.000000\n",
       "mean      1134.574542\n",
       "std       1825.930327\n",
       "min         90.460000\n",
       "25%        362.788417\n",
       "50%        630.575179\n",
       "75%       1218.039792\n",
       "max      74298.870000\n",
       "dtype: float64"
      ]
     },
     "execution_count": 94,
     "metadata": {},
     "output_type": "execute_result"
    }
   ],
   "source": [
    "pd.Series(y_pred).describe()"
   ]
  },
  {
   "cell_type": "code",
   "execution_count": 95,
   "id": "66f8ed5c",
   "metadata": {
    "ExecuteTime": {
     "end_time": "2023-03-13T23:24:34.620614Z",
     "start_time": "2023-03-13T23:24:34.596460Z"
    }
   },
   "outputs": [
    {
     "data": {
      "text/plain": [
       "count     80000.000000\n",
       "mean       1098.857387\n",
       "std        2491.444151\n",
       "min           5.000000\n",
       "25%         288.750000\n",
       "50%         515.000000\n",
       "75%        1100.000000\n",
       "max      219600.000000\n",
       "Name: rendimento, dtype: float64"
      ]
     },
     "execution_count": 95,
     "metadata": {},
     "output_type": "execute_result"
    }
   ],
   "source": [
    "y_train.describe()"
   ]
  },
  {
   "cell_type": "markdown",
   "id": "21e44cde",
   "metadata": {},
   "source": [
    "# Tratamento dos dados"
   ]
  },
  {
   "cell_type": "markdown",
   "id": "746e3fa1",
   "metadata": {},
   "source": [
    "## Tratamento de outliers"
   ]
  },
  {
   "cell_type": "code",
   "execution_count": 145,
   "id": "6bac1612",
   "metadata": {
    "ExecuteTime": {
     "end_time": "2023-03-14T00:09:19.195136Z",
     "start_time": "2023-03-14T00:08:51.449998Z"
    }
   },
   "outputs": [
    {
     "data": {
      "text/plain": [
       "1890.4785878541818"
      ]
     },
     "execution_count": 145,
     "metadata": {},
     "output_type": "execute_result"
    }
   ],
   "source": [
    "# Método tradicional\n",
    "\n",
    "y_train_tr = y_train.copy()\n",
    "\n",
    "Q1 = np.percentile(y_train, 25)\n",
    "Q3 = np.percentile(y_train, 75)\n",
    "\n",
    "iqr = Q3 - Q1\n",
    "\n",
    "upper_bound = iqr + (1.5 * iqr)\n",
    "lower_bound = iqr - (1.5 * iqr)\n",
    "\n",
    "y_train_tr.loc[y_train > upper_bound] = upper_bound\n",
    "y_train_tr.loc[y_train < lower_bound] = lower_bound\n",
    "\n",
    "forest_reg = RandomForestRegressor(random_state=42,\n",
    "                                   n_jobs=-1)\n",
    "\n",
    "forest_reg.fit(X_train_tr, np.log(y_train_tr))\n",
    "y_pred = forest_reg.predict(X_val_tr)\n",
    "\n",
    "print('RMSE: ,' np.sqrt(mean_squared_error(y_val, np.exp(y_pred))))"
   ]
  },
  {
   "cell_type": "code",
   "execution_count": 227,
   "id": "31fd3d0b",
   "metadata": {
    "ExecuteTime": {
     "end_time": "2023-03-14T00:57:51.504658Z",
     "start_time": "2023-03-14T00:57:51.211943Z"
    }
   },
   "outputs": [
    {
     "data": {
      "image/png": "[encoded data removed]",
      "text/plain": [
       "<Figure size 432x288 with 1 Axes>"
      ]
     },
     "metadata": {
      "needs_background": "light"
     },
     "output_type": "display_data"
    }
   ],
   "source": [
    "# Método alternativo\n",
    "\n",
    "y_train_tr = y_train.copy()\n",
    "\n",
    "upper_bound = np.percentile(y_train_tr, 99)\n",
    "lower_bound = np.percentile(y_train_tr, 1)\n",
    "\n",
    "y_train_tr.loc[y_train > upper_bound] = upper_bound\n",
    "y_train_tr.loc[y_train < lower_bound] = lower_bound\n",
    "\n",
    "plt.hist(np.log(y_train_tr), bins=50)\n",
    "plt.show()"
   ]
  },
  {
   "cell_type": "code",
   "execution_count": 153,
   "id": "53287164",
   "metadata": {
    "ExecuteTime": {
     "end_time": "2023-03-14T00:10:32.160443Z",
     "start_time": "2023-03-14T00:10:05.330690Z"
    }
   },
   "outputs": [
    {
     "data": {
      "text/plain": [
       "1660.1011618429998"
      ]
     },
     "execution_count": 153,
     "metadata": {},
     "output_type": "execute_result"
    }
   ],
   "source": [
    "forest_reg = RandomForestRegressor(random_state=42,\n",
    "                                   n_jobs=-1)\n",
    "\n",
    "forest_reg.fit(X_train_tr, np.log(y_train_tr))\n",
    "y_pred = forest_reg.predict(X_val_tr)\n",
    "\n",
    "np.sqrt(mean_squared_error(y_val, np.exp(y_pred)))"
   ]
  },
  {
   "cell_type": "code",
   "execution_count": 156,
   "id": "444eb7b2",
   "metadata": {
    "ExecuteTime": {
     "end_time": "2023-03-14T00:13:23.813798Z",
     "start_time": "2023-03-14T00:13:23.799647Z"
    }
   },
   "outputs": [
    {
     "data": {
      "text/plain": [
       "count    10000.000000\n",
       "mean       842.727953\n",
       "std        978.075088\n",
       "min         75.257229\n",
       "25%        294.254292\n",
       "50%        512.641658\n",
       "75%        955.579786\n",
       "max       8476.242914\n",
       "dtype: float64"
      ]
     },
     "execution_count": 156,
     "metadata": {},
     "output_type": "execute_result"
    }
   ],
   "source": [
    "pd.Series(np.exp(y_pred)).describe()"
   ]
  },
  {
   "cell_type": "code",
   "execution_count": 157,
   "id": "776248e7",
   "metadata": {
    "ExecuteTime": {
     "end_time": "2023-03-14T00:13:26.334389Z",
     "start_time": "2023-03-14T00:13:26.318773Z"
    }
   },
   "outputs": [
    {
     "data": {
      "text/plain": [
       "count     80000.000000\n",
       "mean       1098.857387\n",
       "std        2491.444151\n",
       "min           5.000000\n",
       "25%         288.750000\n",
       "50%         515.000000\n",
       "75%        1100.000000\n",
       "max      219600.000000\n",
       "Name: rendimento, dtype: float64"
      ]
     },
     "execution_count": 157,
     "metadata": {},
     "output_type": "execute_result"
    }
   ],
   "source": [
    "y_train.describe()"
   ]
  },
  {
   "cell_type": "markdown",
   "id": "88e0de86",
   "metadata": {},
   "source": [
    "## Feature engineering"
   ]
  },
  {
   "cell_type": "code",
   "execution_count": 169,
   "id": "c42f39d2",
   "metadata": {
    "ExecuteTime": {
     "end_time": "2023-03-14T00:19:47.788492Z",
     "start_time": "2023-03-14T00:19:47.780030Z"
    }
   },
   "outputs": [],
   "source": [
    "X_train_feature = X_train.copy()\n",
    "X_val_feature = X_val.copy()"
   ]
  },
  {
   "cell_type": "code",
   "execution_count": 172,
   "id": "77614024",
   "metadata": {
    "ExecuteTime": {
     "end_time": "2023-03-14T00:20:47.091078Z",
     "start_time": "2023-03-14T00:20:47.080481Z"
    }
   },
   "outputs": [],
   "source": [
    "X_train_feature['moradores_por_comodo'] = X_train['moradores'] / X_train['comodos']\n",
    "X_train_feature['moradores_por_dormitorio'] = X_train['moradores'] / X_train['dormitorios']\n",
    "\n",
    "X_val_feature['moradores_por_comodo'] = X_val['moradores'] / X_val['comodos']\n",
    "X_val_feature['moradores_por_dormitorio'] = X_val['moradores'] / X_val['dormitorios']"
   ]
  },
  {
   "cell_type": "code",
   "execution_count": 173,
   "id": "8d680af0",
   "metadata": {
    "ExecuteTime": {
     "end_time": "2023-03-14T00:20:48.524936Z",
     "start_time": "2023-03-14T00:20:48.252469Z"
    }
   },
   "outputs": [],
   "source": [
    "X_train_feature_tr = tr_pipeline.fit_transform(X_train_feature)\n",
    "X_val_feature_tr = tr_pipeline.transform(X_val_feature)"
   ]
  },
  {
   "cell_type": "code",
   "execution_count": 175,
   "id": "ec92a1f1",
   "metadata": {
    "ExecuteTime": {
     "end_time": "2023-03-14T00:22:30.408995Z",
     "start_time": "2023-03-14T00:21:54.087926Z"
    }
   },
   "outputs": [
    {
     "data": {
      "text/plain": [
       "1663.5571300900015"
      ]
     },
     "execution_count": 175,
     "metadata": {},
     "output_type": "execute_result"
    }
   ],
   "source": [
    "forest_reg = RandomForestRegressor(random_state=42,\n",
    "                                   n_jobs=-1)\n",
    "\n",
    "forest_reg.fit(X_train_feature_tr, np.log(y_train_tr))\n",
    "y_pred = forest_reg.predict(X_val_feature_tr)\n",
    "\n",
    "np.sqrt(mean_squared_error(y_val, np.exp(y_pred)))"
   ]
  },
  {
   "cell_type": "markdown",
   "id": "27fa58c7",
   "metadata": {},
   "source": [
    "# Treinando modelos"
   ]
  },
  {
   "cell_type": "code",
   "execution_count": 235,
   "id": "9fd2b4b9",
   "metadata": {
    "ExecuteTime": {
     "end_time": "2023-03-14T01:00:57.348927Z",
     "start_time": "2023-03-14T00:59:50.010250Z"
    }
   },
   "outputs": [
    {
     "name": "stdout",
     "output_type": "stream",
     "text": [
      "RMSE:  1664.148504309361\n"
     ]
    }
   ],
   "source": [
    "forest_reg = RandomForestRegressor(n_estimators=200,\n",
    "                                   random_state=42,\n",
    "                                   n_jobs=-1)\n",
    "\n",
    "forest_reg.fit(X_train_feature_tr, np.log(y_train_tr))\n",
    "y_pred = forest_reg.predict(X_val_feature_tr)\n",
    "\n",
    "print('RMSE: ', np.sqrt(mean_squared_error(y_val, np.exp(y_pred))))"
   ]
  },
  {
   "cell_type": "code",
   "execution_count": 182,
   "id": "09f7aefe",
   "metadata": {
    "ExecuteTime": {
     "end_time": "2023-03-14T00:36:35.552444Z",
     "start_time": "2023-03-14T00:33:52.905248Z"
    }
   },
   "outputs": [
    {
     "name": "stdout",
     "output_type": "stream",
     "text": [
      "RMSE:  1633.107952790717\n"
     ]
    }
   ],
   "source": [
    "from xgboost import XGBRegressor\n",
    "\n",
    "xgb_reg = XGBRegressor(n_estimators=1000,\n",
    "                       learning_rate=0.02,\n",
    "                       n_jobs=-1,\n",
    "                       random_state=42)\n",
    "\n",
    "xgb_reg.fit(X_train_feature_tr, np.log(y_train_tr))\n",
    "y_pred = xgb_reg.predict(X_val_feature_tr)\n",
    "\n",
    "print('RMSE: ', np.sqrt(mean_squared_error(y_val, np.exp(y_pred))))"
   ]
  },
  {
   "cell_type": "code",
   "execution_count": 230,
   "id": "939ab727",
   "metadata": {
    "ExecuteTime": {
     "end_time": "2023-03-14T00:58:36.165628Z",
     "start_time": "2023-03-14T00:58:33.578306Z"
    }
   },
   "outputs": [
    {
     "name": "stdout",
     "output_type": "stream",
     "text": [
      "RMSE:  1635.1203069614583\n"
     ]
    }
   ],
   "source": [
    "# LGBM\n",
    "\n",
    "# !pip install lightgbm\n",
    "\n",
    "from lightgbm import LGBMRegressor\n",
    "\n",
    "lgbm_reg = LGBMRegressor(n_estimators=500, \n",
    "                         learning_rate=0.05,\n",
    "                         min_child_samples=50,\n",
    "                         n_jobs=-1, \n",
    "                         random_state=42)\n",
    "\n",
    "lgbm_reg.fit(X_train_feature_tr, np.log(y_train_tr))\n",
    "y_pred = lgbm_reg.predict(X_val_feature_tr)\n",
    "\n",
    "print('RMSE: ', np.sqrt(mean_squared_error(y_val, np.exp(y_pred))))"
   ]
  },
  {
   "cell_type": "code",
   "execution_count": 238,
   "id": "470df07c",
   "metadata": {
    "ExecuteTime": {
     "end_time": "2023-03-14T01:27:25.674719Z",
     "start_time": "2023-03-14T01:27:24.735886Z"
    }
   },
   "outputs": [
    {
     "name": "stdout",
     "output_type": "stream",
     "text": [
      "RMSE:  1637.4976145807013\n"
     ]
    }
   ],
   "source": [
    "# LGBM\n",
    "\n",
    "# !pip install lightgbm\n",
    "\n",
    "from lightgbm import LGBMRegressor\n",
    "\n",
    "lgbm_reg = LGBMRegressor(n_jobs=-1, \n",
    "                         random_state=42)\n",
    "\n",
    "lgbm_reg.fit(X_train_feature_tr, np.log(y_train_tr))\n",
    "y_pred = lgbm_reg.predict(X_val_feature_tr)\n",
    "\n",
    "print('RMSE: ', np.sqrt(mean_squared_error(y_val, np.exp(y_pred))))"
   ]
  },
  {
   "cell_type": "code",
   "execution_count": 237,
   "id": "b376533b",
   "metadata": {
    "ExecuteTime": {
     "end_time": "2023-03-14T01:10:53.421523Z",
     "start_time": "2023-03-14T01:10:53.398712Z"
    }
   },
   "outputs": [
    {
     "name": "stdout",
     "output_type": "stream",
     "text": [
      "MAE:  546.5522087718854\n"
     ]
    }
   ],
   "source": [
    "from sklearn.metrics import mean_absolute_error\n",
    "\n",
    "print('MAE: ', mean_absolute_error(y_val, np.exp(y_pred)))"
   ]
  },
  {
   "cell_type": "code",
   "execution_count": null,
   "id": "16e26c2f",
   "metadata": {},
   "outputs": [],
   "source": []
  }
 ],
 "metadata": {
  "kernelspec": {
   "display_name": "Python 3",
   "language": "python",
   "name": "python3"
  },
  "language_info": {
   "codemirror_mode": {
    "name": "ipython",
    "version": 3
   },
   "file_extension": ".py",
   "mimetype": "text/x-python",
   "name": "python",
   "nbconvert_exporter": "python",
   "pygments_lexer": "ipython3",
   "version": "3.8.10"
  },
  "varInspector": {
   "cols": {
    "lenName": 16,
    "lenType": 16,
    "lenVar": 40
   },
   "kernels_config": {
    "python": {
     "delete_cmd_postfix": "",
     "delete_cmd_prefix": "del ",
     "library": "var_list.py",
     "varRefreshCmd": "print(var_dic_list())"
    },
    "r": {
     "delete_cmd_postfix": ") ",
     "delete_cmd_prefix": "rm(",
     "library": "var_list.r",
     "varRefreshCmd": "cat(var_dic_list()) "
    }
   },
   "types_to_exclude": [
    "module",
    "function",
    "builtin_function_or_method",
    "instance",
    "_Feature"
   ],
   "window_display": false
  }
 },
 "nbformat": 4,
 "nbformat_minor": 5
}
