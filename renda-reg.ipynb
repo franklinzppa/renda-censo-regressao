{
 "cells": [
  {
   "cell_type": "markdown",
   "id": "fa9d7a81",
   "metadata": {},
   "source": [
    "# Renda-Classificação"
   ]
  },
  {
   "cell_type": "markdown",
   "id": "f954935c",
   "metadata": {},
   "source": [
    "## Introdução"
   ]
  },
  {
   "cell_type": "markdown",
   "id": "0050149b",
   "metadata": {},
   "source": [
    "O objetivo desse projeto é prever a renda de um grupo familiar utilizando informações relacionadas a sua residência. Trata-se portanto de um projeto de **regressão supervisionado offline**. "
   ]
  },
  {
   "cell_type": "markdown",
   "id": "424871ad",
   "metadata": {},
   "source": [
    "## Extração dos dados"
   ]
  },
  {
   "cell_type": "markdown",
   "id": "776a8cda",
   "metadata": {},
   "source": [
    "Os dados utilizados são do **Censo 2000** realizado pelo IBGE e mantido na [Base dos Dados](https://basedosdados.org/dataset/br-ibge-censo-demografico?bdm_table=microdados_domicilio_2000). Informações sobre a metodologia do Censo e sobre a base de dados estão na pasta `materiais`. A extração será realizada utilizando SQL utilizando a API do **BigQuery**."
   ]
  },
  {
   "cell_type": "code",
   "execution_count": 68,
   "id": "6f9b3b43",
   "metadata": {
    "ExecuteTime": {
     "end_time": "2023-03-10T22:19:30.505859Z",
     "start_time": "2023-03-10T22:18:47.522417Z"
    }
   },
   "outputs": [],
   "source": [
    "# Consulta\n",
    "\n",
    "import os\n",
    "import pandas as pd\n",
    "from google.cloud import bigquery\n",
    "\n",
    "os.environ['GOOGLE_APPLICATION_CREDENTIALS'] = 'renda-censo-regressao-0d5cd82b3cac.json'\n",
    "\n",
    "client = bigquery.Client()\n",
    "\n",
    "query = \"\"\"\n",
    "        SELECT sigla_uf, id_municipio, situacao_domicilio, v0202 AS tipo_domicilio, v0205 AS condicao_domicilio, v0203 AS comodos, v0209 AS banheiros, v0207 AS agua, v0213 AS iluminacao, v0214 AS radio, v0215 AS geladeira, v0216 AS videocassete, v0217 AS maquina_lavar, v0218 AS microondas, v0219 as telefone, v0220 as computador, v0221 as televisores, v0222 as automoveis, v0223 as ar_condicionado, v7100 as iluminacao_publica, v1113 as pavimentacao, v0212 AS coleta_lixo, v0211 AS esgotamento, v7204 AS morador_dormitorio, v7100 AS moradores, v0110 AS homens, v0111 AS mulheres, v7616 AS rendimento\n",
    "        FROM `basedosdados.br_ibge_censo_demografico.microdados_domicilio_2000`\n",
    "        WHERE (v7616 IS NOT NULL) AND (v7616 > 0) AND v0201 = 1\n",
    "        ORDER BY RAND() \n",
    "        LIMIT 100000;\n",
    "        \"\"\"\n",
    "\n",
    "df_raw = client.query(query).to_dataframe()\n",
    "df_raw.to_csv('data/df_raw.csv', index=False)"
   ]
  },
  {
   "cell_type": "code",
   "execution_count": 69,
   "id": "a2d79893",
   "metadata": {
    "ExecuteTime": {
     "end_time": "2023-03-10T22:19:30.774896Z",
     "start_time": "2023-03-10T22:19:30.727478Z"
    }
   },
   "outputs": [
    {
     "data": {
      "text/html": [
       "<div>\n",
       "<style scoped>\n",
       "    .dataframe tbody tr th:only-of-type {\n",
       "        vertical-align: middle;\n",
       "    }\n",
       "\n",
       "    .dataframe tbody tr th {\n",
       "        vertical-align: top;\n",
       "    }\n",
       "\n",
       "    .dataframe thead th {\n",
       "        text-align: right;\n",
       "    }\n",
       "</style>\n",
       "<table border=\"1\" class=\"dataframe\">\n",
       "  <thead>\n",
       "    <tr style=\"text-align: right;\">\n",
       "      <th></th>\n",
       "      <th>sigla_uf</th>\n",
       "      <th>id_municipio</th>\n",
       "      <th>situacao_domicilio</th>\n",
       "      <th>tipo_domicilio</th>\n",
       "      <th>condicao_domicilio</th>\n",
       "      <th>comodos</th>\n",
       "      <th>banheiros</th>\n",
       "      <th>agua</th>\n",
       "      <th>iluminacao</th>\n",
       "      <th>radio</th>\n",
       "      <th>...</th>\n",
       "      <th>ar_condicionado</th>\n",
       "      <th>iluminacao_publica</th>\n",
       "      <th>pavimentacao</th>\n",
       "      <th>coleta_lixo</th>\n",
       "      <th>esgotamento</th>\n",
       "      <th>morador_dormitorio</th>\n",
       "      <th>moradores</th>\n",
       "      <th>homens</th>\n",
       "      <th>mulheres</th>\n",
       "      <th>rendimento</th>\n",
       "    </tr>\n",
       "  </thead>\n",
       "  <tbody>\n",
       "    <tr>\n",
       "      <th>0</th>\n",
       "      <td>SC</td>\n",
       "      <td>4208005</td>\n",
       "      <td>1</td>\n",
       "      <td>1</td>\n",
       "      <td>1</td>\n",
       "      <td>9</td>\n",
       "      <td>2</td>\n",
       "      <td>1</td>\n",
       "      <td>1</td>\n",
       "      <td>1</td>\n",
       "      <td>...</td>\n",
       "      <td>0</td>\n",
       "      <td>7</td>\n",
       "      <td>&lt;NA&gt;</td>\n",
       "      <td>1</td>\n",
       "      <td>1</td>\n",
       "      <td>1.8</td>\n",
       "      <td>7</td>\n",
       "      <td>4</td>\n",
       "      <td>3</td>\n",
       "      <td>3630</td>\n",
       "    </tr>\n",
       "    <tr>\n",
       "      <th>1</th>\n",
       "      <td>SP</td>\n",
       "      <td>3509502</td>\n",
       "      <td>1</td>\n",
       "      <td>2</td>\n",
       "      <td>1</td>\n",
       "      <td>3</td>\n",
       "      <td>1</td>\n",
       "      <td>1</td>\n",
       "      <td>1</td>\n",
       "      <td>1</td>\n",
       "      <td>...</td>\n",
       "      <td>0</td>\n",
       "      <td>1</td>\n",
       "      <td>1</td>\n",
       "      <td>1</td>\n",
       "      <td>1</td>\n",
       "      <td>1.0</td>\n",
       "      <td>1</td>\n",
       "      <td>0</td>\n",
       "      <td>1</td>\n",
       "      <td>623</td>\n",
       "    </tr>\n",
       "    <tr>\n",
       "      <th>2</th>\n",
       "      <td>BA</td>\n",
       "      <td>2914703</td>\n",
       "      <td>1</td>\n",
       "      <td>1</td>\n",
       "      <td>1</td>\n",
       "      <td>5</td>\n",
       "      <td>1</td>\n",
       "      <td>1</td>\n",
       "      <td>1</td>\n",
       "      <td>1</td>\n",
       "      <td>...</td>\n",
       "      <td>0</td>\n",
       "      <td>3</td>\n",
       "      <td>3</td>\n",
       "      <td>1</td>\n",
       "      <td>3</td>\n",
       "      <td>1.5</td>\n",
       "      <td>3</td>\n",
       "      <td>2</td>\n",
       "      <td>1</td>\n",
       "      <td>502</td>\n",
       "    </tr>\n",
       "    <tr>\n",
       "      <th>3</th>\n",
       "      <td>DF</td>\n",
       "      <td>5300108</td>\n",
       "      <td>1</td>\n",
       "      <td>1</td>\n",
       "      <td>2</td>\n",
       "      <td>5</td>\n",
       "      <td>1</td>\n",
       "      <td>1</td>\n",
       "      <td>1</td>\n",
       "      <td>2</td>\n",
       "      <td>...</td>\n",
       "      <td>0</td>\n",
       "      <td>2</td>\n",
       "      <td>1</td>\n",
       "      <td>1</td>\n",
       "      <td>1</td>\n",
       "      <td>1.0</td>\n",
       "      <td>2</td>\n",
       "      <td>1</td>\n",
       "      <td>1</td>\n",
       "      <td>300</td>\n",
       "    </tr>\n",
       "    <tr>\n",
       "      <th>4</th>\n",
       "      <td>MA</td>\n",
       "      <td>2105153</td>\n",
       "      <td>1</td>\n",
       "      <td>1</td>\n",
       "      <td>1</td>\n",
       "      <td>4</td>\n",
       "      <td>0</td>\n",
       "      <td>1</td>\n",
       "      <td>1</td>\n",
       "      <td>1</td>\n",
       "      <td>...</td>\n",
       "      <td>0</td>\n",
       "      <td>5</td>\n",
       "      <td>3</td>\n",
       "      <td>3</td>\n",
       "      <td>&lt;NA&gt;</td>\n",
       "      <td>2.5</td>\n",
       "      <td>5</td>\n",
       "      <td>1</td>\n",
       "      <td>4</td>\n",
       "      <td>200</td>\n",
       "    </tr>\n",
       "  </tbody>\n",
       "</table>\n",
       "<p>5 rows × 28 columns</p>\n",
       "</div>"
      ],
      "text/plain": [
       "  sigla_uf id_municipio  situacao_domicilio  tipo_domicilio  \\\n",
       "0       SC      4208005                   1               1   \n",
       "1       SP      3509502                   1               2   \n",
       "2       BA      2914703                   1               1   \n",
       "3       DF      5300108                   1               1   \n",
       "4       MA      2105153                   1               1   \n",
       "\n",
       "   condicao_domicilio  comodos  banheiros  agua  iluminacao  radio  ...  \\\n",
       "0                   1        9          2     1           1      1  ...   \n",
       "1                   1        3          1     1           1      1  ...   \n",
       "2                   1        5          1     1           1      1  ...   \n",
       "3                   2        5          1     1           1      2  ...   \n",
       "4                   1        4          0     1           1      1  ...   \n",
       "\n",
       "   ar_condicionado  iluminacao_publica  pavimentacao  coleta_lixo  \\\n",
       "0                0                   7          <NA>            1   \n",
       "1                0                   1             1            1   \n",
       "2                0                   3             3            1   \n",
       "3                0                   2             1            1   \n",
       "4                0                   5             3            3   \n",
       "\n",
       "   esgotamento  morador_dormitorio  moradores  homens  mulheres  rendimento  \n",
       "0            1                 1.8          7       4         3        3630  \n",
       "1            1                 1.0          1       0         1         623  \n",
       "2            3                 1.5          3       2         1         502  \n",
       "3            1                 1.0          2       1         1         300  \n",
       "4         <NA>                 2.5          5       1         4         200  \n",
       "\n",
       "[5 rows x 28 columns]"
      ]
     },
     "execution_count": 69,
     "metadata": {},
     "output_type": "execute_result"
    }
   ],
   "source": [
    "df_raw.head()"
   ]
  },
  {
   "cell_type": "code",
   "execution_count": 70,
   "id": "64fabd0b",
   "metadata": {
    "ExecuteTime": {
     "end_time": "2023-03-10T22:19:31.064724Z",
     "start_time": "2023-03-10T22:19:30.976590Z"
    },
    "scrolled": false
   },
   "outputs": [
    {
     "data": {
      "text/plain": [
       "sigla_uf                 0\n",
       "id_municipio             0\n",
       "situacao_domicilio       0\n",
       "tipo_domicilio           0\n",
       "condicao_domicilio       0\n",
       "comodos                  0\n",
       "banheiros                0\n",
       "agua                     0\n",
       "iluminacao               0\n",
       "radio                    0\n",
       "geladeira                0\n",
       "videocassete             0\n",
       "maquina_lavar            0\n",
       "microondas               0\n",
       "telefone                 0\n",
       "computador               0\n",
       "televisores              0\n",
       "automoveis               0\n",
       "ar_condicionado          0\n",
       "iluminacao_publica       0\n",
       "pavimentacao          8050\n",
       "coleta_lixo              0\n",
       "esgotamento           8530\n",
       "morador_dormitorio       0\n",
       "moradores                0\n",
       "homens                   0\n",
       "mulheres                 0\n",
       "rendimento               0\n",
       "dtype: int64"
      ]
     },
     "execution_count": 70,
     "metadata": {},
     "output_type": "execute_result"
    }
   ],
   "source": [
    "df_raw.isna().sum()"
   ]
  },
  {
   "cell_type": "code",
   "execution_count": 71,
   "id": "03b83357",
   "metadata": {
    "ExecuteTime": {
     "end_time": "2023-03-10T22:20:07.961793Z",
     "start_time": "2023-03-10T22:20:07.946867Z"
    }
   },
   "outputs": [
    {
     "data": {
      "text/plain": [
       "(100000, 28)"
      ]
     },
     "execution_count": 71,
     "metadata": {},
     "output_type": "execute_result"
    }
   ],
   "source": [
    "df_raw.shape"
   ]
  },
  {
   "cell_type": "markdown",
   "id": "cb2e3beb",
   "metadata": {},
   "source": [
    "## Colunas"
   ]
  },
  {
   "cell_type": "markdown",
   "id": "3d7c307c",
   "metadata": {},
   "source": [
    "Coluna       | Tipo  | Descrição\n",
    "-------------|-------|-------------------------------\n",
    "sigla_uf     |str    | Sigla da Unidade da Federação\n",
    "id_municipio |str    | ID de 7 dígitos do IBGE\n",
    "situacao_domicilio | int64 |"
   ]
  },
  {
   "cell_type": "code",
   "execution_count": 1,
   "id": "a5d9d10d",
   "metadata": {
    "ExecuteTime": {
     "end_time": "2023-02-20T15:37:51.670576Z",
     "start_time": "2023-02-20T15:37:51.667150Z"
    }
   },
   "outputs": [],
   "source": [
    "# sigla_uf\tSTRING\tSigla da Unidade da Federação\n",
    "# id_municipio\tSTRING\tID Município - IBGE 7 Dígitos\n",
    "# situacao_domicilio\tINT64\tSituação do domicílio\n",
    "# v0110\tINT64\tTotal de homens\n",
    "# v0111\tINT64\tTotal de mulheres\n",
    "# v0202\tINT64\tTipo do domicílio\n",
    "# v0203\tINT64\tTotal de cômodos\n",
    "# v0205\tINT64\tCondição do domicílio\n",
    "# v0207\tINT64\tForma de abastecimento de água\n",
    "# v0209\tINT64\tTotal de banheiros\n",
    "# v0212\tINT64\tColeta de lixo\n",
    "# v0213\tINT64\tIluminação elétrica\n",
    "# v0214\tINT64\tExistência de rádio\n",
    "# v0215\tINT64\tExistência de geladeira ou freezer\n",
    "# v0216\tINT64\tExistência de videocassete\n",
    "# v0217\tINT64\tExistência de máquina de lavar roupa\n",
    "# v0218\tINT64\tExistência de forno de microondas\n",
    "# v0219\tINT64\tExistência de linha telefônica instalada\n",
    "# v0220\tINT64\tExistência de microcomputador\n",
    "# v0221\tINT64\tQuantidade existente de televisores\n",
    "# v0222\tINT64\tQuantidade existente de automóveis para uso particular\n",
    "# v0223\tINT64\tQuantidade existente de aparelhos de ar condicionado\n",
    "# v7100\tINT64\tTotal de moradores no domicílio\n",
    "# v1112\tINT64\tExistência de iluminação pública\n",
    "# v1113\tINT64\tExistência de calçamento/pavimentação\n",
    "\n",
    "# v7616\tINT64\tTotal de rendimentos do domicílio particular"
   ]
  },
  {
   "cell_type": "markdown",
   "id": "6f7b05bb",
   "metadata": {},
   "source": [
    "## Problema de negócio e avaliação do modelo"
   ]
  },
  {
   "cell_type": "code",
   "execution_count": null,
   "id": "842392f5",
   "metadata": {},
   "outputs": [],
   "source": []
  },
  {
   "cell_type": "code",
   "execution_count": null,
   "id": "d0675992",
   "metadata": {},
   "outputs": [],
   "source": []
  },
  {
   "cell_type": "code",
   "execution_count": null,
   "id": "3ef0af28",
   "metadata": {},
   "outputs": [],
   "source": []
  },
  {
   "cell_type": "markdown",
   "id": "4597c4f9",
   "metadata": {},
   "source": [
    "## Explorando os dados"
   ]
  },
  {
   "cell_type": "code",
   "execution_count": 10,
   "id": "eb647623",
   "metadata": {
    "ExecuteTime": {
     "end_time": "2023-03-10T21:20:14.211222Z",
     "start_time": "2023-03-10T21:20:12.522801Z"
    }
   },
   "outputs": [],
   "source": [
    "# Importando bibliotecas\n",
    "\n",
    "import numpy as np\n",
    "import seaborn as sns\n",
    "import matplotlib.pyplot as plt\n",
    "from sklearn.linear_model import LinearRegression\n",
    "from sklearn.model_selection import train_test_split\n",
    "from sklearn.preprocessing import OrdinalEncoder, OneHotEncoder\n",
    "from sklearn.preprocessing import StandardScaler\n",
    "from sklearn.metrics import mean_squared_error, r2_score\n",
    "from sklearn.impute import SimpleImputer\n",
    "from sklearn.pipeline import Pipeline\n",
    "from sklearn.compose import ColumnTransformer"
   ]
  },
  {
   "cell_type": "code",
   "execution_count": 95,
   "id": "1618367f",
   "metadata": {
    "ExecuteTime": {
     "end_time": "2023-03-11T00:32:54.902078Z",
     "start_time": "2023-03-11T00:32:54.616132Z"
    }
   },
   "outputs": [],
   "source": [
    "df_raw = pd.read_csv('data/df_raw.csv')"
   ]
  },
  {
   "cell_type": "code",
   "execution_count": 96,
   "id": "d541c80a",
   "metadata": {
    "ExecuteTime": {
     "end_time": "2023-03-11T00:32:55.042946Z",
     "start_time": "2023-03-11T00:32:55.015711Z"
    }
   },
   "outputs": [
    {
     "data": {
      "text/html": [
       "<div>\n",
       "<style scoped>\n",
       "    .dataframe tbody tr th:only-of-type {\n",
       "        vertical-align: middle;\n",
       "    }\n",
       "\n",
       "    .dataframe tbody tr th {\n",
       "        vertical-align: top;\n",
       "    }\n",
       "\n",
       "    .dataframe thead th {\n",
       "        text-align: right;\n",
       "    }\n",
       "</style>\n",
       "<table border=\"1\" class=\"dataframe\">\n",
       "  <thead>\n",
       "    <tr style=\"text-align: right;\">\n",
       "      <th></th>\n",
       "      <th>sigla_uf</th>\n",
       "      <th>id_municipio</th>\n",
       "      <th>situacao_domicilio</th>\n",
       "      <th>tipo_domicilio</th>\n",
       "      <th>condicao_domicilio</th>\n",
       "      <th>comodos</th>\n",
       "      <th>banheiros</th>\n",
       "      <th>agua</th>\n",
       "      <th>iluminacao</th>\n",
       "      <th>radio</th>\n",
       "      <th>...</th>\n",
       "      <th>ar_condicionado</th>\n",
       "      <th>iluminacao_publica</th>\n",
       "      <th>pavimentacao</th>\n",
       "      <th>coleta_lixo</th>\n",
       "      <th>esgotamento</th>\n",
       "      <th>morador_dormitorio</th>\n",
       "      <th>moradores</th>\n",
       "      <th>homens</th>\n",
       "      <th>mulheres</th>\n",
       "      <th>rendimento</th>\n",
       "    </tr>\n",
       "  </thead>\n",
       "  <tbody>\n",
       "    <tr>\n",
       "      <th>0</th>\n",
       "      <td>SC</td>\n",
       "      <td>4208005</td>\n",
       "      <td>1</td>\n",
       "      <td>1</td>\n",
       "      <td>1</td>\n",
       "      <td>9</td>\n",
       "      <td>2</td>\n",
       "      <td>1</td>\n",
       "      <td>1</td>\n",
       "      <td>1</td>\n",
       "      <td>...</td>\n",
       "      <td>0</td>\n",
       "      <td>7</td>\n",
       "      <td>NaN</td>\n",
       "      <td>1</td>\n",
       "      <td>1.0</td>\n",
       "      <td>1.8</td>\n",
       "      <td>7</td>\n",
       "      <td>4</td>\n",
       "      <td>3</td>\n",
       "      <td>3630</td>\n",
       "    </tr>\n",
       "    <tr>\n",
       "      <th>1</th>\n",
       "      <td>SP</td>\n",
       "      <td>3509502</td>\n",
       "      <td>1</td>\n",
       "      <td>2</td>\n",
       "      <td>1</td>\n",
       "      <td>3</td>\n",
       "      <td>1</td>\n",
       "      <td>1</td>\n",
       "      <td>1</td>\n",
       "      <td>1</td>\n",
       "      <td>...</td>\n",
       "      <td>0</td>\n",
       "      <td>1</td>\n",
       "      <td>1.0</td>\n",
       "      <td>1</td>\n",
       "      <td>1.0</td>\n",
       "      <td>1.0</td>\n",
       "      <td>1</td>\n",
       "      <td>0</td>\n",
       "      <td>1</td>\n",
       "      <td>623</td>\n",
       "    </tr>\n",
       "    <tr>\n",
       "      <th>2</th>\n",
       "      <td>BA</td>\n",
       "      <td>2914703</td>\n",
       "      <td>1</td>\n",
       "      <td>1</td>\n",
       "      <td>1</td>\n",
       "      <td>5</td>\n",
       "      <td>1</td>\n",
       "      <td>1</td>\n",
       "      <td>1</td>\n",
       "      <td>1</td>\n",
       "      <td>...</td>\n",
       "      <td>0</td>\n",
       "      <td>3</td>\n",
       "      <td>3.0</td>\n",
       "      <td>1</td>\n",
       "      <td>3.0</td>\n",
       "      <td>1.5</td>\n",
       "      <td>3</td>\n",
       "      <td>2</td>\n",
       "      <td>1</td>\n",
       "      <td>502</td>\n",
       "    </tr>\n",
       "    <tr>\n",
       "      <th>3</th>\n",
       "      <td>DF</td>\n",
       "      <td>5300108</td>\n",
       "      <td>1</td>\n",
       "      <td>1</td>\n",
       "      <td>2</td>\n",
       "      <td>5</td>\n",
       "      <td>1</td>\n",
       "      <td>1</td>\n",
       "      <td>1</td>\n",
       "      <td>2</td>\n",
       "      <td>...</td>\n",
       "      <td>0</td>\n",
       "      <td>2</td>\n",
       "      <td>1.0</td>\n",
       "      <td>1</td>\n",
       "      <td>1.0</td>\n",
       "      <td>1.0</td>\n",
       "      <td>2</td>\n",
       "      <td>1</td>\n",
       "      <td>1</td>\n",
       "      <td>300</td>\n",
       "    </tr>\n",
       "    <tr>\n",
       "      <th>4</th>\n",
       "      <td>MA</td>\n",
       "      <td>2105153</td>\n",
       "      <td>1</td>\n",
       "      <td>1</td>\n",
       "      <td>1</td>\n",
       "      <td>4</td>\n",
       "      <td>0</td>\n",
       "      <td>1</td>\n",
       "      <td>1</td>\n",
       "      <td>1</td>\n",
       "      <td>...</td>\n",
       "      <td>0</td>\n",
       "      <td>5</td>\n",
       "      <td>3.0</td>\n",
       "      <td>3</td>\n",
       "      <td>NaN</td>\n",
       "      <td>2.5</td>\n",
       "      <td>5</td>\n",
       "      <td>1</td>\n",
       "      <td>4</td>\n",
       "      <td>200</td>\n",
       "    </tr>\n",
       "  </tbody>\n",
       "</table>\n",
       "<p>5 rows × 28 columns</p>\n",
       "</div>"
      ],
      "text/plain": [
       "  sigla_uf  id_municipio  situacao_domicilio  tipo_domicilio  \\\n",
       "0       SC       4208005                   1               1   \n",
       "1       SP       3509502                   1               2   \n",
       "2       BA       2914703                   1               1   \n",
       "3       DF       5300108                   1               1   \n",
       "4       MA       2105153                   1               1   \n",
       "\n",
       "   condicao_domicilio  comodos  banheiros  agua  iluminacao  radio  ...  \\\n",
       "0                   1        9          2     1           1      1  ...   \n",
       "1                   1        3          1     1           1      1  ...   \n",
       "2                   1        5          1     1           1      1  ...   \n",
       "3                   2        5          1     1           1      2  ...   \n",
       "4                   1        4          0     1           1      1  ...   \n",
       "\n",
       "   ar_condicionado  iluminacao_publica  pavimentacao  coleta_lixo  \\\n",
       "0                0                   7           NaN            1   \n",
       "1                0                   1           1.0            1   \n",
       "2                0                   3           3.0            1   \n",
       "3                0                   2           1.0            1   \n",
       "4                0                   5           3.0            3   \n",
       "\n",
       "   esgotamento  morador_dormitorio  moradores  homens  mulheres  rendimento  \n",
       "0          1.0                 1.8          7       4         3        3630  \n",
       "1          1.0                 1.0          1       0         1         623  \n",
       "2          3.0                 1.5          3       2         1         502  \n",
       "3          1.0                 1.0          2       1         1         300  \n",
       "4          NaN                 2.5          5       1         4         200  \n",
       "\n",
       "[5 rows x 28 columns]"
      ]
     },
     "execution_count": 96,
     "metadata": {},
     "output_type": "execute_result"
    }
   ],
   "source": [
    "df_raw.head()"
   ]
  },
  {
   "cell_type": "code",
   "execution_count": 97,
   "id": "eaceb364",
   "metadata": {
    "ExecuteTime": {
     "end_time": "2023-03-11T00:32:55.211972Z",
     "start_time": "2023-03-11T00:32:55.170391Z"
    }
   },
   "outputs": [],
   "source": [
    "# Dropando NA\n",
    "\n",
    "df = df_raw.dropna()"
   ]
  },
  {
   "cell_type": "code",
   "execution_count": 98,
   "id": "bec4d25f",
   "metadata": {
    "ExecuteTime": {
     "end_time": "2023-03-11T00:32:55.311415Z",
     "start_time": "2023-03-11T00:32:55.307524Z"
    }
   },
   "outputs": [
    {
     "data": {
      "text/plain": [
       "(84140, 28)"
      ]
     },
     "execution_count": 98,
     "metadata": {},
     "output_type": "execute_result"
    }
   ],
   "source": [
    "df.shape"
   ]
  },
  {
   "cell_type": "markdown",
   "id": "e06f86ce",
   "metadata": {
    "ExecuteTime": {
     "end_time": "2023-03-10T22:14:27.710181Z",
     "start_time": "2023-03-10T22:14:27.707571Z"
    }
   },
   "source": [
    "## Pre-processamento"
   ]
  },
  {
   "cell_type": "code",
   "execution_count": 99,
   "id": "06b2f8e2",
   "metadata": {
    "ExecuteTime": {
     "end_time": "2023-03-11T00:32:55.518168Z",
     "start_time": "2023-03-11T00:32:55.504758Z"
    },
    "scrolled": true
   },
   "outputs": [
    {
     "name": "stderr",
     "output_type": "stream",
     "text": [
      "<ipython-input-99-ffb7919e2730>:1: SettingWithCopyWarning: \n",
      "A value is trying to be set on a copy of a slice from a DataFrame.\n",
      "Try using .loc[row_indexer,col_indexer] = value instead\n",
      "\n",
      "See the caveats in the documentation: https://pandas.pydata.org/pandas-docs/stable/user_guide/indexing.html#returning-a-view-versus-a-copy\n",
      "  df['situacao_domicilio'] = df['situacao_domicilio'].map({1:'urbano', 2:'rural'})\n"
     ]
    }
   ],
   "source": [
    "df['situacao_domicilio'] = df['situacao_domicilio'].map({1:'urbano', 2:'rural'})"
   ]
  },
  {
   "cell_type": "code",
   "execution_count": 100,
   "id": "1c5608e6",
   "metadata": {
    "ExecuteTime": {
     "end_time": "2023-03-11T00:32:55.696786Z",
     "start_time": "2023-03-11T00:32:55.686219Z"
    }
   },
   "outputs": [
    {
     "name": "stderr",
     "output_type": "stream",
     "text": [
      "<ipython-input-100-5744f5f8aca3>:1: SettingWithCopyWarning: \n",
      "A value is trying to be set on a copy of a slice from a DataFrame.\n",
      "Try using .loc[row_indexer,col_indexer] = value instead\n",
      "\n",
      "See the caveats in the documentation: https://pandas.pydata.org/pandas-docs/stable/user_guide/indexing.html#returning-a-view-versus-a-copy\n",
      "  df['tipo_domicilio'] = df['tipo_domicilio'].map({1:'casa', 2:'apartamento', 3:'comodo'})\n"
     ]
    }
   ],
   "source": [
    "df['tipo_domicilio'] = df['tipo_domicilio'].map({1:'casa', 2:'apartamento', 3:'comodo'})"
   ]
  },
  {
   "cell_type": "code",
   "execution_count": 101,
   "id": "8b8e8c53",
   "metadata": {
    "ExecuteTime": {
     "end_time": "2023-03-11T00:32:55.862172Z",
     "start_time": "2023-03-11T00:32:55.850694Z"
    }
   },
   "outputs": [
    {
     "name": "stderr",
     "output_type": "stream",
     "text": [
      "<ipython-input-101-9615ff2e2bdc>:1: SettingWithCopyWarning: \n",
      "A value is trying to be set on a copy of a slice from a DataFrame.\n",
      "Try using .loc[row_indexer,col_indexer] = value instead\n",
      "\n",
      "See the caveats in the documentation: https://pandas.pydata.org/pandas-docs/stable/user_guide/indexing.html#returning-a-view-versus-a-copy\n",
      "  df['condicao_domicilio'] = df['condicao_domicilio'].map({1:'proprio pago',\n"
     ]
    }
   ],
   "source": [
    "df['condicao_domicilio'] = df['condicao_domicilio'].map({1:'proprio pago',\n",
    "                                                         2:'proprio pagando',\n",
    "                                                         3:'alugado',\n",
    "                                                         4:'cedido por empregador.',\n",
    "                                                         5:'cedido',\n",
    "                                                         6:'outro'})"
   ]
  },
  {
   "cell_type": "code",
   "execution_count": 118,
   "id": "50f10008",
   "metadata": {
    "ExecuteTime": {
     "end_time": "2023-03-11T00:46:17.993106Z",
     "start_time": "2023-03-11T00:46:17.974428Z"
    }
   },
   "outputs": [
    {
     "data": {
      "text/plain": [
       "3550308    5713\n",
       "3304557    3335\n",
       "3106200    1267\n",
       "2927408    1220\n",
       "5300108    1090\n",
       "           ... \n",
       "3163003       1\n",
       "1711951       1\n",
       "2512077       1\n",
       "1507755       1\n",
       "2111631       1\n",
       "Name: id_municipio, Length: 4845, dtype: int64"
      ]
     },
     "execution_count": 118,
     "metadata": {},
     "output_type": "execute_result"
    }
   ],
   "source": [
    "df['id_municipio'].value_counts()"
   ]
  },
  {
   "cell_type": "code",
   "execution_count": 102,
   "id": "034c9264",
   "metadata": {
    "ExecuteTime": {
     "end_time": "2023-03-11T00:32:56.050292Z",
     "start_time": "2023-03-11T00:32:56.020558Z"
    }
   },
   "outputs": [
    {
     "data": {
      "text/html": [
       "<div>\n",
       "<style scoped>\n",
       "    .dataframe tbody tr th:only-of-type {\n",
       "        vertical-align: middle;\n",
       "    }\n",
       "\n",
       "    .dataframe tbody tr th {\n",
       "        vertical-align: top;\n",
       "    }\n",
       "\n",
       "    .dataframe thead th {\n",
       "        text-align: right;\n",
       "    }\n",
       "</style>\n",
       "<table border=\"1\" class=\"dataframe\">\n",
       "  <thead>\n",
       "    <tr style=\"text-align: right;\">\n",
       "      <th></th>\n",
       "      <th>sigla_uf</th>\n",
       "      <th>id_municipio</th>\n",
       "      <th>situacao_domicilio</th>\n",
       "      <th>tipo_domicilio</th>\n",
       "      <th>condicao_domicilio</th>\n",
       "      <th>comodos</th>\n",
       "      <th>banheiros</th>\n",
       "      <th>agua</th>\n",
       "      <th>iluminacao</th>\n",
       "      <th>radio</th>\n",
       "      <th>...</th>\n",
       "      <th>ar_condicionado</th>\n",
       "      <th>iluminacao_publica</th>\n",
       "      <th>pavimentacao</th>\n",
       "      <th>coleta_lixo</th>\n",
       "      <th>esgotamento</th>\n",
       "      <th>morador_dormitorio</th>\n",
       "      <th>moradores</th>\n",
       "      <th>homens</th>\n",
       "      <th>mulheres</th>\n",
       "      <th>rendimento</th>\n",
       "    </tr>\n",
       "  </thead>\n",
       "  <tbody>\n",
       "    <tr>\n",
       "      <th>1</th>\n",
       "      <td>SP</td>\n",
       "      <td>3509502</td>\n",
       "      <td>urbano</td>\n",
       "      <td>apartamento</td>\n",
       "      <td>proprio pago</td>\n",
       "      <td>3</td>\n",
       "      <td>1</td>\n",
       "      <td>1</td>\n",
       "      <td>1</td>\n",
       "      <td>1</td>\n",
       "      <td>...</td>\n",
       "      <td>0</td>\n",
       "      <td>1</td>\n",
       "      <td>1.0</td>\n",
       "      <td>1</td>\n",
       "      <td>1.0</td>\n",
       "      <td>1.0</td>\n",
       "      <td>1</td>\n",
       "      <td>0</td>\n",
       "      <td>1</td>\n",
       "      <td>623</td>\n",
       "    </tr>\n",
       "    <tr>\n",
       "      <th>2</th>\n",
       "      <td>BA</td>\n",
       "      <td>2914703</td>\n",
       "      <td>urbano</td>\n",
       "      <td>casa</td>\n",
       "      <td>proprio pago</td>\n",
       "      <td>5</td>\n",
       "      <td>1</td>\n",
       "      <td>1</td>\n",
       "      <td>1</td>\n",
       "      <td>1</td>\n",
       "      <td>...</td>\n",
       "      <td>0</td>\n",
       "      <td>3</td>\n",
       "      <td>3.0</td>\n",
       "      <td>1</td>\n",
       "      <td>3.0</td>\n",
       "      <td>1.5</td>\n",
       "      <td>3</td>\n",
       "      <td>2</td>\n",
       "      <td>1</td>\n",
       "      <td>502</td>\n",
       "    </tr>\n",
       "    <tr>\n",
       "      <th>3</th>\n",
       "      <td>DF</td>\n",
       "      <td>5300108</td>\n",
       "      <td>urbano</td>\n",
       "      <td>casa</td>\n",
       "      <td>proprio pagando</td>\n",
       "      <td>5</td>\n",
       "      <td>1</td>\n",
       "      <td>1</td>\n",
       "      <td>1</td>\n",
       "      <td>2</td>\n",
       "      <td>...</td>\n",
       "      <td>0</td>\n",
       "      <td>2</td>\n",
       "      <td>1.0</td>\n",
       "      <td>1</td>\n",
       "      <td>1.0</td>\n",
       "      <td>1.0</td>\n",
       "      <td>2</td>\n",
       "      <td>1</td>\n",
       "      <td>1</td>\n",
       "      <td>300</td>\n",
       "    </tr>\n",
       "    <tr>\n",
       "      <th>5</th>\n",
       "      <td>PI</td>\n",
       "      <td>2209005</td>\n",
       "      <td>urbano</td>\n",
       "      <td>casa</td>\n",
       "      <td>proprio pago</td>\n",
       "      <td>9</td>\n",
       "      <td>2</td>\n",
       "      <td>1</td>\n",
       "      <td>1</td>\n",
       "      <td>1</td>\n",
       "      <td>...</td>\n",
       "      <td>0</td>\n",
       "      <td>1</td>\n",
       "      <td>1.0</td>\n",
       "      <td>2</td>\n",
       "      <td>2.0</td>\n",
       "      <td>1.0</td>\n",
       "      <td>1</td>\n",
       "      <td>0</td>\n",
       "      <td>1</td>\n",
       "      <td>620</td>\n",
       "    </tr>\n",
       "    <tr>\n",
       "      <th>7</th>\n",
       "      <td>PR</td>\n",
       "      <td>4106902</td>\n",
       "      <td>urbano</td>\n",
       "      <td>casa</td>\n",
       "      <td>proprio pagando</td>\n",
       "      <td>5</td>\n",
       "      <td>1</td>\n",
       "      <td>1</td>\n",
       "      <td>1</td>\n",
       "      <td>1</td>\n",
       "      <td>...</td>\n",
       "      <td>0</td>\n",
       "      <td>4</td>\n",
       "      <td>1.0</td>\n",
       "      <td>1</td>\n",
       "      <td>1.0</td>\n",
       "      <td>2.0</td>\n",
       "      <td>4</td>\n",
       "      <td>1</td>\n",
       "      <td>3</td>\n",
       "      <td>1180</td>\n",
       "    </tr>\n",
       "  </tbody>\n",
       "</table>\n",
       "<p>5 rows × 28 columns</p>\n",
       "</div>"
      ],
      "text/plain": [
       "  sigla_uf  id_municipio situacao_domicilio tipo_domicilio condicao_domicilio  \\\n",
       "1       SP       3509502             urbano    apartamento       proprio pago   \n",
       "2       BA       2914703             urbano           casa       proprio pago   \n",
       "3       DF       5300108             urbano           casa    proprio pagando   \n",
       "5       PI       2209005             urbano           casa       proprio pago   \n",
       "7       PR       4106902             urbano           casa    proprio pagando   \n",
       "\n",
       "   comodos  banheiros  agua  iluminacao  radio  ...  ar_condicionado  \\\n",
       "1        3          1     1           1      1  ...                0   \n",
       "2        5          1     1           1      1  ...                0   \n",
       "3        5          1     1           1      2  ...                0   \n",
       "5        9          2     1           1      1  ...                0   \n",
       "7        5          1     1           1      1  ...                0   \n",
       "\n",
       "   iluminacao_publica  pavimentacao  coleta_lixo  esgotamento  \\\n",
       "1                   1           1.0            1          1.0   \n",
       "2                   3           3.0            1          3.0   \n",
       "3                   2           1.0            1          1.0   \n",
       "5                   1           1.0            2          2.0   \n",
       "7                   4           1.0            1          1.0   \n",
       "\n",
       "   morador_dormitorio  moradores  homens  mulheres  rendimento  \n",
       "1                 1.0          1       0         1         623  \n",
       "2                 1.5          3       2         1         502  \n",
       "3                 1.0          2       1         1         300  \n",
       "5                 1.0          1       0         1         620  \n",
       "7                 2.0          4       1         3        1180  \n",
       "\n",
       "[5 rows x 28 columns]"
      ]
     },
     "execution_count": 102,
     "metadata": {},
     "output_type": "execute_result"
    }
   ],
   "source": [
    "df.head()"
   ]
  },
  {
   "cell_type": "code",
   "execution_count": 103,
   "id": "7a5d4747",
   "metadata": {
    "ExecuteTime": {
     "end_time": "2023-03-11T00:33:03.863532Z",
     "start_time": "2023-03-11T00:33:03.732744Z"
    },
    "scrolled": false
   },
   "outputs": [
    {
     "name": "stdout",
     "output_type": "stream",
     "text": [
      "<class 'pandas.core.frame.DataFrame'>\n",
      "Int64Index: 84140 entries, 1 to 99999\n",
      "Data columns (total 28 columns):\n",
      " #   Column              Non-Null Count  Dtype  \n",
      "---  ------              --------------  -----  \n",
      " 0   sigla_uf            84140 non-null  object \n",
      " 1   id_municipio        84140 non-null  int64  \n",
      " 2   situacao_domicilio  84140 non-null  object \n",
      " 3   tipo_domicilio      84140 non-null  object \n",
      " 4   condicao_domicilio  84140 non-null  object \n",
      " 5   comodos             84140 non-null  int64  \n",
      " 6   banheiros           84140 non-null  int64  \n",
      " 7   agua                84140 non-null  int64  \n",
      " 8   iluminacao          84140 non-null  int64  \n",
      " 9   radio               84140 non-null  int64  \n",
      " 10  geladeira           84140 non-null  int64  \n",
      " 11  videocassete        84140 non-null  int64  \n",
      " 12  maquina_lavar       84140 non-null  int64  \n",
      " 13  microondas          84140 non-null  int64  \n",
      " 14  telefone            84140 non-null  int64  \n",
      " 15  computador          84140 non-null  int64  \n",
      " 16  televisores         84140 non-null  int64  \n",
      " 17  automoveis          84140 non-null  int64  \n",
      " 18  ar_condicionado     84140 non-null  int64  \n",
      " 19  iluminacao_publica  84140 non-null  int64  \n",
      " 20  pavimentacao        84140 non-null  float64\n",
      " 21  coleta_lixo         84140 non-null  int64  \n",
      " 22  esgotamento         84140 non-null  float64\n",
      " 23  morador_dormitorio  84140 non-null  float64\n",
      " 24  moradores           84140 non-null  int64  \n",
      " 25  homens              84140 non-null  int64  \n",
      " 26  mulheres            84140 non-null  int64  \n",
      " 27  rendimento          84140 non-null  int64  \n",
      "dtypes: float64(3), int64(21), object(4)\n",
      "memory usage: 18.6+ MB\n"
     ]
    }
   ],
   "source": [
    "df.info()"
   ]
  },
  {
   "cell_type": "code",
   "execution_count": 104,
   "id": "e503c9ba",
   "metadata": {
    "ExecuteTime": {
     "end_time": "2023-03-11T00:33:18.499116Z",
     "start_time": "2023-03-11T00:33:18.349948Z"
    },
    "scrolled": true
   },
   "outputs": [
    {
     "data": {
      "text/html": [
       "<div>\n",
       "<style scoped>\n",
       "    .dataframe tbody tr th:only-of-type {\n",
       "        vertical-align: middle;\n",
       "    }\n",
       "\n",
       "    .dataframe tbody tr th {\n",
       "        vertical-align: top;\n",
       "    }\n",
       "\n",
       "    .dataframe thead th {\n",
       "        text-align: right;\n",
       "    }\n",
       "</style>\n",
       "<table border=\"1\" class=\"dataframe\">\n",
       "  <thead>\n",
       "    <tr style=\"text-align: right;\">\n",
       "      <th></th>\n",
       "      <th>id_municipio</th>\n",
       "      <th>comodos</th>\n",
       "      <th>banheiros</th>\n",
       "      <th>agua</th>\n",
       "      <th>iluminacao</th>\n",
       "      <th>radio</th>\n",
       "      <th>geladeira</th>\n",
       "      <th>videocassete</th>\n",
       "      <th>maquina_lavar</th>\n",
       "      <th>microondas</th>\n",
       "      <th>...</th>\n",
       "      <th>ar_condicionado</th>\n",
       "      <th>iluminacao_publica</th>\n",
       "      <th>pavimentacao</th>\n",
       "      <th>coleta_lixo</th>\n",
       "      <th>esgotamento</th>\n",
       "      <th>morador_dormitorio</th>\n",
       "      <th>moradores</th>\n",
       "      <th>homens</th>\n",
       "      <th>mulheres</th>\n",
       "      <th>rendimento</th>\n",
       "    </tr>\n",
       "  </thead>\n",
       "  <tbody>\n",
       "    <tr>\n",
       "      <th>count</th>\n",
       "      <td>8.414000e+04</td>\n",
       "      <td>84140.000000</td>\n",
       "      <td>84140.000000</td>\n",
       "      <td>84140.000000</td>\n",
       "      <td>84140.000000</td>\n",
       "      <td>84140.000000</td>\n",
       "      <td>84140.000000</td>\n",
       "      <td>84140.000000</td>\n",
       "      <td>84140.000000</td>\n",
       "      <td>84140.000000</td>\n",
       "      <td>...</td>\n",
       "      <td>84140.000000</td>\n",
       "      <td>84140.000000</td>\n",
       "      <td>84140.000000</td>\n",
       "      <td>84140.000000</td>\n",
       "      <td>84140.000000</td>\n",
       "      <td>84140.000000</td>\n",
       "      <td>84140.000000</td>\n",
       "      <td>84140.000000</td>\n",
       "      <td>84140.000000</td>\n",
       "      <td>84140.000000</td>\n",
       "    </tr>\n",
       "    <tr>\n",
       "      <th>mean</th>\n",
       "      <td>3.385146e+06</td>\n",
       "      <td>5.807583</td>\n",
       "      <td>1.201700</td>\n",
       "      <td>1.227858</td>\n",
       "      <td>1.025755</td>\n",
       "      <td>1.108700</td>\n",
       "      <td>1.117851</td>\n",
       "      <td>1.634633</td>\n",
       "      <td>1.660471</td>\n",
       "      <td>1.799679</td>\n",
       "      <td>...</td>\n",
       "      <td>0.111719</td>\n",
       "      <td>3.771607</td>\n",
       "      <td>1.887426</td>\n",
       "      <td>1.551260</td>\n",
       "      <td>1.958450</td>\n",
       "      <td>2.003325</td>\n",
       "      <td>3.771607</td>\n",
       "      <td>1.850630</td>\n",
       "      <td>1.920977</td>\n",
       "      <td>1192.955681</td>\n",
       "    </tr>\n",
       "    <tr>\n",
       "      <th>std</th>\n",
       "      <td>8.772088e+05</td>\n",
       "      <td>2.376431</td>\n",
       "      <td>0.781247</td>\n",
       "      <td>0.500627</td>\n",
       "      <td>0.158404</td>\n",
       "      <td>0.311264</td>\n",
       "      <td>0.322434</td>\n",
       "      <td>0.481536</td>\n",
       "      <td>0.473552</td>\n",
       "      <td>0.400243</td>\n",
       "      <td>...</td>\n",
       "      <td>0.485664</td>\n",
       "      <td>1.865846</td>\n",
       "      <td>1.408005</td>\n",
       "      <td>1.166989</td>\n",
       "      <td>1.143475</td>\n",
       "      <td>1.027844</td>\n",
       "      <td>1.865846</td>\n",
       "      <td>1.219943</td>\n",
       "      <td>1.183673</td>\n",
       "      <td>4186.523312</td>\n",
       "    </tr>\n",
       "    <tr>\n",
       "      <th>min</th>\n",
       "      <td>1.100015e+06</td>\n",
       "      <td>1.000000</td>\n",
       "      <td>0.000000</td>\n",
       "      <td>1.000000</td>\n",
       "      <td>1.000000</td>\n",
       "      <td>1.000000</td>\n",
       "      <td>1.000000</td>\n",
       "      <td>1.000000</td>\n",
       "      <td>1.000000</td>\n",
       "      <td>1.000000</td>\n",
       "      <td>...</td>\n",
       "      <td>0.000000</td>\n",
       "      <td>1.000000</td>\n",
       "      <td>1.000000</td>\n",
       "      <td>1.000000</td>\n",
       "      <td>1.000000</td>\n",
       "      <td>1.000000</td>\n",
       "      <td>1.000000</td>\n",
       "      <td>0.000000</td>\n",
       "      <td>0.000000</td>\n",
       "      <td>4.000000</td>\n",
       "    </tr>\n",
       "    <tr>\n",
       "      <th>25%</th>\n",
       "      <td>3.101508e+06</td>\n",
       "      <td>4.000000</td>\n",
       "      <td>1.000000</td>\n",
       "      <td>1.000000</td>\n",
       "      <td>1.000000</td>\n",
       "      <td>1.000000</td>\n",
       "      <td>1.000000</td>\n",
       "      <td>1.000000</td>\n",
       "      <td>1.000000</td>\n",
       "      <td>2.000000</td>\n",
       "      <td>...</td>\n",
       "      <td>0.000000</td>\n",
       "      <td>2.000000</td>\n",
       "      <td>1.000000</td>\n",
       "      <td>1.000000</td>\n",
       "      <td>1.000000</td>\n",
       "      <td>1.300000</td>\n",
       "      <td>2.000000</td>\n",
       "      <td>1.000000</td>\n",
       "      <td>1.000000</td>\n",
       "      <td>302.000000</td>\n",
       "    </tr>\n",
       "    <tr>\n",
       "      <th>50%</th>\n",
       "      <td>3.306305e+06</td>\n",
       "      <td>5.000000</td>\n",
       "      <td>1.000000</td>\n",
       "      <td>1.000000</td>\n",
       "      <td>1.000000</td>\n",
       "      <td>1.000000</td>\n",
       "      <td>1.000000</td>\n",
       "      <td>2.000000</td>\n",
       "      <td>2.000000</td>\n",
       "      <td>2.000000</td>\n",
       "      <td>...</td>\n",
       "      <td>0.000000</td>\n",
       "      <td>4.000000</td>\n",
       "      <td>1.000000</td>\n",
       "      <td>1.000000</td>\n",
       "      <td>1.000000</td>\n",
       "      <td>2.000000</td>\n",
       "      <td>4.000000</td>\n",
       "      <td>2.000000</td>\n",
       "      <td>2.000000</td>\n",
       "      <td>590.000000</td>\n",
       "    </tr>\n",
       "    <tr>\n",
       "      <th>75%</th>\n",
       "      <td>3.554003e+06</td>\n",
       "      <td>7.000000</td>\n",
       "      <td>1.000000</td>\n",
       "      <td>1.000000</td>\n",
       "      <td>1.000000</td>\n",
       "      <td>1.000000</td>\n",
       "      <td>1.000000</td>\n",
       "      <td>2.000000</td>\n",
       "      <td>2.000000</td>\n",
       "      <td>2.000000</td>\n",
       "      <td>...</td>\n",
       "      <td>0.000000</td>\n",
       "      <td>5.000000</td>\n",
       "      <td>3.000000</td>\n",
       "      <td>1.000000</td>\n",
       "      <td>3.000000</td>\n",
       "      <td>2.300000</td>\n",
       "      <td>5.000000</td>\n",
       "      <td>2.000000</td>\n",
       "      <td>3.000000</td>\n",
       "      <td>1200.000000</td>\n",
       "    </tr>\n",
       "    <tr>\n",
       "      <th>max</th>\n",
       "      <td>5.300108e+06</td>\n",
       "      <td>30.000000</td>\n",
       "      <td>9.000000</td>\n",
       "      <td>3.000000</td>\n",
       "      <td>2.000000</td>\n",
       "      <td>2.000000</td>\n",
       "      <td>2.000000</td>\n",
       "      <td>2.000000</td>\n",
       "      <td>2.000000</td>\n",
       "      <td>2.000000</td>\n",
       "      <td>...</td>\n",
       "      <td>9.000000</td>\n",
       "      <td>23.000000</td>\n",
       "      <td>9.000000</td>\n",
       "      <td>7.000000</td>\n",
       "      <td>6.000000</td>\n",
       "      <td>14.000000</td>\n",
       "      <td>23.000000</td>\n",
       "      <td>13.000000</td>\n",
       "      <td>15.000000</td>\n",
       "      <td>476651.000000</td>\n",
       "    </tr>\n",
       "  </tbody>\n",
       "</table>\n",
       "<p>8 rows × 24 columns</p>\n",
       "</div>"
      ],
      "text/plain": [
       "       id_municipio       comodos     banheiros          agua    iluminacao  \\\n",
       "count  8.414000e+04  84140.000000  84140.000000  84140.000000  84140.000000   \n",
       "mean   3.385146e+06      5.807583      1.201700      1.227858      1.025755   \n",
       "std    8.772088e+05      2.376431      0.781247      0.500627      0.158404   \n",
       "min    1.100015e+06      1.000000      0.000000      1.000000      1.000000   \n",
       "25%    3.101508e+06      4.000000      1.000000      1.000000      1.000000   \n",
       "50%    3.306305e+06      5.000000      1.000000      1.000000      1.000000   \n",
       "75%    3.554003e+06      7.000000      1.000000      1.000000      1.000000   \n",
       "max    5.300108e+06     30.000000      9.000000      3.000000      2.000000   \n",
       "\n",
       "              radio     geladeira  videocassete  maquina_lavar    microondas  \\\n",
       "count  84140.000000  84140.000000  84140.000000   84140.000000  84140.000000   \n",
       "mean       1.108700      1.117851      1.634633       1.660471      1.799679   \n",
       "std        0.311264      0.322434      0.481536       0.473552      0.400243   \n",
       "min        1.000000      1.000000      1.000000       1.000000      1.000000   \n",
       "25%        1.000000      1.000000      1.000000       1.000000      2.000000   \n",
       "50%        1.000000      1.000000      2.000000       2.000000      2.000000   \n",
       "75%        1.000000      1.000000      2.000000       2.000000      2.000000   \n",
       "max        2.000000      2.000000      2.000000       2.000000      2.000000   \n",
       "\n",
       "       ...  ar_condicionado  iluminacao_publica  pavimentacao   coleta_lixo  \\\n",
       "count  ...     84140.000000        84140.000000  84140.000000  84140.000000   \n",
       "mean   ...         0.111719            3.771607      1.887426      1.551260   \n",
       "std    ...         0.485664            1.865846      1.408005      1.166989   \n",
       "min    ...         0.000000            1.000000      1.000000      1.000000   \n",
       "25%    ...         0.000000            2.000000      1.000000      1.000000   \n",
       "50%    ...         0.000000            4.000000      1.000000      1.000000   \n",
       "75%    ...         0.000000            5.000000      3.000000      1.000000   \n",
       "max    ...         9.000000           23.000000      9.000000      7.000000   \n",
       "\n",
       "        esgotamento  morador_dormitorio     moradores        homens  \\\n",
       "count  84140.000000        84140.000000  84140.000000  84140.000000   \n",
       "mean       1.958450            2.003325      3.771607      1.850630   \n",
       "std        1.143475            1.027844      1.865846      1.219943   \n",
       "min        1.000000            1.000000      1.000000      0.000000   \n",
       "25%        1.000000            1.300000      2.000000      1.000000   \n",
       "50%        1.000000            2.000000      4.000000      2.000000   \n",
       "75%        3.000000            2.300000      5.000000      2.000000   \n",
       "max        6.000000           14.000000     23.000000     13.000000   \n",
       "\n",
       "           mulheres     rendimento  \n",
       "count  84140.000000   84140.000000  \n",
       "mean       1.920977    1192.955681  \n",
       "std        1.183673    4186.523312  \n",
       "min        0.000000       4.000000  \n",
       "25%        1.000000     302.000000  \n",
       "50%        2.000000     590.000000  \n",
       "75%        3.000000    1200.000000  \n",
       "max       15.000000  476651.000000  \n",
       "\n",
       "[8 rows x 24 columns]"
      ]
     },
     "execution_count": 104,
     "metadata": {},
     "output_type": "execute_result"
    }
   ],
   "source": [
    "df.describe()"
   ]
  },
  {
   "cell_type": "code",
   "execution_count": 105,
   "id": "6e0dcf08",
   "metadata": {
    "ExecuteTime": {
     "end_time": "2023-03-11T00:33:21.801804Z",
     "start_time": "2023-03-11T00:33:21.712598Z"
    },
    "scrolled": false
   },
   "outputs": [
    {
     "data": {
      "text/plain": [
       "sigla_uf              0\n",
       "id_municipio          0\n",
       "situacao_domicilio    0\n",
       "tipo_domicilio        0\n",
       "condicao_domicilio    0\n",
       "comodos               0\n",
       "banheiros             0\n",
       "agua                  0\n",
       "iluminacao            0\n",
       "radio                 0\n",
       "geladeira             0\n",
       "videocassete          0\n",
       "maquina_lavar         0\n",
       "microondas            0\n",
       "telefone              0\n",
       "computador            0\n",
       "televisores           0\n",
       "automoveis            0\n",
       "ar_condicionado       0\n",
       "iluminacao_publica    0\n",
       "pavimentacao          0\n",
       "coleta_lixo           0\n",
       "esgotamento           0\n",
       "morador_dormitorio    0\n",
       "moradores             0\n",
       "homens                0\n",
       "mulheres              0\n",
       "rendimento            0\n",
       "dtype: int64"
      ]
     },
     "execution_count": 105,
     "metadata": {},
     "output_type": "execute_result"
    }
   ],
   "source": [
    "df.isna().sum()"
   ]
  },
  {
   "cell_type": "code",
   "execution_count": 109,
   "id": "7e2077c9",
   "metadata": {
    "ExecuteTime": {
     "end_time": "2023-03-11T00:34:57.896381Z",
     "start_time": "2023-03-11T00:34:57.844853Z"
    }
   },
   "outputs": [],
   "source": [
    "# Train-Test Split\n",
    "\n",
    "X = df.drop('rendimento', axis=1)\n",
    "y = df['rendimento']\n",
    "\n",
    "X_train, X_test, y_train, y_test = train_test_split(X, y, test_size=0.2, random_state=42)"
   ]
  },
  {
   "cell_type": "code",
   "execution_count": 110,
   "id": "0c094784",
   "metadata": {
    "ExecuteTime": {
     "end_time": "2023-03-11T00:34:58.160433Z",
     "start_time": "2023-03-11T00:34:58.153575Z"
    }
   },
   "outputs": [
    {
     "data": {
      "text/plain": [
       "(67312,)"
      ]
     },
     "execution_count": 110,
     "metadata": {},
     "output_type": "execute_result"
    }
   ],
   "source": [
    "y_train.shape"
   ]
  },
  {
   "cell_type": "code",
   "execution_count": 111,
   "id": "74cd9644",
   "metadata": {
    "ExecuteTime": {
     "end_time": "2023-03-11T00:34:58.437837Z",
     "start_time": "2023-03-11T00:34:58.432933Z"
    }
   },
   "outputs": [
    {
     "data": {
      "text/plain": [
       "(16828,)"
      ]
     },
     "execution_count": 111,
     "metadata": {},
     "output_type": "execute_result"
    }
   ],
   "source": [
    "y_test.shape"
   ]
  },
  {
   "cell_type": "markdown",
   "id": "cf361d06",
   "metadata": {},
   "source": [
    "## EDA"
   ]
  },
  {
   "cell_type": "code",
   "execution_count": 128,
   "id": "c41ec5a4",
   "metadata": {
    "ExecuteTime": {
     "end_time": "2023-03-11T00:57:09.918064Z",
     "start_time": "2023-03-11T00:57:09.377842Z"
    }
   },
   "outputs": [
    {
     "data": {
      "text/plain": [
       "<AxesSubplot:xlabel='rendimento', ylabel='Count'>"
      ]
     },
     "execution_count": 128,
     "metadata": {},
     "output_type": "execute_result"
    },
    {
     "data": {
      "image/png": "[encoded data removed]",
      "text/plain": [
       "<Figure size 432x288 with 1 Axes>"
      ]
     },
     "metadata": {
      "needs_background": "light"
     },
     "output_type": "display_data"
    }
   ],
   "source": [
    "sns.histplot(np.log(y_train))"
   ]
  },
  {
   "cell_type": "code",
   "execution_count": 127,
   "id": "0ae8577f",
   "metadata": {
    "ExecuteTime": {
     "end_time": "2023-03-11T00:56:52.121159Z",
     "start_time": "2023-03-11T00:56:51.952249Z"
    }
   },
   "outputs": [
    {
     "name": "stderr",
     "output_type": "stream",
     "text": [
      "/home/franklin/.local/lib/python3.8/site-packages/seaborn/_decorators.py:36: FutureWarning: Pass the following variable as a keyword arg: x. From version 0.12, the only valid positional argument will be `data`, and passing other arguments without an explicit keyword will result in an error or misinterpretation.\n",
      "  warnings.warn(\n"
     ]
    },
    {
     "data": {
      "text/plain": [
       "<AxesSubplot:xlabel='rendimento'>"
      ]
     },
     "execution_count": 127,
     "metadata": {},
     "output_type": "execute_result"
    },
    {
     "data": {
      "image/png": "[encoded data removed]",
      "text/plain": [
       "<Figure size 432x288 with 1 Axes>"
      ]
     },
     "metadata": {
      "needs_background": "light"
     },
     "output_type": "display_data"
    }
   ],
   "source": [
    "sns.boxplot(np.log(y_train))"
   ]
  },
  {
   "cell_type": "code",
   "execution_count": 9,
   "id": "c64b4f84",
   "metadata": {
    "ExecuteTime": {
     "end_time": "2023-02-20T15:37:53.242108Z",
     "start_time": "2023-02-20T15:37:53.206075Z"
    },
    "scrolled": true
   },
   "outputs": [
    {
     "data": {
      "text/html": [
       "<div>\n",
       "<style scoped>\n",
       "    .dataframe tbody tr th:only-of-type {\n",
       "        vertical-align: middle;\n",
       "    }\n",
       "\n",
       "    .dataframe tbody tr th {\n",
       "        vertical-align: top;\n",
       "    }\n",
       "\n",
       "    .dataframe thead th {\n",
       "        text-align: right;\n",
       "    }\n",
       "</style>\n",
       "<table border=\"1\" class=\"dataframe\">\n",
       "  <thead>\n",
       "    <tr style=\"text-align: right;\">\n",
       "      <th></th>\n",
       "      <th>sigla_uf</th>\n",
       "      <th>situacao_domicilio</th>\n",
       "      <th>comodos</th>\n",
       "      <th>condicao_domicilio</th>\n",
       "      <th>banheiros</th>\n",
       "      <th>moradores</th>\n",
       "      <th>homens</th>\n",
       "      <th>mulheres</th>\n",
       "      <th>agua</th>\n",
       "      <th>coleta_lixo</th>\n",
       "      <th>...</th>\n",
       "      <th>videocassete</th>\n",
       "      <th>maquina_lavar</th>\n",
       "      <th>microondas</th>\n",
       "      <th>telefone</th>\n",
       "      <th>computador</th>\n",
       "      <th>televisores</th>\n",
       "      <th>automoveis</th>\n",
       "      <th>ar_condicionado</th>\n",
       "      <th>iluminacao_publica</th>\n",
       "      <th>pavimentacao</th>\n",
       "    </tr>\n",
       "  </thead>\n",
       "  <tbody>\n",
       "    <tr>\n",
       "      <th>4576</th>\n",
       "      <td>RS</td>\n",
       "      <td>1</td>\n",
       "      <td>8.0</td>\n",
       "      <td>1.0</td>\n",
       "      <td>1.0</td>\n",
       "      <td>6</td>\n",
       "      <td>4</td>\n",
       "      <td>2</td>\n",
       "      <td>1.0</td>\n",
       "      <td>1.0</td>\n",
       "      <td>...</td>\n",
       "      <td>1.0</td>\n",
       "      <td>1.0</td>\n",
       "      <td>2.0</td>\n",
       "      <td>1.0</td>\n",
       "      <td>2.0</td>\n",
       "      <td>3.0</td>\n",
       "      <td>1.0</td>\n",
       "      <td>0.0</td>\n",
       "      <td>6</td>\n",
       "      <td>3.0</td>\n",
       "    </tr>\n",
       "    <tr>\n",
       "      <th>1088</th>\n",
       "      <td>SP</td>\n",
       "      <td>1</td>\n",
       "      <td>4.0</td>\n",
       "      <td>2.0</td>\n",
       "      <td>1.0</td>\n",
       "      <td>5</td>\n",
       "      <td>1</td>\n",
       "      <td>4</td>\n",
       "      <td>1.0</td>\n",
       "      <td>1.0</td>\n",
       "      <td>...</td>\n",
       "      <td>2.0</td>\n",
       "      <td>2.0</td>\n",
       "      <td>2.0</td>\n",
       "      <td>1.0</td>\n",
       "      <td>2.0</td>\n",
       "      <td>1.0</td>\n",
       "      <td>0.0</td>\n",
       "      <td>0.0</td>\n",
       "      <td>5</td>\n",
       "      <td>1.0</td>\n",
       "    </tr>\n",
       "    <tr>\n",
       "      <th>479</th>\n",
       "      <td>SP</td>\n",
       "      <td>1</td>\n",
       "      <td>5.0</td>\n",
       "      <td>1.0</td>\n",
       "      <td>2.0</td>\n",
       "      <td>4</td>\n",
       "      <td>1</td>\n",
       "      <td>3</td>\n",
       "      <td>1.0</td>\n",
       "      <td>1.0</td>\n",
       "      <td>...</td>\n",
       "      <td>1.0</td>\n",
       "      <td>1.0</td>\n",
       "      <td>1.0</td>\n",
       "      <td>1.0</td>\n",
       "      <td>2.0</td>\n",
       "      <td>2.0</td>\n",
       "      <td>2.0</td>\n",
       "      <td>0.0</td>\n",
       "      <td>4</td>\n",
       "      <td>1.0</td>\n",
       "    </tr>\n",
       "    <tr>\n",
       "      <th>727</th>\n",
       "      <td>SP</td>\n",
       "      <td>1</td>\n",
       "      <td>4.0</td>\n",
       "      <td>2.0</td>\n",
       "      <td>1.0</td>\n",
       "      <td>3</td>\n",
       "      <td>2</td>\n",
       "      <td>1</td>\n",
       "      <td>1.0</td>\n",
       "      <td>1.0</td>\n",
       "      <td>...</td>\n",
       "      <td>2.0</td>\n",
       "      <td>2.0</td>\n",
       "      <td>2.0</td>\n",
       "      <td>2.0</td>\n",
       "      <td>2.0</td>\n",
       "      <td>0.0</td>\n",
       "      <td>0.0</td>\n",
       "      <td>0.0</td>\n",
       "      <td>3</td>\n",
       "      <td>1.0</td>\n",
       "    </tr>\n",
       "    <tr>\n",
       "      <th>3783</th>\n",
       "      <td>RS</td>\n",
       "      <td>1</td>\n",
       "      <td>5.0</td>\n",
       "      <td>1.0</td>\n",
       "      <td>1.0</td>\n",
       "      <td>1</td>\n",
       "      <td>0</td>\n",
       "      <td>1</td>\n",
       "      <td>1.0</td>\n",
       "      <td>1.0</td>\n",
       "      <td>...</td>\n",
       "      <td>1.0</td>\n",
       "      <td>1.0</td>\n",
       "      <td>2.0</td>\n",
       "      <td>1.0</td>\n",
       "      <td>2.0</td>\n",
       "      <td>2.0</td>\n",
       "      <td>1.0</td>\n",
       "      <td>0.0</td>\n",
       "      <td>1</td>\n",
       "      <td>1.0</td>\n",
       "    </tr>\n",
       "  </tbody>\n",
       "</table>\n",
       "<p>5 rows × 23 columns</p>\n",
       "</div>"
      ],
      "text/plain": [
       "     sigla_uf  situacao_domicilio  comodos  condicao_domicilio  banheiros  \\\n",
       "4576       RS                   1      8.0                 1.0        1.0   \n",
       "1088       SP                   1      4.0                 2.0        1.0   \n",
       "479        SP                   1      5.0                 1.0        2.0   \n",
       "727        SP                   1      4.0                 2.0        1.0   \n",
       "3783       RS                   1      5.0                 1.0        1.0   \n",
       "\n",
       "      moradores  homens  mulheres  agua  coleta_lixo  ...  videocassete  \\\n",
       "4576          6       4         2   1.0          1.0  ...           1.0   \n",
       "1088          5       1         4   1.0          1.0  ...           2.0   \n",
       "479           4       1         3   1.0          1.0  ...           1.0   \n",
       "727           3       2         1   1.0          1.0  ...           2.0   \n",
       "3783          1       0         1   1.0          1.0  ...           1.0   \n",
       "\n",
       "      maquina_lavar  microondas  telefone  computador  televisores  \\\n",
       "4576            1.0         2.0       1.0         2.0          3.0   \n",
       "1088            2.0         2.0       1.0         2.0          1.0   \n",
       "479             1.0         1.0       1.0         2.0          2.0   \n",
       "727             2.0         2.0       2.0         2.0          0.0   \n",
       "3783            1.0         2.0       1.0         2.0          2.0   \n",
       "\n",
       "      automoveis  ar_condicionado  iluminacao_publica  pavimentacao  \n",
       "4576         1.0              0.0                   6           3.0  \n",
       "1088         0.0              0.0                   5           1.0  \n",
       "479          2.0              0.0                   4           1.0  \n",
       "727          0.0              0.0                   3           1.0  \n",
       "3783         1.0              0.0                   1           1.0  \n",
       "\n",
       "[5 rows x 23 columns]"
      ]
     },
     "execution_count": 9,
     "metadata": {},
     "output_type": "execute_result"
    }
   ],
   "source": [
    "X_train.head()"
   ]
  },
  {
   "cell_type": "code",
   "execution_count": 10,
   "id": "dc9ec573",
   "metadata": {
    "ExecuteTime": {
     "end_time": "2023-02-20T15:37:53.253128Z",
     "start_time": "2023-02-20T15:37:53.244089Z"
    },
    "scrolled": false
   },
   "outputs": [
    {
     "data": {
      "text/plain": [
       "5.0     686\n",
       "6.0     559\n",
       "4.0     489\n",
       "7.0     334\n",
       "3.0     262\n",
       "8.0     215\n",
       "9.0     118\n",
       "2.0     104\n",
       "10.0     76\n",
       "11.0     39\n",
       "1.0      28\n",
       "12.0     22\n",
       "13.0     17\n",
       "14.0     15\n",
       "15.0      6\n",
       "16.0      4\n",
       "20.0      1\n",
       "18.0      1\n",
       "19.0      1\n",
       "Name: comodos, dtype: int64"
      ]
     },
     "execution_count": 10,
     "metadata": {},
     "output_type": "execute_result"
    }
   ],
   "source": [
    "X_train['comodos'].value_counts()"
   ]
  },
  {
   "cell_type": "code",
   "execution_count": 11,
   "id": "4435a79a",
   "metadata": {
    "ExecuteTime": {
     "end_time": "2023-02-20T15:37:53.591790Z",
     "start_time": "2023-02-20T15:37:53.255758Z"
    },
    "scrolled": true
   },
   "outputs": [
    {
     "data": {
      "image/png": "[encoded data removed]",
      "text/plain": [
       "<Figure size 432x288 with 1 Axes>"
      ]
     },
     "metadata": {
      "needs_background": "light"
     },
     "output_type": "display_data"
    }
   ],
   "source": [
    "sns.histplot(data=X_train, x='comodos');"
   ]
  },
  {
   "cell_type": "code",
   "execution_count": 12,
   "id": "edf1cd73",
   "metadata": {
    "ExecuteTime": {
     "end_time": "2023-02-20T15:37:56.076062Z",
     "start_time": "2023-02-20T15:37:53.593654Z"
    },
    "scrolled": false
   },
   "outputs": [
    {
     "name": "stdout",
     "output_type": "stream",
     "text": [
      "rendimento            1.000000\n",
      "automoveis            0.530620\n",
      "banheiros             0.498810\n",
      "televisores           0.461778\n",
      "comodos               0.391630\n",
      "ar_condicionado       0.290586\n",
      "mulheres              0.009481\n",
      "moradores            -0.003307\n",
      "iluminacao_publica   -0.003307\n",
      "homens               -0.014638\n",
      "condicao_domicilio   -0.075638\n",
      "iluminacao           -0.111818\n",
      "radio                -0.115890\n",
      "pavimentacao         -0.145329\n",
      "agua                 -0.145734\n",
      "situacao_domicilio   -0.157563\n",
      "coleta_lixo          -0.176095\n",
      "geladeira            -0.193975\n",
      "maquina_lavar        -0.348829\n",
      "videocassete         -0.380413\n",
      "telefone             -0.388146\n",
      "computador           -0.439951\n",
      "microondas           -0.443054\n",
      "Name: rendimento, dtype: float64\n"
     ]
    },
    {
     "data": {
      "image/png": "[encoded data removed]",
      "text/plain": [
       "<Figure size 1080x1080 with 2 Axes>"
      ]
     },
     "metadata": {
      "needs_background": "light"
     },
     "output_type": "display_data"
    }
   ],
   "source": [
    "corr = X_train.join(y_train).corr()\n",
    "\n",
    "plt.figure(figsize=(15,15))\n",
    "sns.heatmap(data=corr, annot=True);\n",
    "\n",
    "print(corr['rendimento'].sort_values(ascending=False))"
   ]
  },
  {
   "cell_type": "markdown",
   "id": "5c9f46ce",
   "metadata": {
    "ExecuteTime": {
     "end_time": "2023-02-17T23:00:49.082457Z",
     "start_time": "2023-02-17T23:00:49.079573Z"
    }
   },
   "source": [
    "## Modelos de ML"
   ]
  },
  {
   "cell_type": "code",
   "execution_count": 112,
   "id": "ec6d8593",
   "metadata": {
    "ExecuteTime": {
     "end_time": "2023-03-11T00:35:24.731434Z",
     "start_time": "2023-03-11T00:35:24.698169Z"
    }
   },
   "outputs": [
    {
     "data": {
      "text/html": [
       "<div>\n",
       "<style scoped>\n",
       "    .dataframe tbody tr th:only-of-type {\n",
       "        vertical-align: middle;\n",
       "    }\n",
       "\n",
       "    .dataframe tbody tr th {\n",
       "        vertical-align: top;\n",
       "    }\n",
       "\n",
       "    .dataframe thead th {\n",
       "        text-align: right;\n",
       "    }\n",
       "</style>\n",
       "<table border=\"1\" class=\"dataframe\">\n",
       "  <thead>\n",
       "    <tr style=\"text-align: right;\">\n",
       "      <th></th>\n",
       "      <th>sigla_uf</th>\n",
       "      <th>id_municipio</th>\n",
       "      <th>situacao_domicilio</th>\n",
       "      <th>tipo_domicilio</th>\n",
       "      <th>condicao_domicilio</th>\n",
       "      <th>comodos</th>\n",
       "      <th>banheiros</th>\n",
       "      <th>agua</th>\n",
       "      <th>iluminacao</th>\n",
       "      <th>radio</th>\n",
       "      <th>...</th>\n",
       "      <th>automoveis</th>\n",
       "      <th>ar_condicionado</th>\n",
       "      <th>iluminacao_publica</th>\n",
       "      <th>pavimentacao</th>\n",
       "      <th>coleta_lixo</th>\n",
       "      <th>esgotamento</th>\n",
       "      <th>morador_dormitorio</th>\n",
       "      <th>moradores</th>\n",
       "      <th>homens</th>\n",
       "      <th>mulheres</th>\n",
       "    </tr>\n",
       "  </thead>\n",
       "  <tbody>\n",
       "    <tr>\n",
       "      <th>95866</th>\n",
       "      <td>RO</td>\n",
       "      <td>1101005</td>\n",
       "      <td>rural</td>\n",
       "      <td>casa</td>\n",
       "      <td>proprio pago</td>\n",
       "      <td>9</td>\n",
       "      <td>1</td>\n",
       "      <td>2</td>\n",
       "      <td>1</td>\n",
       "      <td>1</td>\n",
       "      <td>...</td>\n",
       "      <td>0</td>\n",
       "      <td>0</td>\n",
       "      <td>5</td>\n",
       "      <td>3.0</td>\n",
       "      <td>3</td>\n",
       "      <td>3.0</td>\n",
       "      <td>1.3</td>\n",
       "      <td>5</td>\n",
       "      <td>4</td>\n",
       "      <td>1</td>\n",
       "    </tr>\n",
       "    <tr>\n",
       "      <th>86468</th>\n",
       "      <td>RS</td>\n",
       "      <td>4317103</td>\n",
       "      <td>urbano</td>\n",
       "      <td>casa</td>\n",
       "      <td>proprio pago</td>\n",
       "      <td>3</td>\n",
       "      <td>0</td>\n",
       "      <td>1</td>\n",
       "      <td>1</td>\n",
       "      <td>1</td>\n",
       "      <td>...</td>\n",
       "      <td>0</td>\n",
       "      <td>0</td>\n",
       "      <td>5</td>\n",
       "      <td>3.0</td>\n",
       "      <td>1</td>\n",
       "      <td>3.0</td>\n",
       "      <td>5.0</td>\n",
       "      <td>5</td>\n",
       "      <td>3</td>\n",
       "      <td>2</td>\n",
       "    </tr>\n",
       "    <tr>\n",
       "      <th>44599</th>\n",
       "      <td>MG</td>\n",
       "      <td>3162500</td>\n",
       "      <td>urbano</td>\n",
       "      <td>casa</td>\n",
       "      <td>alugado</td>\n",
       "      <td>7</td>\n",
       "      <td>1</td>\n",
       "      <td>1</td>\n",
       "      <td>1</td>\n",
       "      <td>1</td>\n",
       "      <td>...</td>\n",
       "      <td>1</td>\n",
       "      <td>0</td>\n",
       "      <td>4</td>\n",
       "      <td>1.0</td>\n",
       "      <td>1</td>\n",
       "      <td>1.0</td>\n",
       "      <td>2.0</td>\n",
       "      <td>4</td>\n",
       "      <td>3</td>\n",
       "      <td>1</td>\n",
       "    </tr>\n",
       "    <tr>\n",
       "      <th>18065</th>\n",
       "      <td>SP</td>\n",
       "      <td>3550308</td>\n",
       "      <td>urbano</td>\n",
       "      <td>casa</td>\n",
       "      <td>proprio pago</td>\n",
       "      <td>5</td>\n",
       "      <td>2</td>\n",
       "      <td>1</td>\n",
       "      <td>1</td>\n",
       "      <td>1</td>\n",
       "      <td>...</td>\n",
       "      <td>1</td>\n",
       "      <td>0</td>\n",
       "      <td>5</td>\n",
       "      <td>1.0</td>\n",
       "      <td>1</td>\n",
       "      <td>1.0</td>\n",
       "      <td>2.5</td>\n",
       "      <td>5</td>\n",
       "      <td>3</td>\n",
       "      <td>2</td>\n",
       "    </tr>\n",
       "    <tr>\n",
       "      <th>18609</th>\n",
       "      <td>DF</td>\n",
       "      <td>5300108</td>\n",
       "      <td>urbano</td>\n",
       "      <td>casa</td>\n",
       "      <td>alugado</td>\n",
       "      <td>3</td>\n",
       "      <td>1</td>\n",
       "      <td>2</td>\n",
       "      <td>1</td>\n",
       "      <td>1</td>\n",
       "      <td>...</td>\n",
       "      <td>0</td>\n",
       "      <td>0</td>\n",
       "      <td>2</td>\n",
       "      <td>3.0</td>\n",
       "      <td>1</td>\n",
       "      <td>3.0</td>\n",
       "      <td>2.0</td>\n",
       "      <td>2</td>\n",
       "      <td>1</td>\n",
       "      <td>1</td>\n",
       "    </tr>\n",
       "  </tbody>\n",
       "</table>\n",
       "<p>5 rows × 27 columns</p>\n",
       "</div>"
      ],
      "text/plain": [
       "      sigla_uf  id_municipio situacao_domicilio tipo_domicilio  \\\n",
       "95866       RO       1101005              rural           casa   \n",
       "86468       RS       4317103             urbano           casa   \n",
       "44599       MG       3162500             urbano           casa   \n",
       "18065       SP       3550308             urbano           casa   \n",
       "18609       DF       5300108             urbano           casa   \n",
       "\n",
       "      condicao_domicilio  comodos  banheiros  agua  iluminacao  radio  ...  \\\n",
       "95866       proprio pago        9          1     2           1      1  ...   \n",
       "86468       proprio pago        3          0     1           1      1  ...   \n",
       "44599            alugado        7          1     1           1      1  ...   \n",
       "18065       proprio pago        5          2     1           1      1  ...   \n",
       "18609            alugado        3          1     2           1      1  ...   \n",
       "\n",
       "       automoveis  ar_condicionado  iluminacao_publica  pavimentacao  \\\n",
       "95866           0                0                   5           3.0   \n",
       "86468           0                0                   5           3.0   \n",
       "44599           1                0                   4           1.0   \n",
       "18065           1                0                   5           1.0   \n",
       "18609           0                0                   2           3.0   \n",
       "\n",
       "       coleta_lixo  esgotamento  morador_dormitorio  moradores  homens  \\\n",
       "95866            3          3.0                 1.3          5       4   \n",
       "86468            1          3.0                 5.0          5       3   \n",
       "44599            1          1.0                 2.0          4       3   \n",
       "18065            1          1.0                 2.5          5       3   \n",
       "18609            1          3.0                 2.0          2       1   \n",
       "\n",
       "       mulheres  \n",
       "95866         1  \n",
       "86468         2  \n",
       "44599         1  \n",
       "18065         2  \n",
       "18609         1  \n",
       "\n",
       "[5 rows x 27 columns]"
      ]
     },
     "execution_count": 112,
     "metadata": {},
     "output_type": "execute_result"
    }
   ],
   "source": [
    "X_train.head()"
   ]
  },
  {
   "cell_type": "code",
   "execution_count": 14,
   "id": "0a4e3b99",
   "metadata": {
    "ExecuteTime": {
     "end_time": "2023-02-20T15:37:56.160627Z",
     "start_time": "2023-02-20T15:37:56.137299Z"
    }
   },
   "outputs": [
    {
     "data": {
      "text/html": [
       "<style>#sk-container-id-1 {color: black;background-color: white;}#sk-container-id-1 pre{padding: 0;}#sk-container-id-1 div.sk-toggleable {background-color: white;}#sk-container-id-1 label.sk-toggleable__label {cursor: pointer;display: block;width: 100%;margin-bottom: 0;padding: 0.3em;box-sizing: border-box;text-align: center;}#sk-container-id-1 label.sk-toggleable__label-arrow:before {content: \"▸\";float: left;margin-right: 0.25em;color: #696969;}#sk-container-id-1 label.sk-toggleable__label-arrow:hover:before {color: black;}#sk-container-id-1 div.sk-estimator:hover label.sk-toggleable__label-arrow:before {color: black;}#sk-container-id-1 div.sk-toggleable__content {max-height: 0;max-width: 0;overflow: hidden;text-align: left;background-color: #f0f8ff;}#sk-container-id-1 div.sk-toggleable__content pre {margin: 0.2em;color: black;border-radius: 0.25em;background-color: #f0f8ff;}#sk-container-id-1 input.sk-toggleable__control:checked~div.sk-toggleable__content {max-height: 200px;max-width: 100%;overflow: auto;}#sk-container-id-1 input.sk-toggleable__control:checked~label.sk-toggleable__label-arrow:before {content: \"▾\";}#sk-container-id-1 div.sk-estimator input.sk-toggleable__control:checked~label.sk-toggleable__label {background-color: #d4ebff;}#sk-container-id-1 div.sk-label input.sk-toggleable__control:checked~label.sk-toggleable__label {background-color: #d4ebff;}#sk-container-id-1 input.sk-hidden--visually {border: 0;clip: rect(1px 1px 1px 1px);clip: rect(1px, 1px, 1px, 1px);height: 1px;margin: -1px;overflow: hidden;padding: 0;position: absolute;width: 1px;}#sk-container-id-1 div.sk-estimator {font-family: monospace;background-color: #f0f8ff;border: 1px dotted black;border-radius: 0.25em;box-sizing: border-box;margin-bottom: 0.5em;}#sk-container-id-1 div.sk-estimator:hover {background-color: #d4ebff;}#sk-container-id-1 div.sk-parallel-item::after {content: \"\";width: 100%;border-bottom: 1px solid gray;flex-grow: 1;}#sk-container-id-1 div.sk-label:hover label.sk-toggleable__label {background-color: #d4ebff;}#sk-container-id-1 div.sk-serial::before {content: \"\";position: absolute;border-left: 1px solid gray;box-sizing: border-box;top: 0;bottom: 0;left: 50%;z-index: 0;}#sk-container-id-1 div.sk-serial {display: flex;flex-direction: column;align-items: center;background-color: white;padding-right: 0.2em;padding-left: 0.2em;position: relative;}#sk-container-id-1 div.sk-item {position: relative;z-index: 1;}#sk-container-id-1 div.sk-parallel {display: flex;align-items: stretch;justify-content: center;background-color: white;position: relative;}#sk-container-id-1 div.sk-item::before, #sk-container-id-1 div.sk-parallel-item::before {content: \"\";position: absolute;border-left: 1px solid gray;box-sizing: border-box;top: 0;bottom: 0;left: 50%;z-index: -1;}#sk-container-id-1 div.sk-parallel-item {display: flex;flex-direction: column;z-index: 1;position: relative;background-color: white;}#sk-container-id-1 div.sk-parallel-item:first-child::after {align-self: flex-end;width: 50%;}#sk-container-id-1 div.sk-parallel-item:last-child::after {align-self: flex-start;width: 50%;}#sk-container-id-1 div.sk-parallel-item:only-child::after {width: 0;}#sk-container-id-1 div.sk-dashed-wrapped {border: 1px dashed gray;margin: 0 0.4em 0.5em 0.4em;box-sizing: border-box;padding-bottom: 0.4em;background-color: white;}#sk-container-id-1 div.sk-label label {font-family: monospace;font-weight: bold;display: inline-block;line-height: 1.2em;}#sk-container-id-1 div.sk-label-container {text-align: center;}#sk-container-id-1 div.sk-container {/* jupyter's `normalize.less` sets `[hidden] { display: none; }` but bootstrap.min.css set `[hidden] { display: none !important; }` so we also need the `!important` here to be able to override the default hidden behavior on the sphinx rendered scikit-learn.org. See: https://github.com/scikit-learn/scikit-learn/issues/21755 */display: inline-block !important;position: relative;}#sk-container-id-1 div.sk-text-repr-fallback {display: none;}</style><div id=\"sk-container-id-1\" class=\"sk-top-container\"><div class=\"sk-text-repr-fallback\"><pre>Pipeline(steps=[(&#x27;imp&#x27;, SimpleImputer(fill_value=-1, strategy=&#x27;constant&#x27;)),\n",
       "                (&#x27;enc_ct&#x27;,\n",
       "                 ColumnTransformer(remainder=&#x27;passthrough&#x27;,\n",
       "                                   transformers=[(&#x27;ord_enc&#x27;, OrdinalEncoder(),\n",
       "                                                  [0])])),\n",
       "                (&#x27;scale&#x27;, StandardScaler())])</pre><b>In a Jupyter environment, please rerun this cell to show the HTML representation or trust the notebook. <br />On GitHub, the HTML representation is unable to render, please try loading this page with nbviewer.org.</b></div><div class=\"sk-container\" hidden><div class=\"sk-item sk-dashed-wrapped\"><div class=\"sk-label-container\"><div class=\"sk-label sk-toggleable\"><input class=\"sk-toggleable__control sk-hidden--visually\" id=\"sk-estimator-id-1\" type=\"checkbox\" ><label for=\"sk-estimator-id-1\" class=\"sk-toggleable__label sk-toggleable__label-arrow\">Pipeline</label><div class=\"sk-toggleable__content\"><pre>Pipeline(steps=[(&#x27;imp&#x27;, SimpleImputer(fill_value=-1, strategy=&#x27;constant&#x27;)),\n",
       "                (&#x27;enc_ct&#x27;,\n",
       "                 ColumnTransformer(remainder=&#x27;passthrough&#x27;,\n",
       "                                   transformers=[(&#x27;ord_enc&#x27;, OrdinalEncoder(),\n",
       "                                                  [0])])),\n",
       "                (&#x27;scale&#x27;, StandardScaler())])</pre></div></div></div><div class=\"sk-serial\"><div class=\"sk-item\"><div class=\"sk-estimator sk-toggleable\"><input class=\"sk-toggleable__control sk-hidden--visually\" id=\"sk-estimator-id-2\" type=\"checkbox\" ><label for=\"sk-estimator-id-2\" class=\"sk-toggleable__label sk-toggleable__label-arrow\">SimpleImputer</label><div class=\"sk-toggleable__content\"><pre>SimpleImputer(fill_value=-1, strategy=&#x27;constant&#x27;)</pre></div></div></div><div class=\"sk-item sk-dashed-wrapped\"><div class=\"sk-label-container\"><div class=\"sk-label sk-toggleable\"><input class=\"sk-toggleable__control sk-hidden--visually\" id=\"sk-estimator-id-3\" type=\"checkbox\" ><label for=\"sk-estimator-id-3\" class=\"sk-toggleable__label sk-toggleable__label-arrow\">enc_ct: ColumnTransformer</label><div class=\"sk-toggleable__content\"><pre>ColumnTransformer(remainder=&#x27;passthrough&#x27;,\n",
       "                  transformers=[(&#x27;ord_enc&#x27;, OrdinalEncoder(), [0])])</pre></div></div></div><div class=\"sk-parallel\"><div class=\"sk-parallel-item\"><div class=\"sk-item\"><div class=\"sk-label-container\"><div class=\"sk-label sk-toggleable\"><input class=\"sk-toggleable__control sk-hidden--visually\" id=\"sk-estimator-id-4\" type=\"checkbox\" ><label for=\"sk-estimator-id-4\" class=\"sk-toggleable__label sk-toggleable__label-arrow\">ord_enc</label><div class=\"sk-toggleable__content\"><pre>[0]</pre></div></div></div><div class=\"sk-serial\"><div class=\"sk-item\"><div class=\"sk-estimator sk-toggleable\"><input class=\"sk-toggleable__control sk-hidden--visually\" id=\"sk-estimator-id-5\" type=\"checkbox\" ><label for=\"sk-estimator-id-5\" class=\"sk-toggleable__label sk-toggleable__label-arrow\">OrdinalEncoder</label><div class=\"sk-toggleable__content\"><pre>OrdinalEncoder()</pre></div></div></div></div></div></div><div class=\"sk-parallel-item\"><div class=\"sk-item\"><div class=\"sk-label-container\"><div class=\"sk-label sk-toggleable\"><input class=\"sk-toggleable__control sk-hidden--visually\" id=\"sk-estimator-id-6\" type=\"checkbox\" ><label for=\"sk-estimator-id-6\" class=\"sk-toggleable__label sk-toggleable__label-arrow\">remainder</label><div class=\"sk-toggleable__content\"><pre></pre></div></div></div><div class=\"sk-serial\"><div class=\"sk-item\"><div class=\"sk-estimator sk-toggleable\"><input class=\"sk-toggleable__control sk-hidden--visually\" id=\"sk-estimator-id-7\" type=\"checkbox\" ><label for=\"sk-estimator-id-7\" class=\"sk-toggleable__label sk-toggleable__label-arrow\">passthrough</label><div class=\"sk-toggleable__content\"><pre>passthrough</pre></div></div></div></div></div></div></div></div><div class=\"sk-item\"><div class=\"sk-estimator sk-toggleable\"><input class=\"sk-toggleable__control sk-hidden--visually\" id=\"sk-estimator-id-8\" type=\"checkbox\" ><label for=\"sk-estimator-id-8\" class=\"sk-toggleable__label sk-toggleable__label-arrow\">StandardScaler</label><div class=\"sk-toggleable__content\"><pre>StandardScaler()</pre></div></div></div></div></div></div></div>"
      ],
      "text/plain": [
       "Pipeline(steps=[('imp', SimpleImputer(fill_value=-1, strategy='constant')),\n",
       "                ('enc_ct',\n",
       "                 ColumnTransformer(remainder='passthrough',\n",
       "                                   transformers=[('ord_enc', OrdinalEncoder(),\n",
       "                                                  [0])])),\n",
       "                ('scale', StandardScaler())])"
      ]
     },
     "execution_count": 14,
     "metadata": {},
     "output_type": "execute_result"
    }
   ],
   "source": [
    "# Tratamento\n",
    "\n",
    "sim_imp = SimpleImputer(strategy='constant', fill_value=-1)\n",
    "enc_ct = ColumnTransformer(transformers=[('ord_enc', ord_enc, [0])], remainder='passthrough')\n",
    "std_scaler = StandardScaler()\n",
    "tr_pipeline = Pipeline([('imp', sim_imp), ('enc_ct', enc_ct), ('scale', std_scaler)])\n",
    "\n",
    "tr_pipeline"
   ]
  },
  {
   "cell_type": "code",
   "execution_count": 114,
   "id": "e3c34ffb",
   "metadata": {
    "ExecuteTime": {
     "end_time": "2023-03-11T00:37:31.243580Z",
     "start_time": "2023-03-11T00:37:31.153408Z"
    }
   },
   "outputs": [
    {
     "ename": "ValueError",
     "evalue": "could not convert string to float: 'RO'",
     "output_type": "error",
     "traceback": [
      "\u001b[0;31m---------------------------------------------------------------------------\u001b[0m",
      "\u001b[0;31mValueError\u001b[0m                                Traceback (most recent call last)",
      "\u001b[0;32m<ipython-input-114-d575bf948c09>\u001b[0m in \u001b[0;36m<module>\u001b[0;34m\u001b[0m\n\u001b[1;32m      2\u001b[0m \u001b[0;34m\u001b[0m\u001b[0m\n\u001b[1;32m      3\u001b[0m \u001b[0mforest_reg\u001b[0m \u001b[0;34m=\u001b[0m \u001b[0mRandomForestRegressor\u001b[0m\u001b[0;34m(\u001b[0m\u001b[0mrandom_state\u001b[0m\u001b[0;34m=\u001b[0m\u001b[0;36m42\u001b[0m\u001b[0;34m)\u001b[0m\u001b[0;34m\u001b[0m\u001b[0;34m\u001b[0m\u001b[0m\n\u001b[0;32m----> 4\u001b[0;31m \u001b[0mforest_reg\u001b[0m\u001b[0;34m.\u001b[0m\u001b[0mfit\u001b[0m\u001b[0;34m(\u001b[0m\u001b[0mX_train\u001b[0m\u001b[0;34m,\u001b[0m \u001b[0my_train\u001b[0m\u001b[0;34m)\u001b[0m\u001b[0;34m\u001b[0m\u001b[0;34m\u001b[0m\u001b[0m\n\u001b[0m\u001b[1;32m      5\u001b[0m \u001b[0my_pred\u001b[0m \u001b[0;34m=\u001b[0m \u001b[0mforest_reg\u001b[0m\u001b[0;34m.\u001b[0m\u001b[0mpredict\u001b[0m\u001b[0;34m(\u001b[0m\u001b[0mX_test\u001b[0m\u001b[0;34m)\u001b[0m\u001b[0;34m\u001b[0m\u001b[0;34m\u001b[0m\u001b[0m\n\u001b[1;32m      6\u001b[0m \u001b[0;34m\u001b[0m\u001b[0m\n",
      "\u001b[0;32m~/.local/lib/python3.8/site-packages/sklearn/ensemble/_forest.py\u001b[0m in \u001b[0;36mfit\u001b[0;34m(self, X, y, sample_weight)\u001b[0m\n\u001b[1;32m    329\u001b[0m         \u001b[0;32mif\u001b[0m \u001b[0missparse\u001b[0m\u001b[0;34m(\u001b[0m\u001b[0my\u001b[0m\u001b[0;34m)\u001b[0m\u001b[0;34m:\u001b[0m\u001b[0;34m\u001b[0m\u001b[0;34m\u001b[0m\u001b[0m\n\u001b[1;32m    330\u001b[0m             \u001b[0;32mraise\u001b[0m \u001b[0mValueError\u001b[0m\u001b[0;34m(\u001b[0m\u001b[0;34m\"sparse multilabel-indicator for y is not supported.\"\u001b[0m\u001b[0;34m)\u001b[0m\u001b[0;34m\u001b[0m\u001b[0;34m\u001b[0m\u001b[0m\n\u001b[0;32m--> 331\u001b[0;31m         X, y = self._validate_data(\n\u001b[0m\u001b[1;32m    332\u001b[0m             \u001b[0mX\u001b[0m\u001b[0;34m,\u001b[0m \u001b[0my\u001b[0m\u001b[0;34m,\u001b[0m \u001b[0mmulti_output\u001b[0m\u001b[0;34m=\u001b[0m\u001b[0;32mTrue\u001b[0m\u001b[0;34m,\u001b[0m \u001b[0maccept_sparse\u001b[0m\u001b[0;34m=\u001b[0m\u001b[0;34m\"csc\"\u001b[0m\u001b[0;34m,\u001b[0m \u001b[0mdtype\u001b[0m\u001b[0;34m=\u001b[0m\u001b[0mDTYPE\u001b[0m\u001b[0;34m\u001b[0m\u001b[0;34m\u001b[0m\u001b[0m\n\u001b[1;32m    333\u001b[0m         )\n",
      "\u001b[0;32m~/.local/lib/python3.8/site-packages/sklearn/base.py\u001b[0m in \u001b[0;36m_validate_data\u001b[0;34m(self, X, y, reset, validate_separately, **check_params)\u001b[0m\n\u001b[1;32m    594\u001b[0m                 \u001b[0my\u001b[0m \u001b[0;34m=\u001b[0m \u001b[0mcheck_array\u001b[0m\u001b[0;34m(\u001b[0m\u001b[0my\u001b[0m\u001b[0;34m,\u001b[0m \u001b[0minput_name\u001b[0m\u001b[0;34m=\u001b[0m\u001b[0;34m\"y\"\u001b[0m\u001b[0;34m,\u001b[0m \u001b[0;34m**\u001b[0m\u001b[0mcheck_y_params\u001b[0m\u001b[0;34m)\u001b[0m\u001b[0;34m\u001b[0m\u001b[0;34m\u001b[0m\u001b[0m\n\u001b[1;32m    595\u001b[0m             \u001b[0;32melse\u001b[0m\u001b[0;34m:\u001b[0m\u001b[0;34m\u001b[0m\u001b[0;34m\u001b[0m\u001b[0m\n\u001b[0;32m--> 596\u001b[0;31m                 \u001b[0mX\u001b[0m\u001b[0;34m,\u001b[0m \u001b[0my\u001b[0m \u001b[0;34m=\u001b[0m \u001b[0mcheck_X_y\u001b[0m\u001b[0;34m(\u001b[0m\u001b[0mX\u001b[0m\u001b[0;34m,\u001b[0m \u001b[0my\u001b[0m\u001b[0;34m,\u001b[0m \u001b[0;34m**\u001b[0m\u001b[0mcheck_params\u001b[0m\u001b[0;34m)\u001b[0m\u001b[0;34m\u001b[0m\u001b[0;34m\u001b[0m\u001b[0m\n\u001b[0m\u001b[1;32m    597\u001b[0m             \u001b[0mout\u001b[0m \u001b[0;34m=\u001b[0m \u001b[0mX\u001b[0m\u001b[0;34m,\u001b[0m \u001b[0my\u001b[0m\u001b[0;34m\u001b[0m\u001b[0;34m\u001b[0m\u001b[0m\n\u001b[1;32m    598\u001b[0m \u001b[0;34m\u001b[0m\u001b[0m\n",
      "\u001b[0;32m~/.local/lib/python3.8/site-packages/sklearn/utils/validation.py\u001b[0m in \u001b[0;36mcheck_X_y\u001b[0;34m(X, y, accept_sparse, accept_large_sparse, dtype, order, copy, force_all_finite, ensure_2d, allow_nd, multi_output, ensure_min_samples, ensure_min_features, y_numeric, estimator)\u001b[0m\n\u001b[1;32m   1072\u001b[0m         )\n\u001b[1;32m   1073\u001b[0m \u001b[0;34m\u001b[0m\u001b[0m\n\u001b[0;32m-> 1074\u001b[0;31m     X = check_array(\n\u001b[0m\u001b[1;32m   1075\u001b[0m         \u001b[0mX\u001b[0m\u001b[0;34m,\u001b[0m\u001b[0;34m\u001b[0m\u001b[0;34m\u001b[0m\u001b[0m\n\u001b[1;32m   1076\u001b[0m         \u001b[0maccept_sparse\u001b[0m\u001b[0;34m=\u001b[0m\u001b[0maccept_sparse\u001b[0m\u001b[0;34m,\u001b[0m\u001b[0;34m\u001b[0m\u001b[0;34m\u001b[0m\u001b[0m\n",
      "\u001b[0;32m~/.local/lib/python3.8/site-packages/sklearn/utils/validation.py\u001b[0m in \u001b[0;36mcheck_array\u001b[0;34m(array, accept_sparse, accept_large_sparse, dtype, order, copy, force_all_finite, ensure_2d, allow_nd, ensure_min_samples, ensure_min_features, estimator, input_name)\u001b[0m\n\u001b[1;32m    854\u001b[0m                     \u001b[0marray\u001b[0m \u001b[0;34m=\u001b[0m \u001b[0marray\u001b[0m\u001b[0;34m.\u001b[0m\u001b[0mastype\u001b[0m\u001b[0;34m(\u001b[0m\u001b[0mdtype\u001b[0m\u001b[0;34m,\u001b[0m \u001b[0mcasting\u001b[0m\u001b[0;34m=\u001b[0m\u001b[0;34m\"unsafe\"\u001b[0m\u001b[0;34m,\u001b[0m \u001b[0mcopy\u001b[0m\u001b[0;34m=\u001b[0m\u001b[0;32mFalse\u001b[0m\u001b[0;34m)\u001b[0m\u001b[0;34m\u001b[0m\u001b[0;34m\u001b[0m\u001b[0m\n\u001b[1;32m    855\u001b[0m                 \u001b[0;32melse\u001b[0m\u001b[0;34m:\u001b[0m\u001b[0;34m\u001b[0m\u001b[0;34m\u001b[0m\u001b[0m\n\u001b[0;32m--> 856\u001b[0;31m                     \u001b[0marray\u001b[0m \u001b[0;34m=\u001b[0m \u001b[0mnp\u001b[0m\u001b[0;34m.\u001b[0m\u001b[0masarray\u001b[0m\u001b[0;34m(\u001b[0m\u001b[0marray\u001b[0m\u001b[0;34m,\u001b[0m \u001b[0morder\u001b[0m\u001b[0;34m=\u001b[0m\u001b[0morder\u001b[0m\u001b[0;34m,\u001b[0m \u001b[0mdtype\u001b[0m\u001b[0;34m=\u001b[0m\u001b[0mdtype\u001b[0m\u001b[0;34m)\u001b[0m\u001b[0;34m\u001b[0m\u001b[0;34m\u001b[0m\u001b[0m\n\u001b[0m\u001b[1;32m    857\u001b[0m             \u001b[0;32mexcept\u001b[0m \u001b[0mComplexWarning\u001b[0m \u001b[0;32mas\u001b[0m \u001b[0mcomplex_warning\u001b[0m\u001b[0;34m:\u001b[0m\u001b[0;34m\u001b[0m\u001b[0;34m\u001b[0m\u001b[0m\n\u001b[1;32m    858\u001b[0m                 raise ValueError(\n",
      "\u001b[0;32m~/.local/lib/python3.8/site-packages/numpy/core/_asarray.py\u001b[0m in \u001b[0;36masarray\u001b[0;34m(a, dtype, order)\u001b[0m\n\u001b[1;32m     81\u001b[0m \u001b[0;34m\u001b[0m\u001b[0m\n\u001b[1;32m     82\u001b[0m     \"\"\"\n\u001b[0;32m---> 83\u001b[0;31m     \u001b[0;32mreturn\u001b[0m \u001b[0marray\u001b[0m\u001b[0;34m(\u001b[0m\u001b[0ma\u001b[0m\u001b[0;34m,\u001b[0m \u001b[0mdtype\u001b[0m\u001b[0;34m,\u001b[0m \u001b[0mcopy\u001b[0m\u001b[0;34m=\u001b[0m\u001b[0;32mFalse\u001b[0m\u001b[0;34m,\u001b[0m \u001b[0morder\u001b[0m\u001b[0;34m=\u001b[0m\u001b[0morder\u001b[0m\u001b[0;34m)\u001b[0m\u001b[0;34m\u001b[0m\u001b[0;34m\u001b[0m\u001b[0m\n\u001b[0m\u001b[1;32m     84\u001b[0m \u001b[0;34m\u001b[0m\u001b[0m\n\u001b[1;32m     85\u001b[0m \u001b[0;34m\u001b[0m\u001b[0m\n",
      "\u001b[0;32m~/.local/lib/python3.8/site-packages/pandas/core/generic.py\u001b[0m in \u001b[0;36m__array__\u001b[0;34m(self, dtype)\u001b[0m\n\u001b[1;32m   2062\u001b[0m \u001b[0;34m\u001b[0m\u001b[0m\n\u001b[1;32m   2063\u001b[0m     \u001b[0;32mdef\u001b[0m \u001b[0m__array__\u001b[0m\u001b[0;34m(\u001b[0m\u001b[0mself\u001b[0m\u001b[0;34m,\u001b[0m \u001b[0mdtype\u001b[0m\u001b[0;34m:\u001b[0m \u001b[0mnpt\u001b[0m\u001b[0;34m.\u001b[0m\u001b[0mDTypeLike\u001b[0m \u001b[0;34m|\u001b[0m \u001b[0;32mNone\u001b[0m \u001b[0;34m=\u001b[0m \u001b[0;32mNone\u001b[0m\u001b[0;34m)\u001b[0m \u001b[0;34m->\u001b[0m \u001b[0mnp\u001b[0m\u001b[0;34m.\u001b[0m\u001b[0mndarray\u001b[0m\u001b[0;34m:\u001b[0m\u001b[0;34m\u001b[0m\u001b[0;34m\u001b[0m\u001b[0m\n\u001b[0;32m-> 2064\u001b[0;31m         \u001b[0;32mreturn\u001b[0m \u001b[0mnp\u001b[0m\u001b[0;34m.\u001b[0m\u001b[0masarray\u001b[0m\u001b[0;34m(\u001b[0m\u001b[0mself\u001b[0m\u001b[0;34m.\u001b[0m\u001b[0m_values\u001b[0m\u001b[0;34m,\u001b[0m \u001b[0mdtype\u001b[0m\u001b[0;34m=\u001b[0m\u001b[0mdtype\u001b[0m\u001b[0;34m)\u001b[0m\u001b[0;34m\u001b[0m\u001b[0;34m\u001b[0m\u001b[0m\n\u001b[0m\u001b[1;32m   2065\u001b[0m \u001b[0;34m\u001b[0m\u001b[0m\n\u001b[1;32m   2066\u001b[0m     def __array_wrap__(\n",
      "\u001b[0;32m~/.local/lib/python3.8/site-packages/numpy/core/_asarray.py\u001b[0m in \u001b[0;36masarray\u001b[0;34m(a, dtype, order)\u001b[0m\n\u001b[1;32m     81\u001b[0m \u001b[0;34m\u001b[0m\u001b[0m\n\u001b[1;32m     82\u001b[0m     \"\"\"\n\u001b[0;32m---> 83\u001b[0;31m     \u001b[0;32mreturn\u001b[0m \u001b[0marray\u001b[0m\u001b[0;34m(\u001b[0m\u001b[0ma\u001b[0m\u001b[0;34m,\u001b[0m \u001b[0mdtype\u001b[0m\u001b[0;34m,\u001b[0m \u001b[0mcopy\u001b[0m\u001b[0;34m=\u001b[0m\u001b[0;32mFalse\u001b[0m\u001b[0;34m,\u001b[0m \u001b[0morder\u001b[0m\u001b[0;34m=\u001b[0m\u001b[0morder\u001b[0m\u001b[0;34m)\u001b[0m\u001b[0;34m\u001b[0m\u001b[0;34m\u001b[0m\u001b[0m\n\u001b[0m\u001b[1;32m     84\u001b[0m \u001b[0;34m\u001b[0m\u001b[0m\n\u001b[1;32m     85\u001b[0m \u001b[0;34m\u001b[0m\u001b[0m\n",
      "\u001b[0;31mValueError\u001b[0m: could not convert string to float: 'RO'"
     ]
    }
   ],
   "source": [
    "from sklearn.ensemble import RandomForestRegressor\n",
    "\n",
    "forest_reg = RandomForestRegressor(random_state=42)\n",
    "forest_reg.fit(X_train, y_train)\n",
    "y_pred = forest_reg.predict(X_test)\n",
    "\n",
    "np.sqrt(mean_squared_error(y_test, y_pred))"
   ]
  },
  {
   "cell_type": "code",
   "execution_count": 15,
   "id": "9b9bc340",
   "metadata": {
    "ExecuteTime": {
     "end_time": "2023-02-20T15:37:56.226194Z",
     "start_time": "2023-02-20T15:37:56.164034Z"
    }
   },
   "outputs": [],
   "source": [
    "# Transforming\n",
    "\n",
    "X_train_tr = tr_pipeline.fit_transform(X_train)\n",
    "X_test_tr = tr_pipeline.transform(X_test)"
   ]
  },
  {
   "cell_type": "code",
   "execution_count": 16,
   "id": "bc30a540",
   "metadata": {
    "ExecuteTime": {
     "end_time": "2023-02-20T15:37:56.254120Z",
     "start_time": "2023-02-20T15:37:56.228254Z"
    }
   },
   "outputs": [
    {
     "name": "stdout",
     "output_type": "stream",
     "text": [
      "R2: 0.33516729885159524\n",
      "RMSE: 1686.1010601898106\n"
     ]
    }
   ],
   "source": [
    "# Evaluating\n",
    "\n",
    "lin_reg = LinearRegression()\n",
    "lin_reg.fit(X_train_tr, y_train)\n",
    "y_pred = lin_reg.predict(X_test_tr)\n",
    "\n",
    "print(f'R2: {r2_score(y_test, y_pred)}')\n",
    "print(f'RMSE: {np.sqrt(mean_squared_error(y_test, y_pred))}')"
   ]
  },
  {
   "cell_type": "code",
   "execution_count": null,
   "id": "de7bf81b",
   "metadata": {},
   "outputs": [],
   "source": []
  },
  {
   "cell_type": "code",
   "execution_count": null,
   "id": "4b1b2ed5",
   "metadata": {},
   "outputs": [],
   "source": []
  },
  {
   "cell_type": "code",
   "execution_count": null,
   "id": "d0d2385b",
   "metadata": {},
   "outputs": [],
   "source": []
  },
  {
   "cell_type": "code",
   "execution_count": 1,
   "id": "436bf5b8",
   "metadata": {
    "ExecuteTime": {
     "end_time": "2023-03-05T01:12:09.897361Z",
     "start_time": "2023-03-05T01:11:54.379156Z"
    }
   },
   "outputs": [
    {
     "data": {
      "text/html": [
       "<div>\n",
       "<style scoped>\n",
       "    .dataframe tbody tr th:only-of-type {\n",
       "        vertical-align: middle;\n",
       "    }\n",
       "\n",
       "    .dataframe tbody tr th {\n",
       "        vertical-align: top;\n",
       "    }\n",
       "\n",
       "    .dataframe thead th {\n",
       "        text-align: right;\n",
       "    }\n",
       "</style>\n",
       "<table border=\"1\" class=\"dataframe\">\n",
       "  <thead>\n",
       "    <tr style=\"text-align: right;\">\n",
       "      <th></th>\n",
       "      <th>sigla_uf</th>\n",
       "      <th>situacao_domicilio</th>\n",
       "      <th>comodos</th>\n",
       "      <th>condicao_domicilio</th>\n",
       "      <th>banheiros</th>\n",
       "      <th>moradores</th>\n",
       "      <th>homens</th>\n",
       "      <th>mulheres</th>\n",
       "      <th>agua</th>\n",
       "      <th>coleta_lixo</th>\n",
       "      <th>...</th>\n",
       "      <th>maquina_lavar</th>\n",
       "      <th>microondas</th>\n",
       "      <th>telefone</th>\n",
       "      <th>computador</th>\n",
       "      <th>televisores</th>\n",
       "      <th>automoveis</th>\n",
       "      <th>ar_condicionado</th>\n",
       "      <th>iluminacao_publica</th>\n",
       "      <th>pavimentacao</th>\n",
       "      <th>rendimento</th>\n",
       "    </tr>\n",
       "  </thead>\n",
       "  <tbody>\n",
       "    <tr>\n",
       "      <th>0</th>\n",
       "      <td>RJ</td>\n",
       "      <td>1</td>\n",
       "      <td>7</td>\n",
       "      <td>1</td>\n",
       "      <td>3</td>\n",
       "      <td>3</td>\n",
       "      <td>1</td>\n",
       "      <td>2</td>\n",
       "      <td>1</td>\n",
       "      <td>1</td>\n",
       "      <td>...</td>\n",
       "      <td>1</td>\n",
       "      <td>1</td>\n",
       "      <td>1</td>\n",
       "      <td>1</td>\n",
       "      <td>3</td>\n",
       "      <td>2</td>\n",
       "      <td>2</td>\n",
       "      <td>3</td>\n",
       "      <td>1</td>\n",
       "      <td>8800</td>\n",
       "    </tr>\n",
       "    <tr>\n",
       "      <th>1</th>\n",
       "      <td>SP</td>\n",
       "      <td>1</td>\n",
       "      <td>7</td>\n",
       "      <td>2</td>\n",
       "      <td>1</td>\n",
       "      <td>5</td>\n",
       "      <td>2</td>\n",
       "      <td>3</td>\n",
       "      <td>1</td>\n",
       "      <td>1</td>\n",
       "      <td>...</td>\n",
       "      <td>2</td>\n",
       "      <td>1</td>\n",
       "      <td>1</td>\n",
       "      <td>2</td>\n",
       "      <td>1</td>\n",
       "      <td>0</td>\n",
       "      <td>0</td>\n",
       "      <td>5</td>\n",
       "      <td>1</td>\n",
       "      <td>620</td>\n",
       "    </tr>\n",
       "    <tr>\n",
       "      <th>2</th>\n",
       "      <td>AC</td>\n",
       "      <td>1</td>\n",
       "      <td>1</td>\n",
       "      <td>1</td>\n",
       "      <td>0</td>\n",
       "      <td>1</td>\n",
       "      <td>1</td>\n",
       "      <td>0</td>\n",
       "      <td>1</td>\n",
       "      <td>1</td>\n",
       "      <td>...</td>\n",
       "      <td>2</td>\n",
       "      <td>2</td>\n",
       "      <td>2</td>\n",
       "      <td>2</td>\n",
       "      <td>0</td>\n",
       "      <td>0</td>\n",
       "      <td>0</td>\n",
       "      <td>1</td>\n",
       "      <td>2</td>\n",
       "      <td>120</td>\n",
       "    </tr>\n",
       "    <tr>\n",
       "      <th>3</th>\n",
       "      <td>MA</td>\n",
       "      <td>2</td>\n",
       "      <td>4</td>\n",
       "      <td>1</td>\n",
       "      <td>0</td>\n",
       "      <td>5</td>\n",
       "      <td>4</td>\n",
       "      <td>1</td>\n",
       "      <td>2</td>\n",
       "      <td>5</td>\n",
       "      <td>...</td>\n",
       "      <td>2</td>\n",
       "      <td>2</td>\n",
       "      <td>2</td>\n",
       "      <td>2</td>\n",
       "      <td>0</td>\n",
       "      <td>0</td>\n",
       "      <td>0</td>\n",
       "      <td>5</td>\n",
       "      <td>3</td>\n",
       "      <td>300</td>\n",
       "    </tr>\n",
       "    <tr>\n",
       "      <th>4</th>\n",
       "      <td>SP</td>\n",
       "      <td>1</td>\n",
       "      <td>6</td>\n",
       "      <td>1</td>\n",
       "      <td>2</td>\n",
       "      <td>4</td>\n",
       "      <td>2</td>\n",
       "      <td>2</td>\n",
       "      <td>1</td>\n",
       "      <td>1</td>\n",
       "      <td>...</td>\n",
       "      <td>2</td>\n",
       "      <td>1</td>\n",
       "      <td>1</td>\n",
       "      <td>2</td>\n",
       "      <td>2</td>\n",
       "      <td>2</td>\n",
       "      <td>0</td>\n",
       "      <td>4</td>\n",
       "      <td>1</td>\n",
       "      <td>930</td>\n",
       "    </tr>\n",
       "    <tr>\n",
       "      <th>...</th>\n",
       "      <td>...</td>\n",
       "      <td>...</td>\n",
       "      <td>...</td>\n",
       "      <td>...</td>\n",
       "      <td>...</td>\n",
       "      <td>...</td>\n",
       "      <td>...</td>\n",
       "      <td>...</td>\n",
       "      <td>...</td>\n",
       "      <td>...</td>\n",
       "      <td>...</td>\n",
       "      <td>...</td>\n",
       "      <td>...</td>\n",
       "      <td>...</td>\n",
       "      <td>...</td>\n",
       "      <td>...</td>\n",
       "      <td>...</td>\n",
       "      <td>...</td>\n",
       "      <td>...</td>\n",
       "      <td>...</td>\n",
       "      <td>...</td>\n",
       "    </tr>\n",
       "    <tr>\n",
       "      <th>95</th>\n",
       "      <td>BA</td>\n",
       "      <td>1</td>\n",
       "      <td>6</td>\n",
       "      <td>1</td>\n",
       "      <td>1</td>\n",
       "      <td>6</td>\n",
       "      <td>1</td>\n",
       "      <td>5</td>\n",
       "      <td>1</td>\n",
       "      <td>1</td>\n",
       "      <td>...</td>\n",
       "      <td>2</td>\n",
       "      <td>2</td>\n",
       "      <td>2</td>\n",
       "      <td>2</td>\n",
       "      <td>1</td>\n",
       "      <td>1</td>\n",
       "      <td>0</td>\n",
       "      <td>6</td>\n",
       "      <td>1</td>\n",
       "      <td>1281</td>\n",
       "    </tr>\n",
       "    <tr>\n",
       "      <th>96</th>\n",
       "      <td>BA</td>\n",
       "      <td>1</td>\n",
       "      <td>8</td>\n",
       "      <td>1</td>\n",
       "      <td>3</td>\n",
       "      <td>3</td>\n",
       "      <td>1</td>\n",
       "      <td>2</td>\n",
       "      <td>1</td>\n",
       "      <td>1</td>\n",
       "      <td>...</td>\n",
       "      <td>2</td>\n",
       "      <td>2</td>\n",
       "      <td>2</td>\n",
       "      <td>2</td>\n",
       "      <td>2</td>\n",
       "      <td>0</td>\n",
       "      <td>0</td>\n",
       "      <td>3</td>\n",
       "      <td>3</td>\n",
       "      <td>1400</td>\n",
       "    </tr>\n",
       "    <tr>\n",
       "      <th>97</th>\n",
       "      <td>PB</td>\n",
       "      <td>1</td>\n",
       "      <td>6</td>\n",
       "      <td>1</td>\n",
       "      <td>1</td>\n",
       "      <td>3</td>\n",
       "      <td>2</td>\n",
       "      <td>1</td>\n",
       "      <td>3</td>\n",
       "      <td>2</td>\n",
       "      <td>...</td>\n",
       "      <td>2</td>\n",
       "      <td>2</td>\n",
       "      <td>2</td>\n",
       "      <td>2</td>\n",
       "      <td>2</td>\n",
       "      <td>1</td>\n",
       "      <td>0</td>\n",
       "      <td>3</td>\n",
       "      <td>1</td>\n",
       "      <td>289</td>\n",
       "    </tr>\n",
       "    <tr>\n",
       "      <th>98</th>\n",
       "      <td>RS</td>\n",
       "      <td>2</td>\n",
       "      <td>5</td>\n",
       "      <td>1</td>\n",
       "      <td>1</td>\n",
       "      <td>3</td>\n",
       "      <td>2</td>\n",
       "      <td>1</td>\n",
       "      <td>1</td>\n",
       "      <td>1</td>\n",
       "      <td>...</td>\n",
       "      <td>1</td>\n",
       "      <td>2</td>\n",
       "      <td>1</td>\n",
       "      <td>1</td>\n",
       "      <td>2</td>\n",
       "      <td>1</td>\n",
       "      <td>0</td>\n",
       "      <td>3</td>\n",
       "      <td>3</td>\n",
       "      <td>1970</td>\n",
       "    </tr>\n",
       "    <tr>\n",
       "      <th>99</th>\n",
       "      <td>BA</td>\n",
       "      <td>2</td>\n",
       "      <td>5</td>\n",
       "      <td>1</td>\n",
       "      <td>1</td>\n",
       "      <td>7</td>\n",
       "      <td>2</td>\n",
       "      <td>5</td>\n",
       "      <td>1</td>\n",
       "      <td>3</td>\n",
       "      <td>...</td>\n",
       "      <td>2</td>\n",
       "      <td>2</td>\n",
       "      <td>2</td>\n",
       "      <td>2</td>\n",
       "      <td>0</td>\n",
       "      <td>0</td>\n",
       "      <td>0</td>\n",
       "      <td>7</td>\n",
       "      <td>3</td>\n",
       "      <td>372</td>\n",
       "    </tr>\n",
       "  </tbody>\n",
       "</table>\n",
       "<p>100 rows × 24 columns</p>\n",
       "</div>"
      ],
      "text/plain": [
       "   sigla_uf  situacao_domicilio  comodos  condicao_domicilio  banheiros  \\\n",
       "0        RJ                   1        7                   1          3   \n",
       "1        SP                   1        7                   2          1   \n",
       "2        AC                   1        1                   1          0   \n",
       "3        MA                   2        4                   1          0   \n",
       "4        SP                   1        6                   1          2   \n",
       "..      ...                 ...      ...                 ...        ...   \n",
       "95       BA                   1        6                   1          1   \n",
       "96       BA                   1        8                   1          3   \n",
       "97       PB                   1        6                   1          1   \n",
       "98       RS                   2        5                   1          1   \n",
       "99       BA                   2        5                   1          1   \n",
       "\n",
       "    moradores  homens  mulheres  agua  coleta_lixo  ...  maquina_lavar  \\\n",
       "0           3       1         2     1            1  ...              1   \n",
       "1           5       2         3     1            1  ...              2   \n",
       "2           1       1         0     1            1  ...              2   \n",
       "3           5       4         1     2            5  ...              2   \n",
       "4           4       2         2     1            1  ...              2   \n",
       "..        ...     ...       ...   ...          ...  ...            ...   \n",
       "95          6       1         5     1            1  ...              2   \n",
       "96          3       1         2     1            1  ...              2   \n",
       "97          3       2         1     3            2  ...              2   \n",
       "98          3       2         1     1            1  ...              1   \n",
       "99          7       2         5     1            3  ...              2   \n",
       "\n",
       "    microondas  telefone  computador  televisores  automoveis  \\\n",
       "0            1         1           1            3           2   \n",
       "1            1         1           2            1           0   \n",
       "2            2         2           2            0           0   \n",
       "3            2         2           2            0           0   \n",
       "4            1         1           2            2           2   \n",
       "..         ...       ...         ...          ...         ...   \n",
       "95           2         2           2            1           1   \n",
       "96           2         2           2            2           0   \n",
       "97           2         2           2            2           1   \n",
       "98           2         1           1            2           1   \n",
       "99           2         2           2            0           0   \n",
       "\n",
       "    ar_condicionado  iluminacao_publica  pavimentacao  rendimento  \n",
       "0                 2                   3             1        8800  \n",
       "1                 0                   5             1         620  \n",
       "2                 0                   1             2         120  \n",
       "3                 0                   5             3         300  \n",
       "4                 0                   4             1         930  \n",
       "..              ...                 ...           ...         ...  \n",
       "95                0                   6             1        1281  \n",
       "96                0                   3             3        1400  \n",
       "97                0                   3             1         289  \n",
       "98                0                   3             3        1970  \n",
       "99                0                   7             3         372  \n",
       "\n",
       "[100 rows x 24 columns]"
      ]
     },
     "execution_count": 1,
     "metadata": {},
     "output_type": "execute_result"
    }
   ],
   "source": [
    "import os\n",
    "import pandas as pd\n",
    "from google.cloud import bigquery\n",
    "\n",
    "os.environ['GOOGLE_APPLICATION_CREDENTIALS'] = 'renda-censo-regressao-0d5cd82b3cac.json'\n",
    "\n",
    "client = bigquery.Client()\n",
    "\n",
    "query = \"\"\"\n",
    "        SELECT sigla_uf, situacao_domicilio, v0203 AS comodos, v0205 AS condicao_domicilio, v0209 AS banheiros, v7100 AS moradores, v0110 AS homens, v0111 AS mulheres,v0207 AS agua, v0212 AS coleta_lixo, v0213 AS iluminacao, v0214 AS radio, v0215 AS geladeira, v0216 AS videocassete, v0217 AS maquina_lavar, v0218 AS microondas, v0219 as telefone, v0220 as computador, v0221 as televisores, v0222 as automoveis, v0223 as ar_condicionado, v7100 as iluminacao_publica, v1113 as pavimentacao, v7616 AS rendimento\n",
    "        FROM `basedosdados.br_ibge_censo_demografico.microdados_domicilio_2000`\n",
    "        WHERE v7616 IS NOT NULL AND (v7616 > 0)\n",
    "        ORDER BY RAND() \n",
    "        LIMIT 100;\n",
    "        \"\"\"\n",
    "\n",
    "df = client.query(query).to_dataframe()"
   ]
  },
  {
   "cell_type": "code",
   "execution_count": 2,
   "id": "842beb42",
   "metadata": {
    "ExecuteTime": {
     "end_time": "2023-03-05T01:14:14.490838Z",
     "start_time": "2023-03-05T01:14:14.480458Z"
    }
   },
   "outputs": [
    {
     "data": {
      "text/plain": [
       "'\\n        SELECT sigla_uf, situacao_domicilio, v0203 AS comodos, v0205 AS condicao_domicilio, v0209 AS banheiros, v7100 AS moradores, v0110 AS homens, v0111 AS mulheres,v0207 AS agua, v0212 AS coleta_lixo, v0213 AS iluminacao, v0214 AS radio, v0215 AS geladeira, v0216 AS videocassete, v0217 AS maquina_lavar, v0218 AS microondas, v0219 as telefone, v0220 as computador, v0221 as televisores, v0222 as automoveis, v0223 as ar_condicionado, v7100 as iluminacao_publica, v1113 as pavimentacao, v7616 AS rendimento\\n        FROM `basedosdados.br_ibge_censo_demografico.microdados_domicilio_2000`\\n        WHERE v7616 IS NOT NULL AND (v7616 > 0)\\n        ORDER BY RAND() \\n        LIMIT 100;\\n        '"
      ]
     },
     "execution_count": 2,
     "metadata": {},
     "output_type": "execute_result"
    }
   ],
   "source": [
    "query"
   ]
  },
  {
   "cell_type": "code",
   "execution_count": null,
   "id": "ebd75f11",
   "metadata": {},
   "outputs": [],
   "source": []
  }
 ],
 "metadata": {
  "kernelspec": {
   "display_name": "Python 3",
   "language": "python",
   "name": "python3"
  },
  "language_info": {
   "codemirror_mode": {
    "name": "ipython",
    "version": 3
   },
   "file_extension": ".py",
   "mimetype": "text/x-python",
   "name": "python",
   "nbconvert_exporter": "python",
   "pygments_lexer": "ipython3",
   "version": "3.8.10"
  },
  "varInspector": {
   "cols": {
    "lenName": 16,
    "lenType": 16,
    "lenVar": 40
   },
   "kernels_config": {
    "python": {
     "delete_cmd_postfix": "",
     "delete_cmd_prefix": "del ",
     "library": "var_list.py",
     "varRefreshCmd": "print(var_dic_list())"
    },
    "r": {
     "delete_cmd_postfix": ") ",
     "delete_cmd_prefix": "rm(",
     "library": "var_list.r",
     "varRefreshCmd": "cat(var_dic_list()) "
    }
   },
   "types_to_exclude": [
    "module",
    "function",
    "builtin_function_or_method",
    "instance",
    "_Feature"
   ],
   "window_display": false
  }
 },
 "nbformat": 4,
 "nbformat_minor": 5
}
